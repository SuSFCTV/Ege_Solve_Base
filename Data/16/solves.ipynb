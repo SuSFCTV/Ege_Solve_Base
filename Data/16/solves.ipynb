{
 "cells": [
  {
   "cell_type": "markdown",
   "metadata": {},
   "source": [
    "### Task_4189_def\n",
    "![](https://github.com/vaskers5/Ege_Solve_Base/blob/main/Data/16/data/K4189/4189.png?raw=true)"
   ]
  },
  {
   "cell_type": "code",
   "execution_count": 5,
   "metadata": {},
   "outputs": [
    {
     "name": "stdout",
     "output_type": "stream",
     "text": [
      "3\n"
     ]
    }
   ],
   "source": [
    "def f(n):\n",
    "    if n == 0:\n",
    "        return 2\n",
    "    elif 0 < n <= 15:\n",
    "        return f(n - 1)\n",
    "    elif 15 < n < 95:\n",
    "        return 1.6 * f(n - 3)\n",
    "    elif n >= 95:\n",
    "        return 3.3 * f(n - 2)\n",
    "\n",
    "\n",
    "x = str(int(f(33)))\n",
    "nums = {}\n",
    "for elem in x:\n",
    "    if elem in nums:\n",
    "        nums[elem] += 1\n",
    "    else:\n",
    "        nums.update({elem: 1})\n",
    "        \n",
    "print(max(nums))\n",
    "\n",
    "        "
   ]
  },
  {
   "cell_type": "markdown",
   "metadata": {},
   "source": [
    "### Task_3986_def"
   ]
  },
  {
   "cell_type": "code",
   "execution_count": 6,
   "metadata": {},
   "outputs": [
    {
     "name": "stdout",
     "output_type": "stream",
     "text": [
      "348\n"
     ]
    }
   ],
   "source": [
    "def f(n):\n",
    "    if n == 0:\n",
    "        return 0\n",
    "    \n",
    "    elif n % 2 == 0 and n > 0:\n",
    "        return f(n//2) + 3\n",
    "    \n",
    "    elif n % 2 != 0 and n > 0:\n",
    "        return 2 * f(n - 1) + 1\n",
    "\n",
    "print(len(set(map(f, range(1, 1001)))))\n",
    "    \n",
    "    "
   ]
  },
  {
   "cell_type": "markdown",
   "metadata": {},
   "source": [
    "### Task_3819_def\n",
    "![](https://github.com/vaskers5/Ege_Solve_Base/blob/main/Data/16/data/K3986/3986.png?raw=true)"
   ]
  },
  {
   "cell_type": "code",
   "execution_count": 11,
   "metadata": {},
   "outputs": [
    {
     "name": "stdout",
     "output_type": "stream",
     "text": [
      "5101\n"
     ]
    }
   ],
   "source": [
    "def f(n):\n",
    "    if n < 2:\n",
    "        return 1\n",
    "    elif n >= 2 and n % 3 == 0:\n",
    "        return f(n // 3) + 1\n",
    "    elif n >= 2 and n % 3 != 0:\n",
    "        return f(n - 2) + 5\n",
    "\n",
    "ans = 0\n",
    "for n in range(100000):\n",
    "    if f(n) == 73:\n",
    "        print(n)\n",
    "        break"
   ]
  },
  {
   "cell_type": "markdown",
   "metadata": {},
   "source": [
    "### Task_3142_def\n",
    "![](https://github.com/vaskers5/Ege_Solve_Base/blob/main/Data/16/data/K3142/3142.png?raw=true)"
   ]
  },
  {
   "cell_type": "code",
   "execution_count": 7,
   "metadata": {},
   "outputs": [
    {
     "name": "stdout",
     "output_type": "stream",
     "text": [
      "48\n"
     ]
    }
   ],
   "source": [
    "def f(n, m):\n",
    "    if n < m:\n",
    "        n, m = m, n\n",
    "    if n != m:\n",
    "        return f(n - m, m)\n",
    "    else:\n",
    "        return n\n",
    "\n",
    "ans = []\n",
    "for n in range(1, 1000):\n",
    "    for m in range(1, 1000):\n",
    "        if f(n, m) > 15 and n != m:\n",
    "            ans.append([n, m])\n",
    "            \n",
    "print(sum(ans[0]))"
   ]
  },
  {
   "cell_type": "markdown",
   "metadata": {},
   "source": [
    "### Task_4172_def\n",
    "![](https://github.com/vaskers5/Ege_Solve_Base/blob/main/Data/16/data/K4172/4172.png?raw=true)"
   ]
  },
  {
   "cell_type": "code",
   "execution_count": 5,
   "metadata": {},
   "outputs": [
    {
     "name": "stdout",
     "output_type": "stream",
     "text": [
      "8508\n"
     ]
    }
   ],
   "source": [
    "from functools import lru_cache\n",
    "\n",
    "@lru_cache(None)\n",
    "def f(n):\n",
    "    if n <= 3:\n",
    "        return n + 3\n",
    "    else:\n",
    "        x = f(n - 1)\n",
    "        if x % 2 == 0:\n",
    "            return f(n - 2) + n\n",
    "        else:\n",
    "            return f(n - 2) + 2 * n\n",
    "        \n",
    "ans = 0\n",
    "\n",
    "for i in range(40, 51):\n",
    "    ans += f(i)\n",
    "    \n",
    "print(ans)"
   ]
  },
  {
   "cell_type": "markdown",
   "metadata": {},
   "source": [
    "### Task_4171_def"
   ]
  },
  {
   "cell_type": "code",
   "execution_count": 5,
   "metadata": {},
   "outputs": [
    {
     "name": "stdout",
     "output_type": "stream",
     "text": [
      "2971215073\n"
     ]
    }
   ],
   "source": [
    "dp = [0] * 50\n",
    "dp[0], dp[1], dp[2] = 0, 1, 1\n",
    "\n",
    "for i in range(3, 50):\n",
    "    dp[i] = dp[i - 1] + dp[i - 2]\n",
    "\n",
    "print(dp[47])"
   ]
  },
  {
   "cell_type": "code",
   "execution_count": null,
   "metadata": {},
   "outputs": [],
   "source": []
  }
 ],
 "metadata": {
  "julynter-results": {
   "filteredId": [],
   "filteredIndividual": [],
   "filteredRestart": [],
   "filteredType": [],
   "hash": "f73e2d22635214b5b290e41c92b0f030d6a459c2",
   "visible": [
    {
     "cellId": "group",
     "hash": "c0de46ba034d710c2b2406a37ee6816be9634aa0",
     "reason": "This groups other lint messages",
     "reportId": "group",
     "reportType": "hiddenstate",
     "suggestion": null,
     "text": "Hidden State"
    },
    {
     "cellId": 1,
     "hash": "b01d09d433b66334befe5f81042b7f076aa76fc4",
     "reason": "A cell with code changes may produce different results than what it generated before the changes, hampering the reproducibility.",
     "reportId": "h2",
     "reportType": "hiddenstate",
     "suggestion": "Please consider re-executing it to guarantee the reproducibility.",
     "text": "Cell 1 has changed since its execution, but it wasn't executed after the changes"
    },
    {
     "cellId": 3,
     "hash": "e6e4d6e89d63558ec891c173c80ff4ead6102a25",
     "reason": "A cell with results of a previous session may fail to execute or produce different results in this one, hampering the reproducibility.",
     "reportId": "h1",
     "reportType": "hiddenstate",
     "suggestion": "Please consider executing it to guarantee the reproducibility.",
     "text": "Cell 3 has execution results, but it wasn't executed on this session"
    },
    {
     "cellId": 5,
     "hash": "66bc931e946e9abdb444fc906e847818f094010e",
     "reason": "A cell with results of a previous session may fail to execute or produce different results in this one, hampering the reproducibility.",
     "reportId": "h1",
     "reportType": "hiddenstate",
     "suggestion": "Please consider executing it to guarantee the reproducibility.",
     "text": "Cell 5 has execution results, but it wasn't executed on this session"
    },
    {
     "cellId": 7,
     "hash": "5135f5004dca3190bc30c9a68b8ee6b98b74f204",
     "reason": "A cell with results of a previous session may fail to execute or produce different results in this one, hampering the reproducibility.",
     "reportId": "h1",
     "reportType": "hiddenstate",
     "suggestion": "Please consider executing it to guarantee the reproducibility.",
     "text": "Cell 7 has execution results, but it wasn't executed on this session"
    },
    {
     "cellId": 9,
     "hash": "b01d09d433b66334befe5f81042b7f076aa76fc4",
     "reason": "A cell with code changes may produce different results than what it generated before the changes, hampering the reproducibility.",
     "reportId": "h2",
     "reportType": "hiddenstate",
     "suggestion": "Please consider re-executing it to guarantee the reproducibility.",
     "text": "Cell 9 has changed since its execution, but it wasn't executed after the changes"
    },
    {
     "cellId": 9,
     "hash": "2ac6b18694c56c214e4c7b309f035fddb55b11c7",
     "reason": "A cell with a repeated execution count indicates that there are results of multiple execution sessions in this notebook. Running all cells in the top-down order might produce different results, hampering the reproducibility.",
     "reportId": "h3",
     "reportType": "hiddenstate",
     "suggestion": "Please consider re-running the cell to guarantee the reproducibility.",
     "text": "Cell 9 repeats the execution count 5"
    },
    {
     "cellId": 11,
     "hash": "2313d16dca056999bf1d27e9a15b3df6a7b36ba6",
     "reason": "A cell with a repeated execution count indicates that there are results of multiple execution sessions in this notebook. Running all cells in the top-down order might produce different results, hampering the reproducibility.",
     "reportId": "h3",
     "reportType": "hiddenstate",
     "suggestion": "Please consider re-running the cell to guarantee the reproducibility.",
     "text": "Cell 11 repeats the execution count 5"
    },
    {
     "cellId": 11,
     "hash": "24fcde3782415364437949a5e4d26de00623c5e0",
     "reason": "A skip in the execution count might indicate the presence of a hidden state caused by a cell that does not exist anymore. Hidden states might prevent cells from executing or producing the same results, hampering the reproducibility.",
     "reportId": "h4",
     "reportType": "hiddenstate",
     "suggestion": "Please consider re-running the notebook to guarantee the reproducibility.",
     "text": "Cell 11 skips the execution count"
    },
    {
     "cellId": 5,
     "hash": "518d53962e3b072f52da36d3a49d117667597d6a",
     "reason": "A skip in the execution count might indicate the presence of a hidden state caused by a cell that does not exist anymore. Hidden states might prevent cells from executing or producing the same results, hampering the reproducibility.",
     "reportId": "h4",
     "reportType": "hiddenstate",
     "suggestion": "Please consider re-running the notebook to guarantee the reproducibility.",
     "text": "Cell 5 skips the execution count"
    },
    {
     "cellId": "group",
     "hash": "19d3d3d153f22e318cbe061df9e685ba5165b0aa",
     "reason": "This groups other lint messages",
     "reportId": "group",
     "reportType": "confusenotebook",
     "suggestion": null,
     "text": "Confuse Notebook"
    },
    {
     "cellId": 7,
     "hash": "9c5982ddd3688fbef39da2fcd0503d04c9001974",
     "reason": "When you try to run all cells following the top-down order, cells in the wrong order might fail to execute or produce different results, hampering the reproducibility.",
     "reportId": "c2",
     "reportType": "confusenotebook",
     "suggestion": "Please consider re-running the notebook to guarantee the reproducibility.",
     "text": "Cell 7 has the execution count 7 in the wrong order"
    },
    {
     "cellId": 9,
     "hash": "d7f13f38aa9fec9e51ba8c2b20903f0d972ca134",
     "reason": "When you try to run all cells following the top-down order, cells in the wrong order might fail to execute or produce different results, hampering the reproducibility.",
     "reportId": "c2",
     "reportType": "confusenotebook",
     "suggestion": "Please consider re-running the notebook to guarantee the reproducibility.",
     "text": "Cell 9 has the execution count 5 in the wrong order"
    },
    {
     "cellId": 11,
     "hash": "4453a83aa14e4c95169d7e5e59268c0a2c9d2126",
     "reason": "A markdown cell at the end of the notebook can conclude it, presenting a summary of the obtained results.",
     "reportId": "c5",
     "reportType": "confusenotebook",
     "suggestion": "Please consider adding a markdown cell to conclude the notebook.",
     "text": "The last cell of the notebook is not a markdown cell"
    }
   ]
  },
  "kernelspec": {
   "display_name": "Python 3",
   "language": "python",
   "name": "python3"
  },
  "language_info": {
   "codemirror_mode": {
    "name": "ipython",
    "version": 3
   },
   "file_extension": ".py",
   "mimetype": "text/x-python",
   "name": "python",
   "nbconvert_exporter": "python",
   "pygments_lexer": "ipython3",
   "version": "3.6.3"
  }
 },
 "nbformat": 4,
 "nbformat_minor": 4
}
