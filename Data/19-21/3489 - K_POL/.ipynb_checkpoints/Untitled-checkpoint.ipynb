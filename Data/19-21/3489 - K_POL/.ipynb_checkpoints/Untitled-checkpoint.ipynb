{
 "cells": [
  {
   "cell_type": "markdown",
   "metadata": {},
   "source": [
    "### Task - Def"
   ]
  },
  {
   "cell_type": "code",
   "execution_count": null,
   "metadata": {},
   "outputs": [],
   "source": [
    "# тайминг 0:50:00\n",
    "from functools import lru_cache\n",
    "\n",
    "def moves(h):\n",
    "    a,b = h\n",
    "    if a < 2:\n",
    "        return (a, b // 2), (a, b - 1)\n",
    "    elif b < 2:\n",
    "        return (a // 2, b), (a - 1, b)\n",
    "    elif a > 1 and b > 1:\n",
    "        return (a, b // 2), (a, b - 1), (a // 2, b), (a - 1, b)\n",
    "\n",
    "@lru_cache(None)\n",
    "def f(h):\n",
    "    if sum(h) <= 18:\n",
    "        return \"СР\"\n",
    "    elif any(f(m) ==\"СР\" for m in moves(h)):\n",
    "        return \"П1\"\n",
    "    elif all(f(m) == \"П1\" for m in moves(h)):\n",
    "        return \"В1\"\n",
    "    elif any(f(m) == \"В1\" for m in moves(h)):\n",
    "        return \"П2\"\n",
    "    elif all(f(m) == \"П1\" or f(m)==\"П2\" for m in moves(h)):\n",
    "        return \"В2\"\n",
    "    \n",
    "for m in range(1,100):\n",
    "    if "
   ]
  }
 ],
 "metadata": {
  "julynter-results": {
   "filteredId": [],
   "filteredIndividual": [],
   "filteredRestart": [],
   "filteredType": [],
   "hash": "54d89467c7d0c71719f2f07cd34b34fac5a8c57f",
   "visible": [
    {
     "cellId": "group",
     "hash": "f1533669aecd4af79dc6255a1e56c261582897f8",
     "reason": "This groups other lint messages",
     "reportId": "group",
     "reportType": "invalidtitle",
     "suggestion": null,
     "text": "Invalid Title"
    },
    {
     "cellId": "title",
     "hash": "e9fb88eead53b04f100b052363b4bcdb79cee158",
     "reason": "Untitled notebooks provide no context for who is selecting the notebook in the file browser.",
     "reportId": "t2",
     "reportType": "invalidtitle",
     "suggestion": "Please consider renaming it to a meaningful name.",
     "text": "Title starts with \"Untitled\""
    },
    {
     "cellId": "group",
     "hash": "19d3d3d153f22e318cbe061df9e685ba5165b0aa",
     "reason": "This groups other lint messages",
     "reportId": "group",
     "reportType": "confusenotebook",
     "suggestion": null,
     "text": "Confuse Notebook"
    },
    {
     "cellId": 1,
     "hash": "0b0bec9f452369056bfc3df9cfb30ca92c7d90a9",
     "reason": "A markdown cell at the end of the notebook can conclude it, presenting a summary of the obtained results.",
     "reportId": "c5",
     "reportType": "confusenotebook",
     "suggestion": "Please consider adding a markdown cell to conclude the notebook.",
     "text": "The last cell of the notebook is not a markdown cell"
    }
   ]
  },
  "kernelspec": {
   "display_name": "Python 3",
   "language": "python",
   "name": "python3"
  },
  "language_info": {
   "codemirror_mode": {
    "name": "ipython",
    "version": 3
   },
   "file_extension": ".py",
   "mimetype": "text/x-python",
   "name": "python",
   "nbconvert_exporter": "python",
   "pygments_lexer": "ipython3",
   "version": "3.6.3"
  }
 },
 "nbformat": 4,
 "nbformat_minor": 4
}
