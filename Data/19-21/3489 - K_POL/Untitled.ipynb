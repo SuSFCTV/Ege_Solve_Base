{
 "cells": [
  {
   "cell_type": "markdown",
   "metadata": {},
   "source": [
    "### Task - Def"
   ]
  },
  {
   "cell_type": "code",
   "execution_count": 2,
   "metadata": {},
   "outputs": [
    {
     "name": "stdout",
     "output_type": "stream",
     "text": [
      "13\n",
      "\n",
      "14\n",
      "26\n",
      "27\n",
      "\n",
      "14\n",
      "20\n"
     ]
    }
   ],
   "source": [
    "# тайминг 0:50:00\n",
    "\n",
    "from functools import lru_cache\n",
    "\n",
    "def moves(h):\n",
    "    a,b = h\n",
    "    if a < 2:\n",
    "        return (a, b // 2), (a, b - 1)\n",
    "    elif b < 2:\n",
    "        return (a // 2, b), (a - 1, b)\n",
    "    elif a > 1 and b > 1:\n",
    "        return (a, b // 2), (a, b - 1), (a // 2, b), (a - 1, b)\n",
    "\n",
    "@lru_cache(None)\n",
    "def f(h):\n",
    "    if sum(h) <= 18:\n",
    "        return \"СР\"\n",
    "    elif any(f(m) ==\"СР\" for m in moves(h)):\n",
    "        return \"П1\"\n",
    "    elif all(f(m) == \"П1\" for m in moves(h)):\n",
    "        return \"В1\"\n",
    "    elif any(f(m) == \"В1\" for m in moves(h)):\n",
    "        return \"П2\"\n",
    "    elif all(f(m) == \"П1\" or f(m)==\"П2\" for m in moves(h)):\n",
    "        return \"В2\"\n",
    "    \n",
    "for m in range(1,100):\n",
    "    if f((m, m)) == \"В1\":\n",
    "        print(m)\n",
    "print()\n",
    "\n",
    "k = 13\n",
    "for s in range(1,100):\n",
    "    if f((k, s)) == \"П2\":\n",
    "        print(s)\n",
    "print()\n",
    "for n in range(1,100):\n",
    "    if f((n, n)) == \"В2\":\n",
    "        print(n)"
   ]
  },
  {
   "cell_type": "code",
   "execution_count": null,
   "metadata": {},
   "outputs": [],
   "source": []
  }
 ],
 "metadata": {
  "julynter-results": {
   "filteredId": [],
   "filteredIndividual": [],
   "filteredRestart": [],
   "filteredType": [],
   "hash": "325591bff27b06d41d7c5c5755eb3229391c0859",
   "visible": [
    {
     "cellId": "group",
     "hash": "f1533669aecd4af79dc6255a1e56c261582897f8",
     "reason": "This groups other lint messages",
     "reportId": "group",
     "reportType": "invalidtitle",
     "suggestion": null,
     "text": "Invalid Title"
    },
    {
     "cellId": "title",
     "hash": "e9fb88eead53b04f100b052363b4bcdb79cee158",
     "reason": "Untitled notebooks provide no context for who is selecting the notebook in the file browser.",
     "reportId": "t2",
     "reportType": "invalidtitle",
     "suggestion": "Please consider renaming it to a meaningful name.",
     "text": "Title starts with \"Untitled\""
    },
    {
     "cellId": "group",
     "hash": "c0de46ba034d710c2b2406a37ee6816be9634aa0",
     "reason": "This groups other lint messages",
     "reportId": "group",
     "reportType": "hiddenstate",
     "suggestion": null,
     "text": "Hidden State"
    },
    {
     "cellId": 1,
     "hash": "017ee4e205f295c6650f01d39e3ea9e38048c761",
     "reason": "A skip in the execution count might indicate the presence of a hidden state caused by a cell that does not exist anymore. Hidden states might prevent cells from executing or producing the same results, hampering the reproducibility.",
     "reportId": "h4",
     "reportType": "hiddenstate",
     "suggestion": "Please consider re-running the notebook to guarantee the reproducibility.",
     "text": "Cell 1 skips the execution count"
    },
    {
     "cellId": "group",
     "hash": "19d3d3d153f22e318cbe061df9e685ba5165b0aa",
     "reason": "This groups other lint messages",
     "reportId": "group",
     "reportType": "confusenotebook",
     "suggestion": null,
     "text": "Confuse Notebook"
    },
    {
     "cellId": 1,
     "hash": "fcfdf3cc735c0ebc885dfdd10dc001da9b13a724",
     "reason": "A markdown cell at the end of the notebook can conclude it, presenting a summary of the obtained results.",
     "reportId": "c5",
     "reportType": "confusenotebook",
     "suggestion": "Please consider adding a markdown cell to conclude the notebook.",
     "text": "The last cell of the notebook is not a markdown cell"
    }
   ]
  },
  "kernelspec": {
   "display_name": "Python 3",
   "language": "python",
   "name": "python3"
  },
  "language_info": {
   "codemirror_mode": {
    "name": "ipython",
    "version": 3
   },
   "file_extension": ".py",
   "mimetype": "text/x-python",
   "name": "python",
   "nbconvert_exporter": "python",
   "pygments_lexer": "ipython3",
   "version": "3.6.3"
  }
 },
 "nbformat": 4,
 "nbformat_minor": 4
}
