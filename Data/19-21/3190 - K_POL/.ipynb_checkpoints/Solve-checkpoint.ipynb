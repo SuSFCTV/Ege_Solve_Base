{
 "cells": [
  {
   "cell_type": "markdown",
   "metadata": {},
   "source": [
    "### Task - Def"
   ]
  },
  {
   "cell_type": "code",
   "execution_count": 1,
   "metadata": {},
   "outputs": [
    {
     "name": "stdout",
     "output_type": "stream",
     "text": [
      "1 : None\n",
      "2 : None\n",
      "3 : None\n",
      "4 : None\n",
      "5 : None\n",
      "6 : П2\n",
      "7 : В2\n",
      "8 : В2\n",
      "9 : П2\n",
      "10 : П2\n",
      "11 : В1\n",
      "12 : В1\n",
      "13 : П1\n",
      "14 : П1\n",
      "15 : П1\n",
      "16 : П1\n",
      "17 : П1\n",
      "18 : П1\n",
      "19 : П1\n",
      "20 : П1\n",
      "21 : П1\n",
      "22 : П1\n",
      "23 : П1\n",
      "24 : П1\n",
      "25 : СР\n",
      "26 : СР\n",
      "27 : СР\n",
      "28 : СР\n",
      "29 : СР\n"
     ]
    }
   ],
   "source": [
    "from functools import lru_cache\n",
    "\n",
    "def moves(h):\n",
    "    a,b = h\n",
    "    return (a + 1, b), (a, b + 1), (a * 4, b), (a, b * 4)\n",
    "\n",
    "@lru_cache(None)\n",
    "def f(h):\n",
    "    if sum(h)>=36:\n",
    "        return \"СР\"\n",
    "    elif any(f(m) ==\"СР\" for m in moves(h)):\n",
    "        return \"П1\"\n",
    "    elif all(f(m) == \"П1\" for m in moves(h)):\n",
    "        return \"В1\"\n",
    "    elif any(f(m) == \"В1\" for m in moves(h)):\n",
    "        return \"П2\"\n",
    "    elif all(f(m) == \"П1\" or f(m)==\"П2\" for m in moves(h)):\n",
    "        return \"В2\"\n",
    "    \n",
    "for i in range(1,30):\n",
    "    print(i,\":\",f( (i,) ) )"
   ]
  },
  {
   "cell_type": "code",
   "execution_count": null,
   "metadata": {},
   "outputs": [],
   "source": []
  }
 ],
 "metadata": {
  "julynter-results": {
   "filteredId": [],
   "filteredIndividual": [],
   "filteredRestart": [],
   "filteredType": [],
   "hash": "16fb29fd863c50e4b449c8616e745f67f36ccdba",
   "visible": [
    {
     "cellId": "group",
     "hash": "c0de46ba034d710c2b2406a37ee6816be9634aa0",
     "reason": "This groups other lint messages",
     "reportId": "group",
     "reportType": "hiddenstate",
     "suggestion": null,
     "text": "Hidden State"
    },
    {
     "cellId": 1,
     "hash": "33535a7512961e4936adf3ee8ffdd27b0793e411",
     "reason": "A cell with results of a previous session may fail to execute or produce different results in this one, hampering the reproducibility.",
     "reportId": "h1",
     "reportType": "hiddenstate",
     "suggestion": "Please consider executing it to guarantee the reproducibility.",
     "text": "Cell 1 has execution results, but it wasn't executed on this session"
    },
    {
     "cellId": "group",
     "hash": "19d3d3d153f22e318cbe061df9e685ba5165b0aa",
     "reason": "This groups other lint messages",
     "reportId": "group",
     "reportType": "confusenotebook",
     "suggestion": null,
     "text": "Confuse Notebook"
    },
    {
     "cellId": 1,
     "hash": "feef55dd3e07b94f98e7cc5b3367476ca29d0284",
     "reason": "A markdown cell at the end of the notebook can conclude it, presenting a summary of the obtained results.",
     "reportId": "c5",
     "reportType": "confusenotebook",
     "suggestion": "Please consider adding a markdown cell to conclude the notebook.",
     "text": "The last cell of the notebook is not a markdown cell"
    }
   ]
  },
  "kernelspec": {
   "display_name": "Python 3",
   "language": "python",
   "name": "python3"
  },
  "language_info": {
   "codemirror_mode": {
    "name": "ipython",
    "version": 3
   },
   "file_extension": ".py",
   "mimetype": "text/x-python",
   "name": "python",
   "nbconvert_exporter": "python",
   "pygments_lexer": "ipython3",
   "version": "3.6.3"
  }
 },
 "nbformat": 4,
 "nbformat_minor": 4
}
