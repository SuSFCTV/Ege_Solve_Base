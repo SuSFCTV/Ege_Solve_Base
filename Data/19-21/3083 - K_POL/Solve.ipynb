{
 "cells": [
  {
   "cell_type": "markdown",
   "metadata": {},
   "source": [
    "### Task - Def"
   ]
  },
  {
   "cell_type": "code",
   "execution_count": 3,
   "metadata": {},
   "outputs": [
    {
     "name": "stdout",
     "output_type": "stream",
     "text": [
      "1 : None\n",
      "2 : None\n",
      "3 : None\n",
      "4 : None\n",
      "5 : None\n",
      "6 : None\n",
      "7 : None\n",
      "8 : None\n",
      "9 : None\n",
      "10 : None\n",
      "11 : В2\n",
      "12 : П1\n",
      "13 : П1\n",
      "14 : П1\n",
      "15 : П1\n",
      "16 : П1\n",
      "17 : П1\n",
      "18 : П1\n",
      "19 : П1\n",
      "20 : П1\n",
      "21 : П1\n",
      "22 : П1\n",
      "23 : П1\n",
      "24 : П1\n",
      "25 : П1\n",
      "26 : П1\n",
      "27 : П1\n",
      "28 : П1\n",
      "29 : П1\n",
      "30 : П1\n",
      "31 : None\n",
      "32 : В2\n",
      "33 : П2\n",
      "34 : В1\n"
     ]
    }
   ],
   "source": [
    "from functools import lru_cache\n",
    "\n",
    "def moves(h):\n",
    "    return h * 3, h * 2, h + 1\n",
    "\n",
    "@lru_cache(None)\n",
    "def f(h):\n",
    "    if 36<=h<=60:\n",
    "        return \"СР\"\n",
    "    elif h>60:\n",
    "        return \"П1\"\n",
    "    elif any(f(m) ==\"СР\" for m in moves(h)):\n",
    "        return \"П1\"\n",
    "    elif all(f(m) == \"П1\" for m in moves(h)):\n",
    "        return \"В1\"\n",
    "    elif any(f(m) == \"В1\" for m in moves(h)):\n",
    "        return \"П2\"\n",
    "    elif all(f(m) == \"П1\" or f(m)==\"П2\" for m in moves(h)):\n",
    "        return \"В2\"\n",
    "    \n",
    "for s in range(1,35):\n",
    "    print(s,\":\",f(s))"
   ]
  },
  {
   "cell_type": "code",
   "execution_count": null,
   "metadata": {},
   "outputs": [],
   "source": []
  }
 ],
 "metadata": {
  "julynter-results": {
   "filteredId": [],
   "filteredIndividual": [],
   "filteredRestart": [],
   "filteredType": [],
   "hash": "47c2a16749a268e15fd12ba598afe90b0c746479",
   "visible": [
    {
     "cellId": "group",
     "hash": "c0de46ba034d710c2b2406a37ee6816be9634aa0",
     "reason": "This groups other lint messages",
     "reportId": "group",
     "reportType": "hiddenstate",
     "suggestion": null,
     "text": "Hidden State"
    },
    {
     "cellId": 1,
     "hash": "f3ca88c23c036dadeef7d101ea7ede239900a80d",
     "reason": "A cell with results of a previous session may fail to execute or produce different results in this one, hampering the reproducibility.",
     "reportId": "h1",
     "reportType": "hiddenstate",
     "suggestion": "Please consider executing it to guarantee the reproducibility.",
     "text": "Cell 1 has execution results, but it wasn't executed on this session"
    },
    {
     "cellId": 1,
     "hash": "d0e94e5aa6636c2a1f2d090b45aad21c69cab8b3",
     "reason": "A skip in the execution count might indicate the presence of a hidden state caused by a cell that does not exist anymore. Hidden states might prevent cells from executing or producing the same results, hampering the reproducibility.",
     "reportId": "h4",
     "reportType": "hiddenstate",
     "suggestion": "Please consider re-running the notebook to guarantee the reproducibility.",
     "text": "Cell 1 skips the execution count"
    },
    {
     "cellId": "group",
     "hash": "19d3d3d153f22e318cbe061df9e685ba5165b0aa",
     "reason": "This groups other lint messages",
     "reportId": "group",
     "reportType": "confusenotebook",
     "suggestion": null,
     "text": "Confuse Notebook"
    },
    {
     "cellId": 1,
     "hash": "456e25a8c9ddf4454f79fb0be10e1a1e88eccce0",
     "reason": "A markdown cell at the end of the notebook can conclude it, presenting a summary of the obtained results.",
     "reportId": "c5",
     "reportType": "confusenotebook",
     "suggestion": "Please consider adding a markdown cell to conclude the notebook.",
     "text": "The last cell of the notebook is not a markdown cell"
    }
   ]
  },
  "kernelspec": {
   "display_name": "Python 3",
   "language": "python",
   "name": "python3"
  },
  "language_info": {
   "codemirror_mode": {
    "name": "ipython",
    "version": 3
   },
   "file_extension": ".py",
   "mimetype": "text/x-python",
   "name": "python",
   "nbconvert_exporter": "python",
   "pygments_lexer": "ipython3",
   "version": "3.6.3"
  }
 },
 "nbformat": 4,
 "nbformat_minor": 4
}
