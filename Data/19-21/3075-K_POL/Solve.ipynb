{
 "cells": [
  {
   "cell_type": "markdown",
   "metadata": {},
   "source": [
    "### Task - Def\n",
    "\n",
    "![](https://github.com/vaskers5/Ege_Solve_Base/blob/main/Data/19-21/3075-K_POL/Definition.png?raw=true)"
   ]
  },
  {
   "cell_type": "code",
   "execution_count": 6,
   "metadata": {},
   "outputs": [
    {
     "name": "stdout",
     "output_type": "stream",
     "text": [
      "1 : None\n",
      "2 : None\n",
      "3 : None\n",
      "4 : None\n",
      "5 : None\n",
      "6 : П2\n",
      "7 : В2\n",
      "8 : В2\n",
      "9 : П2\n",
      "10 : П2\n",
      "11 : В1\n",
      "12 : В1\n",
      "13 : П1\n",
      "14 : П1\n",
      "15 : П1\n",
      "16 : П1\n",
      "17 : П1\n",
      "18 : П1\n",
      "19 : П1\n",
      "20 : П1\n",
      "21 : П1\n",
      "22 : П1\n",
      "23 : П1\n",
      "24 : П1\n",
      "25 : СР\n",
      "26 : СР\n",
      "27 : СР\n",
      "28 : СР\n",
      "29 : СР\n"
     ]
    }
   ],
   "source": [
    "from functools import lru_cache\n",
    "\n",
    "def moves(h):\n",
    "    return h*2, h+2\n",
    "\n",
    "@lru_cache(None)\n",
    "def f(h):\n",
    "    if h>=25:\n",
    "        return \"СР\"\n",
    "    elif any(f(m) ==\"СР\" for m in moves(h)):\n",
    "        return \"П1\"\n",
    "    elif all(f(m) == \"П1\" for m in moves(h)):\n",
    "        return \"В1\"\n",
    "    elif any(f(m) == \"В1\" for m in moves(h)):\n",
    "        return \"П2\"\n",
    "    elif all(f(m) == \"П1\" or f(m)==\"П2\" for m in moves(h)):\n",
    "        return \"В2\"\n",
    "    \n",
    "for i in range(1,30):\n",
    "    print(i,\":\",f(i))"
   ]
  }
 ],
 "metadata": {
  "julynter-results": {
   "filteredId": [],
   "filteredIndividual": [],
   "filteredRestart": [],
   "filteredType": [],
   "hash": "5a1a881b8559d8ee68626683d5025381336e1766",
   "visible": [
    {
     "cellId": "group",
     "hash": "c0de46ba034d710c2b2406a37ee6816be9634aa0",
     "reason": "This groups other lint messages",
     "reportId": "group",
     "reportType": "hiddenstate",
     "suggestion": null,
     "text": "Hidden State"
    },
    {
     "cellId": 1,
     "hash": "ce49da70884b50d82233564c5e115af264486aba",
     "reason": "A cell with results of a previous session may fail to execute or produce different results in this one, hampering the reproducibility.",
     "reportId": "h1",
     "reportType": "hiddenstate",
     "suggestion": "Please consider executing it to guarantee the reproducibility.",
     "text": "Cell 1 has execution results, but it wasn't executed on this session"
    },
    {
     "cellId": 1,
     "hash": "150c544e320e1c543c73be825983d911f8cc100c",
     "reason": "A skip in the execution count might indicate the presence of a hidden state caused by a cell that does not exist anymore. Hidden states might prevent cells from executing or producing the same results, hampering the reproducibility.",
     "reportId": "h4",
     "reportType": "hiddenstate",
     "suggestion": "Please consider re-running the notebook to guarantee the reproducibility.",
     "text": "Cell 1 skips the execution count"
    },
    {
     "cellId": "group",
     "hash": "19d3d3d153f22e318cbe061df9e685ba5165b0aa",
     "reason": "This groups other lint messages",
     "reportId": "group",
     "reportType": "confusenotebook",
     "suggestion": null,
     "text": "Confuse Notebook"
    },
    {
     "cellId": 1,
     "hash": "00db169499d125c0675ad30c8a7a8892ac4c3460",
     "reason": "A markdown cell at the end of the notebook can conclude it, presenting a summary of the obtained results.",
     "reportId": "c5",
     "reportType": "confusenotebook",
     "suggestion": "Please consider adding a markdown cell to conclude the notebook.",
     "text": "The last cell of the notebook is not a markdown cell"
    }
   ]
  },
  "kernelspec": {
   "display_name": "Python 3",
   "language": "python",
   "name": "python3"
  },
  "language_info": {
   "codemirror_mode": {
    "name": "ipython",
    "version": 3
   },
   "file_extension": ".py",
   "mimetype": "text/x-python",
   "name": "python",
   "nbconvert_exporter": "python",
   "pygments_lexer": "ipython3",
   "version": "3.6.3"
  }
 },
 "nbformat": 4,
 "nbformat_minor": 4
}
