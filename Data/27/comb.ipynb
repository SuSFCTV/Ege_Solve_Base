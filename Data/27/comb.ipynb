{
 "cells": [
  {
   "cell_type": "markdown",
   "metadata": {},
   "source": [
    "### Task_def_27891\n",
    "![](https://github.com/vaskers5/Ege_Solve_Base/blob/main/Data/27/data/sequence/EGE27891/27891.png?raw=true)"
   ]
  },
  {
   "cell_type": "code",
   "execution_count": 1,
   "metadata": {},
   "outputs": [
    {
     "name": "stdout",
     "output_type": "stream",
     "text": [
      "447552\n"
     ]
    }
   ],
   "source": [
    "f = open(\"data/sequence/EGE27891/27-A_2.txt\")\n",
    "\n",
    "n = int(f.readline())\n",
    "\n",
    "numbers = [int(f.readline()) for i in range(n)]\n",
    "\n",
    "max_2, max_7, max_14, max_num = 0, 0, 0, 0\n",
    "\n",
    "for elem in numbers:\n",
    "    if elem % 14 == 0:\n",
    "        max_14 = max(elem, max_14)\n",
    "    elif elem % 7 == 0:\n",
    "        max_7 = max(max_7, elem)\n",
    "    elif elem % 2 == 0:\n",
    "        max_2 = max(max_2, elem)\n",
    "    else:\n",
    "        max_num = max(max_num, elem)\n",
    "\n",
    "print(max(max_14 * max(max_2, max_7, max_num), max_2 * max_7))"
   ]
  },
  {
   "cell_type": "code",
   "execution_count": 19,
   "metadata": {},
   "outputs": [],
   "source": [
    "f = open(\"data/sequence/EGE27891/27-B_2.txt\")\n",
    "div = 14\n",
    "\n",
    "def digits():\n",
    "    numbers = []\n",
    "    x = 14\n",
    "    digit = 2\n",
    "    while (x != 1):\n",
    "        if x % digit == 0:\n",
    "            x //= digit\n",
    "            numbers.append(digit)\n",
    "        else:\n",
    "            digit += 1\n",
    "            \n",
    "    return list(set(numbers))  + [div]\n",
    "\n",
    "        \n",
    "n = int(f.readline())\n",
    "mass_ost, max_n = [0] * div, 0\n",
    "digs = digits()\n",
    "\n",
    "for i in range(n):\n",
    "    x = int(f.readline())\n",
    "    flag = False\n",
    "    for elem in digs[:-1]:\n",
    "        if x % elem == 0:\n",
    "            mass_ost[x % elem] = max(x, mass_ost[x % elem])\n",
    "            flag = True\n",
    "            break\n",
    "            \n",
    "    if not flag:\n",
    "        max_n = max(max_n, x)"
   ]
  },
  {
   "cell_type": "code",
   "execution_count": 20,
   "metadata": {},
   "outputs": [
    {
     "data": {
      "text/plain": [
       "[1000, 0, 0, 0, 0, 0, 0, 0, 0, 0, 0, 0, 0, 0]"
      ]
     },
     "execution_count": 20,
     "metadata": {},
     "output_type": "execute_result"
    }
   ],
   "source": [
    "mass_ost"
   ]
  },
  {
   "cell_type": "markdown",
   "metadata": {},
   "source": [
    "### Task_def_2675\n",
    "![](https://github.com/vaskers5/Ege_Solve_Base/blob/main/Data/27/data/sequence/K2675/2675.png?raw=true)"
   ]
  },
  {
   "cell_type": "code",
   "execution_count": 13,
   "metadata": {},
   "outputs": [
    {
     "name": "stdout",
     "output_type": "stream",
     "text": [
      "128567918\n"
     ]
    }
   ],
   "source": [
    "f = open(\"data/sequence/K2675/27-15b.txt\")\n",
    "\n",
    "dist = 5\n",
    "div = 14\n",
    "\n",
    "n = int(f.readline())\n",
    "sub = [int(f.readline()) for i in range(dist)]\n",
    "mass_ost = [0] * div\n",
    "    \n",
    "ans = 0\n",
    "for i in range(5, n):\n",
    "    x = int(f.readline())\n",
    "    mass_ost[sub[0] % div] += 1\n",
    "    ans += mass_ost[(div - x % div) % div]\n",
    "    sub.pop(0)\n",
    "    sub.append(x)\n",
    "    \n",
    "print(ans)\n",
    "    \n",
    "    "
   ]
  },
  {
   "cell_type": "markdown",
   "metadata": {},
   "source": [
    "### Task_def_2674\n",
    "![](https://github.com/vaskers5/Ege_Solve_Base/blob/main/Data/27/data/sequence/K2674/2674.png?raw=true)"
   ]
  },
  {
   "cell_type": "code",
   "execution_count": 5,
   "metadata": {},
   "outputs": [
    {
     "name": "stdout",
     "output_type": "stream",
     "text": [
      "150016535\n"
     ]
    }
   ],
   "source": [
    "f = open(\"data/sequence/K2674/27-14a.txt\")\n",
    "\n",
    "div = 12\n",
    "\n",
    "n = int(f.readline())\n",
    "mass_ost = [0] * div\n",
    "    \n",
    "ans = 0\n",
    "for i in range(n):\n",
    "    x = int(f.readline())\n",
    "    ans += mass_ost[(div - x % div) % div]\n",
    "    mass_ost[x % div] += 1\n",
    "    \n",
    "print(ans)\n",
    "    \n",
    "    "
   ]
  },
  {
   "cell_type": "markdown",
   "metadata": {},
   "source": [
    "### Task_def_2672\n",
    "\n",
    "![](https://github.com/vaskers5/Ege_Solve_Base/blob/main/Data/27/data/sequence/K2672/2672.png?raw=true)"
   ]
  },
  {
   "cell_type": "code",
   "execution_count": 11,
   "metadata": {},
   "outputs": [
    {
     "name": "stdout",
     "output_type": "stream",
     "text": [
      "745460178\n"
     ]
    }
   ],
   "source": [
    "f = open(\"data/sequence/K2672/27-12b.txt\")\n",
    "\n",
    "div = 6\n",
    "\n",
    "def get_delimeters():\n",
    "    return [[i, j] for i in range(div) for j in range(i + 1, div) if i * j % div == 0]\n",
    "    \n",
    "n = int(f.readline())\n",
    "mass_ost = [0] * div\n",
    "    \n",
    "for i in range(n):\n",
    "    x = int(f.readline())\n",
    "    mass_ost[x % div] += 1\n",
    "\n",
    "\n",
    "delims = get_delimeters()\n",
    "ans = mass_ost[0] * (mass_ost[0] - 1) // 2\n",
    "for elem in delims:\n",
    "    ans += mass_ost[elem[0]] * mass_ost[elem[1]]\n",
    "\n",
    "print(ans)\n",
    "    \n",
    "    "
   ]
  },
  {
   "cell_type": "code",
   "execution_count": 13,
   "metadata": {},
   "outputs": [
    {
     "data": {
      "text/plain": [
       "[[0, 1], [0, 2], [0, 3], [0, 4], [0, 5], [2, 3], [3, 4]]"
      ]
     },
     "execution_count": 13,
     "metadata": {},
     "output_type": "execute_result"
    }
   ],
   "source": [
    "delims"
   ]
  },
  {
   "cell_type": "markdown",
   "metadata": {},
   "source": [
    "### Task_def_2673\n",
    "![](https://github.com/vaskers5/Ege_Solve_Base/blob/main/Data/27/data/sequence/K2673/2673.png?raw=true)"
   ]
  },
  {
   "cell_type": "code",
   "execution_count": 39,
   "metadata": {},
   "outputs": [
    {
     "name": "stdout",
     "output_type": "stream",
     "text": [
      "360166633\n"
     ]
    }
   ],
   "source": [
    "f = open(\"data/sequence/K2673/27-13b.txt\")\n",
    "\n",
    "div = 14\n",
    "dist = 7\n",
    "\n",
    "def get_delimeters():\n",
    "    return [[i, j] for i in range(div) for j in range(i + 1, div) if i * j % div == 0]\n",
    "    \n",
    "n = int(f.readline())\n",
    "sub = [int(f.readline()) for i in range(dist)]\n",
    "mass_ost = [0] * div\n",
    "\n",
    "for i in range(dist, n):\n",
    "    x = int(f.readline())\n",
    "    mass_ost[sub[0] % div] += 1\n",
    "    sub.pop(0)\n",
    "    sub.append(x)\n",
    "\n",
    "delims = get_delimeters()\n",
    "ans = mass_ost[0] * (mass_ost[0] - 1) // 2\n",
    "for elem in delims:\n",
    "    ans += mass_ost[elem[0]] * mass_ost[elem[1]]\n",
    "\n",
    "print(ans)\n",
    "    \n",
    "    "
   ]
  },
  {
   "cell_type": "code",
   "execution_count": 15,
   "metadata": {},
   "outputs": [
    {
     "name": "stdout",
     "output_type": "stream",
     "text": [
      "False\n"
     ]
    }
   ],
   "source": [
    "a = [1, 2, 3, 9, 5]\n",
    "b = sorted(a)\n",
    "\n",
    "print(a == b)\n"
   ]
  },
  {
   "cell_type": "code",
   "execution_count": null,
   "metadata": {},
   "outputs": [],
   "source": []
  }
 ],
 "metadata": {
  "julynter-results": {
   "filteredId": [],
   "filteredIndividual": [],
   "filteredRestart": [],
   "filteredType": [],
   "hash": "1abd09b281eeebfbf58121a8fb6cdef2cec09a2a",
   "visible": [
    {
     "cellId": "group",
     "hash": "c0de46ba034d710c2b2406a37ee6816be9634aa0",
     "reason": "This groups other lint messages",
     "reportId": "group",
     "reportType": "hiddenstate",
     "suggestion": null,
     "text": "Hidden State"
    },
    {
     "cellId": 1,
     "hash": "edfd6abffc21cbd24860be4b9036f1a5fdd819d9",
     "reason": "A cell with results of a previous session may fail to execute or produce different results in this one, hampering the reproducibility.",
     "reportId": "h1",
     "reportType": "hiddenstate",
     "suggestion": "Please consider executing it to guarantee the reproducibility.",
     "text": "Cell 1 has execution results, but it wasn't executed on this session"
    },
    {
     "cellId": 2,
     "hash": "bc63482b67a3e82233d439662938fda444fdf701",
     "reason": "A cell with results of a previous session may fail to execute or produce different results in this one, hampering the reproducibility.",
     "reportId": "h1",
     "reportType": "hiddenstate",
     "suggestion": "Please consider executing it to guarantee the reproducibility.",
     "text": "Cell 2 has execution results, but it wasn't executed on this session"
    },
    {
     "cellId": 3,
     "hash": "2c6b0392a4d1d10d0daf277c8b0dedfcd35068f1",
     "reason": "A cell with results of a previous session may fail to execute or produce different results in this one, hampering the reproducibility.",
     "reportId": "h1",
     "reportType": "hiddenstate",
     "suggestion": "Please consider executing it to guarantee the reproducibility.",
     "text": "Cell 3 has execution results, but it wasn't executed on this session"
    },
    {
     "cellId": 5,
     "hash": "cd478bc46f3e833755514d9dd9cafe57976e602a",
     "reason": "A cell with results of a previous session may fail to execute or produce different results in this one, hampering the reproducibility.",
     "reportId": "h1",
     "reportType": "hiddenstate",
     "suggestion": "Please consider executing it to guarantee the reproducibility.",
     "text": "Cell 5 has execution results, but it wasn't executed on this session"
    },
    {
     "cellId": 7,
     "hash": "162cb80b074f324802df6602e130bc8c93c2bde5",
     "reason": "A cell with results of a previous session may fail to execute or produce different results in this one, hampering the reproducibility.",
     "reportId": "h1",
     "reportType": "hiddenstate",
     "suggestion": "Please consider executing it to guarantee the reproducibility.",
     "text": "Cell 7 has execution results, but it wasn't executed on this session"
    },
    {
     "cellId": 9,
     "hash": "83ee4b8440fa15c74251d77c2e411b6a02007e5d",
     "reason": "A cell with results of a previous session may fail to execute or produce different results in this one, hampering the reproducibility.",
     "reportId": "h1",
     "reportType": "hiddenstate",
     "suggestion": "Please consider executing it to guarantee the reproducibility.",
     "text": "Cell 9 has execution results, but it wasn't executed on this session"
    },
    {
     "cellId": 10,
     "hash": "1b1e5ec69c02e73e871876ee9cd3522802607c1a",
     "reason": "A cell with results of a previous session may fail to execute or produce different results in this one, hampering the reproducibility.",
     "reportId": "h1",
     "reportType": "hiddenstate",
     "suggestion": "Please consider executing it to guarantee the reproducibility.",
     "text": "Cell 10 has execution results, but it wasn't executed on this session"
    },
    {
     "cellId": 10,
     "hash": "e8b1b2af7cda4df26987866524392da45c05779f",
     "reason": "A cell with a repeated execution count indicates that there are results of multiple execution sessions in this notebook. Running all cells in the top-down order might produce different results, hampering the reproducibility.",
     "reportId": "h3",
     "reportType": "hiddenstate",
     "suggestion": "Please consider re-running the cell to guarantee the reproducibility.",
     "text": "Cell 10 repeats the execution count 13"
    },
    {
     "cellId": 12,
     "hash": "5ab088d18798287230b5b06994ffdab1f159b5c2",
     "reason": "A cell with results of a previous session may fail to execute or produce different results in this one, hampering the reproducibility.",
     "reportId": "h1",
     "reportType": "hiddenstate",
     "suggestion": "Please consider executing it to guarantee the reproducibility.",
     "text": "Cell 12 has execution results, but it wasn't executed on this session"
    },
    {
     "cellId": 13,
     "hash": "af851e11226c12c83969eb00cac40d133f7ea931",
     "reason": "A cell with results of a previous session may fail to execute or produce different results in this one, hampering the reproducibility.",
     "reportId": "h1",
     "reportType": "hiddenstate",
     "suggestion": "Please consider executing it to guarantee the reproducibility.",
     "text": "Cell 13 has execution results, but it wasn't executed on this session"
    },
    {
     "cellId": 7,
     "hash": "19d7d705797583082590ee416bca67c686844c97",
     "reason": "A skip in the execution count might indicate the presence of a hidden state caused by a cell that does not exist anymore. Hidden states might prevent cells from executing or producing the same results, hampering the reproducibility.",
     "reportId": "h4",
     "reportType": "hiddenstate",
     "suggestion": "Please consider re-running the notebook to guarantee the reproducibility.",
     "text": "Cell 7 skips the execution count"
    },
    {
     "cellId": 9,
     "hash": "c81fa3ba92e479299dfc3780a8781778680fe385",
     "reason": "A skip in the execution count might indicate the presence of a hidden state caused by a cell that does not exist anymore. Hidden states might prevent cells from executing or producing the same results, hampering the reproducibility.",
     "reportId": "h4",
     "reportType": "hiddenstate",
     "suggestion": "Please consider re-running the notebook to guarantee the reproducibility.",
     "text": "Cell 9 skips the execution count"
    },
    {
     "cellId": 10,
     "hash": "170680e74ef12590a1d21dbce443bc7962f432a4",
     "reason": "A skip in the execution count might indicate the presence of a hidden state caused by a cell that does not exist anymore. Hidden states might prevent cells from executing or producing the same results, hampering the reproducibility.",
     "reportId": "h4",
     "reportType": "hiddenstate",
     "suggestion": "Please consider re-running the notebook to guarantee the reproducibility.",
     "text": "Cell 10 skips the execution count"
    },
    {
     "cellId": 13,
     "hash": "618f42fd2d05aa6b41e4d346c416446bdf489fa8",
     "reason": "A skip in the execution count might indicate the presence of a hidden state caused by a cell that does not exist anymore. Hidden states might prevent cells from executing or producing the same results, hampering the reproducibility.",
     "reportId": "h4",
     "reportType": "hiddenstate",
     "suggestion": "Please consider re-running the notebook to guarantee the reproducibility.",
     "text": "Cell 13 skips the execution count"
    },
    {
     "cellId": 2,
     "hash": "215e87ac76ada3baa69b4058fa907720392a173c",
     "reason": "A skip in the execution count might indicate the presence of a hidden state caused by a cell that does not exist anymore. Hidden states might prevent cells from executing or producing the same results, hampering the reproducibility.",
     "reportId": "h4",
     "reportType": "hiddenstate",
     "suggestion": "Please consider re-running the notebook to guarantee the reproducibility.",
     "text": "Cell 2 skips the execution count"
    },
    {
     "cellId": 12,
     "hash": "ad74b8e887d635870c07bdfc40a30d24abbca83f",
     "reason": "A skip in the execution count might indicate the presence of a hidden state caused by a cell that does not exist anymore. Hidden states might prevent cells from executing or producing the same results, hampering the reproducibility.",
     "reportId": "h4",
     "reportType": "hiddenstate",
     "suggestion": "Please consider re-running the notebook to guarantee the reproducibility.",
     "text": "Cell 12 skips the execution count"
    },
    {
     "cellId": "group",
     "hash": "19d3d3d153f22e318cbe061df9e685ba5165b0aa",
     "reason": "This groups other lint messages",
     "reportId": "group",
     "reportType": "confusenotebook",
     "suggestion": null,
     "text": "Confuse Notebook"
    },
    {
     "cellId": 5,
     "hash": "98d359708673826627dcc85f38655c8d39a82c40",
     "reason": "When you try to run all cells following the top-down order, cells in the wrong order might fail to execute or produce different results, hampering the reproducibility.",
     "reportId": "c2",
     "reportType": "confusenotebook",
     "suggestion": "Please consider re-running the notebook to guarantee the reproducibility.",
     "text": "Cell 5 has the execution count 13 in the wrong order"
    },
    {
     "cellId": 7,
     "hash": "a54c42b9bd2a0643ed192b2707482151ac74b574",
     "reason": "When you try to run all cells following the top-down order, cells in the wrong order might fail to execute or produce different results, hampering the reproducibility.",
     "reportId": "c2",
     "reportType": "confusenotebook",
     "suggestion": "Please consider re-running the notebook to guarantee the reproducibility.",
     "text": "Cell 7 has the execution count 5 in the wrong order"
    },
    {
     "cellId": 13,
     "hash": "87b0436d8d25933767db608177cf8d7148a5b0d0",
     "reason": "When you try to run all cells following the top-down order, cells in the wrong order might fail to execute or produce different results, hampering the reproducibility.",
     "reportId": "c2",
     "reportType": "confusenotebook",
     "suggestion": "Please consider re-running the notebook to guarantee the reproducibility.",
     "text": "Cell 13 has the execution count 15 in the wrong order"
    },
    {
     "cellId": 13,
     "hash": "a1b4fc0c010435c06fd4d54a0a5da97b53e671c1",
     "reason": "A markdown cell at the end of the notebook can conclude it, presenting a summary of the obtained results.",
     "reportId": "c5",
     "reportType": "confusenotebook",
     "suggestion": "Please consider adding a markdown cell to conclude the notebook.",
     "text": "The last cell of the notebook is not a markdown cell"
    }
   ]
  },
  "kernelspec": {
   "display_name": "Python 3",
   "language": "python",
   "name": "python3"
  },
  "language_info": {
   "codemirror_mode": {
    "name": "ipython",
    "version": 3
   },
   "file_extension": ".py",
   "mimetype": "text/x-python",
   "name": "python",
   "nbconvert_exporter": "python",
   "pygments_lexer": "ipython3",
   "version": "3.6.3"
  }
 },
 "nbformat": 4,
 "nbformat_minor": 4
}
