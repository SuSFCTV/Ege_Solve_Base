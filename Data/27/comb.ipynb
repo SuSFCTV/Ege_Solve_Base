{
 "cells": [
  {
   "cell_type": "markdown",
   "metadata": {},
   "source": [
    "### Task_def_27891\n",
    "![](https://github.com/vaskers5/Ege_Solve_Base/blob/main/Data/27/data/sequence/EGE27891/27891.png?raw=true)"
   ]
  },
  {
   "cell_type": "code",
   "execution_count": 6,
   "metadata": {},
   "outputs": [
    {
     "name": "stdout",
     "output_type": "stream",
     "text": [
      "994000\n"
     ]
    }
   ],
   "source": [
    "f = open(\"data/sequence/EGE27891/27-B_2.txt\")\n",
    "\n",
    "n = int(f.readline())\n",
    "\n",
    "numbers = [int(f.readline()) for i in range(n)]\n",
    "\n",
    "max_2, max_7, max_14, max_num = 0, 0, 0, 0\n",
    "\n",
    "for elem in numbers:\n",
    "    if elem % 14 == 0:\n",
    "        max_14 = max(elem, max_14)\n",
    "    elif elem % 7 == 0:\n",
    "        max_7 = max(max_7, elem)\n",
    "    elif elem % 2 == 0:\n",
    "        max_2 = max(max_2, elem)\n",
    "    else:\n",
    "        max_num = max(max_num, elem)\n",
    "\n",
    "print(max(max_14 * max(max_2, max_7, max_num), max_2 * max_7))"
   ]
  },
  {
   "cell_type": "code",
   "execution_count": 19,
   "metadata": {},
   "outputs": [],
   "source": [
    "f = open(\"data/sequence/EGE27891/27-B_2.txt\")\n",
    "div = 14\n",
    "\n",
    "def digits():\n",
    "    numbers = []\n",
    "    x = 14\n",
    "    digit = 2\n",
    "    while (x != 1):\n",
    "        if x % digit == 0:\n",
    "            x //= digit\n",
    "            numbers.append(digit)\n",
    "        else:\n",
    "            digit += 1\n",
    "            \n",
    "    return list(set(numbers))  + [div]\n",
    "\n",
    "        \n",
    "n = int(f.readline())\n",
    "mass_ost, max_n = [0] * div, 0\n",
    "digs = digits()\n",
    "\n",
    "for i in range(n):\n",
    "    x = int(f.readline())\n",
    "    flag = False\n",
    "    for elem in digs[:-1]:\n",
    "        if x % elem == 0:\n",
    "            mass_ost[x % elem] = max(x, mass_ost[x % elem])\n",
    "            flag = True\n",
    "            break\n",
    "            \n",
    "    if not flag:\n",
    "        max_n = max(max_n, x)"
   ]
  },
  {
   "cell_type": "code",
   "execution_count": 20,
   "metadata": {},
   "outputs": [
    {
     "data": {
      "text/plain": [
       "[1000, 0, 0, 0, 0, 0, 0, 0, 0, 0, 0, 0, 0, 0]"
      ]
     },
     "execution_count": 20,
     "metadata": {},
     "output_type": "execute_result"
    }
   ],
   "source": [
    "mass_ost"
   ]
  },
  {
   "cell_type": "markdown",
   "metadata": {},
   "source": [
    "### Task_def_2675\n",
    "![](https://github.com/vaskers5/Ege_Solve_Base/blob/main/Data/27/data/sequence/K2675/2675.png?raw=true)"
   ]
  },
  {
   "cell_type": "code",
   "execution_count": 8,
   "metadata": {},
   "outputs": [
    {
     "name": "stdout",
     "output_type": "stream",
     "text": [
      "128567918\n"
     ]
    }
   ],
   "source": [
    "f = open(\"data/sequence/K2675/27-15b.txt\")\n",
    "\n",
    "dist = 5\n",
    "div = 14\n",
    "\n",
    "n = int(f.readline())\n",
    "sub = [int(f.readline()) for i in range(dist)]\n",
    "mass_ost = [0] * div\n",
    "    \n",
    "ans = 0\n",
    "for i in range(5, n):\n",
    "    x = int(f.readline())\n",
    "    mass_ost[sub[0] % div] += 1\n",
    "    ans += mass_ost[(div - x % div) % div]\n",
    "    sub.pop(0)\n",
    "    sub.append(x)\n",
    "    \n",
    "print(ans)\n",
    "    \n",
    "    "
   ]
  },
  {
   "cell_type": "markdown",
   "metadata": {},
   "source": [
    "### Task_def_2674\n",
    "![](https://github.com/vaskers5/Ege_Solve_Base/blob/main/Data/27/data/sequence/K2674/2674.png?raw=true)"
   ]
  },
  {
   "cell_type": "code",
   "execution_count": 13,
   "metadata": {},
   "outputs": [
    {
     "name": "stdout",
     "output_type": "stream",
     "text": [
      "150016535\n"
     ]
    }
   ],
   "source": [
    "f = open(\"data/sequence/K2674/27-14b.txt\")\n",
    "\n",
    "div = 12\n",
    "\n",
    "n = int(f.readline())\n",
    "mass_ost = [0] * div\n",
    "    \n",
    "ans = 0\n",
    "for i in range(n):\n",
    "    x = int(f.readline())\n",
    "    ans += mass_ost[(div - x % div) % div]\n",
    "    mass_ost[x % div] += 1\n",
    "    \n",
    "print(ans)\n",
    "    \n",
    "    "
   ]
  },
  {
   "cell_type": "markdown",
   "metadata": {},
   "source": [
    "### Task_def_2672\n",
    "\n",
    "![](https://github.com/vaskers5/Ege_Solve_Base/blob/main/Data/27/data/sequence/K2672/2672.png?raw=true)"
   ]
  },
  {
   "cell_type": "code",
   "execution_count": 12,
   "metadata": {},
   "outputs": [
    {
     "name": "stdout",
     "output_type": "stream",
     "text": [
      "745460178\n"
     ]
    }
   ],
   "source": [
    "f = open(\"data/sequence/K2672/27-12b.txt\")\n",
    "\n",
    "div = 6\n",
    "\n",
    "def get_delimeters():\n",
    "    return [[i, j] for i in range(div) for j in range(i + 1, div) if i * j % div == 0]\n",
    "    \n",
    "n = int(f.readline())\n",
    "mass_ost = [0] * div\n",
    "    \n",
    "for i in range(n):\n",
    "    x = int(f.readline())\n",
    "    mass_ost[x % div] += 1\n",
    "\n",
    "\n",
    "delims = get_delimeters().drop()\n",
    "ans = mass_ost[0] * (mass_ost[0] - 1) // 2\n",
    "for elem in delims:\n",
    "    ans += mass_ost[elem[0]] * mass_ost[elem[1]]\n",
    "\n",
    "print(ans)\n",
    "    \n",
    "    "
   ]
  },
  {
   "cell_type": "code",
   "execution_count": 13,
   "metadata": {},
   "outputs": [
    {
     "data": {
      "text/plain": [
       "[[0, 1], [0, 2], [0, 3], [0, 4], [0, 5], [2, 3], [3, 4]]"
      ]
     },
     "execution_count": 13,
     "metadata": {},
     "output_type": "execute_result"
    }
   ],
   "source": [
    "delims"
   ]
  },
  {
   "cell_type": "markdown",
   "metadata": {},
   "source": [
    "### Task_def_2673\n",
    "![](https://github.com/vaskers5/Ege_Solve_Base/blob/main/Data/27/data/sequence/K2673/2673.png?raw=true)"
   ]
  },
  {
   "cell_type": "code",
   "execution_count": 39,
   "metadata": {},
   "outputs": [
    {
     "name": "stdout",
     "output_type": "stream",
     "text": [
      "360166633\n"
     ]
    }
   ],
   "source": [
    "f = open(\"data/sequence/K2673/27-13b.txt\")\n",
    "\n",
    "div = 14\n",
    "dist = 7\n",
    "\n",
    "def get_delimeters():\n",
    "    return [[i, j] for i in range(div) for j in range(i + 1, div) if i * j % div == 0]\n",
    "    \n",
    "n = int(f.readline())\n",
    "sub = [int(f.readline()) for i in range(dist)]\n",
    "mass_ost = [0] * div\n",
    "\n",
    "for i in range(dist, n):\n",
    "    x = int(f.readline())\n",
    "    mass_ost[sub[0] % div] += 1\n",
    "    sub.pop(0)\n",
    "    sub.append(x)\n",
    "\n",
    "delims = get_delimeters()\n",
    "ans = mass_ost[0] * (mass_ost[0] - 1) // 2\n",
    "for elem in delims:\n",
    "    ans += mass_ost[elem[0]] * mass_ost[elem[1]]\n",
    "\n",
    "print(ans)\n",
    "    \n",
    "    "
   ]
  },
  {
   "cell_type": "code",
   "execution_count": 40,
   "metadata": {},
   "outputs": [
    {
     "data": {
      "text/plain": [
       "([4333,\n",
       "  4243,\n",
       "  4320,\n",
       "  4228,\n",
       "  4208,\n",
       "  4328,\n",
       "  4197,\n",
       "  4269,\n",
       "  4326,\n",
       "  4220,\n",
       "  4334,\n",
       "  4375,\n",
       "  4290,\n",
       "  4322],\n",
       " [[0, 1],\n",
       "  [0, 2],\n",
       "  [0, 3],\n",
       "  [0, 4],\n",
       "  [0, 5],\n",
       "  [0, 6],\n",
       "  [0, 7],\n",
       "  [0, 8],\n",
       "  [0, 9],\n",
       "  [0, 10],\n",
       "  [0, 11],\n",
       "  [0, 12],\n",
       "  [0, 13],\n",
       "  [2, 7],\n",
       "  [4, 7],\n",
       "  [6, 7],\n",
       "  [7, 8],\n",
       "  [7, 10],\n",
       "  [7, 12]],\n",
       " 29126)"
      ]
     },
     "execution_count": 40,
     "metadata": {},
     "output_type": "execute_result"
    }
   ],
   "source": [
    "mass_ost, delims, 29126"
   ]
  },
  {
   "cell_type": "code",
   "execution_count": null,
   "metadata": {},
   "outputs": [],
   "source": []
  }
 ],
 "metadata": {
  "julynter-results": {
   "filteredId": [],
   "filteredIndividual": [],
   "filteredRestart": [],
   "filteredType": [],
   "hash": "fc372c4f3ad7e6087ffcbc9abbb2988bf2077534",
   "visible": [
    {
     "cellId": "group",
     "hash": "c0de46ba034d710c2b2406a37ee6816be9634aa0",
     "reason": "This groups other lint messages",
     "reportId": "group",
     "reportType": "hiddenstate",
     "suggestion": null,
     "text": "Hidden State"
    },
    {
     "cellId": 1,
     "hash": "c794fdaf0068f2ad6df517a805a17dc802628d85",
     "reason": "A cell with code changes may produce different results than what it generated before the changes, hampering the reproducibility.",
     "reportId": "h2",
     "reportType": "hiddenstate",
     "suggestion": "Please consider re-executing it to guarantee the reproducibility.",
     "text": "Cell 1 has changed since its execution, but it wasn't executed after the changes"
    },
    {
     "cellId": 5,
     "hash": "22e36391c644f4c4bfdee74d835960771735ac62",
     "reason": "A cell with code changes may produce different results than what it generated before the changes, hampering the reproducibility.",
     "reportId": "h2",
     "reportType": "hiddenstate",
     "suggestion": "Please consider re-executing it to guarantee the reproducibility.",
     "text": "Cell 5 has changed since its execution, but it wasn't executed after the changes"
    },
    {
     "cellId": 7,
     "hash": "7e48c62583c94b54455d1afc46c085167273c9df",
     "reason": "A cell with code changes may produce different results than what it generated before the changes, hampering the reproducibility.",
     "reportId": "h2",
     "reportType": "hiddenstate",
     "suggestion": "Please consider re-executing it to guarantee the reproducibility.",
     "text": "Cell 7 has changed since its execution, but it wasn't executed after the changes"
    },
    {
     "cellId": 9,
     "hash": "3e301bc969ef4ab50dd2807a7403cf8ef4dceabe",
     "reason": "A cell with code changes may produce different results than what it generated before the changes, hampering the reproducibility.",
     "reportId": "h2",
     "reportType": "hiddenstate",
     "suggestion": "Please consider re-executing it to guarantee the reproducibility.",
     "text": "Cell 9 has changed since its execution, but it wasn't executed after the changes"
    },
    {
     "cellId": 10,
     "hash": "7e48c62583c94b54455d1afc46c085167273c9df",
     "reason": "A cell with code changes may produce different results than what it generated before the changes, hampering the reproducibility.",
     "reportId": "h2",
     "reportType": "hiddenstate",
     "suggestion": "Please consider re-executing it to guarantee the reproducibility.",
     "text": "Cell 10 has changed since its execution, but it wasn't executed after the changes"
    },
    {
     "cellId": 10,
     "hash": "e8b1b2af7cda4df26987866524392da45c05779f",
     "reason": "A cell with a repeated execution count indicates that there are results of multiple execution sessions in this notebook. Running all cells in the top-down order might produce different results, hampering the reproducibility.",
     "reportId": "h3",
     "reportType": "hiddenstate",
     "suggestion": "Please consider re-running the cell to guarantee the reproducibility.",
     "text": "Cell 10 repeats the execution count 13"
    },
    {
     "cellId": 12,
     "hash": "5ab088d18798287230b5b06994ffdab1f159b5c2",
     "reason": "A cell with results of a previous session may fail to execute or produce different results in this one, hampering the reproducibility.",
     "reportId": "h1",
     "reportType": "hiddenstate",
     "suggestion": "Please consider executing it to guarantee the reproducibility.",
     "text": "Cell 12 has execution results, but it wasn't executed on this session"
    },
    {
     "cellId": 13,
     "hash": "5dfd2b52652cc33e4898c93f681a4a5d9002c4ee",
     "reason": "A cell with results of a previous session may fail to execute or produce different results in this one, hampering the reproducibility.",
     "reportId": "h1",
     "reportType": "hiddenstate",
     "suggestion": "Please consider executing it to guarantee the reproducibility.",
     "text": "Cell 13 has execution results, but it wasn't executed on this session"
    },
    {
     "cellId": 1,
     "hash": "e061f09ebe2a1f4c9d80f7f7da5b5a5d28a06912",
     "reason": "A skip in the execution count might indicate the presence of a hidden state caused by a cell that does not exist anymore. Hidden states might prevent cells from executing or producing the same results, hampering the reproducibility.",
     "reportId": "h4",
     "reportType": "hiddenstate",
     "suggestion": "Please consider re-running the notebook to guarantee the reproducibility.",
     "text": "Cell 1 skips the execution count"
    },
    {
     "cellId": 5,
     "hash": "0e4cb203c1816fa1d441e0fb662449e21ea36d93",
     "reason": "A skip in the execution count might indicate the presence of a hidden state caused by a cell that does not exist anymore. Hidden states might prevent cells from executing or producing the same results, hampering the reproducibility.",
     "reportId": "h4",
     "reportType": "hiddenstate",
     "suggestion": "Please consider re-running the notebook to guarantee the reproducibility.",
     "text": "Cell 5 skips the execution count"
    },
    {
     "cellId": 9,
     "hash": "83f5de0d7dedb55270e5d003904f68d1ec2107dc",
     "reason": "A skip in the execution count might indicate the presence of a hidden state caused by a cell that does not exist anymore. Hidden states might prevent cells from executing or producing the same results, hampering the reproducibility.",
     "reportId": "h4",
     "reportType": "hiddenstate",
     "suggestion": "Please consider re-running the notebook to guarantee the reproducibility.",
     "text": "Cell 9 skips the execution count"
    },
    {
     "cellId": 9,
     "hash": "82029431fa02cb660d967a51425d656ab9fe03ee",
     "reason": "The cell that created the name was removed or edited, indicating a hidden state. Using a variable from a cell that does not exist anymore prevents the reproducibility of the notebook.",
     "reportId": "h5",
     "reportType": "hiddenstate",
     "suggestion": "Please consider restoring the cell and re-running the notebook to guarantee the reproducibility.",
     "text": "Cell 9 uses name 'digits' that was defined on In[11], but it does not exist anymore"
    },
    {
     "cellId": 10,
     "hash": "512a36adfe7f48a4dd72fb6d95de5e5a4ebcaa8e",
     "reason": "The cell uses a name that does not exist in this notebook. Using a name that does not exist prevents the reproducibility of the notebook.",
     "reportId": "h6",
     "reportType": "hiddenstate",
     "suggestion": "Please consider defining them to guarantee the reproducibility.",
     "text": "Cell 10 has the following undefined names: 'inf'"
    },
    {
     "cellId": 2,
     "hash": "215e87ac76ada3baa69b4058fa907720392a173c",
     "reason": "A skip in the execution count might indicate the presence of a hidden state caused by a cell that does not exist anymore. Hidden states might prevent cells from executing or producing the same results, hampering the reproducibility.",
     "reportId": "h4",
     "reportType": "hiddenstate",
     "suggestion": "Please consider re-running the notebook to guarantee the reproducibility.",
     "text": "Cell 2 skips the execution count"
    },
    {
     "cellId": 12,
     "hash": "ad74b8e887d635870c07bdfc40a30d24abbca83f",
     "reason": "A skip in the execution count might indicate the presence of a hidden state caused by a cell that does not exist anymore. Hidden states might prevent cells from executing or producing the same results, hampering the reproducibility.",
     "reportId": "h4",
     "reportType": "hiddenstate",
     "suggestion": "Please consider re-running the notebook to guarantee the reproducibility.",
     "text": "Cell 12 skips the execution count"
    },
    {
     "cellId": "group",
     "hash": "19d3d3d153f22e318cbe061df9e685ba5165b0aa",
     "reason": "This groups other lint messages",
     "reportId": "group",
     "reportType": "confusenotebook",
     "suggestion": null,
     "text": "Confuse Notebook"
    },
    {
     "cellId": 5,
     "hash": "ca2df988136ad370524bf0d2b8c61839b25a1e23",
     "reason": "When you try to run all cells following the top-down order, cells in the wrong order might fail to execute or produce different results, hampering the reproducibility.",
     "reportId": "c2",
     "reportType": "confusenotebook",
     "suggestion": "Please consider re-running the notebook to guarantee the reproducibility.",
     "text": "Cell 5 has the execution count 8 in the wrong order"
    },
    {
     "cellId": 9,
     "hash": "5acf821d04dac53cea2927e8ef7c72cfe37e7bcb",
     "reason": "When you try to run all cells following the top-down order, cells in the wrong order might fail to execute or produce different results, hampering the reproducibility.",
     "reportId": "c2",
     "reportType": "confusenotebook",
     "suggestion": "Please consider re-running the notebook to guarantee the reproducibility.",
     "text": "Cell 9 has the execution count 12 in the wrong order"
    },
    {
     "cellId": 13,
     "hash": "8020645723e653c0760e2317bfdc67763628b661",
     "reason": "A markdown cell at the end of the notebook can conclude it, presenting a summary of the obtained results.",
     "reportId": "c5",
     "reportType": "confusenotebook",
     "suggestion": "Please consider adding a markdown cell to conclude the notebook.",
     "text": "The last cell of the notebook is not a markdown cell"
    }
   ]
  },
  "kernelspec": {
   "display_name": "Python 3",
   "language": "python",
   "name": "python3"
  },
  "language_info": {
   "codemirror_mode": {
    "name": "ipython",
    "version": 3
   },
   "file_extension": ".py",
   "mimetype": "text/x-python",
   "name": "python",
   "nbconvert_exporter": "python",
   "pygments_lexer": "ipython3",
   "version": "3.6.3"
  }
 },
 "nbformat": 4,
 "nbformat_minor": 4
}
