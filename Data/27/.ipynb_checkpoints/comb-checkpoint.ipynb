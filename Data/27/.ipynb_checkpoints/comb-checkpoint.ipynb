{
 "cells": [
  {
   "cell_type": "markdown",
   "metadata": {},
   "source": [
    "### Task_def_27891\n"
   ]
  },
  {
   "cell_type": "code",
   "execution_count": 6,
   "metadata": {},
   "outputs": [
    {
     "name": "stdout",
     "output_type": "stream",
     "text": [
      "994000\n"
     ]
    }
   ],
   "source": [
    "f = open(\"data/sequence/EGE27891/27-B_2.txt\")\n",
    "\n",
    "n = int(f.readline())\n",
    "\n",
    "numbers = [int(f.readline()) for i in range(n)]\n",
    "\n",
    "max_2, max_7, max_14, max_num = 0, 0, 0, 0\n",
    "\n",
    "for elem in numbers:\n",
    "    if elem % 14 == 0:\n",
    "        max_14 = max(elem, max_14)\n",
    "    elif elem % 7 == 0:\n",
    "        max_7 = max(max_7, elem)\n",
    "    elif elem % 2 == 0:\n",
    "        max_2 = max(max_2, elem)\n",
    "    else:\n",
    "        max_num = max(max_num, elem)\n",
    "\n",
    "print(max(max_14 * max(max_2, max_7, max_num), max_2 * max_7))"
   ]
  },
  {
   "cell_type": "markdown",
   "metadata": {},
   "source": [
    "### Task_def_2675"
   ]
  },
  {
   "cell_type": "code",
   "execution_count": 8,
   "metadata": {},
   "outputs": [
    {
     "name": "stdout",
     "output_type": "stream",
     "text": [
      "128567918\n"
     ]
    }
   ],
   "source": [
    "f = open(\"data/sequence/K2675/27-15b.txt\")\n",
    "\n",
    "dist = 5\n",
    "div = 14\n",
    "\n",
    "n = int(f.readline())\n",
    "sub = [int(f.readline()) for i in range(dist)]\n",
    "mass_ost = [0] * div\n",
    "    \n",
    "ans = 0\n",
    "for i in range(5, n):\n",
    "    x = int(f.readline())\n",
    "    mass_ost[sub[0] % div] += 1\n",
    "    ans += mass_ost[(div - x % div) % div]\n",
    "    sub.pop(0)\n",
    "    sub.append(x)\n",
    "    \n",
    "print(ans)\n",
    "    \n",
    "    "
   ]
  },
  {
   "cell_type": "markdown",
   "metadata": {},
   "source": [
    "### Task_def_2674"
   ]
  },
  {
   "cell_type": "code",
   "execution_count": 13,
   "metadata": {},
   "outputs": [
    {
     "name": "stdout",
     "output_type": "stream",
     "text": [
      "150016535\n"
     ]
    }
   ],
   "source": [
    "f = open(\"data/sequence/K2674/27-14b.txt\")\n",
    "\n",
    "div = 12\n",
    "\n",
    "n = int(f.readline())\n",
    "mass_ost = [0] * div\n",
    "    \n",
    "ans = 0\n",
    "for i in range(n):\n",
    "    x = int(f.readline())\n",
    "    ans += mass_ost[(div - x % div) % div]\n",
    "    mass_ost[x % div] += 1\n",
    "    \n",
    "print(ans)\n",
    "    \n",
    "    "
   ]
  },
  {
   "cell_type": "markdown",
   "metadata": {},
   "source": [
    "### Task_def_2672"
   ]
  },
  {
   "cell_type": "code",
   "execution_count": 44,
   "metadata": {},
   "outputs": [
    {
     "name": "stdout",
     "output_type": "stream",
     "text": [
      "745460178\n"
     ]
    }
   ],
   "source": [
    "f = open(\"data/sequence/K2672/27-12b.txt\")\n",
    "\n",
    "div = 6\n",
    "\n",
    "def get_delimeters():\n",
    "    return [[i, j] for i in range(0, div) for j in range(i + 1, div) if i * j % div == 0]\n",
    "    \n",
    "n = int(f.readline())\n",
    "mass_ost = [0] * div\n",
    "    \n",
    "for i in range(n):\n",
    "    x = int(f.readline())\n",
    "    mass_ost[x % div] += 1\n",
    "\n",
    "\n",
    "delims = get_delimeters()\n",
    "ans = mass_ost[0] * (mass_ost[0] - 1) // 2\n",
    "for elem in delims:\n",
    "    ans += mass_ost[elem[0]] * mass_ost[elem[1]]\n",
    "\n",
    "print(ans)\n",
    "    \n",
    "    "
   ]
  },
  {
   "cell_type": "markdown",
   "metadata": {},
   "source": [
    "### Task_def_2673"
   ]
  },
  {
   "cell_type": "code",
   "execution_count": null,
   "metadata": {},
   "outputs": [],
   "source": [
    "f = open(\"data/sequence/K2673/27-13a.txt\")\n",
    "\n",
    "div = 14\n",
    "dist = 7\n",
    "\n",
    "def get_delimeters():\n",
    "    return [[i, j] for i in range(div) for j in range(i + 1, div) if i * j % div == 0]\n",
    "    \n",
    "n = int(f.readline())\n",
    "sub = [int(f.readline()) for i in range(dist)]\n",
    "mass_ost = [0] * div\n",
    "\n",
    "for i in range(dist, n):\n",
    "    x = int(f.readline())\n",
    "    mass_ost[sub[0] % div] += 1\n",
    "    sub.pop(0)\n",
    "    sub.append(x)\n",
    "\n",
    "delims = get_delimeters()\n",
    "ans = mass_ost[0] * (mass_ost[0] - 1) // 2\n",
    "for elem in delims:\n",
    "    ans += mass_ost[elem[0]] * mass_ost[elem[1]]\n",
    "\n",
    "print(ans)\n",
    "    \n",
    "    "
   ]
  },
  {
   "cell_type": "code",
   "execution_count": null,
   "metadata": {},
   "outputs": [],
   "source": [
    "delims"
   ]
  },
  {
   "cell_type": "code",
   "execution_count": null,
   "metadata": {},
   "outputs": [],
   "source": []
  }
 ],
 "metadata": {
  "julynter-results": {
   "filteredId": [],
   "filteredIndividual": [],
   "filteredRestart": [],
   "filteredType": [],
   "hash": "ed4366c86027bc35ab255dc2c35aa57ed3491f6c",
   "visible": [
    {
     "cellId": "group",
     "hash": "c0de46ba034d710c2b2406a37ee6816be9634aa0",
     "reason": "This groups other lint messages",
     "reportId": "group",
     "reportType": "hiddenstate",
     "suggestion": null,
     "text": "Hidden State"
    },
    {
     "cellId": 1,
     "hash": "e061f09ebe2a1f4c9d80f7f7da5b5a5d28a06912",
     "reason": "A skip in the execution count might indicate the presence of a hidden state caused by a cell that does not exist anymore. Hidden states might prevent cells from executing or producing the same results, hampering the reproducibility.",
     "reportId": "h4",
     "reportType": "hiddenstate",
     "suggestion": "Please consider re-running the notebook to guarantee the reproducibility.",
     "text": "Cell 1 skips the execution count"
    },
    {
     "cellId": 3,
     "hash": "0e4cb203c1816fa1d441e0fb662449e21ea36d93",
     "reason": "A skip in the execution count might indicate the presence of a hidden state caused by a cell that does not exist anymore. Hidden states might prevent cells from executing or producing the same results, hampering the reproducibility.",
     "reportId": "h4",
     "reportType": "hiddenstate",
     "suggestion": "Please consider re-running the notebook to guarantee the reproducibility.",
     "text": "Cell 3 skips the execution count"
    },
    {
     "cellId": 5,
     "hash": "2027bb30fdb172749b1b0e2270665bfc1c3a564f",
     "reason": "A skip in the execution count might indicate the presence of a hidden state caused by a cell that does not exist anymore. Hidden states might prevent cells from executing or producing the same results, hampering the reproducibility.",
     "reportId": "h4",
     "reportType": "hiddenstate",
     "suggestion": "Please consider re-running the notebook to guarantee the reproducibility.",
     "text": "Cell 5 skips the execution count"
    },
    {
     "cellId": 7,
     "hash": "ef8b1844b2c8f756aedf3c482ef20019e05446d0",
     "reason": "A skip in the execution count might indicate the presence of a hidden state caused by a cell that does not exist anymore. Hidden states might prevent cells from executing or producing the same results, hampering the reproducibility.",
     "reportId": "h4",
     "reportType": "hiddenstate",
     "suggestion": "Please consider re-running the notebook to guarantee the reproducibility.",
     "text": "Cell 7 skips the execution count"
    },
    {
     "cellId": "group",
     "hash": "19d3d3d153f22e318cbe061df9e685ba5165b0aa",
     "reason": "This groups other lint messages",
     "reportId": "group",
     "reportType": "confusenotebook",
     "suggestion": null,
     "text": "Confuse Notebook"
    },
    {
     "cellId": 10,
     "hash": "af1a5058da633ffe790c23669682899885656c7e",
     "reason": "A markdown cell at the end of the notebook can conclude it, presenting a summary of the obtained results.",
     "reportId": "c5",
     "reportType": "confusenotebook",
     "suggestion": "Please consider adding a markdown cell to conclude the notebook.",
     "text": "The last cell of the notebook is not a markdown cell"
    }
   ]
  },
  "kernelspec": {
   "display_name": "Python 3",
   "language": "python",
   "name": "python3"
  },
  "language_info": {
   "codemirror_mode": {
    "name": "ipython",
    "version": 3
   },
   "file_extension": ".py",
   "mimetype": "text/x-python",
   "name": "python",
   "nbconvert_exporter": "python",
   "pygments_lexer": "ipython3",
   "version": "3.6.3"
  }
 },
 "nbformat": 4,
 "nbformat_minor": 4
}
