{
 "cells": [
  {
   "cell_type": "markdown",
   "metadata": {},
   "source": [
    "### Task 40-def\n",
    "![](https://github.com/vaskers5/Ege_Solve_Base/blob/main/Data/27/data/pairs_triples/40/40.png?raw=true)"
   ]
  },
  {
   "cell_type": "code",
   "execution_count": 17,
   "metadata": {},
   "outputs": [
    {
     "name": "stdout",
     "output_type": "stream",
     "text": [
      "[332, 337, 621]\n"
     ]
    }
   ],
   "source": [
    "from itertools import permutations\n",
    "\n",
    "f = open(\"data/pairs_triples/40/27-40a.txt\")\n",
    "\n",
    "def  get_groups():\n",
    "    return list(permutations(list(map(int, f.readline().split()))))\n",
    "\n",
    "\n",
    "n = int(f.readline())\n",
    "s = get_groups()\n",
    "div = 3\n",
    "inf = float(\"-inf\")\n",
    "for _ in range(n - 1):\n",
    "    groups = get_groups()\n",
    "    temp = [sorted([i[0] + j[0], i[1] + j[1], i[2] + j[2]]) # reverse = True, если ищем минимум\n",
    "            for i in s for j in groups]\n",
    "    \n",
    "    fake_s = [[inf,inf,inf]] * div\n",
    "    for x in temp:\n",
    "        \"\"\"\"\n",
    "        если остатки от деления дают 0, то мы их записываем  в первую группу,\n",
    "        если дают единицу, то во вторую,\n",
    "        как максимум по 3 элементу*смотреть на lambda*, если в общем случае дают 2,\n",
    "        то записываем их как максимум по последнему элементу, а сумма первых двух значений два\n",
    "        \"\"\"\n",
    "        fake_s[x[0] % 2 + x[1] % 2] = max(x, fake_s[x[0] % 2 + x[1] % 2],\n",
    "                                         key = lambda x: x[2])\n",
    "    s = [x for x in fake_s if x != [inf, inf, inf]]\n",
    "\n",
    "print(s[1])\n",
    "    "
   ]
  },
  {
   "cell_type": "markdown",
   "metadata": {},
   "source": [
    "### Task 41-def\n",
    "![](https://github.com/vaskers5/Ege_Solve_Base/blob/main/Data/27/data/pairs_triples/41/41.png?raw=true)"
   ]
  },
  {
   "cell_type": "code",
   "execution_count": 26,
   "metadata": {},
   "outputs": [
    {
     "name": "stdout",
     "output_type": "stream",
     "text": [
      "[562, 479, 250]\n"
     ]
    }
   ],
   "source": [
    "from itertools import permutations\n",
    "\n",
    "f = open(\"data/pairs_triples/41/27-41a.txt\")\n",
    "\n",
    "def  get_groups():\n",
    "    return list(permutations(list(map(int, f.readline().split()))))\n",
    "\n",
    "\n",
    "n = int(f.readline())\n",
    "s = get_groups()\n",
    "div = 3\n",
    "inf = float(\"inf\")\n",
    "for _ in range(n - 1):\n",
    "    groups = get_groups()\n",
    "    temp = [sorted([i[0] + j[0], i[1] + j[1], i[2] + j[2]], reverse = True) # reverse = True, если ищем минимум\n",
    "            for i in s for j in groups]\n",
    "    \n",
    "    fake_s = [[inf,inf,inf]] * div\n",
    "    for x in temp:\n",
    "        fake_s[x[0] % 2 + x[1] % 2] = min(x, fake_s[x[0] % 2 + x[1] % 2],\n",
    "                                         key = lambda x: x[2])\n",
    "    s = [x for x in fake_s if x != [inf, inf, inf]]\n",
    "\n",
    "    \n",
    "print(s[1])"
   ]
  },
  {
   "cell_type": "markdown",
   "metadata": {},
   "source": [
    "### Task 42-def\n",
    "![](https://github.com/vaskers5/Ege_Solve_Base/blob/main/Data/27/data/pairs_triples/42/42.png?raw=true)"
   ]
  },
  {
   "cell_type": "code",
   "execution_count": 23,
   "metadata": {},
   "outputs": [
    {
     "name": "stdout",
     "output_type": "stream",
     "text": [
      "[1386, 1418, 3054]\n"
     ]
    }
   ],
   "source": [
    "from itertools import permutations\n",
    "\n",
    "f = open(\"data/pairs_triples/42/27-42a.txt\")\n",
    "\n",
    "def  get_groups():\n",
    "    return list(permutations(list(map(int, f.readline().split()))))\n",
    "\n",
    "\n",
    "n = int(f.readline())\n",
    "s = get_groups()\n",
    "div = 3\n",
    "inf = float(\"-inf\")\n",
    "for _ in range(n - 1):\n",
    "    groups = get_groups()\n",
    "    temp = [sorted([i[0] + j[0], i[1] + j[1], i[2] + j[2]], reverse = False) # reverse = True, если ищем минимум\n",
    "            for i in s for j in groups]\n",
    "    \n",
    "    fake_s = [[inf,inf,inf]] * div\n",
    "    for x in temp:\n",
    "        fake_s[x[0] % 2 + x[1] % 2] = max(x, fake_s[x[0] % 2 + x[1] % 2],\n",
    "                                         key = lambda x: x[2])\n",
    "    s = [x for x in fake_s if x != [inf, inf, inf]]\n",
    "\n",
    "    \n",
    "print(s[0])"
   ]
  },
  {
   "cell_type": "markdown",
   "metadata": {},
   "source": [
    "### Task 43-def\n",
    "![](https://github.com/vaskers5/Ege_Solve_Base/blob/main/Data/27/data/pairs_triples/43/43.png?raw=true)"
   ]
  },
  {
   "cell_type": "code",
   "execution_count": 25,
   "metadata": {},
   "outputs": [
    {
     "name": "stdout",
     "output_type": "stream",
     "text": [
      "[2602, 2238, 1018]\n"
     ]
    }
   ],
   "source": [
    "from itertools import permutations\n",
    "\n",
    "f = open(\"data/pairs_triples/42/27-42a.txt\")\n",
    "\n",
    "def  get_groups():\n",
    "    return list(permutations(list(map(int, f.readline().split()))))\n",
    "\n",
    "\n",
    "n = int(f.readline())\n",
    "s = get_groups()\n",
    "div = 3\n",
    "inf = float(\"inf\")\n",
    "for _ in range(n - 1):\n",
    "    groups = get_groups()\n",
    "    temp = [sorted([i[0] + j[0], i[1] + j[1], i[2] + j[2]], reverse = True) # reverse = True, если ищем минимум\n",
    "            for i in s for j in groups]\n",
    "    \n",
    "    fake_s = [[inf,inf,inf]] * div\n",
    "    for x in temp:\n",
    "        fake_s[x[0] % 2 + x[1] % 2] = min(x, fake_s[x[0] % 2 + x[1] % 2],\n",
    "                                         key = lambda x: x[2])\n",
    "    s = [x for x in fake_s if x != [inf, inf, inf]]\n",
    "\n",
    "    \n",
    "print(s[0])"
   ]
  },
  {
   "cell_type": "markdown",
   "metadata": {},
   "source": [
    "### Task 46-def\n",
    "![](https://github.com/vaskers5/Ege_Solve_Base/blob/main/Data/27/data/pairs_triples/46/46.png?raw=true)"
   ]
  },
  {
   "cell_type": "code",
   "execution_count": null,
   "metadata": {},
   "outputs": [],
   "source": []
  },
  {
   "cell_type": "markdown",
   "metadata": {},
   "source": [
    "### Task 4-def\n",
    "![]()"
   ]
  },
  {
   "cell_type": "code",
   "execution_count": 36,
   "metadata": {},
   "outputs": [
    {
     "name": "stdout",
     "output_type": "stream",
     "text": [
      "[402332230, 402332231, 402332232, 402332233, 402332229]\n"
     ]
    }
   ],
   "source": [
    "f = open(\"data/pairs_triples/4/27-4b.txt\")\n",
    "\n",
    "def get_pair():\n",
    "    return list(map(int, f.readline().split()))\n",
    "\n",
    "\n",
    "n = int(f.readline())\n",
    "inf = -float(\"inf\")\n",
    "s = get_pair()\n",
    "div = 5\n",
    "\n",
    "for _ in range(n - 1):\n",
    "    pair = get_pair()\n",
    "    temp = [i + j for i in s for j in pair]\n",
    "    fake_s = [inf] * div\n",
    "    \n",
    "    for elem in temp:\n",
    "        fake_s[elem % 5] = max(elem, fake_s[elem % 5])\n",
    "    \n",
    "    \n",
    "    s = [x for x in fake_s if x != inf]\n",
    "    \n",
    "#     print(\"pair-\", pair, \"\\n\", \"temp-\",temp, \"\\n\", \"fake_s -\", fake_s, \"\\n\", \"s -\", s)\n",
    "#     print()\n",
    "print(s)"
   ]
  },
  {
   "cell_type": "code",
   "execution_count": null,
   "metadata": {},
   "outputs": [],
   "source": []
  }
 ],
 "metadata": {
  "julynter-results": {
   "filteredId": [],
   "filteredIndividual": [],
   "filteredRestart": [],
   "filteredType": [],
   "hash": "9e93f7bc77c1b9dd4882e430523a4f7d451958d5",
   "visible": [
    {
     "cellId": "group",
     "hash": "c0de46ba034d710c2b2406a37ee6816be9634aa0",
     "reason": "This groups other lint messages",
     "reportId": "group",
     "reportType": "hiddenstate",
     "suggestion": null,
     "text": "Hidden State"
    },
    {
     "cellId": 1,
     "hash": "ff0aaf7cd01a01e9fb0913255e82776bbc31c470",
     "reason": "A cell with code changes may produce different results than what it generated before the changes, hampering the reproducibility.",
     "reportId": "h2",
     "reportType": "hiddenstate",
     "suggestion": "Please consider re-executing it to guarantee the reproducibility.",
     "text": "Cell 1 has changed since its execution, but it wasn't executed after the changes"
    },
    {
     "cellId": 3,
     "hash": "776f49463cc845ba741b6ca68344ea162812877d",
     "reason": "A cell with code changes may produce different results than what it generated before the changes, hampering the reproducibility.",
     "reportId": "h2",
     "reportType": "hiddenstate",
     "suggestion": "Please consider re-executing it to guarantee the reproducibility.",
     "text": "Cell 3 has changed since its execution, but it wasn't executed after the changes"
    },
    {
     "cellId": 5,
     "hash": "98d1fa9f23f39745e3a476937d864f937d224844",
     "reason": "A cell with code changes may produce different results than what it generated before the changes, hampering the reproducibility.",
     "reportId": "h2",
     "reportType": "hiddenstate",
     "suggestion": "Please consider re-executing it to guarantee the reproducibility.",
     "text": "Cell 5 has changed since its execution, but it wasn't executed after the changes"
    },
    {
     "cellId": 7,
     "hash": "92a4cc070d3bab93219e5411d852a4313e0e8de3",
     "reason": "A cell with code changes may produce different results than what it generated before the changes, hampering the reproducibility.",
     "reportId": "h2",
     "reportType": "hiddenstate",
     "suggestion": "Please consider re-executing it to guarantee the reproducibility.",
     "text": "Cell 7 has changed since its execution, but it wasn't executed after the changes"
    },
    {
     "cellId": 1,
     "hash": "989a14974d5e105c899ab5756b98ad095fe4e57c",
     "reason": "A skip in the execution count might indicate the presence of a hidden state caused by a cell that does not exist anymore. Hidden states might prevent cells from executing or producing the same results, hampering the reproducibility.",
     "reportId": "h4",
     "reportType": "hiddenstate",
     "suggestion": "Please consider re-running the notebook to guarantee the reproducibility.",
     "text": "Cell 1 skips the execution count"
    },
    {
     "cellId": 1,
     "hash": "7ac808dbd0c3831e68e46c0f6b828224211eeb6c",
     "reason": "The cell that created the name was removed or edited, indicating a hidden state. Using a variable from a cell that does not exist anymore prevents the reproducibility of the notebook.",
     "reportId": "h5",
     "reportType": "hiddenstate",
     "suggestion": "Please consider restoring the cell and re-running the notebook to guarantee the reproducibility.",
     "text": "Cell 1 uses name 'square' that was defined on In[16], but it does not exist anymore"
    },
    {
     "cellId": 5,
     "hash": "b581d6fd8cb8ee4ce75242256cb25b215e4bb529",
     "reason": "A skip in the execution count might indicate the presence of a hidden state caused by a cell that does not exist anymore. Hidden states might prevent cells from executing or producing the same results, hampering the reproducibility.",
     "reportId": "h4",
     "reportType": "hiddenstate",
     "suggestion": "Please consider re-running the notebook to guarantee the reproducibility.",
     "text": "Cell 5 skips the execution count"
    },
    {
     "cellId": 7,
     "hash": "98dd8dd15738161a07f7ebee96ec822c6389794e",
     "reason": "A skip in the execution count might indicate the presence of a hidden state caused by a cell that does not exist anymore. Hidden states might prevent cells from executing or producing the same results, hampering the reproducibility.",
     "reportId": "h4",
     "reportType": "hiddenstate",
     "suggestion": "Please consider re-running the notebook to guarantee the reproducibility.",
     "text": "Cell 7 skips the execution count"
    },
    {
     "cellId": 11,
     "hash": "b62fe450b05846637015b7d370243a063a467b98",
     "reason": "A skip in the execution count might indicate the presence of a hidden state caused by a cell that does not exist anymore. Hidden states might prevent cells from executing or producing the same results, hampering the reproducibility.",
     "reportId": "h4",
     "reportType": "hiddenstate",
     "suggestion": "Please consider re-running the notebook to guarantee the reproducibility.",
     "text": "Cell 11 skips the execution count"
    },
    {
     "cellId": "group",
     "hash": "19d3d3d153f22e318cbe061df9e685ba5165b0aa",
     "reason": "This groups other lint messages",
     "reportId": "group",
     "reportType": "confusenotebook",
     "suggestion": null,
     "text": "Confuse Notebook"
    },
    {
     "cellId": 5,
     "hash": "26a0152c9723952889c5b04ab9ec450479d16c4c",
     "reason": "When you try to run all cells following the top-down order, cells in the wrong order might fail to execute or produce different results, hampering the reproducibility.",
     "reportId": "c2",
     "reportType": "confusenotebook",
     "suggestion": "Please consider re-running the notebook to guarantee the reproducibility.",
     "text": "Cell 5 has the execution count 23 in the wrong order"
    },
    {
     "cellId": 9,
     "hash": "3dfea8fee9bb779b7876f91ad6a980671668ef16",
     "reason": "Empty cells in between executable ones occupy space and might impact the readability of the notebook.",
     "reportId": "c3",
     "reportType": "confusenotebook",
     "suggestion": "Please consider removing it to improve the readability.",
     "text": "Cell 9 is empty in the middle of the notebook"
    },
    {
     "cellId": 11,
     "hash": "5c76de185475415a652a1c3d21a560745901dd5b",
     "reason": "A markdown cell at the end of the notebook can conclude it, presenting a summary of the obtained results.",
     "reportId": "c5",
     "reportType": "confusenotebook",
     "suggestion": "Please consider adding a markdown cell to conclude the notebook.",
     "text": "The last cell of the notebook is not a markdown cell"
    }
   ]
  },
  "kernelspec": {
   "display_name": "Python 3",
   "language": "python",
   "name": "python3"
  },
  "language_info": {
   "codemirror_mode": {
    "name": "ipython",
    "version": 3
   },
   "file_extension": ".py",
   "mimetype": "text/x-python",
   "name": "python",
   "nbconvert_exporter": "python",
   "pygments_lexer": "ipython3",
   "version": "3.6.3"
  }
 },
 "nbformat": 4,
 "nbformat_minor": 4
}
