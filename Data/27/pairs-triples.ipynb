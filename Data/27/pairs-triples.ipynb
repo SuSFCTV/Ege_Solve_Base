{
 "cells": [
  {
   "cell_type": "markdown",
   "metadata": {},
   "source": [
    "### Task 40-def\n",
    "![](https://github.com/vaskers5/Ege_Solve_Base/blob/main/Data/27/data/pairs_triples/40/40.png?raw=true)"
   ]
  },
  {
   "cell_type": "code",
   "execution_count": 17,
   "metadata": {},
   "outputs": [
    {
     "name": "stdout",
     "output_type": "stream",
     "text": [
      "[332, 337, 621]\n"
     ]
    }
   ],
   "source": [
    "from itertools import permutations\n",
    "\n",
    "f = open(\"data/pairs_triples/40/27-40a.txt\")\n",
    "\n",
    "def  get_groups():\n",
    "    return list(permutations(list(map(int, f.readline().split()))))\n",
    "\n",
    "\n",
    "n = int(f.readline())\n",
    "s = get_groups()\n",
    "div = 3\n",
    "inf = float(\"-inf\")\n",
    "for _ in range(n - 1):\n",
    "    groups = get_groups()\n",
    "    temp = [sorted([i[0] + j[0], i[1] + j[1], i[2] + j[2]]) # reverse = True, если ищем минимум\n",
    "            for i in s for j in groups]\n",
    "    \n",
    "    fake_s = [[inf,inf,inf]] * div\n",
    "    for x in temp:\n",
    "        \"\"\"\"\n",
    "        если остатки от деления дают 0, то мы их записываем  в первую группу,\n",
    "        если дают единицу, то во вторую,\n",
    "        как максимум по 3 элементу*смотреть на lambda*, если в общем случае дают 2,\n",
    "        то записываем их как максимум по последнему элементу, а сумма первых двух значений два\n",
    "        \"\"\"\n",
    "        fake_s[x[0] % 2 + x[1] % 2] = max(x, fake_s[x[0] % 2 + x[1] % 2],\n",
    "                                         key = lambda x: x[2])\n",
    "    s = [x for x in fake_s if x != [inf, inf, inf]]\n",
    "\n",
    "print(s[1])\n",
    "    "
   ]
  },
  {
   "cell_type": "markdown",
   "metadata": {},
   "source": [
    "### Task 41-def\n",
    "![](https://github.com/vaskers5/Ege_Solve_Base/blob/main/Data/27/data/pairs_triples/41/41.png?raw=true)"
   ]
  },
  {
   "cell_type": "code",
   "execution_count": 26,
   "metadata": {},
   "outputs": [
    {
     "name": "stdout",
     "output_type": "stream",
     "text": [
      "[562, 479, 250]\n"
     ]
    }
   ],
   "source": [
    "from itertools import permutations\n",
    "\n",
    "f = open(\"data/pairs_triples/41/27-41a.txt\")\n",
    "\n",
    "def  get_groups():\n",
    "    return list(permutations(list(map(int, f.readline().split()))))\n",
    "\n",
    "\n",
    "n = int(f.readline())\n",
    "s = get_groups()\n",
    "div = 3\n",
    "inf = float(\"inf\")\n",
    "for _ in range(n - 1):\n",
    "    groups = get_groups()\n",
    "    temp = [sorted([i[0] + j[0], i[1] + j[1], i[2] + j[2]], reverse = True) # reverse = True, если ищем минимум\n",
    "            for i in s for j in groups]\n",
    "    \n",
    "    fake_s = [[inf,inf,inf]] * div\n",
    "    for x in temp:\n",
    "        fake_s[x[0] % 2 + x[1] % 2] = min(x, fake_s[x[0] % 2 + x[1] % 2],\n",
    "                                         key = lambda x: x[2])\n",
    "    s = [x for x in fake_s if x != [inf, inf, inf]]\n",
    "\n",
    "    \n",
    "print(s[1])"
   ]
  },
  {
   "cell_type": "markdown",
   "metadata": {},
   "source": [
    "### Task 42-def\n",
    "![](https://github.com/vaskers5/Ege_Solve_Base/blob/main/Data/27/data/pairs_triples/42/42.png?raw=true)"
   ]
  },
  {
   "cell_type": "code",
   "execution_count": 23,
   "metadata": {},
   "outputs": [
    {
     "name": "stdout",
     "output_type": "stream",
     "text": [
      "[1386, 1418, 3054]\n"
     ]
    }
   ],
   "source": [
    "from itertools import permutations\n",
    "\n",
    "f = open(\"data/pairs_triples/42/27-42a.txt\")\n",
    "\n",
    "def  get_groups():\n",
    "    return list(permutations(list(map(int, f.readline().split()))))\n",
    "\n",
    "\n",
    "n = int(f.readline())\n",
    "s = get_groups()\n",
    "div = 3\n",
    "inf = float(\"-inf\")\n",
    "for _ in range(n - 1):\n",
    "    groups = get_groups()\n",
    "    temp = [sorted([i[0] + j[0], i[1] + j[1], i[2] + j[2]], reverse = False) # reverse = True, если ищем минимум\n",
    "            for i in s for j in groups]\n",
    "    \n",
    "    fake_s = [[inf,inf,inf]] * div\n",
    "    for x in temp:\n",
    "        fake_s[x[0] % 2 + x[1] % 2] = max(x, fake_s[x[0] % 2 + x[1] % 2],\n",
    "                                         key = lambda x: x[2])\n",
    "    s = [x for x in fake_s if x != [inf, inf, inf]]\n",
    "\n",
    "    \n",
    "print(s[0])"
   ]
  },
  {
   "cell_type": "markdown",
   "metadata": {},
   "source": [
    "### Task 43-def\n",
    "![](https://github.com/vaskers5/Ege_Solve_Base/blob/main/Data/27/data/pairs_triples/43/43.png?raw=true)"
   ]
  },
  {
   "cell_type": "code",
   "execution_count": 25,
   "metadata": {},
   "outputs": [
    {
     "name": "stdout",
     "output_type": "stream",
     "text": [
      "[2602, 2238, 1018]\n"
     ]
    }
   ],
   "source": [
    "from itertools import permutations\n",
    "\n",
    "f = open(\"data/pairs_triples/42/27-42a.txt\")\n",
    "\n",
    "def  get_groups():\n",
    "    return list(permutations(list(map(int, f.readline().split()))))\n",
    "\n",
    "\n",
    "n = int(f.readline())\n",
    "s = get_groups()\n",
    "div = 3\n",
    "inf = float(\"inf\")\n",
    "for _ in range(n - 1):\n",
    "    groups = get_groups()\n",
    "    temp = [sorted([i[0] + j[0], i[1] + j[1], i[2] + j[2]], reverse = True) # reverse = True, если ищем минимум\n",
    "            for i in s for j in groups]\n",
    "    \n",
    "    fake_s = [[inf,inf,inf]] * div\n",
    "    for x in temp:\n",
    "        fake_s[x[0] % 2 + x[1] % 2] = min(x, fake_s[x[0] % 2 + x[1] % 2],\n",
    "                                         key = lambda x: x[2])\n",
    "    s = [x for x in fake_s if x != [inf, inf, inf]]\n",
    "\n",
    "    \n",
    "print(s[0])"
   ]
  },
  {
   "cell_type": "markdown",
   "metadata": {},
   "source": [
    "### Task 46-def\n",
    "![](https://github.com/vaskers5/Ege_Solve_Base/blob/main/Data/27/data/pairs_triples/46/46.png?raw=true)"
   ]
  },
  {
   "cell_type": "code",
   "execution_count": null,
   "metadata": {},
   "outputs": [],
   "source": []
  }
 ],
 "metadata": {
  "julynter-results": {
   "filteredId": [],
   "filteredIndividual": [],
   "filteredRestart": [],
   "filteredType": [],
   "hash": "d4fe2292e2b9a718dd00d358edc61b893e55e395",
   "visible": [
    {
     "cellId": "group",
     "hash": "c0de46ba034d710c2b2406a37ee6816be9634aa0",
     "reason": "This groups other lint messages",
     "reportId": "group",
     "reportType": "hiddenstate",
     "suggestion": null,
     "text": "Hidden State"
    },
    {
     "cellId": 1,
     "hash": "989a14974d5e105c899ab5756b98ad095fe4e57c",
     "reason": "A skip in the execution count might indicate the presence of a hidden state caused by a cell that does not exist anymore. Hidden states might prevent cells from executing or producing the same results, hampering the reproducibility.",
     "reportId": "h4",
     "reportType": "hiddenstate",
     "suggestion": "Please consider re-running the notebook to guarantee the reproducibility.",
     "text": "Cell 1 skips the execution count"
    },
    {
     "cellId": 5,
     "hash": "b581d6fd8cb8ee4ce75242256cb25b215e4bb529",
     "reason": "A skip in the execution count might indicate the presence of a hidden state caused by a cell that does not exist anymore. Hidden states might prevent cells from executing or producing the same results, hampering the reproducibility.",
     "reportId": "h4",
     "reportType": "hiddenstate",
     "suggestion": "Please consider re-running the notebook to guarantee the reproducibility.",
     "text": "Cell 5 skips the execution count"
    },
    {
     "cellId": 7,
     "hash": "98dd8dd15738161a07f7ebee96ec822c6389794e",
     "reason": "A skip in the execution count might indicate the presence of a hidden state caused by a cell that does not exist anymore. Hidden states might prevent cells from executing or producing the same results, hampering the reproducibility.",
     "reportId": "h4",
     "reportType": "hiddenstate",
     "suggestion": "Please consider re-running the notebook to guarantee the reproducibility.",
     "text": "Cell 7 skips the execution count"
    },
    {
     "cellId": "group",
     "hash": "19d3d3d153f22e318cbe061df9e685ba5165b0aa",
     "reason": "This groups other lint messages",
     "reportId": "group",
     "reportType": "confusenotebook",
     "suggestion": null,
     "text": "Confuse Notebook"
    },
    {
     "cellId": 5,
     "hash": "26a0152c9723952889c5b04ab9ec450479d16c4c",
     "reason": "When you try to run all cells following the top-down order, cells in the wrong order might fail to execute or produce different results, hampering the reproducibility.",
     "reportId": "c2",
     "reportType": "confusenotebook",
     "suggestion": "Please consider re-running the notebook to guarantee the reproducibility.",
     "text": "Cell 5 has the execution count 23 in the wrong order"
    },
    {
     "cellId": "group",
     "hash": "d6fbc9d2bdd580e18ed0bc5805dc26db323d6f5f",
     "reason": "This groups other lint messages",
     "reportId": "group",
     "reportType": "import",
     "suggestion": null,
     "text": "Import"
    },
    {
     "cellId": 5,
     "hash": "69a58d1e3803b4b091f639a3e50c3858a45e4481",
     "reason": "Imports at the beginning of the notebook allow for a quick failure in the case of a non-installed dependency. It prevents users from stopping their executions for installing dependencies. Additionally, imports in the middle might reduce notebooks' readability by taking the attention from the logic to the import constructs.",
     "reportId": "i1",
     "reportType": "import",
     "suggestion": "Please consider moving the import to the first cell of the notebook.",
     "text": "Cell 5 has imports but it is not the first cell"
    },
    {
     "cellId": 7,
     "hash": "86b51bde62b510eaf7b17701200614d3225f9f9d",
     "reason": "Imports at the beginning of the notebook allow for a quick failure in the case of a non-installed dependency. It prevents users from stopping their executions for installing dependencies. Additionally, imports in the middle might reduce notebooks' readability by taking the attention from the logic to the import constructs.",
     "reportId": "i1",
     "reportType": "import",
     "suggestion": "Please consider moving the import to the first cell of the notebook.",
     "text": "Cell 7 has imports but it is not the first cell"
    },
    {
     "cellId": 3,
     "hash": "4e6cc330d0491f4b4716a08fe7da6a09931557e1",
     "reason": "Imports at the beginning of the notebook allow for a quick failure in the case of a non-installed dependency. It prevents users from stopping their executions for installing dependencies. Additionally, imports in the middle might reduce notebooks' readability by taking the attention from the logic to the import constructs.",
     "reportId": "i1",
     "reportType": "import",
     "suggestion": "Please consider moving the import to the first cell of the notebook.",
     "text": "Cell 3 has imports but it is not the first cell"
    }
   ]
  },
  "kernelspec": {
   "display_name": "Python 3",
   "language": "python",
   "name": "python3"
  },
  "language_info": {
   "codemirror_mode": {
    "name": "ipython",
    "version": 3
   },
   "file_extension": ".py",
   "mimetype": "text/x-python",
   "name": "python",
   "nbconvert_exporter": "python",
   "pygments_lexer": "ipython3",
   "version": "3.6.3"
  }
 },
 "nbformat": 4,
 "nbformat_minor": 4
}
