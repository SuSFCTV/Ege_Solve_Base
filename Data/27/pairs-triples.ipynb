{
 "cells": [
  {
   "cell_type": "markdown",
   "metadata": {},
   "source": [
    "### Task 40-def\n",
    "![](https://github.com/vaskers5/Ege_Solve_Base/blob/main/Data/27/data/pairs_triples/40/40.png?raw=true)"
   ]
  },
  {
   "cell_type": "code",
   "execution_count": 17,
   "metadata": {},
   "outputs": [
    {
     "name": "stdout",
     "output_type": "stream",
     "text": [
      "[332, 337, 621]\n"
     ]
    }
   ],
   "source": [
    "from itertools import permutations\n",
    "\n",
    "f = open(\"data/pairs_triples/40/27-40a.txt\")\n",
    "\n",
    "def  get_groups():\n",
    "    return list(permutations(list(map(int, f.readline().split()))))\n",
    "\n",
    "\n",
    "n = int(f.readline())\n",
    "s = get_groups()\n",
    "div = 3\n",
    "inf = float(\"-inf\")\n",
    "for _ in range(n - 1):\n",
    "    groups = get_groups()\n",
    "    temp = [sorted([i[0] + j[0], i[1] + j[1], i[2] + j[2]]) # reverse = True, если ищем минимум\n",
    "            for i in s for j in groups]\n",
    "    \n",
    "    fake_s = [[inf,inf,inf]] * div\n",
    "    for x in temp:\n",
    "        \"\"\"\"\n",
    "        если остатки от деления дают 0, то мы их записываем  в первую группу,\n",
    "        если дают единицу, то во вторую,\n",
    "        как максимум по 3 элементу*смотреть на lambda*, если в общем случае дают 2,\n",
    "        то записываем их как максимум по последнему элементу, а сумма первых двух значений два\n",
    "        \"\"\"\n",
    "        fake_s[x[0] % 2 + x[1] % 2] = max(x, fake_s[x[0] % 2 + x[1] % 2],\n",
    "                                         key = lambda x: x[2])\n",
    "    s = [x for x in fake_s if x != [inf, inf, inf]]\n",
    "\n",
    "print(s[1])\n",
    "    "
   ]
  },
  {
   "cell_type": "markdown",
   "metadata": {},
   "source": [
    "### Task 41-def\n",
    "![](https://github.com/vaskers5/Ege_Solve_Base/blob/main/Data/27/data/pairs_triples/41/41.png?raw=true)"
   ]
  },
  {
   "cell_type": "code",
   "execution_count": 26,
   "metadata": {},
   "outputs": [
    {
     "name": "stdout",
     "output_type": "stream",
     "text": [
      "[562, 479, 250]\n"
     ]
    }
   ],
   "source": [
    "from itertools import permutations\n",
    "\n",
    "f = open(\"data/pairs_triples/41/27-41a.txt\")\n",
    "\n",
    "def  get_groups():\n",
    "    return list(permutations(list(map(int, f.readline().split()))))\n",
    "\n",
    "\n",
    "n = int(f.readline())\n",
    "s = get_groups()\n",
    "div = 3\n",
    "inf = float(\"inf\")\n",
    "for _ in range(n - 1):\n",
    "    groups = get_groups()\n",
    "    temp = [sorted([i[0] + j[0], i[1] + j[1], i[2] + j[2]], reverse = True) # reverse = True, если ищем минимум\n",
    "            for i in s for j in groups]\n",
    "    \n",
    "    fake_s = [[inf,inf,inf]] * div\n",
    "    for x in temp:\n",
    "        fake_s[x[0] % 2 + x[1] % 2] = min(x, fake_s[x[0] % 2 + x[1] % 2],\n",
    "                                         key = lambda x: x[2])\n",
    "    s = [x for x in fake_s if x != [inf, inf, inf]]\n",
    "\n",
    "    \n",
    "print(s[1])"
   ]
  },
  {
   "cell_type": "markdown",
   "metadata": {},
   "source": [
    "### Task 42-def\n",
    "![](https://github.com/vaskers5/Ege_Solve_Base/blob/main/Data/27/data/pairs_triples/42/42.png?raw=true)"
   ]
  },
  {
   "cell_type": "code",
   "execution_count": 16,
   "metadata": {},
   "outputs": [
    {
     "name": "stdout",
     "output_type": "stream",
     "text": [
      "[[14279, 17309, 17736], [14329, 17259, 17736], [14279, 16443, 18602], [14329, 16443, 18552], [13463, 17259, 18602], [13463, 17309, 18552], [14329, 17259, 17736], [14279, 17309, 17736], [14329, 16443, 18552], [14279, 16443, 18602], [13463, 17309, 18552], [13463, 17259, 18602], [14279, 16443, 18602], [13463, 17259, 18602], [14279, 17309, 17736], [13463, 17309, 18552], [14329, 17259, 17736], [14329, 16443, 18552], [13463, 17259, 18602], [14279, 16443, 18602], [13463, 17309, 18552], [14279, 17309, 17736], [14329, 16443, 18552], [14329, 17259, 17736], [14329, 16443, 18552], [13463, 17309, 18552], [14329, 17259, 17736], [13463, 17259, 18602], [14279, 17309, 17736], [14279, 16443, 18602], [13463, 17309, 18552], [14329, 16443, 18552], [13463, 17259, 18602], [14329, 17259, 17736], [14279, 16443, 18602], [14279, 17309, 17736]]\n",
      "[(8572, 9438, 9388), (8572, 9388, 9438), (9438, 8572, 9388), (9438, 9388, 8572), (9388, 8572, 9438), (9388, 9438, 8572)]\n"
     ]
    }
   ],
   "source": [
    "from itertools import permutations\n",
    "\n",
    "f = open(\"data/pairs_triples/42/27-42b.txt\")\n",
    "\n",
    "def get_groups():\n",
    "    return list(permutations(list(map(int, f.readline().split()))))\n",
    "\n",
    "n = int(f.readline())\n",
    "inf = float(\"-inf\")\n",
    "div = 3\n",
    "s = get_groups()\n",
    "\n",
    "for _ in range(n - 1):\n",
    "    groups = get_groups()\n",
    "    temp = [sorted([i[0] + j[0], i[1] + j[1], i[2] + j[2]]) for i in s for j in groups]\n",
    "    \n",
    "    fake_s = [[inf] * 3] * div\n",
    "    \n",
    "    for x in temp:\n",
    "        fake_s[x[0] % 2 + x[1] % 2] = max(x, fake_s[x[0] % 2 + x[1] % 2],\n",
    "                                         key = lambda triple: triple[2])\n",
    "    \n",
    "        \n",
    "    s = [x for x in fake_s if x != [inf, inf, inf]]\n",
    "\n",
    "print(s)"
   ]
  },
  {
   "cell_type": "code",
   "execution_count": 12,
   "metadata": {},
   "outputs": [
    {
     "name": "stdout",
     "output_type": "stream",
     "text": [
      "1 2\n",
      "9 15 23 33 45 59 75 93 113 \n",
      " 9 15 23 33 45 59 75 93 113\n"
     ]
    }
   ],
   "source": [
    "x = [1, 2, 3, 4 , 5]\n",
    "\n",
    "print(*filter(lambda elem:1 if elem < 3 else 0, x))\n",
    "\n",
    "\n",
    "def smt(x):\n",
    "    return x**2 + 3*x + 5\n",
    "\n",
    "smt1 = lambda x: x**2 + 3*x + 5\n",
    "\n",
    "a = [i for i in range(1, 10)]\n",
    "\n",
    "b = range(1, 10)\n",
    "\n",
    "print(*map(smt, a),\"\\n\", *map(smt1, b))"
   ]
  },
  {
   "cell_type": "markdown",
   "metadata": {},
   "source": [
    "### Task 43-def\n",
    "![](https://github.com/vaskers5/Ege_Solve_Base/blob/main/Data/27/data/pairs_triples/43/43.png?raw=true)"
   ]
  },
  {
   "cell_type": "code",
   "execution_count": 25,
   "metadata": {},
   "outputs": [
    {
     "name": "stdout",
     "output_type": "stream",
     "text": [
      "[2602, 2238, 1018]\n"
     ]
    }
   ],
   "source": [
    "from itertools import permutations\n",
    "\n",
    "f = open(\"data/pairs_triples/42/27-42a.txt\")\n",
    "\n",
    "def  get_groups():\n",
    "    return list(permutations(list(map(int, f.readline().split()))))\n",
    "\n",
    "\n",
    "n = int(f.readline())\n",
    "s = get_groups()\n",
    "div = 3\n",
    "inf = float(\"inf\")\n",
    "for _ in range(n - 1):\n",
    "    groups = get_groups()\n",
    "    temp = [sorted([i[0] + j[0], i[1] + j[1], i[2] + j[2]], reverse = True) # reverse = True, если ищем минимум\n",
    "            for i in s for j in groups]\n",
    "    \n",
    "    fake_s = [[inf,inf,inf]] * div\n",
    "    for x in temp:\n",
    "        fake_s[x[0] % 2 + x[1] % 2] = min(x, fake_s[x[0] % 2 + x[1] % 2],\n",
    "                                         key = lambda x: x[2])\n",
    "    s = [x for x in fake_s if x != [inf, inf, inf]]\n",
    "\n",
    "    \n",
    "print(s[0])"
   ]
  },
  {
   "cell_type": "markdown",
   "metadata": {},
   "source": [
    "### Task 46-def\n",
    "![](https://github.com/vaskers5/Ege_Solve_Base/blob/main/Data/27/data/pairs_triples/46/46.png?raw=true)"
   ]
  },
  {
   "cell_type": "code",
   "execution_count": null,
   "metadata": {},
   "outputs": [],
   "source": []
  },
  {
   "cell_type": "markdown",
   "metadata": {},
   "source": [
    "### Task 4-def\n",
    "![](https://github.com/vaskers5/Ege_Solve_Base/blob/main/Data/27/data/pairs_triples/4/4.png?raw=true)"
   ]
  },
  {
   "cell_type": "code",
   "execution_count": 1,
   "metadata": {},
   "outputs": [
    {
     "name": "stdout",
     "output_type": "stream",
     "text": [
      "[402332230, 402332231, 402332232, 402332233, 402332229]\n"
     ]
    }
   ],
   "source": [
    "f = open(\"data/pairs_triples/4/27-4b.txt\")\n",
    "\n",
    "def get_pair():\n",
    "    return [int(i) for i in f.readline().split()]\n",
    "\n",
    "n = int(f.readline())\n",
    "inf = float(\"-inf\")\n",
    "div = 5\n",
    "\n",
    "s = get_pair()\n",
    "\n",
    "for i in range(n - 1):\n",
    "    pair = get_pair()\n",
    "    \n",
    "    c = []\n",
    "    for x in s:\n",
    "        for y in pair:\n",
    "            c.append(x + y)            \n",
    "            \n",
    "    fake_s = [inf] * 5\n",
    "    \n",
    "    for x in c:\n",
    "        fake_s[x % 5] = max(fake_s[x % 5], x)\n",
    "    \n",
    "    s = []\n",
    "    for elem in fake_s:\n",
    "        if elem != inf:\n",
    "            s.append(elem)    \n",
    "print(s)"
   ]
  },
  {
   "cell_type": "markdown",
   "metadata": {},
   "source": [
    "### Task_27424\n"
   ]
  },
  {
   "cell_type": "code",
   "execution_count": 24,
   "metadata": {},
   "outputs": [
    {
     "name": "stdout",
     "output_type": "stream",
     "text": [
      "399762080\n"
     ]
    }
   ],
   "source": [
    "f = open(\"data/pairs_triples/27424/27-B_demo.txt\")\n",
    "\n",
    "def get_pair():\n",
    "    return list(map(int, f.readline().split()))\n",
    "\n",
    "n = int(f.readline())\n",
    "s = get_pair()\n",
    "inf = -float(\"inf\")\n",
    "\n",
    "for _ in range(n - 1):\n",
    "    pair = get_pair()\n",
    "    temp = [i + j for i in s for j in pair]\n",
    "    fake_s = [inf] * 3\n",
    "    for x in temp:\n",
    "        fake_s[x % 3] = max(fake_s[x % 3], x)\n",
    "        \n",
    "    s = [x for x in fake_s if x != inf]\n",
    "    \n",
    "\n",
    "print(max(s[1::]))"
   ]
  },
  {
   "cell_type": "markdown",
   "metadata": {},
   "source": [
    "### Task_2684\n"
   ]
  },
  {
   "cell_type": "code",
   "execution_count": 10,
   "metadata": {},
   "outputs": [
    {
     "name": "stdout",
     "output_type": "stream",
     "text": [
      "19596697\n"
     ]
    }
   ],
   "source": [
    "f = open(\"data/pairs_triples/K2684/data.txt\")\n",
    "\n",
    "def get_pair():\n",
    "    return list(map(int, f.readline().split()))\n",
    "\n",
    "n = int(f.readline())\n",
    "s = get_pair()\n",
    "inf = float(\"inf\")\n",
    "div = 10\n",
    "\n",
    "for _ in range(n - 1):\n",
    "    pair = get_pair()\n",
    "    temp = [i + j for i in s for j in pair]\n",
    "    fake_s = [inf] * div\n",
    "    for x in temp:\n",
    "        fake_s[x % div] = min(fake_s[x % div], x)\n",
    "        \n",
    "    s = [x for x in fake_s if x != inf]\n",
    "    \n",
    "s.pop(6)\n",
    "print(min(s))"
   ]
  },
  {
   "cell_type": "code",
   "execution_count": 12,
   "metadata": {},
   "outputs": [
    {
     "name": "stdout",
     "output_type": "stream",
     "text": [
      "40799380\n"
     ]
    }
   ],
   "source": [
    "f = open(\"data/pairs_triples/K2683/data.txt\")\n",
    "\n",
    "def get_pair():\n",
    "    return list(map(int, f.readline().split()))\n",
    "\n",
    "n = int(f.readline())\n",
    "s = get_pair()\n",
    "inf = -float(\"inf\")\n",
    "div = 10\n",
    "\n",
    "for _ in range(n - 1):\n",
    "    pair = get_pair()\n",
    "    temp = [i + j for i in s for j in pair]\n",
    "    fake_s = [inf] * div\n",
    "    for x in temp:\n",
    "        fake_s[x % div] = max(fake_s[x % div], x)\n",
    "        \n",
    "    s = [x for x in fake_s if x != inf]\n",
    "    \n",
    "s.pop(5)\n",
    "print(max(s))"
   ]
  },
  {
   "cell_type": "code",
   "execution_count": 13,
   "metadata": {},
   "outputs": [
    {
     "name": "stdout",
     "output_type": "stream",
     "text": [
      "19817794\n"
     ]
    }
   ],
   "source": [
    "f = open(\"data/pairs_triples/K2682/data.txt\")\n",
    "\n",
    "def get_pair():\n",
    "    return list(map(int, f.readline().split()))\n",
    "\n",
    "n = int(f.readline())\n",
    "s = get_pair()\n",
    "inf = float(\"inf\")\n",
    "div = 10\n",
    "\n",
    "for _ in range(n - 1):\n",
    "    pair = get_pair()\n",
    "    temp = [i + j for i in s for j in pair]\n",
    "    fake_s = [inf] * div\n",
    "    for x in temp:\n",
    "        fake_s[x % div] = min(fake_s[x % div], x)\n",
    "        \n",
    "    s = [x for x in fake_s if x != inf]\n",
    "    \n",
    "print(s[4])"
   ]
  },
  {
   "cell_type": "code",
   "execution_count": null,
   "metadata": {},
   "outputs": [],
   "source": []
  }
 ],
 "metadata": {
  "julynter-results": {
   "filteredId": [],
   "filteredIndividual": [],
   "filteredRestart": [],
   "filteredType": [],
   "hash": "edcf8cb172ecbf72b899c6c1f222c69a93373c43",
   "visible": [
    {
     "cellId": "group",
     "hash": "c0de46ba034d710c2b2406a37ee6816be9634aa0",
     "reason": "This groups other lint messages",
     "reportId": "group",
     "reportType": "hiddenstate",
     "suggestion": null,
     "text": "Hidden State"
    },
    {
     "cellId": 1,
     "hash": "5559bd876d052a16ffb469cbe45032a40127d496",
     "reason": "A cell with results of a previous session may fail to execute or produce different results in this one, hampering the reproducibility.",
     "reportId": "h1",
     "reportType": "hiddenstate",
     "suggestion": "Please consider executing it to guarantee the reproducibility.",
     "text": "Cell 1 has execution results, but it wasn't executed on this session"
    },
    {
     "cellId": 3,
     "hash": "19d93a51269aca262effd6e582714e6cfba52698",
     "reason": "A cell with results of a previous session may fail to execute or produce different results in this one, hampering the reproducibility.",
     "reportId": "h1",
     "reportType": "hiddenstate",
     "suggestion": "Please consider executing it to guarantee the reproducibility.",
     "text": "Cell 3 has execution results, but it wasn't executed on this session"
    },
    {
     "cellId": 5,
     "hash": "c241d6aac0ad1b3c8f3b85c56d94410a5269fd30",
     "reason": "A cell with results of a previous session may fail to execute or produce different results in this one, hampering the reproducibility.",
     "reportId": "h1",
     "reportType": "hiddenstate",
     "suggestion": "Please consider executing it to guarantee the reproducibility.",
     "text": "Cell 5 has execution results, but it wasn't executed on this session"
    },
    {
     "cellId": 6,
     "hash": "1852133ff7e02c31e85108ceafed060ce4c6dce1",
     "reason": "A cell with results of a previous session may fail to execute or produce different results in this one, hampering the reproducibility.",
     "reportId": "h1",
     "reportType": "hiddenstate",
     "suggestion": "Please consider executing it to guarantee the reproducibility.",
     "text": "Cell 6 has execution results, but it wasn't executed on this session"
    },
    {
     "cellId": 8,
     "hash": "e1cdaba39045b00a30110c18e4dbed76f62f06c0",
     "reason": "A cell with results of a previous session may fail to execute or produce different results in this one, hampering the reproducibility.",
     "reportId": "h1",
     "reportType": "hiddenstate",
     "suggestion": "Please consider executing it to guarantee the reproducibility.",
     "text": "Cell 8 has execution results, but it wasn't executed on this session"
    },
    {
     "cellId": 12,
     "hash": "790456c8a48fc4962b95cf35ef57aca00fe95743",
     "reason": "A cell with results of a previous session may fail to execute or produce different results in this one, hampering the reproducibility.",
     "reportId": "h1",
     "reportType": "hiddenstate",
     "suggestion": "Please consider executing it to guarantee the reproducibility.",
     "text": "Cell 12 has execution results, but it wasn't executed on this session"
    },
    {
     "cellId": 14,
     "hash": "9ecb60e8fce9c83dcec5c1b85c3d989f53e55cae",
     "reason": "A cell with results of a previous session may fail to execute or produce different results in this one, hampering the reproducibility.",
     "reportId": "h1",
     "reportType": "hiddenstate",
     "suggestion": "Please consider executing it to guarantee the reproducibility.",
     "text": "Cell 14 has execution results, but it wasn't executed on this session"
    },
    {
     "cellId": 16,
     "hash": "5cc99ac2d959413f3e8ba01b4f9e862b628c6b98",
     "reason": "A cell with results of a previous session may fail to execute or produce different results in this one, hampering the reproducibility.",
     "reportId": "h1",
     "reportType": "hiddenstate",
     "suggestion": "Please consider executing it to guarantee the reproducibility.",
     "text": "Cell 16 has execution results, but it wasn't executed on this session"
    },
    {
     "cellId": 17,
     "hash": "1b9a1a561eb78a8ecad9010a056cf8edf849acd3",
     "reason": "A cell with results of a previous session may fail to execute or produce different results in this one, hampering the reproducibility.",
     "reportId": "h1",
     "reportType": "hiddenstate",
     "suggestion": "Please consider executing it to guarantee the reproducibility.",
     "text": "Cell 17 has execution results, but it wasn't executed on this session"
    },
    {
     "cellId": 17,
     "hash": "ea699fdc74623d50436edf3c0fe19f9eab88563a",
     "reason": "A cell with a repeated execution count indicates that there are results of multiple execution sessions in this notebook. Running all cells in the top-down order might produce different results, hampering the reproducibility.",
     "reportId": "h3",
     "reportType": "hiddenstate",
     "suggestion": "Please consider re-running the cell to guarantee the reproducibility.",
     "text": "Cell 17 repeats the execution count 12"
    },
    {
     "cellId": 18,
     "hash": "2466ac5e5861e53ac2759543c65bbce8e0641f73",
     "reason": "A cell with results of a previous session may fail to execute or produce different results in this one, hampering the reproducibility.",
     "reportId": "h1",
     "reportType": "hiddenstate",
     "suggestion": "Please consider executing it to guarantee the reproducibility.",
     "text": "Cell 18 has execution results, but it wasn't executed on this session"
    },
    {
     "cellId": 16,
     "hash": "2f1e3252751d660a6d8917b159c164eb982706e0",
     "reason": "A skip in the execution count might indicate the presence of a hidden state caused by a cell that does not exist anymore. Hidden states might prevent cells from executing or producing the same results, hampering the reproducibility.",
     "reportId": "h4",
     "reportType": "hiddenstate",
     "suggestion": "Please consider re-running the notebook to guarantee the reproducibility.",
     "text": "Cell 16 skips the execution count"
    },
    {
     "cellId": 17,
     "hash": "f0106b7a52d063b84dec55dd38ca1195eaa705f0",
     "reason": "A skip in the execution count might indicate the presence of a hidden state caused by a cell that does not exist anymore. Hidden states might prevent cells from executing or producing the same results, hampering the reproducibility.",
     "reportId": "h4",
     "reportType": "hiddenstate",
     "suggestion": "Please consider re-running the notebook to guarantee the reproducibility.",
     "text": "Cell 17 skips the execution count"
    },
    {
     "cellId": 5,
     "hash": "ae806991285fafe0c7319e750404c78df5e6cf35",
     "reason": "A skip in the execution count might indicate the presence of a hidden state caused by a cell that does not exist anymore. Hidden states might prevent cells from executing or producing the same results, hampering the reproducibility.",
     "reportId": "h4",
     "reportType": "hiddenstate",
     "suggestion": "Please consider re-running the notebook to guarantee the reproducibility.",
     "text": "Cell 5 skips the execution count"
    },
    {
     "cellId": 14,
     "hash": "9663e90b1dc9b89bdf6eab14688b0c43249eaa29",
     "reason": "A skip in the execution count might indicate the presence of a hidden state caused by a cell that does not exist anymore. Hidden states might prevent cells from executing or producing the same results, hampering the reproducibility.",
     "reportId": "h4",
     "reportType": "hiddenstate",
     "suggestion": "Please consider re-running the notebook to guarantee the reproducibility.",
     "text": "Cell 14 skips the execution count"
    },
    {
     "cellId": "group",
     "hash": "19d3d3d153f22e318cbe061df9e685ba5165b0aa",
     "reason": "This groups other lint messages",
     "reportId": "group",
     "reportType": "confusenotebook",
     "suggestion": null,
     "text": "Confuse Notebook"
    },
    {
     "cellId": 5,
     "hash": "d1f524b47b45234977bfa2c1410690178e91d383",
     "reason": "When you try to run all cells following the top-down order, cells in the wrong order might fail to execute or produce different results, hampering the reproducibility.",
     "reportId": "c2",
     "reportType": "confusenotebook",
     "suggestion": "Please consider re-running the notebook to guarantee the reproducibility.",
     "text": "Cell 5 has the execution count 16 in the wrong order"
    },
    {
     "cellId": 6,
     "hash": "fc5b395de7af5b6f11ccf0d04c447bbd1da71e99",
     "reason": "When you try to run all cells following the top-down order, cells in the wrong order might fail to execute or produce different results, hampering the reproducibility.",
     "reportId": "c2",
     "reportType": "confusenotebook",
     "suggestion": "Please consider re-running the notebook to guarantee the reproducibility.",
     "text": "Cell 6 has the execution count 12 in the wrong order"
    },
    {
     "cellId": 10,
     "hash": "3dfea8fee9bb779b7876f91ad6a980671668ef16",
     "reason": "Empty cells in between executable ones occupy space and might impact the readability of the notebook.",
     "reportId": "c3",
     "reportType": "confusenotebook",
     "suggestion": "Please consider removing it to improve the readability.",
     "text": "Cell 10 is empty in the middle of the notebook"
    },
    {
     "cellId": 12,
     "hash": "196a6824c03765f51f4025d7a6ab4bc33fb3faa2",
     "reason": "When you try to run all cells following the top-down order, cells in the wrong order might fail to execute or produce different results, hampering the reproducibility.",
     "reportId": "c2",
     "reportType": "confusenotebook",
     "suggestion": "Please consider re-running the notebook to guarantee the reproducibility.",
     "text": "Cell 12 has the execution count 1 in the wrong order"
    },
    {
     "cellId": 16,
     "hash": "35fb6dff0c9bd41b9b4c1cb94ac8db5a89ad9697",
     "reason": "When you try to run all cells following the top-down order, cells in the wrong order might fail to execute or produce different results, hampering the reproducibility.",
     "reportId": "c2",
     "reportType": "confusenotebook",
     "suggestion": "Please consider re-running the notebook to guarantee the reproducibility.",
     "text": "Cell 16 has the execution count 10 in the wrong order"
    },
    {
     "cellId": 18,
     "hash": "daadd62edf12dcf13b31f2007f2162a7842327db",
     "reason": "A markdown cell at the end of the notebook can conclude it, presenting a summary of the obtained results.",
     "reportId": "c5",
     "reportType": "confusenotebook",
     "suggestion": "Please consider adding a markdown cell to conclude the notebook.",
     "text": "The last cell of the notebook is not a markdown cell"
    }
   ]
  },
  "kernelspec": {
   "display_name": "Python 3",
   "language": "python",
   "name": "python3"
  },
  "language_info": {
   "codemirror_mode": {
    "name": "ipython",
    "version": 3
   },
   "file_extension": ".py",
   "mimetype": "text/x-python",
   "name": "python",
   "nbconvert_exporter": "python",
   "pygments_lexer": "ipython3",
   "version": "3.6.3"
  }
 },
 "nbformat": 4,
 "nbformat_minor": 4
}
