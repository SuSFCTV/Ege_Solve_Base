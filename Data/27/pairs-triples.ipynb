{
 "cells": [
  {
   "cell_type": "markdown",
   "metadata": {},
   "source": [
    "### Task 40-def\n",
    "![](https://github.com/vaskers5/Ege_Solve_Base/blob/main/Data/27/data/pairs_triples/40/40.png?raw=true)"
   ]
  },
  {
   "cell_type": "code",
   "execution_count": 17,
   "metadata": {},
   "outputs": [
    {
     "name": "stdout",
     "output_type": "stream",
     "text": [
      "[332, 337, 621]\n"
     ]
    }
   ],
   "source": [
    "from itertools import permutations\n",
    "\n",
    "f = open(\"data/pairs_triples/40/27-40a.txt\")\n",
    "\n",
    "def  get_groups():\n",
    "    return list(permutations(list(map(int, f.readline().split()))))\n",
    "\n",
    "\n",
    "n = int(f.readline())\n",
    "s = get_groups()\n",
    "div = 3\n",
    "inf = float(\"-inf\")\n",
    "for _ in range(n - 1):\n",
    "    groups = get_groups()\n",
    "    temp = [sorted([i[0] + j[0], i[1] + j[1], i[2] + j[2]]) # reverse = True, если ищем минимум\n",
    "            for i in s for j in groups]\n",
    "    \n",
    "    fake_s = [[inf,inf,inf]] * div\n",
    "    for x in temp:\n",
    "        \"\"\"\"\n",
    "        если остатки от деления дают 0, то мы их записываем  в первую группу,\n",
    "        если дают единицу, то во вторую,\n",
    "        как максимум по 3 элементу*смотреть на lambda*, если в общем случае дают 2,\n",
    "        то записываем их как максимум по последнему элементу, а сумма первых двух значений два\n",
    "        \"\"\"\n",
    "        fake_s[x[0] % 2 + x[1] % 2] = max(x, fake_s[x[0] % 2 + x[1] % 2],\n",
    "                                         key = lambda x: x[2])\n",
    "    s = [x for x in fake_s if x != [inf, inf, inf]]\n",
    "\n",
    "print(s[1])\n",
    "    "
   ]
  },
  {
   "cell_type": "code",
   "execution_count": null,
   "metadata": {},
   "outputs": [],
   "source": []
  }
 ],
 "metadata": {
  "julynter-results": {
   "filteredId": [],
   "filteredIndividual": [],
   "filteredRestart": [],
   "filteredType": [],
   "hash": "18dc819ecfc659372680b035e18553587fca4d5e",
   "visible": [
    {
     "cellId": "group",
     "hash": "c0de46ba034d710c2b2406a37ee6816be9634aa0",
     "reason": "This groups other lint messages",
     "reportId": "group",
     "reportType": "hiddenstate",
     "suggestion": null,
     "text": "Hidden State"
    },
    {
     "cellId": 1,
     "hash": "989a14974d5e105c899ab5756b98ad095fe4e57c",
     "reason": "A skip in the execution count might indicate the presence of a hidden state caused by a cell that does not exist anymore. Hidden states might prevent cells from executing or producing the same results, hampering the reproducibility.",
     "reportId": "h4",
     "reportType": "hiddenstate",
     "suggestion": "Please consider re-running the notebook to guarantee the reproducibility.",
     "text": "Cell 1 skips the execution count"
    },
    {
     "cellId": "group",
     "hash": "19d3d3d153f22e318cbe061df9e685ba5165b0aa",
     "reason": "This groups other lint messages",
     "reportId": "group",
     "reportType": "confusenotebook",
     "suggestion": null,
     "text": "Confuse Notebook"
    },
    {
     "cellId": 1,
     "hash": "f14a4cd6ae88a59bb1fee1548cdcf345e3f4cb38",
     "reason": "A markdown cell at the end of the notebook can conclude it, presenting a summary of the obtained results.",
     "reportId": "c5",
     "reportType": "confusenotebook",
     "suggestion": "Please consider adding a markdown cell to conclude the notebook.",
     "text": "The last cell of the notebook is not a markdown cell"
    }
   ]
  },
  "kernelspec": {
   "display_name": "Python 3",
   "language": "python",
   "name": "python3"
  },
  "language_info": {
   "codemirror_mode": {
    "name": "ipython",
    "version": 3
   },
   "file_extension": ".py",
   "mimetype": "text/x-python",
   "name": "python",
   "nbconvert_exporter": "python",
   "pygments_lexer": "ipython3",
   "version": "3.6.3"
  }
 },
 "nbformat": 4,
 "nbformat_minor": 4
}
