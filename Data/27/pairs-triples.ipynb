{
 "cells": [
  {
   "cell_type": "markdown",
   "metadata": {},
   "source": [
    "### Task 40-def\n",
    "![](https://github.com/vaskers5/Ege_Solve_Base/blob/main/Data/27/data/pairs_triples/40/40.png?raw=true)"
   ]
  },
  {
   "cell_type": "code",
   "execution_count": 17,
   "metadata": {},
   "outputs": [
    {
     "name": "stdout",
     "output_type": "stream",
     "text": [
      "[332, 337, 621]\n"
     ]
    }
   ],
   "source": [
    "from itertools import permutations\n",
    "\n",
    "f = open(\"data/pairs_triples/40/27-40a.txt\")\n",
    "\n",
    "def  get_groups():\n",
    "    return list(permutations(list(map(int, f.readline().split()))))\n",
    "\n",
    "\n",
    "n = int(f.readline())\n",
    "s = get_groups()\n",
    "div = 3\n",
    "inf = float(\"-inf\")\n",
    "for _ in range(n - 1):\n",
    "    groups = get_groups()\n",
    "    temp = [sorted([i[0] + j[0], i[1] + j[1], i[2] + j[2]]) # reverse = True, если ищем минимум\n",
    "            for i in s for j in groups]\n",
    "    \n",
    "    fake_s = [[inf,inf,inf]] * div\n",
    "    for x in temp:\n",
    "        \"\"\"\"\n",
    "        если остатки от деления дают 0, то мы их записываем  в первую группу,\n",
    "        если дают единицу, то во вторую,\n",
    "        как максимум по 3 элементу*смотреть на lambda*, если в общем случае дают 2,\n",
    "        то записываем их как максимум по последнему элементу, а сумма первых двух значений два\n",
    "        \"\"\"\n",
    "        fake_s[x[0] % 2 + x[1] % 2] = max(x, fake_s[x[0] % 2 + x[1] % 2],\n",
    "                                         key = lambda x: x[2])\n",
    "    s = [x for x in fake_s if x != [inf, inf, inf]]\n",
    "\n",
    "print(s[1])\n",
    "    "
   ]
  },
  {
   "cell_type": "markdown",
   "metadata": {},
   "source": [
    "### Task 41-def\n",
    "![](https://github.com/vaskers5/Ege_Solve_Base/blob/main/Data/27/data/pairs_triples/41/41.png?raw=true)"
   ]
  },
  {
   "cell_type": "code",
   "execution_count": 26,
   "metadata": {},
   "outputs": [
    {
     "name": "stdout",
     "output_type": "stream",
     "text": [
      "[562, 479, 250]\n"
     ]
    }
   ],
   "source": [
    "from itertools import permutations\n",
    "\n",
    "f = open(\"data/pairs_triples/41/27-41a.txt\")\n",
    "\n",
    "def  get_groups():\n",
    "    return list(permutations(list(map(int, f.readline().split()))))\n",
    "\n",
    "\n",
    "n = int(f.readline())\n",
    "s = get_groups()\n",
    "div = 3\n",
    "inf = float(\"inf\")\n",
    "for _ in range(n - 1):\n",
    "    groups = get_groups()\n",
    "    temp = [sorted([i[0] + j[0], i[1] + j[1], i[2] + j[2]], reverse = True) # reverse = True, если ищем минимум\n",
    "            for i in s for j in groups]\n",
    "    \n",
    "    fake_s = [[inf,inf,inf]] * div\n",
    "    for x in temp:\n",
    "        fake_s[x[0] % 2 + x[1] % 2] = min(x, fake_s[x[0] % 2 + x[1] % 2],\n",
    "                                         key = lambda x: x[2])\n",
    "    s = [x for x in fake_s if x != [inf, inf, inf]]\n",
    "\n",
    "    \n",
    "print(s[1])"
   ]
  },
  {
   "cell_type": "markdown",
   "metadata": {},
   "source": [
    "### Task 42-def\n",
    "![](https://github.com/vaskers5/Ege_Solve_Base/blob/main/Data/27/data/pairs_triples/42/42.png?raw=true)"
   ]
  },
  {
   "cell_type": "code",
   "execution_count": 23,
   "metadata": {},
   "outputs": [
    {
     "name": "stdout",
     "output_type": "stream",
     "text": [
      "[1386, 1418, 3054]\n"
     ]
    }
   ],
   "source": [
    "from itertools import permutations\n",
    "\n",
    "f = open(\"data/pairs_triples/42/27-42a.txt\")\n",
    "\n",
    "def  get_groups():\n",
    "    return list(permutations(list(map(int, f.readline().split()))))\n",
    "\n",
    "\n",
    "n = int(f.readline())\n",
    "s = get_groups()\n",
    "div = 3\n",
    "inf = float(\"-inf\")\n",
    "for _ in range(n - 1):\n",
    "    groups = get_groups()\n",
    "    temp = [sorted([i[0] + j[0], i[1] + j[1], i[2] + j[2]], reverse = False) # reverse = True, если ищем минимум\n",
    "            for i in s for j in groups]\n",
    "    \n",
    "    fake_s = [[inf,inf,inf]] * div\n",
    "    for x in temp:\n",
    "        fake_s[x[0] % 2 + x[1] % 2] = max(x, fake_s[x[0] % 2 + x[1] % 2],\n",
    "                                         key = lambda x: x[2])\n",
    "    s = [x for x in fake_s if x != [inf, inf, inf]]\n",
    "\n",
    "    \n",
    "print(s[0])"
   ]
  },
  {
   "cell_type": "markdown",
   "metadata": {},
   "source": [
    "### Task 43-def\n",
    "![](https://github.com/vaskers5/Ege_Solve_Base/blob/main/Data/27/data/pairs_triples/43/43.png?raw=true)"
   ]
  },
  {
   "cell_type": "code",
   "execution_count": 25,
   "metadata": {},
   "outputs": [
    {
     "name": "stdout",
     "output_type": "stream",
     "text": [
      "[2602, 2238, 1018]\n"
     ]
    }
   ],
   "source": [
    "from itertools import permutations\n",
    "\n",
    "f = open(\"data/pairs_triples/42/27-42a.txt\")\n",
    "\n",
    "def  get_groups():\n",
    "    return list(permutations(list(map(int, f.readline().split()))))\n",
    "\n",
    "\n",
    "n = int(f.readline())\n",
    "s = get_groups()\n",
    "div = 3\n",
    "inf = float(\"inf\")\n",
    "for _ in range(n - 1):\n",
    "    groups = get_groups()\n",
    "    temp = [sorted([i[0] + j[0], i[1] + j[1], i[2] + j[2]], reverse = True) # reverse = True, если ищем минимум\n",
    "            for i in s for j in groups]\n",
    "    \n",
    "    fake_s = [[inf,inf,inf]] * div\n",
    "    for x in temp:\n",
    "        fake_s[x[0] % 2 + x[1] % 2] = min(x, fake_s[x[0] % 2 + x[1] % 2],\n",
    "                                         key = lambda x: x[2])\n",
    "    s = [x for x in fake_s if x != [inf, inf, inf]]\n",
    "\n",
    "    \n",
    "print(s[0])"
   ]
  },
  {
   "cell_type": "markdown",
   "metadata": {},
   "source": [
    "### Task 46-def\n",
    "![](https://github.com/vaskers5/Ege_Solve_Base/blob/main/Data/27/data/pairs_triples/46/46.png?raw=true)"
   ]
  },
  {
   "cell_type": "code",
   "execution_count": null,
   "metadata": {},
   "outputs": [],
   "source": []
  },
  {
   "cell_type": "markdown",
   "metadata": {},
   "source": [
    "### Task 4-def\n",
    "![]()"
   ]
  },
  {
   "cell_type": "code",
   "execution_count": 36,
   "metadata": {},
   "outputs": [
    {
     "name": "stdout",
     "output_type": "stream",
     "text": [
      "[402332230, 402332231, 402332232, 402332233, 402332229]\n"
     ]
    }
   ],
   "source": [
    "f = open(\"data/pairs_triples/4/27-4b.txt\")\n",
    "\n",
    "def get_pair():\n",
    "    return list(map(int, f.readline().split()))\n",
    "\n",
    "\n",
    "n = int(f.readline())\n",
    "inf = -float(\"inf\")\n",
    "s = get_pair()\n",
    "div = 5\n",
    "\n",
    "for _ in range(n - 1):\n",
    "    pair = get_pair()\n",
    "    temp = [i + j for i in s for j in pair]\n",
    "    fake_s = [inf] * div\n",
    "    \n",
    "    for elem in temp:\n",
    "        fake_s[elem % 5] = max(elem, fake_s[elem % 5])\n",
    "    \n",
    "    \n",
    "    s = [x for x in fake_s if x != inf]\n",
    "    \n",
    "#     print(\"pair-\", pair, \"\\n\", \"temp-\",temp, \"\\n\", \"fake_s -\", fake_s, \"\\n\", \"s -\", s)\n",
    "#     print()\n",
    "print(s)"
   ]
  },
  {
   "cell_type": "markdown",
   "metadata": {},
   "source": [
    "### Task_27424\n"
   ]
  },
  {
   "cell_type": "code",
   "execution_count": 24,
   "metadata": {},
   "outputs": [
    {
     "name": "stdout",
     "output_type": "stream",
     "text": [
      "399762080\n"
     ]
    }
   ],
   "source": [
    "f = open(\"data/pairs_triples/27424/27-B_demo.txt\")\n",
    "\n",
    "def get_pair():\n",
    "    return list(map(int, f.readline().split()))\n",
    "\n",
    "n = int(f.readline())\n",
    "s = get_pair()\n",
    "inf = -float(\"inf\")\n",
    "\n",
    "for _ in range(n - 1):\n",
    "    pair = get_pair()\n",
    "    temp = [i + j for i in s for j in pair]\n",
    "    fake_s = [inf] * 3\n",
    "    for x in temp:\n",
    "        fake_s[x % 3] = max(fake_s[x % 3], x)\n",
    "        \n",
    "    s = [x for x in fake_s if x != inf]\n",
    "    \n",
    "\n",
    "print(max(s[1::]))"
   ]
  },
  {
   "cell_type": "code",
   "execution_count": 5,
   "metadata": {},
   "outputs": [],
   "source": [
    "a = list((6,7,3))\n",
    "b = [6,7,3]"
   ]
  },
  {
   "cell_type": "code",
   "execution_count": 6,
   "metadata": {},
   "outputs": [
    {
     "data": {
      "text/plain": [
       "([6, 7, 3], [6, 7, 3])"
      ]
     },
     "execution_count": 6,
     "metadata": {},
     "output_type": "execute_result"
    }
   ],
   "source": [
    "a, b"
   ]
  },
  {
   "cell_type": "code",
   "execution_count": null,
   "metadata": {},
   "outputs": [],
   "source": []
  }
 ],
 "metadata": {
  "julynter-results": {
   "filteredId": [],
   "filteredIndividual": [],
   "filteredRestart": [],
   "filteredType": [],
   "hash": "83425728b034bbe702ac33c5d4ec2c33601ab047",
   "visible": [
    {
     "cellId": "group",
     "hash": "c0de46ba034d710c2b2406a37ee6816be9634aa0",
     "reason": "This groups other lint messages",
     "reportId": "group",
     "reportType": "hiddenstate",
     "suggestion": null,
     "text": "Hidden State"
    },
    {
     "cellId": 1,
     "hash": "5559bd876d052a16ffb469cbe45032a40127d496",
     "reason": "A cell with results of a previous session may fail to execute or produce different results in this one, hampering the reproducibility.",
     "reportId": "h1",
     "reportType": "hiddenstate",
     "suggestion": "Please consider executing it to guarantee the reproducibility.",
     "text": "Cell 1 has execution results, but it wasn't executed on this session"
    },
    {
     "cellId": 3,
     "hash": "19d93a51269aca262effd6e582714e6cfba52698",
     "reason": "A cell with results of a previous session may fail to execute or produce different results in this one, hampering the reproducibility.",
     "reportId": "h1",
     "reportType": "hiddenstate",
     "suggestion": "Please consider executing it to guarantee the reproducibility.",
     "text": "Cell 3 has execution results, but it wasn't executed on this session"
    },
    {
     "cellId": 5,
     "hash": "87d36df43a042846060e25dc1d70a3293885f34f",
     "reason": "A cell with results of a previous session may fail to execute or produce different results in this one, hampering the reproducibility.",
     "reportId": "h1",
     "reportType": "hiddenstate",
     "suggestion": "Please consider executing it to guarantee the reproducibility.",
     "text": "Cell 5 has execution results, but it wasn't executed on this session"
    },
    {
     "cellId": 7,
     "hash": "e1cdaba39045b00a30110c18e4dbed76f62f06c0",
     "reason": "A cell with results of a previous session may fail to execute or produce different results in this one, hampering the reproducibility.",
     "reportId": "h1",
     "reportType": "hiddenstate",
     "suggestion": "Please consider executing it to guarantee the reproducibility.",
     "text": "Cell 7 has execution results, but it wasn't executed on this session"
    },
    {
     "cellId": 11,
     "hash": "43b24f799d18437c8938863ee9f00676aaed5648",
     "reason": "A cell with results of a previous session may fail to execute or produce different results in this one, hampering the reproducibility.",
     "reportId": "h1",
     "reportType": "hiddenstate",
     "suggestion": "Please consider executing it to guarantee the reproducibility.",
     "text": "Cell 11 has execution results, but it wasn't executed on this session"
    },
    {
     "cellId": 13,
     "hash": "9ecb60e8fce9c83dcec5c1b85c3d989f53e55cae",
     "reason": "A cell with results of a previous session may fail to execute or produce different results in this one, hampering the reproducibility.",
     "reportId": "h1",
     "reportType": "hiddenstate",
     "suggestion": "Please consider executing it to guarantee the reproducibility.",
     "text": "Cell 13 has execution results, but it wasn't executed on this session"
    },
    {
     "cellId": 14,
     "hash": "a2a0240368f72950fd25b9b3423b2f4821a519e0",
     "reason": "A cell with results of a previous session may fail to execute or produce different results in this one, hampering the reproducibility.",
     "reportId": "h1",
     "reportType": "hiddenstate",
     "suggestion": "Please consider executing it to guarantee the reproducibility.",
     "text": "Cell 14 has execution results, but it wasn't executed on this session"
    },
    {
     "cellId": 15,
     "hash": "1dbbb3692fd32c7ea5b5f5940dc8b9fe710c7abd",
     "reason": "A cell with results of a previous session may fail to execute or produce different results in this one, hampering the reproducibility.",
     "reportId": "h1",
     "reportType": "hiddenstate",
     "suggestion": "Please consider executing it to guarantee the reproducibility.",
     "text": "Cell 15 has execution results, but it wasn't executed on this session"
    },
    {
     "cellId": 14,
     "hash": "7bbe9705f05fb1422afd549a83292c34d4c5f3b9",
     "reason": "A skip in the execution count might indicate the presence of a hidden state caused by a cell that does not exist anymore. Hidden states might prevent cells from executing or producing the same results, hampering the reproducibility.",
     "reportId": "h4",
     "reportType": "hiddenstate",
     "suggestion": "Please consider re-running the notebook to guarantee the reproducibility.",
     "text": "Cell 14 skips the execution count"
    },
    {
     "cellId": 1,
     "hash": "989a14974d5e105c899ab5756b98ad095fe4e57c",
     "reason": "A skip in the execution count might indicate the presence of a hidden state caused by a cell that does not exist anymore. Hidden states might prevent cells from executing or producing the same results, hampering the reproducibility.",
     "reportId": "h4",
     "reportType": "hiddenstate",
     "suggestion": "Please consider re-running the notebook to guarantee the reproducibility.",
     "text": "Cell 1 skips the execution count"
    },
    {
     "cellId": 5,
     "hash": "b581d6fd8cb8ee4ce75242256cb25b215e4bb529",
     "reason": "A skip in the execution count might indicate the presence of a hidden state caused by a cell that does not exist anymore. Hidden states might prevent cells from executing or producing the same results, hampering the reproducibility.",
     "reportId": "h4",
     "reportType": "hiddenstate",
     "suggestion": "Please consider re-running the notebook to guarantee the reproducibility.",
     "text": "Cell 5 skips the execution count"
    },
    {
     "cellId": 11,
     "hash": "b62fe450b05846637015b7d370243a063a467b98",
     "reason": "A skip in the execution count might indicate the presence of a hidden state caused by a cell that does not exist anymore. Hidden states might prevent cells from executing or producing the same results, hampering the reproducibility.",
     "reportId": "h4",
     "reportType": "hiddenstate",
     "suggestion": "Please consider re-running the notebook to guarantee the reproducibility.",
     "text": "Cell 11 skips the execution count"
    },
    {
     "cellId": "group",
     "hash": "19d3d3d153f22e318cbe061df9e685ba5165b0aa",
     "reason": "This groups other lint messages",
     "reportId": "group",
     "reportType": "confusenotebook",
     "suggestion": null,
     "text": "Confuse Notebook"
    },
    {
     "cellId": 5,
     "hash": "26a0152c9723952889c5b04ab9ec450479d16c4c",
     "reason": "When you try to run all cells following the top-down order, cells in the wrong order might fail to execute or produce different results, hampering the reproducibility.",
     "reportId": "c2",
     "reportType": "confusenotebook",
     "suggestion": "Please consider re-running the notebook to guarantee the reproducibility.",
     "text": "Cell 5 has the execution count 23 in the wrong order"
    },
    {
     "cellId": 9,
     "hash": "3dfea8fee9bb779b7876f91ad6a980671668ef16",
     "reason": "Empty cells in between executable ones occupy space and might impact the readability of the notebook.",
     "reportId": "c3",
     "reportType": "confusenotebook",
     "suggestion": "Please consider removing it to improve the readability.",
     "text": "Cell 9 is empty in the middle of the notebook"
    },
    {
     "cellId": 13,
     "hash": "21514a0b886cf809208ea924f6665dd62d0a3ca0",
     "reason": "When you try to run all cells following the top-down order, cells in the wrong order might fail to execute or produce different results, hampering the reproducibility.",
     "reportId": "c2",
     "reportType": "confusenotebook",
     "suggestion": "Please consider re-running the notebook to guarantee the reproducibility.",
     "text": "Cell 13 has the execution count 24 in the wrong order"
    },
    {
     "cellId": 14,
     "hash": "153d11f10d16bb5839c7589c37c1f61c2435049d",
     "reason": "When you try to run all cells following the top-down order, cells in the wrong order might fail to execute or produce different results, hampering the reproducibility.",
     "reportId": "c2",
     "reportType": "confusenotebook",
     "suggestion": "Please consider re-running the notebook to guarantee the reproducibility.",
     "text": "Cell 14 has the execution count 5 in the wrong order"
    },
    {
     "cellId": 15,
     "hash": "0fcacc9ea733a36461da2e57d121ea943d0a615e",
     "reason": "A markdown cell at the end of the notebook can conclude it, presenting a summary of the obtained results.",
     "reportId": "c5",
     "reportType": "confusenotebook",
     "suggestion": "Please consider adding a markdown cell to conclude the notebook.",
     "text": "The last cell of the notebook is not a markdown cell"
    }
   ]
  },
  "kernelspec": {
   "display_name": "Python 3",
   "language": "python",
   "name": "python3"
  },
  "language_info": {
   "codemirror_mode": {
    "name": "ipython",
    "version": 3
   },
   "file_extension": ".py",
   "mimetype": "text/x-python",
   "name": "python",
   "nbconvert_exporter": "python",
   "pygments_lexer": "ipython3",
   "version": "3.6.3"
  }
 },
 "nbformat": 4,
 "nbformat_minor": 4
}
