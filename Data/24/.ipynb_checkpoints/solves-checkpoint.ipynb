{
 "cells": [
  {
   "cell_type": "code",
   "execution_count": 18,
   "metadata": {},
   "outputs": [
    {
     "name": "stdout",
     "output_type": "stream",
     "text": [
      "37\n"
     ]
    }
   ],
   "source": [
    "f = open(\"data/27241/24_demo.txt\")\n",
    "s = f.read()\n",
    "# s = input()\n",
    "cnt, max_cnt = 0, 0\n",
    "for i in range(1, len(s) - 1):\n",
    "    if s[i - 1] != s[i + 1]:\n",
    "        cnt += 1\n",
    "    else:\n",
    "        max_cnt = max(cnt, max_cnt)\n",
    "        cnt = 0\n",
    "\n",
    "print(max_cnt)"
   ]
  },
  {
   "cell_type": "code",
   "execution_count": 16,
   "metadata": {},
   "outputs": [
    {
     "name": "stdout",
     "output_type": "stream",
     "text": [
      "10\n"
     ]
    }
   ],
   "source": [
    "f = open(\"data/27687/24_demo.txt\")\n",
    "cnt, max_cnt = 1, 1\n",
    "for i in range(1, len(s)):\n",
    "    if s[i] == \"Y\" == s[i - 1]:\n",
    "        cnt += 1\n",
    "    else:\n",
    "        max_cnt = max(cnt, max_cnt)\n",
    "        cnt = 1\n",
    "\n",
    "print(max_cnt)"
   ]
  },
  {
   "cell_type": "code",
   "execution_count": 21,
   "metadata": {},
   "outputs": [
    {
     "name": "stdout",
     "output_type": "stream",
     "text": [
      "974\n"
     ]
    }
   ],
   "source": [
    "f = open('data/K4042/data.txt')\n",
    "\n",
    "max_dist = 0\n",
    "while (True):\n",
    "    line = f.readline()\n",
    "    if not(line):\n",
    "        break\n",
    "    if line.count('E') < 20:\n",
    "        for i in range(len(line)):\n",
    "            max_dist = max(max_dist, abs(line.rfind(line[i]) - i))\n",
    "            \n",
    "print(max_dist)"
   ]
  },
  {
   "cell_type": "code",
   "execution_count": 3,
   "metadata": {},
   "outputs": [
    {
     "name": "stdout",
     "output_type": "stream",
     "text": [
      "916\n"
     ]
    }
   ],
   "source": [
    "f = open('data/K4041/24-164.txt')\n",
    "max_dist = 0\n",
    "while (True):\n",
    "    line = f.readline()\n",
    "    if not(line):\n",
    "        break\n",
    "    if line.count('G') < 15:\n",
    "        for i in range (len(line)):\n",
    "            max_dist = max(max_dist, abs(i - line.rfind(line[i])))\n",
    "print(max_dist)"
   ]
  },
  {
   "cell_type": "code",
   "execution_count": 20,
   "metadata": {},
   "outputs": [
    {
     "name": "stdout",
     "output_type": "stream",
     "text": [
      "K 36582\n"
     ]
    }
   ],
   "source": [
    "f = open('data/K3786/data.txt')\n",
    "file_for_ans = open('data/K3786/data.txt')\n",
    "max_len = 0\n",
    "line = f.readline()\n",
    "max_str = ''\n",
    "\n",
    "while (line):\n",
    "    line = f.readline()\n",
    "    cur_len = 0\n",
    "    for i in range (1, len(line)):\n",
    "        if line[i] == line[i - 1]:\n",
    "            cur_len += 1\n",
    "        elif cur_len > max_len:\n",
    "            max_len = cur_len\n",
    "            max_str = line\n",
    "        elif line[i] != line[i - 1]:\n",
    "            cur_len = 0\n",
    "\n",
    "dictionary = {}\n",
    "for elem in max_str:\n",
    "    if elem in dictionary: \n",
    "        dictionary[elem] += 1\n",
    "    else:\n",
    "        dictionary.update({elem : 1})\n",
    "\n",
    "max_value, max_key = 0, 0 \n",
    "\n",
    "for key in dictionary:\n",
    "    value = dictionary[key]\n",
    "    if value > max_value:\n",
    "        max_value = value\n",
    "        max_key = key\n",
    "        \n",
    "    elif value == max_value and key < max_key:\n",
    "        max_key = key\n",
    "\n",
    "print(max_key, file_for_ans.read().count(max_key))      \n",
    "        \n"
   ]
  },
  {
   "cell_type": "code",
   "execution_count": 14,
   "metadata": {},
   "outputs": [
    {
     "name": "stdout",
     "output_type": "stream",
     "text": [
      "75\n"
     ]
    }
   ],
   "source": [
    "f = open('data/K3348/data.txt')\n",
    "s = f.read()\n",
    "max_len = 0\n",
    "current_len = 0\n",
    "i = 0\n",
    "\n",
    "while i < len(s)-2:\n",
    "    if s[i: i + 3] == 'КОТ':\n",
    "        current_len += 1\n",
    "        max_len = max(max_len, current_len)\n",
    "        i += 3\n",
    "    else:\n",
    "        current_len = 0\n",
    "        i += 1\n",
    "        \n",
    "print(max_len)"
   ]
  },
  {
   "cell_type": "code",
   "execution_count": 19,
   "metadata": {},
   "outputs": [
    {
     "name": "stdout",
     "output_type": "stream",
     "text": [
      "0\n",
      "1\n",
      "2\n",
      "3\n",
      "4\n",
      "5\n",
      "6\n",
      "7\n",
      "8\n",
      "9\n",
      "10\n",
      "11\n",
      "12\n",
      "13\n",
      "14\n",
      "15\n",
      "16\n",
      "17\n",
      "18\n",
      "19\n",
      "20\n",
      "21\n",
      "22\n",
      "23\n",
      "24\n",
      "25\n",
      "26\n",
      "27\n",
      "28\n",
      "29\n",
      "30\n",
      "31\n",
      "32\n",
      "33\n",
      "34\n",
      "35\n",
      "36\n",
      "37\n",
      "38\n",
      "39\n",
      "40\n",
      "41\n",
      "42\n",
      "43\n",
      "44\n",
      "45\n",
      "46\n",
      "47\n",
      "48\n",
      "49\n",
      "50\n"
     ]
    }
   ],
   "source": [
    "i = 0\n",
    "\n",
    "while(i < 50):\n",
    "    print(i)\n",
    "    i += 1"
   ]
  },
  {
   "cell_type": "code",
   "execution_count": null,
   "metadata": {},
   "outputs": [],
   "source": []
  }
 ],
 "metadata": {
  "julynter-results": {
   "filteredId": [],
   "filteredIndividual": [],
   "filteredRestart": [],
   "filteredType": [],
   "hash": "8b0ae99f356a243365830fcfe24712346dc19af7",
   "visible": [
    {
     "cellId": "group",
     "hash": "c0de46ba034d710c2b2406a37ee6816be9634aa0",
     "reason": "This groups other lint messages",
     "reportId": "group",
     "reportType": "hiddenstate",
     "suggestion": null,
     "text": "Hidden State"
    },
    {
     "cellId": 0,
     "hash": "1ac37705d159d20c01f82a114bac3d02696f8ca9",
     "reason": "A cell with code changes may produce different results than what it generated before the changes, hampering the reproducibility.",
     "reportId": "h2",
     "reportType": "hiddenstate",
     "suggestion": "Please consider re-executing it to guarantee the reproducibility.",
     "text": "Cell 0 has changed since its execution, but it wasn't executed after the changes"
    },
    {
     "cellId": 1,
     "hash": "b586b5d9031dba852fb3aef7a798f2e65bc2ca72",
     "reason": "A cell with code changes may produce different results than what it generated before the changes, hampering the reproducibility.",
     "reportId": "h2",
     "reportType": "hiddenstate",
     "suggestion": "Please consider re-executing it to guarantee the reproducibility.",
     "text": "Cell 1 has changed since its execution, but it wasn't executed after the changes"
    },
    {
     "cellId": 2,
     "hash": "79811e9cccb9db39a3463a0bb76ae982f6318398",
     "reason": "A cell with results of a previous session may fail to execute or produce different results in this one, hampering the reproducibility.",
     "reportId": "h1",
     "reportType": "hiddenstate",
     "suggestion": "Please consider executing it to guarantee the reproducibility.",
     "text": "Cell 2 has execution results, but it wasn't executed on this session"
    },
    {
     "cellId": 3,
     "hash": "ae4852c7945fcddcbd60180b94fb80cfbc1f7333",
     "reason": "A cell with code changes may produce different results than what it generated before the changes, hampering the reproducibility.",
     "reportId": "h2",
     "reportType": "hiddenstate",
     "suggestion": "Please consider re-executing it to guarantee the reproducibility.",
     "text": "Cell 3 has changed since its execution, but it wasn't executed after the changes"
    },
    {
     "cellId": 4,
     "hash": "9847b5606028072267f5fafdc39133cab32b15b4",
     "reason": "A cell with results of a previous session may fail to execute or produce different results in this one, hampering the reproducibility.",
     "reportId": "h1",
     "reportType": "hiddenstate",
     "suggestion": "Please consider executing it to guarantee the reproducibility.",
     "text": "Cell 4 has execution results, but it wasn't executed on this session"
    },
    {
     "cellId": 6,
     "hash": "b2f4ccbdd82b0ff245eaf8262134f5ac2bcf64a9",
     "reason": "A cell with code changes may produce different results than what it generated before the changes, hampering the reproducibility.",
     "reportId": "h2",
     "reportType": "hiddenstate",
     "suggestion": "Please consider re-executing it to guarantee the reproducibility.",
     "text": "Cell 6 has changed since its execution, but it wasn't executed after the changes"
    },
    {
     "cellId": 3,
     "hash": "2148cbf51f697ef91b7e801b6920f0554044e653",
     "reason": "A skip in the execution count might indicate the presence of a hidden state caused by a cell that does not exist anymore. Hidden states might prevent cells from executing or producing the same results, hampering the reproducibility.",
     "reportId": "h4",
     "reportType": "hiddenstate",
     "suggestion": "Please consider re-running the notebook to guarantee the reproducibility.",
     "text": "Cell 3 skips the execution count"
    },
    {
     "cellId": 5,
     "hash": "d32007d5ff2568a7fcb8b16fd5762b7377545a6a",
     "reason": "A skip in the execution count might indicate the presence of a hidden state caused by a cell that does not exist anymore. Hidden states might prevent cells from executing or producing the same results, hampering the reproducibility.",
     "reportId": "h4",
     "reportType": "hiddenstate",
     "suggestion": "Please consider re-running the notebook to guarantee the reproducibility.",
     "text": "Cell 5 skips the execution count"
    },
    {
     "cellId": 1,
     "hash": "c2cbe07f93e784c2305da56cfcd3309b9e82ad00",
     "reason": "A skip in the execution count might indicate the presence of a hidden state caused by a cell that does not exist anymore. Hidden states might prevent cells from executing or producing the same results, hampering the reproducibility.",
     "reportId": "h4",
     "reportType": "hiddenstate",
     "suggestion": "Please consider re-running the notebook to guarantee the reproducibility.",
     "text": "Cell 1 skips the execution count"
    },
    {
     "cellId": 0,
     "hash": "4c83a6d8e400a760adc866a744d601b9724471c4",
     "reason": "A skip in the execution count might indicate the presence of a hidden state caused by a cell that does not exist anymore. Hidden states might prevent cells from executing or producing the same results, hampering the reproducibility.",
     "reportId": "h4",
     "reportType": "hiddenstate",
     "suggestion": "Please consider re-running the notebook to guarantee the reproducibility.",
     "text": "Cell 0 skips the execution count"
    },
    {
     "cellId": "group",
     "hash": "19d3d3d153f22e318cbe061df9e685ba5165b0aa",
     "reason": "This groups other lint messages",
     "reportId": "group",
     "reportType": "confusenotebook",
     "suggestion": null,
     "text": "Confuse Notebook"
    },
    {
     "cellId": 1,
     "hash": "c5373ef099a723ffba2381e53a7a9ece78d3fa7b",
     "reason": "When you try to run all cells following the top-down order, cells in the wrong order might fail to execute or produce different results, hampering the reproducibility.",
     "reportId": "c2",
     "reportType": "confusenotebook",
     "suggestion": "Please consider re-running the notebook to guarantee the reproducibility.",
     "text": "Cell 1 has the execution count 16 in the wrong order"
    },
    {
     "cellId": 3,
     "hash": "584acef4fc270b9d82fa30d984d551eb5a98d385",
     "reason": "When you try to run all cells following the top-down order, cells in the wrong order might fail to execute or produce different results, hampering the reproducibility.",
     "reportId": "c2",
     "reportType": "confusenotebook",
     "suggestion": "Please consider re-running the notebook to guarantee the reproducibility.",
     "text": "Cell 3 has the execution count 3 in the wrong order"
    },
    {
     "cellId": 5,
     "hash": "7b7698f90d55e834ddaacbfeba8daf8e79bab03a",
     "reason": "When you try to run all cells following the top-down order, cells in the wrong order might fail to execute or produce different results, hampering the reproducibility.",
     "reportId": "c2",
     "reportType": "confusenotebook",
     "suggestion": "Please consider re-running the notebook to guarantee the reproducibility.",
     "text": "Cell 5 has the execution count 14 in the wrong order"
    },
    {
     "cellId": 0,
     "hash": "57889b894955dd179702455f63ba97dc5de44732",
     "reason": "A markdown cell at the beginning of the notebook can provide a human-friendly title with no constraints and introduce the notebook, indicating its purpose and external requirements.",
     "reportId": "c4",
     "reportType": "confusenotebook",
     "suggestion": "Please consider adding a markdown cell to describe the notebook.",
     "text": "The first cell of the notebook is not a markdown cell"
    },
    {
     "cellId": 6,
     "hash": "daadb4971b5cb55619c6bd52b446c49961e760aa",
     "reason": "A markdown cell at the end of the notebook can conclude it, presenting a summary of the obtained results.",
     "reportId": "c5",
     "reportType": "confusenotebook",
     "suggestion": "Please consider adding a markdown cell to conclude the notebook.",
     "text": "The last cell of the notebook is not a markdown cell"
    }
   ]
  },
  "kernelspec": {
   "display_name": "Python 3",
   "language": "python",
   "name": "python3"
  },
  "language_info": {
   "codemirror_mode": {
    "name": "ipython",
    "version": 3
   },
   "file_extension": ".py",
   "mimetype": "text/x-python",
   "name": "python",
   "nbconvert_exporter": "python",
   "pygments_lexer": "ipython3",
   "version": "3.6.3"
  }
 },
 "nbformat": 4,
 "nbformat_minor": 4
}
