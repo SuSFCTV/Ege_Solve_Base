{
 "cells": [
  {
   "cell_type": "code",
   "execution_count": 18,
   "metadata": {},
   "outputs": [
    {
     "name": "stdout",
     "output_type": "stream",
     "text": [
      "37\n"
     ]
    }
   ],
   "source": [
    "f = open(\"data/27241/24_demo.txt\")\n",
    "s = f.read()\n",
    "# s = input()\n",
    "cnt, max_cnt = 0, 0\n",
    "for i in range(1, len(s) - 1):\n",
    "    if s[i - 1] != s[i + 1]:\n",
    "        cnt += 1\n",
    "    else:\n",
    "        max_cnt = max(cnt, max_cnt)\n",
    "        cnt = 0\n",
    "\n",
    "print(max_cnt)"
   ]
  },
  {
   "cell_type": "code",
   "execution_count": 16,
   "metadata": {},
   "outputs": [
    {
     "name": "stdout",
     "output_type": "stream",
     "text": [
      "10\n"
     ]
    }
   ],
   "source": [
    "f = open(\"data/27687/24_demo.txt\")\n",
    "cnt, max_cnt = 1, 1\n",
    "for i in range(1, len(s)):\n",
    "    if s[i] == \"Y\" == s[i - 1]:\n",
    "        cnt += 1\n",
    "    else:\n",
    "        max_cnt = max(cnt, max_cnt)\n",
    "        cnt = 1\n",
    "\n",
    "print(max_cnt)"
   ]
  },
  {
   "cell_type": "code",
   "execution_count": 19,
   "metadata": {},
   "outputs": [
    {
     "name": "stdout",
     "output_type": "stream",
     "text": [
      "974\n"
     ]
    }
   ],
   "source": [
    "f = open('data/K4042/data.txt')\n",
    "\n",
    "max_dist = 0\n",
    "line = f.readline()\n",
    "\n",
    "while (line):\n",
    "    if line.count('E') < 20:\n",
    "        for i in range(len(line)):\n",
    "            max_dist = max(max_dist, abs(line.rfind(line[i]) - i))\n",
    "    line = f.readline()\n",
    "            \n",
    "print(max_dist)"
   ]
  },
  {
   "cell_type": "code",
   "execution_count": 14,
   "metadata": {},
   "outputs": [
    {
     "data": {
      "text/plain": [
       "'b'"
      ]
     },
     "execution_count": 14,
     "metadata": {},
     "output_type": "execute_result"
    }
   ],
   "source": [
    "a = {\"k\": [1, 3], \"b\" : [2, 5]}\n"
   ]
  },
  {
   "cell_type": "code",
   "execution_count": 3,
   "metadata": {},
   "outputs": [
    {
     "name": "stdout",
     "output_type": "stream",
     "text": [
      "916\n"
     ]
    }
   ],
   "source": [
    "f = open('data/K4041/24-164.txt')\n",
    "max_dist = 0\n",
    "while (True):\n",
    "    line = f.readline()\n",
    "    if not(line):\n",
    "        break\n",
    "    if line.count('G') < 15:\n",
    "        for i in range (len(line)):\n",
    "            max_dist = max(max_dist, abs(i - line.rfind(line[i])))\n",
    "print(max_dist)"
   ]
  },
  {
   "cell_type": "code",
   "execution_count": 20,
   "metadata": {},
   "outputs": [
    {
     "name": "stdout",
     "output_type": "stream",
     "text": [
      "K 36582\n"
     ]
    }
   ],
   "source": [
    "f = open('data/K3786/data.txt')\n",
    "file_for_ans = open('data/K3786/data.txt')\n",
    "max_len = 0\n",
    "line = f.readline()\n",
    "max_str = ''\n",
    "\n",
    "while (line):\n",
    "    line = f.readline()\n",
    "    cur_len = 0\n",
    "    for i in range (1, len(line)):\n",
    "        if line[i] == line[i - 1]:\n",
    "            cur_len += 1\n",
    "        elif cur_len > max_len:\n",
    "            max_len = cur_len\n",
    "            max_str = line\n",
    "        elif line[i] != line[i - 1]:\n",
    "            cur_len = 0\n",
    "\n",
    "dictionary = {}\n",
    "for elem in max_str:\n",
    "    if elem in dictionary: \n",
    "        dictionary[elem] += 1\n",
    "    else:\n",
    "        dictionary.update({elem : 1})\n",
    "\n",
    "max_value, max_key = 0, 0 \n",
    "\n",
    "for key in dictionary:\n",
    "    value = dictionary[key]\n",
    "    if value > max_value:\n",
    "        max_value = value\n",
    "        max_key = key\n",
    "        \n",
    "    elif value == max_value and key < max_key:\n",
    "        max_key = key\n",
    "\n",
    "print(max_key, file_for_ans.read().count(max_key))      \n",
    "        \n"
   ]
  },
  {
   "cell_type": "code",
   "execution_count": 14,
   "metadata": {},
   "outputs": [
    {
     "name": "stdout",
     "output_type": "stream",
     "text": [
      "75\n"
     ]
    }
   ],
   "source": [
    "f = open('data/K3348/data.txt')\n",
    "s = f.read()\n",
    "max_len = 0\n",
    "current_len = 0\n",
    "i = 0\n",
    "\n",
    "while i < len(s)-2:\n",
    "    if s[i: i + 3] == 'КОТ':\n",
    "        current_len += 1\n",
    "        max_len = max(max_len, current_len)\n",
    "        i += 3\n",
    "    else:\n",
    "        current_len = 0\n",
    "        i += 1\n",
    "        \n",
    "print(max_len)"
   ]
  },
  {
   "cell_type": "code",
   "execution_count": 8,
   "metadata": {},
   "outputs": [
    {
     "name": "stdout",
     "output_type": "stream",
     "text": [
      "38412\n"
     ]
    }
   ],
   "source": [
    "f = open(\"data/K3782/data.txt\")\n",
    "s_file = open(\"data/K3782/data.txt\").read()\n",
    "line = f.readline()\n",
    "count_line = []\n",
    "while line:\n",
    "    count_line.append([line, line.count('Q')])\n",
    "    line = f.readline()\n",
    "\n",
    "count_line = list(reversed(sorted(count_line, key = lambda x: x[1])))\n",
    "alphabet = {}\n",
    "\n",
    "for elem in count_line[0][0]:\n",
    "    if elem in alphabet:\n",
    "        alphabet[elem] += 1\n",
    "    else:\n",
    "        alphabet.update({elem: 1})\n",
    "\n",
    "list_at = sorted(list([x, alphabet[x]] for x in alphabet), key = lambda x: x[1])\n",
    "print(s_file.count(\"C\"))"
   ]
  },
  {
   "cell_type": "code",
   "execution_count": 2,
   "metadata": {},
   "outputs": [
    {
     "name": "stdout",
     "output_type": "stream",
     "text": [
      "784\n"
     ]
    }
   ],
   "source": [
    "f = open(\"data/KSMT/data.txt\")\n",
    "\n",
    "s = f.readline()\n",
    "count_string = 0\n",
    "\n",
    "while(s):\n",
    "    for i in range(2, len(s)):\n",
    "        if s[i - 2] == \"A\" and s[i] == \"R\":\n",
    "            count_string += 1\n",
    "            break\n",
    "    s = f.readline()\n",
    "\n",
    "print(count_string)"
   ]
  },
  {
   "cell_type": "code",
   "execution_count": 4,
   "metadata": {},
   "outputs": [
    {
     "name": "stdout",
     "output_type": "stream",
     "text": [
      "K 1547\n"
     ]
    }
   ],
   "source": [
    "s = open(\"data/EGE33769/data.txt\").read()\n",
    "\n",
    "alphabet = {}\n",
    "\n",
    "for i in range(2, len(s)):\n",
    "    \n",
    "    if s[i - 1] == s[i - 2]:\n",
    "        \n",
    "        if s[i] in alphabet:\n",
    "            alphabet[s[i]] += 1\n",
    "        else:\n",
    "            alphabet.update({s[i]: 1})\n",
    "\n",
    "max_key, max_value = \"\", 0\n",
    "\n",
    "for key in alphabet:\n",
    "    if alphabet[key] > max_value:\n",
    "        max_key = key\n",
    "        max_value = alphabet[key]\n",
    "\n",
    "print(max_key, max_value)\n",
    "            "
   ]
  },
  {
   "cell_type": "code",
   "execution_count": null,
   "metadata": {},
   "outputs": [],
   "source": []
  }
 ],
 "metadata": {
  "julynter-results": {
   "filteredId": [],
   "filteredIndividual": [],
   "filteredRestart": [],
   "filteredType": [],
   "hash": "3115454b5aca273280d04ac8001219f818684fff",
   "visible": [
    {
     "cellId": "group",
     "hash": "c0de46ba034d710c2b2406a37ee6816be9634aa0",
     "reason": "This groups other lint messages",
     "reportId": "group",
     "reportType": "hiddenstate",
     "suggestion": null,
     "text": "Hidden State"
    },
    {
     "cellId": 0,
     "hash": "84eea4f2220fe8a325e4df4583b99bdf2941633f",
     "reason": "A cell with code changes may produce different results than what it generated before the changes, hampering the reproducibility.",
     "reportId": "h2",
     "reportType": "hiddenstate",
     "suggestion": "Please consider re-executing it to guarantee the reproducibility.",
     "text": "Cell 0 has changed since its execution, but it wasn't executed after the changes"
    },
    {
     "cellId": 1,
     "hash": "ab48128c8f4e44d9f3a354ed88b5b686e1862480",
     "reason": "A cell with code changes may produce different results than what it generated before the changes, hampering the reproducibility.",
     "reportId": "h2",
     "reportType": "hiddenstate",
     "suggestion": "Please consider re-executing it to guarantee the reproducibility.",
     "text": "Cell 1 has changed since its execution, but it wasn't executed after the changes"
    },
    {
     "cellId": 3,
     "hash": "07e586aae73b9d388f6a394080e947ddf70381d1",
     "reason": "A cell with code changes may produce different results than what it generated before the changes, hampering the reproducibility.",
     "reportId": "h2",
     "reportType": "hiddenstate",
     "suggestion": "Please consider re-executing it to guarantee the reproducibility.",
     "text": "Cell 3 has changed since its execution, but it wasn't executed after the changes"
    },
    {
     "cellId": 4,
     "hash": "9f80880cbd5dbc7e0110bf6f9ab54bb37884bff5",
     "reason": "A cell with code changes may produce different results than what it generated before the changes, hampering the reproducibility.",
     "reportId": "h2",
     "reportType": "hiddenstate",
     "suggestion": "Please consider re-executing it to guarantee the reproducibility.",
     "text": "Cell 4 has changed since its execution, but it wasn't executed after the changes"
    },
    {
     "cellId": 5,
     "hash": "9847b5606028072267f5fafdc39133cab32b15b4",
     "reason": "A cell with results of a previous session may fail to execute or produce different results in this one, hampering the reproducibility.",
     "reportId": "h1",
     "reportType": "hiddenstate",
     "suggestion": "Please consider executing it to guarantee the reproducibility.",
     "text": "Cell 5 has execution results, but it wasn't executed on this session"
    },
    {
     "cellId": 6,
     "hash": "07e586aae73b9d388f6a394080e947ddf70381d1",
     "reason": "A cell with code changes may produce different results than what it generated before the changes, hampering the reproducibility.",
     "reportId": "h2",
     "reportType": "hiddenstate",
     "suggestion": "Please consider re-executing it to guarantee the reproducibility.",
     "text": "Cell 6 has changed since its execution, but it wasn't executed after the changes"
    },
    {
     "cellId": 6,
     "hash": "4d9cd609ef49b9b728d0b772a65dc909ba870dbd",
     "reason": "A cell with a repeated execution count indicates that there are results of multiple execution sessions in this notebook. Running all cells in the top-down order might produce different results, hampering the reproducibility.",
     "reportId": "h3",
     "reportType": "hiddenstate",
     "suggestion": "Please consider re-running the cell to guarantee the reproducibility.",
     "text": "Cell 6 repeats the execution count 14"
    },
    {
     "cellId": 7,
     "hash": "1aace274a4968b113bda40966f9e38732b028b91",
     "reason": "A cell with code changes may produce different results than what it generated before the changes, hampering the reproducibility.",
     "reportId": "h2",
     "reportType": "hiddenstate",
     "suggestion": "Please consider re-executing it to guarantee the reproducibility.",
     "text": "Cell 7 has changed since its execution, but it wasn't executed after the changes"
    },
    {
     "cellId": 8,
     "hash": "b451eba530c64b03a1e222ddc783942d0149099a",
     "reason": "A skip in the execution count might indicate the presence of a hidden state caused by a cell that does not exist anymore. Hidden states might prevent cells from executing or producing the same results, hampering the reproducibility.",
     "reportId": "h4",
     "reportType": "hiddenstate",
     "suggestion": "Please consider re-running the notebook to guarantee the reproducibility.",
     "text": "Cell 8 skips the execution count"
    },
    {
     "cellId": 7,
     "hash": "66101ca50ae11711278f502ee98690731ac672c8",
     "reason": "A skip in the execution count might indicate the presence of a hidden state caused by a cell that does not exist anymore. Hidden states might prevent cells from executing or producing the same results, hampering the reproducibility.",
     "reportId": "h4",
     "reportType": "hiddenstate",
     "suggestion": "Please consider re-running the notebook to guarantee the reproducibility.",
     "text": "Cell 7 skips the execution count"
    },
    {
     "cellId": 6,
     "hash": "d32007d5ff2568a7fcb8b16fd5762b7377545a6a",
     "reason": "A skip in the execution count might indicate the presence of a hidden state caused by a cell that does not exist anymore. Hidden states might prevent cells from executing or producing the same results, hampering the reproducibility.",
     "reportId": "h4",
     "reportType": "hiddenstate",
     "suggestion": "Please consider re-running the notebook to guarantee the reproducibility.",
     "text": "Cell 6 skips the execution count"
    },
    {
     "cellId": 1,
     "hash": "c2cbe07f93e784c2305da56cfcd3309b9e82ad00",
     "reason": "A skip in the execution count might indicate the presence of a hidden state caused by a cell that does not exist anymore. Hidden states might prevent cells from executing or producing the same results, hampering the reproducibility.",
     "reportId": "h4",
     "reportType": "hiddenstate",
     "suggestion": "Please consider re-running the notebook to guarantee the reproducibility.",
     "text": "Cell 1 skips the execution count"
    },
    {
     "cellId": 0,
     "hash": "4c83a6d8e400a760adc866a744d601b9724471c4",
     "reason": "A skip in the execution count might indicate the presence of a hidden state caused by a cell that does not exist anymore. Hidden states might prevent cells from executing or producing the same results, hampering the reproducibility.",
     "reportId": "h4",
     "reportType": "hiddenstate",
     "suggestion": "Please consider re-running the notebook to guarantee the reproducibility.",
     "text": "Cell 0 skips the execution count"
    },
    {
     "cellId": "group",
     "hash": "19d3d3d153f22e318cbe061df9e685ba5165b0aa",
     "reason": "This groups other lint messages",
     "reportId": "group",
     "reportType": "confusenotebook",
     "suggestion": null,
     "text": "Confuse Notebook"
    },
    {
     "cellId": 1,
     "hash": "c5373ef099a723ffba2381e53a7a9ece78d3fa7b",
     "reason": "When you try to run all cells following the top-down order, cells in the wrong order might fail to execute or produce different results, hampering the reproducibility.",
     "reportId": "c2",
     "reportType": "confusenotebook",
     "suggestion": "Please consider re-running the notebook to guarantee the reproducibility.",
     "text": "Cell 1 has the execution count 16 in the wrong order"
    },
    {
     "cellId": 3,
     "hash": "795c338ce141d084f71b97ca80b78c2a6a532e64",
     "reason": "When you try to run all cells following the top-down order, cells in the wrong order might fail to execute or produce different results, hampering the reproducibility.",
     "reportId": "c2",
     "reportType": "confusenotebook",
     "suggestion": "Please consider re-running the notebook to guarantee the reproducibility.",
     "text": "Cell 3 has the execution count 14 in the wrong order"
    },
    {
     "cellId": 4,
     "hash": "584acef4fc270b9d82fa30d984d551eb5a98d385",
     "reason": "When you try to run all cells following the top-down order, cells in the wrong order might fail to execute or produce different results, hampering the reproducibility.",
     "reportId": "c2",
     "reportType": "confusenotebook",
     "suggestion": "Please consider re-running the notebook to guarantee the reproducibility.",
     "text": "Cell 4 has the execution count 3 in the wrong order"
    },
    {
     "cellId": 6,
     "hash": "7b7698f90d55e834ddaacbfeba8daf8e79bab03a",
     "reason": "When you try to run all cells following the top-down order, cells in the wrong order might fail to execute or produce different results, hampering the reproducibility.",
     "reportId": "c2",
     "reportType": "confusenotebook",
     "suggestion": "Please consider re-running the notebook to guarantee the reproducibility.",
     "text": "Cell 6 has the execution count 14 in the wrong order"
    },
    {
     "cellId": 7,
     "hash": "d22c58cba295658fbd9258463fe498c89a8c7569",
     "reason": "When you try to run all cells following the top-down order, cells in the wrong order might fail to execute or produce different results, hampering the reproducibility.",
     "reportId": "c2",
     "reportType": "confusenotebook",
     "suggestion": "Please consider re-running the notebook to guarantee the reproducibility.",
     "text": "Cell 7 has the execution count 8 in the wrong order"
    },
    {
     "cellId": 8,
     "hash": "f5db66aa7c9b2b4ab8fd363b40854c3e3274ddd1",
     "reason": "When you try to run all cells following the top-down order, cells in the wrong order might fail to execute or produce different results, hampering the reproducibility.",
     "reportId": "c2",
     "reportType": "confusenotebook",
     "suggestion": "Please consider re-running the notebook to guarantee the reproducibility.",
     "text": "Cell 8 has the execution count 2 in the wrong order"
    },
    {
     "cellId": 0,
     "hash": "57889b894955dd179702455f63ba97dc5de44732",
     "reason": "A markdown cell at the beginning of the notebook can provide a human-friendly title with no constraints and introduce the notebook, indicating its purpose and external requirements.",
     "reportId": "c4",
     "reportType": "confusenotebook",
     "suggestion": "Please consider adding a markdown cell to describe the notebook.",
     "text": "The first cell of the notebook is not a markdown cell"
    },
    {
     "cellId": 9,
     "hash": "9d7797165433e3d2ecbe6b6a2f40e86a2a7046a3",
     "reason": "A markdown cell at the end of the notebook can conclude it, presenting a summary of the obtained results.",
     "reportId": "c5",
     "reportType": "confusenotebook",
     "suggestion": "Please consider adding a markdown cell to conclude the notebook.",
     "text": "The last cell of the notebook is not a markdown cell"
    }
   ]
  },
  "kernelspec": {
   "display_name": "Python 3",
   "language": "python",
   "name": "python3"
  },
  "language_info": {
   "codemirror_mode": {
    "name": "ipython",
    "version": 3
   },
   "file_extension": ".py",
   "mimetype": "text/x-python",
   "name": "python",
   "nbconvert_exporter": "python",
   "pygments_lexer": "ipython3",
   "version": "3.6.3"
  }
 },
 "nbformat": 4,
 "nbformat_minor": 4
}
