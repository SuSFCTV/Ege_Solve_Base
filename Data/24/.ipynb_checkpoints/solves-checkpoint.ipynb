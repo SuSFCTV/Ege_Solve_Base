{
 "cells": [
  {
   "cell_type": "markdown",
   "metadata": {},
   "source": [
    "### Task_def_27421\n",
    "![](https://github.com/vaskers5/Ege_Solve_Base/blob/main/Data/24/data/27241/27241.png?raw=true)"
   ]
  },
  {
   "cell_type": "code",
   "execution_count": 18,
   "metadata": {},
   "outputs": [
    {
     "name": "stdout",
     "output_type": "stream",
     "text": [
      "37\n"
     ]
    }
   ],
   "source": [
    "f = open(\"data/27241/24_demo.txt\")\n",
    "s = f.read()\n",
    "# s = input()\n",
    "cnt, max_cnt = 0, 0\n",
    "for i in range(1, len(s) - 1):\n",
    "    if s[i - 1] != s[i + 1]:\n",
    "        cnt += 1\n",
    "    else:\n",
    "        max_cnt = max(cnt, max_cnt)\n",
    "        cnt = 0\n",
    "\n",
    "print(max_cnt)"
   ]
  },
  {
   "cell_type": "markdown",
   "metadata": {},
   "source": [
    "### Task_def_27687\n",
    "![](https://github.com/vaskers5/Ege_Solve_Base/blob/main/Data/24/data/27687/27687.png?raw=true)"
   ]
  },
  {
   "cell_type": "code",
   "execution_count": 16,
   "metadata": {},
   "outputs": [
    {
     "name": "stdout",
     "output_type": "stream",
     "text": [
      "10\n"
     ]
    }
   ],
   "source": [
    "f = open(\"data/27687/24_demo.txt\")\n",
    "cnt, max_cnt = 1, 1\n",
    "for i in range(1, len(s)):\n",
    "    if s[i] == \"Y\" == s[i - 1]:\n",
    "        cnt += 1\n",
    "    else:\n",
    "        max_cnt = max(cnt, max_cnt)\n",
    "        cnt = 1\n",
    "\n",
    "print(max_cnt)"
   ]
  },
  {
   "cell_type": "markdown",
   "metadata": {},
   "source": [
    "### Task_def_4042\n",
    "![](https://github.com/vaskers5/Ege_Solve_Base/blob/main/Data/24/data/K4042/4042.png?raw=true)"
   ]
  },
  {
   "cell_type": "code",
   "execution_count": 19,
   "metadata": {},
   "outputs": [
    {
     "name": "stdout",
     "output_type": "stream",
     "text": [
      "974\n"
     ]
    }
   ],
   "source": [
    "f = open('data/K4042/data.txt')\n",
    "\n",
    "max_dist = 0\n",
    "line = f.readline()\n",
    "\n",
    "while (line):\n",
    "    if line.count('E') < 20:\n",
    "        for i in range(len(line)):\n",
    "            max_dist = max(max_dist, abs(line.rfind(line[i]) - i))\n",
    "    line = f.readline()\n",
    "            \n",
    "print(max_dist)"
   ]
  },
  {
   "cell_type": "markdown",
   "metadata": {},
   "source": [
    "### Task_def_4041\n",
    "![](https://github.com/vaskers5/Ege_Solve_Base/blob/main/Data/24/data/K4042/4042.png?raw=true)"
   ]
  },
  {
   "cell_type": "code",
   "execution_count": 3,
   "metadata": {},
   "outputs": [
    {
     "name": "stdout",
     "output_type": "stream",
     "text": [
      "916\n"
     ]
    }
   ],
   "source": [
    "f = open('data/K4041/24-164.txt')\n",
    "max_dist = 0\n",
    "while (True):\n",
    "    line = f.readline()\n",
    "    if not(line):\n",
    "        break\n",
    "    if line.count('G') < 15:\n",
    "        for i in range (len(line)):\n",
    "            max_dist = max(max_dist, abs(i - line.rfind(line[i])))\n",
    "print(max_dist)"
   ]
  },
  {
   "cell_type": "markdown",
   "metadata": {},
   "source": [
    "### Task_def_3786\n",
    "![](https://github.com/vaskers5/Ege_Solve_Base/blob/main/Data/24/data/K3786/3786.png?raw=true)"
   ]
  },
  {
   "cell_type": "code",
   "execution_count": 20,
   "metadata": {},
   "outputs": [
    {
     "name": "stdout",
     "output_type": "stream",
     "text": [
      "K 36582\n"
     ]
    }
   ],
   "source": [
    "f = open('data/K3786/data.txt')\n",
    "file_for_ans = open('data/K3786/data.txt')\n",
    "max_len = 0\n",
    "line = f.readline()\n",
    "max_str = ''\n",
    "\n",
    "while (line):\n",
    "    line = f.readline()\n",
    "    cur_len = 0\n",
    "    for i in range (1, len(line)):\n",
    "        if line[i] == line[i - 1]:\n",
    "            cur_len += 1\n",
    "        elif cur_len > max_len:\n",
    "            max_len = cur_len\n",
    "            max_str = line\n",
    "        elif line[i] != line[i - 1]:\n",
    "            cur_len = 0\n",
    "\n",
    "dictionary = {}\n",
    "for elem in max_str:\n",
    "    if elem in dictionary: \n",
    "        dictionary[elem] += 1\n",
    "    else:\n",
    "        dictionary.update({elem : 1})\n",
    "\n",
    "max_value, max_key = 0, 0 \n",
    "\n",
    "for key in dictionary:\n",
    "    value = dictionary[key]\n",
    "    if value > max_value:\n",
    "        max_value = value\n",
    "        max_key = key\n",
    "        \n",
    "    elif value == max_value and key < max_key:\n",
    "        max_key = key\n",
    "\n",
    "print(max_key, file_for_ans.read().count(max_key))      \n",
    "        \n"
   ]
  },
  {
   "cell_type": "markdown",
   "metadata": {},
   "source": [
    "### Task_def_3348\n",
    "![](https://github.com/vaskers5/Ege_Solve_Base/blob/main/Data/24/data/K3348/3348.png?raw=true)"
   ]
  },
  {
   "cell_type": "code",
   "execution_count": 14,
   "metadata": {},
   "outputs": [
    {
     "name": "stdout",
     "output_type": "stream",
     "text": [
      "75\n"
     ]
    }
   ],
   "source": [
    "f = open('data/K3348/data.txt')\n",
    "s = f.read()\n",
    "max_len = 0\n",
    "current_len = 0\n",
    "i = 0\n",
    "\n",
    "while i < len(s)-2:\n",
    "    if s[i: i + 3] == 'КОТ':\n",
    "        current_len += 1\n",
    "        max_len = max(max_len, current_len)\n",
    "        i += 3\n",
    "    else:\n",
    "        current_len = 0\n",
    "        i += 1\n",
    "        \n",
    "print(max_len)"
   ]
  },
  {
   "cell_type": "markdown",
   "metadata": {},
   "source": [
    "### Task_def_3782\n",
    "![](https://github.com/vaskers5/Ege_Solve_Base/blob/main/Data/24/data/K3782/3782.png?raw=true)"
   ]
  },
  {
   "cell_type": "code",
   "execution_count": 8,
   "metadata": {},
   "outputs": [
    {
     "name": "stdout",
     "output_type": "stream",
     "text": [
      "38412\n"
     ]
    }
   ],
   "source": [
    "f = open(\"data/K3782/data.txt\")\n",
    "s_file = open(\"data/K3782/data.txt\").read()\n",
    "line = f.readline()\n",
    "count_line = []\n",
    "while line:\n",
    "    count_line.append([line, line.count('Q')])\n",
    "    line = f.readline()\n",
    "\n",
    "count_line = list(reversed(sorted(count_line, key = lambda x: x[1])))\n",
    "alphabet = {}\n",
    "\n",
    "for elem in count_line[0][0]:\n",
    "    if elem in alphabet:\n",
    "        alphabet[elem] += 1\n",
    "    else:\n",
    "        alphabet.update({elem: 1})\n",
    "\n",
    "list_at = sorted(list([x, alphabet[x]] for x in alphabet), key = lambda x: x[1])\n",
    "print(s_file.count(\"C\"))"
   ]
  },
  {
   "cell_type": "markdown",
   "metadata": {},
   "source": [
    "### Task_def_33769\n",
    "![](https://github.com/vaskers5/Ege_Solve_Base/blob/main/Data/24/data/33769/33769.png?raw=true)"
   ]
  },
  {
   "cell_type": "code",
   "execution_count": 4,
   "metadata": {},
   "outputs": [
    {
     "name": "stdout",
     "output_type": "stream",
     "text": [
      "K 1547\n"
     ]
    }
   ],
   "source": [
    "s = open(\"data/EGE33769/data.txt\").read()\n",
    "\n",
    "alphabet = {}\n",
    "\n",
    "for i in range(2, len(s)):\n",
    "    \n",
    "    if s[i - 1] == s[i - 2]:\n",
    "        \n",
    "        if s[i] in alphabet:\n",
    "            alphabet[s[i]] += 1\n",
    "        else:\n",
    "            alphabet.update({s[i]: 1})\n",
    "\n",
    "max_key, max_value = \"\", 0\n",
    "\n",
    "for key in alphabet:\n",
    "    if alphabet[key] > max_value:\n",
    "        max_key = key\n",
    "        max_value = alphabet[key]\n",
    "\n",
    "print(max_key, max_value)\n",
    "            "
   ]
  },
  {
   "cell_type": "markdown",
   "metadata": {},
   "source": [
    "### Task_def_4139\n",
    "![](https://github.com/vaskers5/Ege_Solve_Base/blob/main/Data/24/data/K4139/4139.png?raw=true)"
   ]
  },
  {
   "cell_type": "code",
   "execution_count": 3,
   "metadata": {},
   "outputs": [
    {
     "name": "stdout",
     "output_type": "stream",
     "text": [
      "66\n"
     ]
    }
   ],
   "source": [
    "f = open(\"data/K4139/data.txt\")\n",
    "\n",
    "s = f.read()\n",
    "\n",
    "max_len, cur_len, cur_cur = 0, 0, 0\n",
    "\n",
    "for i in range(len(s)):\n",
    "    if s[i] == \"X\" and cur_cur == 0:\n",
    "        cur_cur += 1\n",
    "    elif s[i] == \"Y\" and cur_cur == 1:\n",
    "        cur_cur += 1\n",
    "    elif s[i] == \"Z\" and cur_cur == 2:\n",
    "        cur_cur += 1\n",
    "        cur_len += 1\n",
    "        cur_cur = 0\n",
    "    else:\n",
    "        max_len = max(max_len, cur_len)\n",
    "        cur_len = 0\n",
    "        cur_cur = 0\n",
    "\n",
    "print(max_len * 3)\n",
    "        "
   ]
  },
  {
   "cell_type": "markdown",
   "metadata": {},
   "source": [
    "### Task_2557_def"
   ]
  },
  {
   "cell_type": "code",
   "execution_count": 3,
   "metadata": {},
   "outputs": [
    {
     "name": "stdout",
     "output_type": "stream",
     "text": [
      "757\n"
     ]
    }
   ],
   "source": [
    "f = open(\"data/K2557/data.txt\")\n",
    "\n",
    "ans = 0\n",
    "\n",
    "for line in f:\n",
    "    for i in range(1,len(line) - 1):\n",
    "        if line[i - 1] == \"F\" and line[i + 1] == \"O\":\n",
    "            ans += 1\n",
    "            break\n",
    "print(ans)"
   ]
  },
  {
   "cell_type": "code",
   "execution_count": null,
   "metadata": {},
   "outputs": [],
   "source": []
  }
 ],
 "metadata": {
  "julynter-results": {
   "filteredId": [],
   "filteredIndividual": [],
   "filteredRestart": [],
   "filteredType": [],
   "hash": "8ada1b8b4603d0ed162189c2cee504c340ebf600",
   "visible": [
    {
     "cellId": "group",
     "hash": "c0de46ba034d710c2b2406a37ee6816be9634aa0",
     "reason": "This groups other lint messages",
     "reportId": "group",
     "reportType": "hiddenstate",
     "suggestion": null,
     "text": "Hidden State"
    },
    {
     "cellId": 1,
     "hash": "ee5218708fc5c98fab42e01c89671d2c5180b916",
     "reason": "A cell with results of a previous session may fail to execute or produce different results in this one, hampering the reproducibility.",
     "reportId": "h1",
     "reportType": "hiddenstate",
     "suggestion": "Please consider executing it to guarantee the reproducibility.",
     "text": "Cell 1 has execution results, but it wasn't executed on this session"
    },
    {
     "cellId": 3,
     "hash": "2f135e87ba84d45f25f293331fb6bc34978a62e7",
     "reason": "A cell with results of a previous session may fail to execute or produce different results in this one, hampering the reproducibility.",
     "reportId": "h1",
     "reportType": "hiddenstate",
     "suggestion": "Please consider executing it to guarantee the reproducibility.",
     "text": "Cell 3 has execution results, but it wasn't executed on this session"
    },
    {
     "cellId": 5,
     "hash": "f7ebd4ad7b13b6fd505b3f92a0153b9e80cd9ad4",
     "reason": "A cell with results of a previous session may fail to execute or produce different results in this one, hampering the reproducibility.",
     "reportId": "h1",
     "reportType": "hiddenstate",
     "suggestion": "Please consider executing it to guarantee the reproducibility.",
     "text": "Cell 5 has execution results, but it wasn't executed on this session"
    },
    {
     "cellId": 7,
     "hash": "cb260f9b1e5e1a48712c5f83ff8893ea115c9e9f",
     "reason": "A cell with code changes may produce different results than what it generated before the changes, hampering the reproducibility.",
     "reportId": "h2",
     "reportType": "hiddenstate",
     "suggestion": "Please consider re-executing it to guarantee the reproducibility.",
     "text": "Cell 7 has changed since its execution, but it wasn't executed after the changes"
    },
    {
     "cellId": 9,
     "hash": "9847b5606028072267f5fafdc39133cab32b15b4",
     "reason": "A cell with results of a previous session may fail to execute or produce different results in this one, hampering the reproducibility.",
     "reportId": "h1",
     "reportType": "hiddenstate",
     "suggestion": "Please consider executing it to guarantee the reproducibility.",
     "text": "Cell 9 has execution results, but it wasn't executed on this session"
    },
    {
     "cellId": 11,
     "hash": "b9da72b84abee7026ad49197f91a09d3321d593c",
     "reason": "A cell with results of a previous session may fail to execute or produce different results in this one, hampering the reproducibility.",
     "reportId": "h1",
     "reportType": "hiddenstate",
     "suggestion": "Please consider executing it to guarantee the reproducibility.",
     "text": "Cell 11 has execution results, but it wasn't executed on this session"
    },
    {
     "cellId": 13,
     "hash": "988a27e8cda06278840a8bc8453d5acf0aff1d7f",
     "reason": "A cell with results of a previous session may fail to execute or produce different results in this one, hampering the reproducibility.",
     "reportId": "h1",
     "reportType": "hiddenstate",
     "suggestion": "Please consider executing it to guarantee the reproducibility.",
     "text": "Cell 13 has execution results, but it wasn't executed on this session"
    },
    {
     "cellId": 15,
     "hash": "838277d928f3c6ff829ff66844cb6700a0cc0df7",
     "reason": "A cell with results of a previous session may fail to execute or produce different results in this one, hampering the reproducibility.",
     "reportId": "h1",
     "reportType": "hiddenstate",
     "suggestion": "Please consider executing it to guarantee the reproducibility.",
     "text": "Cell 15 has execution results, but it wasn't executed on this session"
    },
    {
     "cellId": 17,
     "hash": "cb260f9b1e5e1a48712c5f83ff8893ea115c9e9f",
     "reason": "A cell with code changes may produce different results than what it generated before the changes, hampering the reproducibility.",
     "reportId": "h2",
     "reportType": "hiddenstate",
     "suggestion": "Please consider re-executing it to guarantee the reproducibility.",
     "text": "Cell 17 has changed since its execution, but it wasn't executed after the changes"
    },
    {
     "cellId": 17,
     "hash": "884351ee035687dbfb3da46ea6ee45d8daa4a77e",
     "reason": "A cell with a repeated execution count indicates that there are results of multiple execution sessions in this notebook. Running all cells in the top-down order might produce different results, hampering the reproducibility.",
     "reportId": "h3",
     "reportType": "hiddenstate",
     "suggestion": "Please consider re-running the cell to guarantee the reproducibility.",
     "text": "Cell 17 repeats the execution count 3"
    },
    {
     "cellId": 19,
     "hash": "d708d959dcf4a146f43f71a9aed3338b314c2d98",
     "reason": "A cell with a repeated execution count indicates that there are results of multiple execution sessions in this notebook. Running all cells in the top-down order might produce different results, hampering the reproducibility.",
     "reportId": "h3",
     "reportType": "hiddenstate",
     "suggestion": "Please consider re-running the cell to guarantee the reproducibility.",
     "text": "Cell 19 repeats the execution count 3"
    },
    {
     "cellId": 19,
     "hash": "a871a766fd5ccdadb4cf42b4ca1857c4b9edfcc0",
     "reason": "A skip in the execution count might indicate the presence of a hidden state caused by a cell that does not exist anymore. Hidden states might prevent cells from executing or producing the same results, hampering the reproducibility.",
     "reportId": "h4",
     "reportType": "hiddenstate",
     "suggestion": "Please consider re-running the notebook to guarantee the reproducibility.",
     "text": "Cell 19 skips the execution count"
    },
    {
     "cellId": 13,
     "hash": "66101ca50ae11711278f502ee98690731ac672c8",
     "reason": "A skip in the execution count might indicate the presence of a hidden state caused by a cell that does not exist anymore. Hidden states might prevent cells from executing or producing the same results, hampering the reproducibility.",
     "reportId": "h4",
     "reportType": "hiddenstate",
     "suggestion": "Please consider re-running the notebook to guarantee the reproducibility.",
     "text": "Cell 13 skips the execution count"
    },
    {
     "cellId": 11,
     "hash": "d32007d5ff2568a7fcb8b16fd5762b7377545a6a",
     "reason": "A skip in the execution count might indicate the presence of a hidden state caused by a cell that does not exist anymore. Hidden states might prevent cells from executing or producing the same results, hampering the reproducibility.",
     "reportId": "h4",
     "reportType": "hiddenstate",
     "suggestion": "Please consider re-running the notebook to guarantee the reproducibility.",
     "text": "Cell 11 skips the execution count"
    },
    {
     "cellId": 3,
     "hash": "c2cbe07f93e784c2305da56cfcd3309b9e82ad00",
     "reason": "A skip in the execution count might indicate the presence of a hidden state caused by a cell that does not exist anymore. Hidden states might prevent cells from executing or producing the same results, hampering the reproducibility.",
     "reportId": "h4",
     "reportType": "hiddenstate",
     "suggestion": "Please consider re-running the notebook to guarantee the reproducibility.",
     "text": "Cell 3 skips the execution count"
    },
    {
     "cellId": 1,
     "hash": "4c83a6d8e400a760adc866a744d601b9724471c4",
     "reason": "A skip in the execution count might indicate the presence of a hidden state caused by a cell that does not exist anymore. Hidden states might prevent cells from executing or producing the same results, hampering the reproducibility.",
     "reportId": "h4",
     "reportType": "hiddenstate",
     "suggestion": "Please consider re-running the notebook to guarantee the reproducibility.",
     "text": "Cell 1 skips the execution count"
    },
    {
     "cellId": "group",
     "hash": "19d3d3d153f22e318cbe061df9e685ba5165b0aa",
     "reason": "This groups other lint messages",
     "reportId": "group",
     "reportType": "confusenotebook",
     "suggestion": null,
     "text": "Confuse Notebook"
    },
    {
     "cellId": 3,
     "hash": "c5373ef099a723ffba2381e53a7a9ece78d3fa7b",
     "reason": "When you try to run all cells following the top-down order, cells in the wrong order might fail to execute or produce different results, hampering the reproducibility.",
     "reportId": "c2",
     "reportType": "confusenotebook",
     "suggestion": "Please consider re-running the notebook to guarantee the reproducibility.",
     "text": "Cell 3 has the execution count 16 in the wrong order"
    },
    {
     "cellId": 7,
     "hash": "584acef4fc270b9d82fa30d984d551eb5a98d385",
     "reason": "When you try to run all cells following the top-down order, cells in the wrong order might fail to execute or produce different results, hampering the reproducibility.",
     "reportId": "c2",
     "reportType": "confusenotebook",
     "suggestion": "Please consider re-running the notebook to guarantee the reproducibility.",
     "text": "Cell 7 has the execution count 3 in the wrong order"
    },
    {
     "cellId": 11,
     "hash": "7b7698f90d55e834ddaacbfeba8daf8e79bab03a",
     "reason": "When you try to run all cells following the top-down order, cells in the wrong order might fail to execute or produce different results, hampering the reproducibility.",
     "reportId": "c2",
     "reportType": "confusenotebook",
     "suggestion": "Please consider re-running the notebook to guarantee the reproducibility.",
     "text": "Cell 11 has the execution count 14 in the wrong order"
    },
    {
     "cellId": 13,
     "hash": "d22c58cba295658fbd9258463fe498c89a8c7569",
     "reason": "When you try to run all cells following the top-down order, cells in the wrong order might fail to execute or produce different results, hampering the reproducibility.",
     "reportId": "c2",
     "reportType": "confusenotebook",
     "suggestion": "Please consider re-running the notebook to guarantee the reproducibility.",
     "text": "Cell 13 has the execution count 8 in the wrong order"
    },
    {
     "cellId": 15,
     "hash": "698fba2ec330d57f2ad9dea6fbce40fa03abaf6e",
     "reason": "When you try to run all cells following the top-down order, cells in the wrong order might fail to execute or produce different results, hampering the reproducibility.",
     "reportId": "c2",
     "reportType": "confusenotebook",
     "suggestion": "Please consider re-running the notebook to guarantee the reproducibility.",
     "text": "Cell 15 has the execution count 4 in the wrong order"
    },
    {
     "cellId": 17,
     "hash": "2ee1dd4c0f53454811beee12e63258b15a7d7151",
     "reason": "When you try to run all cells following the top-down order, cells in the wrong order might fail to execute or produce different results, hampering the reproducibility.",
     "reportId": "c2",
     "reportType": "confusenotebook",
     "suggestion": "Please consider re-running the notebook to guarantee the reproducibility.",
     "text": "Cell 17 has the execution count 3 in the wrong order"
    },
    {
     "cellId": 19,
     "hash": "10787cbfedb3216241a1950e0491040e65fcf73c",
     "reason": "A markdown cell at the end of the notebook can conclude it, presenting a summary of the obtained results.",
     "reportId": "c5",
     "reportType": "confusenotebook",
     "suggestion": "Please consider adding a markdown cell to conclude the notebook.",
     "text": "The last cell of the notebook is not a markdown cell"
    }
   ]
  },
  "kernelspec": {
   "display_name": "Python 3",
   "language": "python",
   "name": "python3"
  },
  "language_info": {
   "codemirror_mode": {
    "name": "ipython",
    "version": 3
   },
   "file_extension": ".py",
   "mimetype": "text/x-python",
   "name": "python",
   "nbconvert_exporter": "python",
   "pygments_lexer": "ipython3",
   "version": "3.6.3"
  }
 },
 "nbformat": 4,
 "nbformat_minor": 4
}
