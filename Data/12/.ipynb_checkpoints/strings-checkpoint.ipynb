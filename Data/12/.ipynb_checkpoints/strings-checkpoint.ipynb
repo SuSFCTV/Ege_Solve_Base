{
 "cells": [
  {
   "cell_type": "markdown",
   "metadata": {},
   "source": [
    "### 2136 - task_def\n",
    "![](https://github.com/vaskers5/Ege_Solve_Base/blob/main/Data/12/data/2136.png?raw=true)"
   ]
  },
  {
   "cell_type": "code",
   "execution_count": 12,
   "metadata": {},
   "outputs": [
    {
     "name": "stdout",
     "output_type": "stream",
     "text": [
      "11222\n"
     ]
    }
   ],
   "source": [
    "s = '1' * 2018 + '2' * 2019\n",
    "\n",
    "i = 0\n",
    "mas1 = []\n",
    "mas2 = []\n",
    "while('111' in s):\n",
    "    i += 1\n",
    "    \n",
    "#     print(i, \"\\n\")\n",
    "    \n",
    "    if '111' in s:\n",
    "        s = s.replace('111', '2', 1)\n",
    "        mas1.append(s)\n",
    "#         print(s, \" \", s.count(\"1\"), \" \", s.count(\"2\"))\n",
    "        \n",
    "    if '222' in s:\n",
    "        s = s.replace('222', '1', 1)\n",
    "#         print(s, \" \", s.count(\"1\"), \" \", s.count(\"2\"))\n",
    "        mas2.append(s)\n",
    "    \n",
    "        \n",
    "# print(\"\\n\".join(i for i in mas[2010:2017]))\n",
    "print(s)\n",
    "# for i in range(1000, 1009):\n",
    "#     print(mas1[i], \" \", i)\n",
    "#     print(mas2[i], \" \", i)\n",
    "#     print()"
   ]
  },
  {
   "cell_type": "markdown",
   "metadata": {},
   "source": [
    "### Task_2135_def"
   ]
  },
  {
   "cell_type": "code",
   "execution_count": 1,
   "metadata": {},
   "outputs": [
    {
     "name": "stdout",
     "output_type": "stream",
     "text": [
      "2\n"
     ]
    }
   ],
   "source": [
    "s = \"1\" * 2018 + \"2\" * 2019\n",
    "\n",
    "while( \"111\" in s or \"222\" in s):\n",
    "    s = s.replace(\"111\", \"2\")\n",
    "    s = s.replace(\"222\", \"1\")\n",
    "    \n",
    "print(s)"
   ]
  },
  {
   "cell_type": "code",
   "execution_count": 2,
   "metadata": {},
   "outputs": [],
   "source": [
    "for x in range(16):\n",
    "    for y in range(8):\n",
    "        if 3606 + x * 4096 == 1080 + 64 * y:\n",
    "            print(x, y)"
   ]
  },
  {
   "cell_type": "code",
   "execution_count": 3,
   "metadata": {},
   "outputs": [
    {
     "data": {
      "text/plain": [
       "4096"
      ]
     },
     "execution_count": 3,
     "metadata": {},
     "output_type": "execute_result"
    }
   ],
   "source": [
    "16**3"
   ]
  },
  {
   "cell_type": "code",
   "execution_count": 4,
   "metadata": {},
   "outputs": [
    {
     "name": "stdout",
     "output_type": "stream",
     "text": [
      "266\n"
     ]
    }
   ],
   "source": [
    "dp = [0] * 40\n",
    "dp[2] = 1\n",
    "sqr = [i**2 for i in range(100)]\n",
    "\n",
    "for i in range(3, 40):\n",
    "    dp[i] = dp[i-1]\n",
    "    if i % 2 == 0:\n",
    "        dp[i] += dp[i//2]\n",
    "    if i in sqr:\n",
    "        dp[i] += dp[int(i ** 0.5)]\n",
    "print(dp[38])"
   ]
  },
  {
   "cell_type": "code",
   "execution_count": null,
   "metadata": {},
   "outputs": [],
   "source": [
    "def is_simple(x):\n",
    "    for i in range(2, int(x**0.5) + 1):\n",
    "        if x % i == 0:\n",
    "            return False\n",
    "    return True\n",
    "        \n",
    "for i in range(3532000, 3532161)"
   ]
  }
 ],
 "metadata": {
  "julynter-results": {
   "filteredId": [],
   "filteredIndividual": [],
   "filteredRestart": [],
   "filteredType": [],
   "hash": "cb99e4bb0434cbfac8d5c6f743cbd733c1481b9c",
   "visible": [
    {
     "cellId": "group",
     "hash": "c0de46ba034d710c2b2406a37ee6816be9634aa0",
     "reason": "This groups other lint messages",
     "reportId": "group",
     "reportType": "hiddenstate",
     "suggestion": null,
     "text": "Hidden State"
    },
    {
     "cellId": 1,
     "hash": "56e933a99e25091b7a54702de951d933d5e600a9",
     "reason": "A cell with results of a previous session may fail to execute or produce different results in this one, hampering the reproducibility.",
     "reportId": "h1",
     "reportType": "hiddenstate",
     "suggestion": "Please consider executing it to guarantee the reproducibility.",
     "text": "Cell 1 has execution results, but it wasn't executed on this session"
    },
    {
     "cellId": 4,
     "hash": "a8955f1f2eca16994501b0a65cfd3b81d20ce31a",
     "reason": "A cell with code changes may produce different results than what it generated before the changes, hampering the reproducibility.",
     "reportId": "h2",
     "reportType": "hiddenstate",
     "suggestion": "Please consider re-executing it to guarantee the reproducibility.",
     "text": "Cell 4 has changed since its execution, but it wasn't executed after the changes"
    },
    {
     "cellId": 1,
     "hash": "7e5a324b4b78f6e6c4830d2fa14ad9fa93da4ab2",
     "reason": "A skip in the execution count might indicate the presence of a hidden state caused by a cell that does not exist anymore. Hidden states might prevent cells from executing or producing the same results, hampering the reproducibility.",
     "reportId": "h4",
     "reportType": "hiddenstate",
     "suggestion": "Please consider re-running the notebook to guarantee the reproducibility.",
     "text": "Cell 1 skips the execution count"
    },
    {
     "cellId": "group",
     "hash": "19d3d3d153f22e318cbe061df9e685ba5165b0aa",
     "reason": "This groups other lint messages",
     "reportId": "group",
     "reportType": "confusenotebook",
     "suggestion": null,
     "text": "Confuse Notebook"
    },
    {
     "cellId": 3,
     "hash": "364bdf5d9c1e8107d63ac5e69a533001d47a7fc1",
     "reason": "When you try to run all cells following the top-down order, cells in the wrong order might fail to execute or produce different results, hampering the reproducibility.",
     "reportId": "c2",
     "reportType": "confusenotebook",
     "suggestion": "Please consider re-running the notebook to guarantee the reproducibility.",
     "text": "Cell 3 has the execution count 1 in the wrong order"
    },
    {
     "cellId": 7,
     "hash": "494e85c4183b7dd97b21297f5f76672997d1360c",
     "reason": "A markdown cell at the end of the notebook can conclude it, presenting a summary of the obtained results.",
     "reportId": "c5",
     "reportType": "confusenotebook",
     "suggestion": "Please consider adding a markdown cell to conclude the notebook.",
     "text": "The last cell of the notebook is not a markdown cell"
    }
   ]
  },
  "kernelspec": {
   "display_name": "Python 3",
   "language": "python",
   "name": "python3"
  },
  "language_info": {
   "codemirror_mode": {
    "name": "ipython",
    "version": 3
   },
   "file_extension": ".py",
   "mimetype": "text/x-python",
   "name": "python",
   "nbconvert_exporter": "python",
   "pygments_lexer": "ipython3",
   "version": "3.6.3"
  }
 },
 "nbformat": 4,
 "nbformat_minor": 4
}
