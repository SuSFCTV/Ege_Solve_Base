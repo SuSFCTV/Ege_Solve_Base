{
 "cells": [
  {
   "cell_type": "markdown",
   "metadata": {},
   "source": [
    "### 2136 - task_def\n",
    "![](https://github.com/vaskers5/Ege_Solve_Base/blob/main/Data/12/data/2136.png?raw=true)"
   ]
  },
  {
   "cell_type": "code",
   "execution_count": 6,
   "metadata": {},
   "outputs": [
    {
     "name": "stdout",
     "output_type": "stream",
     "text": [
      "211111222222222   2010\n",
      "2111111222222   2011\n",
      "22111222222   2012\n",
      "221111222   2013\n",
      "2221222   2014\n",
      "11222   2015\n",
      "111   2016\n",
      "2   2017\n"
     ]
    }
   ],
   "source": [
    "s = '1' * 2018 + '2' * 2019\n",
    "\n",
    "i = 0\n",
    "mas1 = []\n",
    "mas2 = []\n",
    "while('222' in s or '111' in s):\n",
    "    i += 1\n",
    "    \n",
    "#     print(i, \"\\n\")\n",
    "    \n",
    "    if '111' in s:\n",
    "        s = s.replace('111', '2', 1)\n",
    "        mas.append(s)\n",
    "#         print(s, \" \", s.count(\"1\"), \" \", s.count(\"2\"))\n",
    "        \n",
    "    if '222' in s:\n",
    "        s = s.replace('222', '1', 1)\n",
    "#         print(s, \" \", s.count(\"1\"), \" \", s.count(\"2\"))\n",
    "        mas.append(s)\n",
    "    \n",
    "        \n",
    "# print(\"\\n\".join(i for i in mas[2010:2017]))\n",
    "# print(s)\n",
    "for i in range(2010, 2018):\n",
    "    print(mas[i], \" \", i)"
   ]
  },
  {
   "cell_type": "code",
   "execution_count": null,
   "metadata": {},
   "outputs": [],
   "source": []
  }
 ],
 "metadata": {
  "julynter-results": {
   "filteredId": [],
   "filteredIndividual": [],
   "filteredRestart": [],
   "filteredType": [],
   "hash": "250f824c3523fb3f70aeb451aeeb6b6d72816730",
   "visible": [
    {
     "cellId": "group",
     "hash": "c0de46ba034d710c2b2406a37ee6816be9634aa0",
     "reason": "This groups other lint messages",
     "reportId": "group",
     "reportType": "hiddenstate",
     "suggestion": null,
     "text": "Hidden State"
    },
    {
     "cellId": 1,
     "hash": "02239279bbf6f08cc6471d54028f0fbf3f5d04dd",
     "reason": "A cell with code changes may produce different results than what it generated before the changes, hampering the reproducibility.",
     "reportId": "h2",
     "reportType": "hiddenstate",
     "suggestion": "Please consider re-executing it to guarantee the reproducibility.",
     "text": "Cell 1 has changed since its execution, but it wasn't executed after the changes"
    },
    {
     "cellId": 1,
     "hash": "2a25e97d81104be64b7fb80689d54e9be3d62255",
     "reason": "A skip in the execution count might indicate the presence of a hidden state caused by a cell that does not exist anymore. Hidden states might prevent cells from executing or producing the same results, hampering the reproducibility.",
     "reportId": "h4",
     "reportType": "hiddenstate",
     "suggestion": "Please consider re-running the notebook to guarantee the reproducibility.",
     "text": "Cell 1 skips the execution count"
    },
    {
     "cellId": "group",
     "hash": "19d3d3d153f22e318cbe061df9e685ba5165b0aa",
     "reason": "This groups other lint messages",
     "reportId": "group",
     "reportType": "confusenotebook",
     "suggestion": null,
     "text": "Confuse Notebook"
    },
    {
     "cellId": 1,
     "hash": "6ea455b153ff12ffe534dda92805860be9098fd4",
     "reason": "A markdown cell at the end of the notebook can conclude it, presenting a summary of the obtained results.",
     "reportId": "c5",
     "reportType": "confusenotebook",
     "suggestion": "Please consider adding a markdown cell to conclude the notebook.",
     "text": "The last cell of the notebook is not a markdown cell"
    }
   ]
  },
  "kernelspec": {
   "display_name": "Python 3",
   "language": "python",
   "name": "python3"
  },
  "language_info": {
   "codemirror_mode": {
    "name": "ipython",
    "version": 3
   },
   "file_extension": ".py",
   "mimetype": "text/x-python",
   "name": "python",
   "nbconvert_exporter": "python",
   "pygments_lexer": "ipython3",
   "version": "3.6.3"
  }
 },
 "nbformat": 4,
 "nbformat_minor": 4
}
