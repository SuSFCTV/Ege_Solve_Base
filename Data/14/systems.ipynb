{
 "cells": [
  {
   "cell_type": "markdown",
   "metadata": {},
   "source": [
    "### Task_17334_def\n",
    "![](https://github.com/vaskers5/Ege_Solve_Base/blob/main/Data/14/data/17334.png?raw=true)"
   ]
  },
  {
   "cell_type": "code",
   "execution_count": 1,
   "metadata": {},
   "outputs": [
    {
     "name": "stdout",
     "output_type": "stream",
     "text": [
      "14\n"
     ]
    }
   ],
   "source": [
    "def to_num_system(x, system):\n",
    "    numbers = []\n",
    "    while(x > 0):\n",
    "        numbers.append(x % system)\n",
    "        x //= system\n",
    "    return numbers[:-1]\n",
    "\n",
    "print(to_num_system(2 * 216 ** 6 + 3 * 36 ** 9 - 432, 6).count(5))"
   ]
  },
  {
   "cell_type": "markdown",
   "metadata": {},
   "source": [
    "### Task_2231_def\n",
    "![](https://github.com/vaskers5/Ege_Solve_Base/blob/main/Data/14/data/2231.png?raw=true)"
   ]
  },
  {
   "cell_type": "code",
   "execution_count": 13,
   "metadata": {},
   "outputs": [
    {
     "name": "stdout",
     "output_type": "stream",
     "text": [
      "{1: 1, 0: 6, 2: 8}\n"
     ]
    }
   ],
   "source": [
    "def to_num_system(x, system):\n",
    "    numbers = []\n",
    "    while(x > 0):\n",
    "        numbers.append(x % system)\n",
    "        x //= system\n",
    "    return numbers[::-1]\n",
    "\n",
    "\n",
    "x = to_num_system(9**7 + 3**8 - 1, 3)\n",
    "di = {}\n",
    "for elem in x:\n",
    "    if elem in di:\n",
    "        di[elem] += 1\n",
    "    else:\n",
    "        di.update({elem : 1})\n",
    "\n",
    "print(di)"
   ]
  },
  {
   "cell_type": "code",
   "execution_count": 1,
   "metadata": {},
   "outputs": [
    {
     "name": "stdout",
     "output_type": "stream",
     "text": [
      "{1: 3, 0: 6, 2: 6}\n"
     ]
    }
   ],
   "source": [
    "def to_num_system(x, system):\n",
    "    numbers = []\n",
    "    while(x > 0):\n",
    "        numbers.append(x % system)\n",
    "        x //= system\n",
    "    return numbers[::-1]\n",
    "\n",
    "\n",
    "x = to_num_system(9**7 + 3**8 - 5, 3)\n",
    "di = {}\n",
    "for elem in x:\n",
    "    if elem in di:\n",
    "        di[elem] += 1\n",
    "    else:\n",
    "        di.update({elem : 1})\n",
    "\n",
    "print(di)"
   ]
  },
  {
   "cell_type": "code",
   "execution_count": null,
   "metadata": {},
   "outputs": [],
   "source": []
  }
 ],
 "metadata": {
  "julynter-results": {
   "filteredId": [],
   "filteredIndividual": [],
   "filteredRestart": [],
   "filteredType": [],
   "hash": "f2a00d277d66ab708c73e8d48083584cff28c6dc",
   "visible": [
    {
     "cellId": "group",
     "hash": "c0de46ba034d710c2b2406a37ee6816be9634aa0",
     "reason": "This groups other lint messages",
     "reportId": "group",
     "reportType": "hiddenstate",
     "suggestion": null,
     "text": "Hidden State"
    },
    {
     "cellId": 1,
     "hash": "d1f1d72ff01abf0ad56d4170e4544e50af2a2c67",
     "reason": "A cell with code changes may produce different results than what it generated before the changes, hampering the reproducibility.",
     "reportId": "h2",
     "reportType": "hiddenstate",
     "suggestion": "Please consider re-executing it to guarantee the reproducibility.",
     "text": "Cell 1 has changed since its execution, but it wasn't executed after the changes"
    },
    {
     "cellId": 3,
     "hash": "bf997a8ec64940fc6183d2776d97739f2acfb3a4",
     "reason": "A cell with results of a previous session may fail to execute or produce different results in this one, hampering the reproducibility.",
     "reportId": "h1",
     "reportType": "hiddenstate",
     "suggestion": "Please consider executing it to guarantee the reproducibility.",
     "text": "Cell 3 has execution results, but it wasn't executed on this session"
    },
    {
     "cellId": 4,
     "hash": "b1a48640de657e283d08babba11e707432860cff",
     "reason": "A cell with a repeated execution count indicates that there are results of multiple execution sessions in this notebook. Running all cells in the top-down order might produce different results, hampering the reproducibility.",
     "reportId": "h3",
     "reportType": "hiddenstate",
     "suggestion": "Please consider re-running the cell to guarantee the reproducibility.",
     "text": "Cell 4 repeats the execution count 1"
    },
    {
     "cellId": 3,
     "hash": "60977de86edb5a57d9340c6ae8f544d734d05a76",
     "reason": "A skip in the execution count might indicate the presence of a hidden state caused by a cell that does not exist anymore. Hidden states might prevent cells from executing or producing the same results, hampering the reproducibility.",
     "reportId": "h4",
     "reportType": "hiddenstate",
     "suggestion": "Please consider re-running the notebook to guarantee the reproducibility.",
     "text": "Cell 3 skips the execution count"
    },
    {
     "cellId": "group",
     "hash": "19d3d3d153f22e318cbe061df9e685ba5165b0aa",
     "reason": "This groups other lint messages",
     "reportId": "group",
     "reportType": "confusenotebook",
     "suggestion": null,
     "text": "Confuse Notebook"
    },
    {
     "cellId": 4,
     "hash": "042ada69571d28d6bef45d4ae04e1251ed82147f",
     "reason": "When you try to run all cells following the top-down order, cells in the wrong order might fail to execute or produce different results, hampering the reproducibility.",
     "reportId": "c2",
     "reportType": "confusenotebook",
     "suggestion": "Please consider re-running the notebook to guarantee the reproducibility.",
     "text": "Cell 4 has the execution count 1 in the wrong order"
    },
    {
     "cellId": 4,
     "hash": "3f0f1f75bbd9c6eeeb9a67fe1a4bc36325fefa1e",
     "reason": "A markdown cell at the end of the notebook can conclude it, presenting a summary of the obtained results.",
     "reportId": "c5",
     "reportType": "confusenotebook",
     "suggestion": "Please consider adding a markdown cell to conclude the notebook.",
     "text": "The last cell of the notebook is not a markdown cell"
    }
   ]
  },
  "kernelspec": {
   "display_name": "Python 3",
   "language": "python",
   "name": "python3"
  },
  "language_info": {
   "codemirror_mode": {
    "name": "ipython",
    "version": 3
   },
   "file_extension": ".py",
   "mimetype": "text/x-python",
   "name": "python",
   "nbconvert_exporter": "python",
   "pygments_lexer": "ipython3",
   "version": "3.6.3"
  }
 },
 "nbformat": 4,
 "nbformat_minor": 4
}
