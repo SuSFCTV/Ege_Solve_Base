{
 "cells": [
  {
   "cell_type": "code",
   "execution_count": 1,
   "metadata": {},
   "outputs": [],
   "source": [
    "#uyfkhlk"
   ]
  },
  {
   "cell_type": "code",
   "execution_count": 4,
   "metadata": {},
   "outputs": [
    {
     "data": {
      "text/plain": [
       "6"
      ]
     },
     "execution_count": 4,
     "metadata": {},
     "output_type": "execute_result"
    }
   ],
   "source": [
    "s = \"abracadabra\"\n",
    "s.find(\"dabra\", start, len(s))"
   ]
  },
  {
   "cell_type": "code",
   "execution_count": 6,
   "metadata": {},
   "outputs": [
    {
     "data": {
      "text/plain": [
       "1"
      ]
     },
     "execution_count": 6,
     "metadata": {},
     "output_type": "execute_result"
    }
   ],
   "source": [
    "a = {\"abracadabra\" : 1}\n",
    "a[\"abracadabra\"]"
   ]
  },
  {
   "cell_type": "code",
   "execution_count": 10,
   "metadata": {},
   "outputs": [
    {
     "name": "stdout",
     "output_type": "stream",
     "text": [
      "abradabra\n"
     ]
    }
   ],
   "source": [
    "s1 = \"abraca\"\n",
    "s2 = \"cadabraaaa\"\n",
    "#abracadabra\n",
    "print(s1[0:4] + s2[2:7])"
   ]
  },
  {
   "cell_type": "code",
   "execution_count": 14,
   "metadata": {},
   "outputs": [
    {
     "name": "stdin",
     "output_type": "stream",
     "text": [
      " 1 2 3 4\n",
      " 4 3 2 5\n"
     ]
    },
    {
     "data": {
      "text/plain": [
       "{'2', '3', '4'}"
      ]
     },
     "execution_count": 14,
     "metadata": {},
     "output_type": "execute_result"
    }
   ],
   "source": [
    "a = set(input().split())\n",
    "b = set(input().split())\n",
    "a & b"
   ]
  },
  {
   "cell_type": "code",
   "execution_count": 45,
   "metadata": {},
   "outputs": [
    {
     "ename": "TypeError",
     "evalue": "'tuple' object does not support item assignment",
     "output_type": "error",
     "traceback": [
      "\u001b[1;31m---------------------------------------------------------------------------\u001b[0m",
      "\u001b[1;31mTypeError\u001b[0m                                 Traceback (most recent call last)",
      "\u001b[1;32m<ipython-input-45-62ba01c22486>\u001b[0m in \u001b[0;36m<module>\u001b[1;34m\u001b[0m\n\u001b[0;32m      1\u001b[0m \u001b[0ma\u001b[0m \u001b[1;33m=\u001b[0m \u001b[1;33m(\u001b[0m\u001b[1;36m1\u001b[0m\u001b[1;33m,\u001b[0m \u001b[1;36m3\u001b[0m\u001b[1;33m,\u001b[0m \u001b[1;36m5\u001b[0m\u001b[1;33m)\u001b[0m\u001b[1;33m\u001b[0m\u001b[0m\n\u001b[1;32m----> 2\u001b[1;33m \u001b[0ma\u001b[0m\u001b[1;33m[\u001b[0m\u001b[1;36m0\u001b[0m\u001b[1;33m]\u001b[0m \u001b[1;33m=\u001b[0m \u001b[1;36m2\u001b[0m\u001b[1;33m\u001b[0m\u001b[0m\n\u001b[0m",
      "\u001b[1;31mTypeError\u001b[0m: 'tuple' object does not support item assignment"
     ]
    }
   ],
   "source": [
    "a = (1, 3, 5)\n",
    "a[0] = 2"
   ]
  },
  {
   "cell_type": "code",
   "execution_count": 40,
   "metadata": {},
   "outputs": [
    {
     "data": {
      "text/plain": [
       "'\\n1)Списки:\\na = [2, 3, 5]\\na = [[2, 3, 5], [4, 3, 5], [4, 3 5]]\\nПример обращения:\\nprint(a[0][1]) -> 3\\n\\n2) Генераторы двумерных списков:\\n\\nЗадача: Сгененрировать двумерный список, по следующему правилу в каждой i-ой ячейке этого должны быть числа с 0 до i. Пусть таких ячеек будет n.\\n\\nПример работы:\\n\\nввод : 5\\nВывод:\\n[[1],\\n[1, 2],\\n[1, 2, 3],\\n[1, 2, 3, 4],\\n[1, 2, 3, 4, 5]]\\n\\nn = int(input())\\nmass = [[j for j in range(1, i + 1)] for i in range(1, n)]\\nmass\\n\\nКак написать генератор списка:\\nmass = [[j for j in range(1, i + 1)] for i in range(1, n)]\\nsquare_numbers = [i**2 for i in range(100)]\\n\\n1) Для открываешь простые квадратные скобочки, они будут отвечать за глобальный список\\n2) На первом месте аргумент, который ты собираешь класть: i**2, 0, inf, \"что угодно\"\\n3)Открываешь цикл по тому сколько раз ты хочешь положить свой аргумент: for i in range(100)\\n\\n\\nПо итогу получаешь такую конструкцию:\\n[i**2 for i in range(100)]\\n\\n'"
      ]
     },
     "execution_count": 40,
     "metadata": {},
     "output_type": "execute_result"
    }
   ],
   "source": [
    "\"\"\"\n",
    "Список - динамический массив, состоящий из неких объектов(они и могут быть чем угодно, также их может и не быть). Если никаких объектов, то список пустой\n",
    "\n",
    "a = []\n",
    "for i in range(100):\n",
    "    a.append(int(input()))\n",
    "\n",
    "s = input()\n",
    "\n",
    "a = []\n",
    "\n",
    "for elem in s:\n",
    "    a.append(elem)\n",
    "\n",
    "a = [int(elem) for elem in input().split()]\n",
    "\n",
    "b = [list(map(int, input().split())) for i in range(n)]\n",
    "\n",
    "\"\"\""
   ]
  },
  {
   "cell_type": "code",
   "execution_count": 52,
   "metadata": {},
   "outputs": [
    {
     "name": "stdout",
     "output_type": "stream",
     "text": [
      "99988\n"
     ]
    }
   ],
   "source": [
    "ans = []\n",
    "for x in range(1, 1000000):\n",
    "    a = 0\n",
    "    b = 0\n",
    "    copy = x\n",
    "    while x > 0:\n",
    "        c = x % 2\n",
    "        if c == 0:\n",
    "            a += 1\n",
    "        else:\n",
    "            b += 1\n",
    "        x = x // 10\n",
    "    if (a == 2 and b == 3):\n",
    "        ans.append(copy)\n",
    "\n",
    "print(max(ans))"
   ]
  },
  {
   "cell_type": "code",
   "execution_count": 48,
   "metadata": {},
   "outputs": [
    {
     "name": "stdout",
     "output_type": "stream",
     "text": [
      "1\n"
     ]
    },
    {
     "ename": "TypeError",
     "evalue": "int() argument must be a string, a bytes-like object or a number, not 'list'",
     "output_type": "error",
     "traceback": [
      "\u001b[1;31m---------------------------------------------------------------------------\u001b[0m",
      "\u001b[1;31mTypeError\u001b[0m                                 Traceback (most recent call last)",
      "\u001b[1;32m<ipython-input-48-ccc79b2bc377>\u001b[0m in \u001b[0;36m<module>\u001b[1;34m\u001b[0m\n\u001b[0;32m      2\u001b[0m \u001b[0ms2\u001b[0m \u001b[1;33m=\u001b[0m \u001b[1;33m[\u001b[0m\u001b[1;34m\"2\"\u001b[0m\u001b[1;33m,\u001b[0m \u001b[1;34m\"3\"\u001b[0m\u001b[1;33m]\u001b[0m\u001b[1;33m\u001b[0m\u001b[0m\n\u001b[0;32m      3\u001b[0m \u001b[0mprint\u001b[0m\u001b[1;33m(\u001b[0m\u001b[0mint\u001b[0m\u001b[1;33m(\u001b[0m\u001b[0ms1\u001b[0m\u001b[1;33m)\u001b[0m\u001b[1;33m)\u001b[0m\u001b[1;33m\u001b[0m\u001b[0m\n\u001b[1;32m----> 4\u001b[1;33m \u001b[0mprint\u001b[0m\u001b[1;33m(\u001b[0m\u001b[0mint\u001b[0m\u001b[1;33m(\u001b[0m\u001b[0ms2\u001b[0m\u001b[1;33m)\u001b[0m\u001b[1;33m)\u001b[0m\u001b[1;33m\u001b[0m\u001b[0m\n\u001b[0m",
      "\u001b[1;31mTypeError\u001b[0m: int() argument must be a string, a bytes-like object or a number, not 'list'"
     ]
    }
   ],
   "source": [
    "s1 = \"1\"\n",
    "s2 = [\"2\", \"3\"]\n",
    "print(int(s1))\n",
    "print(int(s2))"
   ]
  },
  {
   "cell_type": "code",
   "execution_count": 44,
   "metadata": {},
   "outputs": [
    {
     "name": "stdout",
     "output_type": "stream",
     "text": [
      "1 2 3 4 5\n"
     ]
    }
   ],
   "source": [
    "a = [1, 2, 3, 4, 5]\n",
    "\n",
    "print(\" \".join(str(i) for i in a))"
   ]
  },
  {
   "cell_type": "code",
   "execution_count": 29,
   "metadata": {},
   "outputs": [
    {
     "data": {
      "text/plain": [
       "'abra\\ncadra\\nbra'"
      ]
     },
     "execution_count": 29,
     "metadata": {},
     "output_type": "execute_result"
    }
   ],
   "source": [
    "new_s"
   ]
  },
  {
   "cell_type": "code",
   "execution_count": null,
   "metadata": {},
   "outputs": [],
   "source": []
  }
 ],
 "metadata": {
  "julynter-results": {
   "filteredId": [],
   "filteredIndividual": [],
   "filteredRestart": [],
   "filteredType": [],
   "hash": "a18ba30f978854b391af924143feed04622e95ea",
   "visible": [
    {
     "cellId": "group",
     "hash": "f1533669aecd4af79dc6255a1e56c261582897f8",
     "reason": "This groups other lint messages",
     "reportId": "group",
     "reportType": "invalidtitle",
     "suggestion": null,
     "text": "Invalid Title"
    },
    {
     "cellId": "title",
     "hash": "e9fb88eead53b04f100b052363b4bcdb79cee158",
     "reason": "Untitled notebooks provide no context for who is selecting the notebook in the file browser.",
     "reportId": "t2",
     "reportType": "invalidtitle",
     "suggestion": "Please consider renaming it to a meaningful name.",
     "text": "Title starts with \"Untitled\""
    },
    {
     "cellId": "group",
     "hash": "c0de46ba034d710c2b2406a37ee6816be9634aa0",
     "reason": "This groups other lint messages",
     "reportId": "group",
     "reportType": "hiddenstate",
     "suggestion": null,
     "text": "Hidden State"
    },
    {
     "cellId": 0,
     "hash": "3d2438870a510f5b268b735cd10b80848249c88c",
     "reason": "A cell with results of a previous session may fail to execute or produce different results in this one, hampering the reproducibility.",
     "reportId": "h1",
     "reportType": "hiddenstate",
     "suggestion": "Please consider executing it to guarantee the reproducibility.",
     "text": "Cell 0 has execution results, but it wasn't executed on this session"
    },
    {
     "cellId": 1,
     "hash": "8442a0a90f6c662a473b8188c7aaec64af16122e",
     "reason": "A cell with results of a previous session may fail to execute or produce different results in this one, hampering the reproducibility.",
     "reportId": "h1",
     "reportType": "hiddenstate",
     "suggestion": "Please consider executing it to guarantee the reproducibility.",
     "text": "Cell 1 has execution results, but it wasn't executed on this session"
    },
    {
     "cellId": 2,
     "hash": "253d5d6bc59b6e8ddac382febe51a97af6d542fd",
     "reason": "A cell with results of a previous session may fail to execute or produce different results in this one, hampering the reproducibility.",
     "reportId": "h1",
     "reportType": "hiddenstate",
     "suggestion": "Please consider executing it to guarantee the reproducibility.",
     "text": "Cell 2 has execution results, but it wasn't executed on this session"
    },
    {
     "cellId": 3,
     "hash": "79003a5eed65a5150081aca401ce291b432f9cbd",
     "reason": "A cell with results of a previous session may fail to execute or produce different results in this one, hampering the reproducibility.",
     "reportId": "h1",
     "reportType": "hiddenstate",
     "suggestion": "Please consider executing it to guarantee the reproducibility.",
     "text": "Cell 3 has execution results, but it wasn't executed on this session"
    },
    {
     "cellId": 4,
     "hash": "59970a69465906ac7fb67de70b9aecfcd74a2d42",
     "reason": "A cell with results of a previous session may fail to execute or produce different results in this one, hampering the reproducibility.",
     "reportId": "h1",
     "reportType": "hiddenstate",
     "suggestion": "Please consider executing it to guarantee the reproducibility.",
     "text": "Cell 4 has execution results, but it wasn't executed on this session"
    },
    {
     "cellId": 5,
     "hash": "81649400c1bfa84cb90d27bf18b13e5431a0598e",
     "reason": "A cell with results of a previous session may fail to execute or produce different results in this one, hampering the reproducibility.",
     "reportId": "h1",
     "reportType": "hiddenstate",
     "suggestion": "Please consider executing it to guarantee the reproducibility.",
     "text": "Cell 5 has execution results, but it wasn't executed on this session"
    },
    {
     "cellId": 6,
     "hash": "f01cca9cd2e7a33cddbb77883341250dc1b9a2a5",
     "reason": "A cell with results of a previous session may fail to execute or produce different results in this one, hampering the reproducibility.",
     "reportId": "h1",
     "reportType": "hiddenstate",
     "suggestion": "Please consider executing it to guarantee the reproducibility.",
     "text": "Cell 6 has execution results, but it wasn't executed on this session"
    },
    {
     "cellId": 7,
     "hash": "f1c731d1b77ef5bbf3591ad34594a42510ceb038",
     "reason": "A cell with results of a previous session may fail to execute or produce different results in this one, hampering the reproducibility.",
     "reportId": "h1",
     "reportType": "hiddenstate",
     "suggestion": "Please consider executing it to guarantee the reproducibility.",
     "text": "Cell 7 has execution results, but it wasn't executed on this session"
    },
    {
     "cellId": 8,
     "hash": "36d941d881b9019d2aa5353c8fe13b43ecb7fe8f",
     "reason": "A cell with results of a previous session may fail to execute or produce different results in this one, hampering the reproducibility.",
     "reportId": "h1",
     "reportType": "hiddenstate",
     "suggestion": "Please consider executing it to guarantee the reproducibility.",
     "text": "Cell 8 has execution results, but it wasn't executed on this session"
    },
    {
     "cellId": 9,
     "hash": "6ce7befd63a5ae6e1e193c778bd723ec90dc838b",
     "reason": "A cell with results of a previous session may fail to execute or produce different results in this one, hampering the reproducibility.",
     "reportId": "h1",
     "reportType": "hiddenstate",
     "suggestion": "Please consider executing it to guarantee the reproducibility.",
     "text": "Cell 9 has execution results, but it wasn't executed on this session"
    },
    {
     "cellId": 10,
     "hash": "e75b7c3e80560e71122a42dc27a5f8a51fd0e9e9",
     "reason": "A cell with results of a previous session may fail to execute or produce different results in this one, hampering the reproducibility.",
     "reportId": "h1",
     "reportType": "hiddenstate",
     "suggestion": "Please consider executing it to guarantee the reproducibility.",
     "text": "Cell 10 has execution results, but it wasn't executed on this session"
    },
    {
     "cellId": 1,
     "hash": "bed2ecb228e4c0436430a357af7e37d0bd74dc1b",
     "reason": "A skip in the execution count might indicate the presence of a hidden state caused by a cell that does not exist anymore. Hidden states might prevent cells from executing or producing the same results, hampering the reproducibility.",
     "reportId": "h4",
     "reportType": "hiddenstate",
     "suggestion": "Please consider re-running the notebook to guarantee the reproducibility.",
     "text": "Cell 1 skips the execution count"
    },
    {
     "cellId": 2,
     "hash": "b1574b3f75d9705566363cba7355cc38628d26e4",
     "reason": "A skip in the execution count might indicate the presence of a hidden state caused by a cell that does not exist anymore. Hidden states might prevent cells from executing or producing the same results, hampering the reproducibility.",
     "reportId": "h4",
     "reportType": "hiddenstate",
     "suggestion": "Please consider re-running the notebook to guarantee the reproducibility.",
     "text": "Cell 2 skips the execution count"
    },
    {
     "cellId": 3,
     "hash": "0569eb6df6a4ac72c4a5672f174906e13141e7eb",
     "reason": "A skip in the execution count might indicate the presence of a hidden state caused by a cell that does not exist anymore. Hidden states might prevent cells from executing or producing the same results, hampering the reproducibility.",
     "reportId": "h4",
     "reportType": "hiddenstate",
     "suggestion": "Please consider re-running the notebook to guarantee the reproducibility.",
     "text": "Cell 3 skips the execution count"
    },
    {
     "cellId": 4,
     "hash": "50c67a41ab3ae551c13d3e9ce8875c53a2ba49de",
     "reason": "A skip in the execution count might indicate the presence of a hidden state caused by a cell that does not exist anymore. Hidden states might prevent cells from executing or producing the same results, hampering the reproducibility.",
     "reportId": "h4",
     "reportType": "hiddenstate",
     "suggestion": "Please consider re-running the notebook to guarantee the reproducibility.",
     "text": "Cell 4 skips the execution count"
    },
    {
     "cellId": 10,
     "hash": "ff7e3eee6cd16e6e141e938fa01e34293f40a762",
     "reason": "A skip in the execution count might indicate the presence of a hidden state caused by a cell that does not exist anymore. Hidden states might prevent cells from executing or producing the same results, hampering the reproducibility.",
     "reportId": "h4",
     "reportType": "hiddenstate",
     "suggestion": "Please consider re-running the notebook to guarantee the reproducibility.",
     "text": "Cell 10 skips the execution count"
    },
    {
     "cellId": 6,
     "hash": "96ddd5bd880872cf44f87d24d09e17808c874465",
     "reason": "A skip in the execution count might indicate the presence of a hidden state caused by a cell that does not exist anymore. Hidden states might prevent cells from executing or producing the same results, hampering the reproducibility.",
     "reportId": "h4",
     "reportType": "hiddenstate",
     "suggestion": "Please consider re-running the notebook to guarantee the reproducibility.",
     "text": "Cell 6 skips the execution count"
    },
    {
     "cellId": 9,
     "hash": "657be8d53460d81da90d5d2839efe8a7c3a248cb",
     "reason": "A skip in the execution count might indicate the presence of a hidden state caused by a cell that does not exist anymore. Hidden states might prevent cells from executing or producing the same results, hampering the reproducibility.",
     "reportId": "h4",
     "reportType": "hiddenstate",
     "suggestion": "Please consider re-running the notebook to guarantee the reproducibility.",
     "text": "Cell 9 skips the execution count"
    },
    {
     "cellId": 8,
     "hash": "95051af610fe07d56a356b4ec6bfa7d629fd6ad3",
     "reason": "A skip in the execution count might indicate the presence of a hidden state caused by a cell that does not exist anymore. Hidden states might prevent cells from executing or producing the same results, hampering the reproducibility.",
     "reportId": "h4",
     "reportType": "hiddenstate",
     "suggestion": "Please consider re-running the notebook to guarantee the reproducibility.",
     "text": "Cell 8 skips the execution count"
    },
    {
     "cellId": 7,
     "hash": "ceb44a27715c3bea536b6b4166590775b2119a1b",
     "reason": "A skip in the execution count might indicate the presence of a hidden state caused by a cell that does not exist anymore. Hidden states might prevent cells from executing or producing the same results, hampering the reproducibility.",
     "reportId": "h4",
     "reportType": "hiddenstate",
     "suggestion": "Please consider re-running the notebook to guarantee the reproducibility.",
     "text": "Cell 7 skips the execution count"
    },
    {
     "cellId": "group",
     "hash": "19d3d3d153f22e318cbe061df9e685ba5165b0aa",
     "reason": "This groups other lint messages",
     "reportId": "group",
     "reportType": "confusenotebook",
     "suggestion": null,
     "text": "Confuse Notebook"
    },
    {
     "cellId": 6,
     "hash": "d74e20390ade19dba46b3565427837a5ecffdf75",
     "reason": "When you try to run all cells following the top-down order, cells in the wrong order might fail to execute or produce different results, hampering the reproducibility.",
     "reportId": "c2",
     "reportType": "confusenotebook",
     "suggestion": "Please consider re-running the notebook to guarantee the reproducibility.",
     "text": "Cell 6 has the execution count 40 in the wrong order"
    },
    {
     "cellId": 8,
     "hash": "a908cfe8d5ca4da1909e70f3d2c82605f6dd671f",
     "reason": "When you try to run all cells following the top-down order, cells in the wrong order might fail to execute or produce different results, hampering the reproducibility.",
     "reportId": "c2",
     "reportType": "confusenotebook",
     "suggestion": "Please consider re-running the notebook to guarantee the reproducibility.",
     "text": "Cell 8 has the execution count 48 in the wrong order"
    },
    {
     "cellId": 9,
     "hash": "c073bdcf3422b05318bbb2d88e68b994f298dee3",
     "reason": "When you try to run all cells following the top-down order, cells in the wrong order might fail to execute or produce different results, hampering the reproducibility.",
     "reportId": "c2",
     "reportType": "confusenotebook",
     "suggestion": "Please consider re-running the notebook to guarantee the reproducibility.",
     "text": "Cell 9 has the execution count 44 in the wrong order"
    },
    {
     "cellId": 10,
     "hash": "83fff390f87ba712d33da2167f7ff4a3bf3036ba",
     "reason": "When you try to run all cells following the top-down order, cells in the wrong order might fail to execute or produce different results, hampering the reproducibility.",
     "reportId": "c2",
     "reportType": "confusenotebook",
     "suggestion": "Please consider re-running the notebook to guarantee the reproducibility.",
     "text": "Cell 10 has the execution count 29 in the wrong order"
    },
    {
     "cellId": 0,
     "hash": "71c657244b509af2192590ec093b57fc9bf97b76",
     "reason": "A markdown cell at the beginning of the notebook can provide a human-friendly title with no constraints and introduce the notebook, indicating its purpose and external requirements.",
     "reportId": "c4",
     "reportType": "confusenotebook",
     "suggestion": "Please consider adding a markdown cell to describe the notebook.",
     "text": "The first cell of the notebook is not a markdown cell"
    },
    {
     "cellId": 10,
     "hash": "b9c78e15f8142bc817c57b408e3fb6f755cc4266",
     "reason": "A markdown cell at the end of the notebook can conclude it, presenting a summary of the obtained results.",
     "reportId": "c5",
     "reportType": "confusenotebook",
     "suggestion": "Please consider adding a markdown cell to conclude the notebook.",
     "text": "The last cell of the notebook is not a markdown cell"
    }
   ]
  },
  "kernelspec": {
   "display_name": "Python 3",
   "language": "python",
   "name": "python3"
  },
  "language_info": {
   "codemirror_mode": {
    "name": "ipython",
    "version": 3
   },
   "file_extension": ".py",
   "mimetype": "text/x-python",
   "name": "python",
   "nbconvert_exporter": "python",
   "pygments_lexer": "ipython3",
   "version": "3.6.3"
  }
 },
 "nbformat": 4,
 "nbformat_minor": 4
}
