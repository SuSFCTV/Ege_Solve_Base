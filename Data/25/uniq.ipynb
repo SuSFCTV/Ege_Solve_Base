{
 "cells": [
  {
   "cell_type": "markdown",
   "metadata": {},
   "source": [
    "### Task 35483\n",
    "![](https://github.com/vaskers5/Ege_Solve_Base/blob/main/Data/25/Data/35483.png?raw=true)"
   ]
  },
  {
   "cell_type": "code",
   "execution_count": 1,
   "metadata": {},
   "outputs": [
    {
     "ename": "KeyboardInterrupt",
     "evalue": "",
     "output_type": "error",
     "traceback": [
      "\u001b[1;31m---------------------------------------------------------------------------\u001b[0m",
      "\u001b[1;31mKeyboardInterrupt\u001b[0m                         Traceback (most recent call last)",
      "\u001b[1;32m<ipython-input-1-a29abb930d9f>\u001b[0m in \u001b[0;36m<module>\u001b[1;34m\u001b[0m\n\u001b[0;32m     16\u001b[0m     \u001b[1;32mreturn\u001b[0m \u001b[1;33m[\u001b[0m\u001b[0mi\u001b[0m \u001b[1;32mfor\u001b[0m \u001b[0mi\u001b[0m \u001b[1;32min\u001b[0m \u001b[0msieve\u001b[0m \u001b[1;32mif\u001b[0m \u001b[0mi\u001b[0m \u001b[1;33m!=\u001b[0m\u001b[1;36m0\u001b[0m\u001b[1;33m]\u001b[0m\u001b[1;33m\u001b[0m\u001b[0m\n\u001b[0;32m     17\u001b[0m \u001b[1;33m\u001b[0m\u001b[0m\n\u001b[1;32m---> 18\u001b[1;33m \u001b[1;32mfor\u001b[0m \u001b[0mi\u001b[0m \u001b[1;32min\u001b[0m \u001b[0mprimes\u001b[0m\u001b[1;33m(\u001b[0m\u001b[1;36m10000000\u001b[0m\u001b[1;33m)\u001b[0m\u001b[1;33m:\u001b[0m\u001b[1;33m\u001b[0m\u001b[0m\n\u001b[0m\u001b[0;32m     19\u001b[0m     \u001b[1;32mif\u001b[0m \u001b[1;36m35000000\u001b[0m \u001b[1;33m<=\u001b[0m \u001b[0mi\u001b[0m\u001b[1;33m**\u001b[0m\u001b[1;36m5\u001b[0m \u001b[1;33m<=\u001b[0m \u001b[1;36m40000000\u001b[0m\u001b[1;33m:\u001b[0m\u001b[1;33m\u001b[0m\u001b[0m\n\u001b[0;32m     20\u001b[0m         \u001b[0mprint\u001b[0m\u001b[1;33m(\u001b[0m\u001b[0mi\u001b[0m\u001b[1;33m**\u001b[0m\u001b[1;36m5\u001b[0m\u001b[1;33m)\u001b[0m\u001b[1;33m\u001b[0m\u001b[0m\n",
      "\u001b[1;32m<ipython-input-1-a29abb930d9f>\u001b[0m in \u001b[0;36mprimes\u001b[1;34m(n)\u001b[0m\n\u001b[0;32m     13\u001b[0m         \u001b[1;32mif\u001b[0m \u001b[0mi\u001b[0m \u001b[1;33m>\u001b[0m \u001b[1;36m1\u001b[0m\u001b[1;33m:\u001b[0m\u001b[1;33m\u001b[0m\u001b[0m\n\u001b[0;32m     14\u001b[0m             \u001b[1;32mfor\u001b[0m \u001b[0mj\u001b[0m \u001b[1;32min\u001b[0m \u001b[0mrange\u001b[0m\u001b[1;33m(\u001b[0m\u001b[0mi\u001b[0m\u001b[1;33m+\u001b[0m\u001b[1;36m1\u001b[0m\u001b[1;33m,\u001b[0m \u001b[0mlen\u001b[0m\u001b[1;33m(\u001b[0m\u001b[0msieve\u001b[0m\u001b[1;33m)\u001b[0m\u001b[1;33m,\u001b[0m\u001b[0mi\u001b[0m\u001b[1;33m)\u001b[0m\u001b[1;33m:\u001b[0m\u001b[1;33m\u001b[0m\u001b[0m\n\u001b[1;32m---> 15\u001b[1;33m                 \u001b[0msieve\u001b[0m\u001b[1;33m[\u001b[0m\u001b[0mj\u001b[0m\u001b[1;33m]\u001b[0m \u001b[1;33m=\u001b[0m \u001b[1;36m0\u001b[0m\u001b[1;33m\u001b[0m\u001b[0m\n\u001b[0m\u001b[0;32m     16\u001b[0m     \u001b[1;32mreturn\u001b[0m \u001b[1;33m[\u001b[0m\u001b[0mi\u001b[0m \u001b[1;32mfor\u001b[0m \u001b[0mi\u001b[0m \u001b[1;32min\u001b[0m \u001b[0msieve\u001b[0m \u001b[1;32mif\u001b[0m \u001b[0mi\u001b[0m \u001b[1;33m!=\u001b[0m\u001b[1;36m0\u001b[0m\u001b[1;33m]\u001b[0m\u001b[1;33m\u001b[0m\u001b[0m\n\u001b[0;32m     17\u001b[0m \u001b[1;33m\u001b[0m\u001b[0m\n",
      "\u001b[1;31mKeyboardInterrupt\u001b[0m: "
     ]
    }
   ],
   "source": [
    "def divisors(n):\n",
    "    divizors = [1,n]\n",
    "    for i in range(2,int(n**0.5)+1):\n",
    "        if n % i ==0:\n",
    "            divizors.append(i)\n",
    "            divizors.append(n//i)\n",
    "    return sorted(set(divizors))\n",
    "\n",
    "def primes(n):\n",
    "    sieve = list(range(n+1))\n",
    "    sieve[1] = 0\n",
    "    for i in sieve:\n",
    "        if i > 1:\n",
    "            for j in range(i+1, len(sieve),i):\n",
    "                sieve[j] = 0\n",
    "    return [i for i in sieve if i !=0]\n",
    "\n",
    "for i in primes(10000000):\n",
    "    if 35000000 <= i**5 <= 40000000:\n",
    "        print(i**5)"
   ]
  },
  {
   "cell_type": "markdown",
   "metadata": {},
   "source": [
    "### Task 4123"
   ]
  },
  {
   "cell_type": "code",
   "execution_count": 27,
   "metadata": {},
   "outputs": [
    {
     "ename": "KeyboardInterrupt",
     "evalue": "",
     "output_type": "error",
     "traceback": [
      "\u001b[1;31m---------------------------------------------------------------------------\u001b[0m",
      "\u001b[1;31mKeyboardInterrupt\u001b[0m                         Traceback (most recent call last)",
      "\u001b[1;32m<ipython-input-27-ecb9fd2c2620>\u001b[0m in \u001b[0;36m<module>\u001b[1;34m\u001b[0m\n\u001b[0;32m      7\u001b[0m \u001b[0mmax_triple\u001b[0m \u001b[1;33m=\u001b[0m \u001b[1;33m[\u001b[0m\u001b[1;33m]\u001b[0m\u001b[1;33m\u001b[0m\u001b[0m\n\u001b[0;32m      8\u001b[0m \u001b[1;32mfor\u001b[0m \u001b[0ma\u001b[0m \u001b[1;32min\u001b[0m \u001b[0mrange\u001b[0m\u001b[1;33m(\u001b[0m\u001b[1;36m1\u001b[0m\u001b[1;33m,\u001b[0m \u001b[1;36m5001\u001b[0m\u001b[1;33m)\u001b[0m\u001b[1;33m:\u001b[0m\u001b[1;33m\u001b[0m\u001b[0m\n\u001b[1;32m----> 9\u001b[1;33m     \u001b[1;32mfor\u001b[0m \u001b[0mb\u001b[0m \u001b[1;32min\u001b[0m \u001b[0mrange\u001b[0m\u001b[1;33m(\u001b[0m\u001b[0ma\u001b[0m\u001b[1;33m,\u001b[0m \u001b[1;36m5001\u001b[0m\u001b[1;33m)\u001b[0m\u001b[1;33m:\u001b[0m\u001b[1;33m\u001b[0m\u001b[0m\n\u001b[0m\u001b[0;32m     10\u001b[0m         \u001b[1;31m#чтоб не вычислять квадрат числа\u001b[0m\u001b[1;33m\u001b[0m\u001b[1;33m\u001b[0m\u001b[0m\n\u001b[0;32m     11\u001b[0m         \u001b[0mc_square\u001b[0m \u001b[1;33m=\u001b[0m \u001b[0msquares\u001b[0m\u001b[1;33m[\u001b[0m\u001b[0ma\u001b[0m\u001b[1;33m]\u001b[0m \u001b[1;33m+\u001b[0m \u001b[0msquares\u001b[0m\u001b[1;33m[\u001b[0m\u001b[0mb\u001b[0m\u001b[1;33m]\u001b[0m\u001b[1;33m\u001b[0m\u001b[0m\n",
      "\u001b[1;31mKeyboardInterrupt\u001b[0m: "
     ]
    }
   ],
   "source": [
    "from math import sqrt\n",
    "\n",
    "squares = [i**2 for i in range(0, 5001)]\n",
    "numbers = [i for i in range(0, 5001)]\n",
    "max_sum = 0\n",
    "cnt = 0\n",
    "max_triple = []\n",
    "for a in range(1, 5001):\n",
    "    for b in range(a, 5001):\n",
    "        #чтоб не вычислять квадрат числа\n",
    "        c_square = squares[a] + squares[b] \n",
    "        c =  int(sqrt(c_square))\n",
    "        if c_square <= 25000000 and c_square in squares:\n",
    "            triple = [a, b, c]\n",
    "            cnt += 1\n",
    "            if sum(triple) > max_sum:\n",
    "                max_sum = sum(triple)\n",
    "                max_triple = triple\n",
    "        \n",
    "        \n",
    "        \n",
    "            \n",
    "\n"
   ]
  },
  {
   "cell_type": "code",
   "execution_count": 26,
   "metadata": {},
   "outputs": [
    {
     "data": {
      "text/plain": [
       "[]"
      ]
     },
     "execution_count": 26,
     "metadata": {},
     "output_type": "execute_result"
    }
   ],
   "source": [
    "triples = \n"
   ]
  },
  {
   "cell_type": "code",
   "execution_count": 29,
   "metadata": {},
   "outputs": [],
   "source": [
    "def get_delimeters(x):\n",
    "    delims = []\n",
    "    for i in range(2, x//2 + 1):\n",
    "        if x % i == 0:\n",
    "            delims.append(i)\n",
    "        elif i == int(sqrt(i)) and len(delims) == 0:\n",
    "            break\n",
    "    return delims\n",
    "    \n",
    "ans = []\n",
    "for i in range(174457, 174506):\n",
    "    delims = get_delimeters(i)\n",
    "    if len(delims) == 2:\n",
    "        ans.append([i, delims[0], delims[1]])\n",
    "        "
   ]
  },
  {
   "cell_type": "code",
   "execution_count": 30,
   "metadata": {},
   "outputs": [
    {
     "data": {
      "text/plain": [
       "[[174459, 3, 58153],\n",
       " [174461, 7, 24923],\n",
       " [174463, 59, 2957],\n",
       " [174473, 13, 13421],\n",
       " [174479, 149, 1171],\n",
       " [174485, 5, 34897],\n",
       " [174497, 211, 827],\n",
       " [174502, 2, 87251]]"
      ]
     },
     "execution_count": 30,
     "metadata": {},
     "output_type": "execute_result"
    }
   ],
   "source": [
    "ans"
   ]
  },
  {
   "cell_type": "code",
   "execution_count": null,
   "metadata": {},
   "outputs": [],
   "source": []
  }
 ],
 "metadata": {
  "julynter-results": {
   "filteredId": [],
   "filteredIndividual": [],
   "filteredRestart": [],
   "filteredType": [],
   "hash": "e8519ab5098f577e02136a2e973f1bb7a1d1b206",
   "visible": [
    {
     "cellId": "group",
     "hash": "c0de46ba034d710c2b2406a37ee6816be9634aa0",
     "reason": "This groups other lint messages",
     "reportId": "group",
     "reportType": "hiddenstate",
     "suggestion": null,
     "text": "Hidden State"
    },
    {
     "cellId": 3,
     "hash": "c73714bbd8924a427908ab9197d61a6d467794ad",
     "reason": "A cell with code changes may produce different results than what it generated before the changes, hampering the reproducibility.",
     "reportId": "h2",
     "reportType": "hiddenstate",
     "suggestion": "Please consider re-executing it to guarantee the reproducibility.",
     "text": "Cell 3 has changed since its execution, but it wasn't executed after the changes"
    },
    {
     "cellId": 4,
     "hash": "7a8bf38f1568aa5844e100b999bed5de29223a09",
     "reason": "A cell with code changes may produce different results than what it generated before the changes, hampering the reproducibility.",
     "reportId": "h2",
     "reportType": "hiddenstate",
     "suggestion": "Please consider re-executing it to guarantee the reproducibility.",
     "text": "Cell 4 has changed since its execution, but it wasn't executed after the changes"
    },
    {
     "cellId": 4,
     "hash": "16c53adc4448bc4cb4133949f5fcfa3604849a21",
     "reason": "A skip in the execution count might indicate the presence of a hidden state caused by a cell that does not exist anymore. Hidden states might prevent cells from executing or producing the same results, hampering the reproducibility.",
     "reportId": "h4",
     "reportType": "hiddenstate",
     "suggestion": "Please consider re-running the notebook to guarantee the reproducibility.",
     "text": "Cell 4 skips the execution count"
    },
    {
     "cellId": 4,
     "hash": "ea42929909637cc541d6ca223625aea65866e7cf",
     "reason": "The cell that created the name was removed or edited, indicating a hidden state. Using a variable from a cell that does not exist anymore prevents the reproducibility of the notebook.",
     "reportId": "h5",
     "reportType": "hiddenstate",
     "suggestion": "Please consider restoring the cell and re-running the notebook to guarantee the reproducibility.",
     "text": "Cell 4 uses name 'max_triple' that was defined on In[25], but it does not exist anymore"
    },
    {
     "cellId": 5,
     "hash": "17faf891ebfefb53590922044ee42bf45461129a",
     "reason": "A skip in the execution count might indicate the presence of a hidden state caused by a cell that does not exist anymore. Hidden states might prevent cells from executing or producing the same results, hampering the reproducibility.",
     "reportId": "h4",
     "reportType": "hiddenstate",
     "suggestion": "Please consider re-running the notebook to guarantee the reproducibility.",
     "text": "Cell 5 skips the execution count"
    },
    {
     "cellId": "group",
     "hash": "19d3d3d153f22e318cbe061df9e685ba5165b0aa",
     "reason": "This groups other lint messages",
     "reportId": "group",
     "reportType": "confusenotebook",
     "suggestion": null,
     "text": "Confuse Notebook"
    },
    {
     "cellId": 4,
     "hash": "4dbcb6c3f1fdd3fe94b1cdd91e762c8e3f89b5c9",
     "reason": "When you try to run all cells following the top-down order, cells in the wrong order might fail to execute or produce different results, hampering the reproducibility.",
     "reportId": "c2",
     "reportType": "confusenotebook",
     "suggestion": "Please consider re-running the notebook to guarantee the reproducibility.",
     "text": "Cell 4 has the execution count 26 in the wrong order"
    },
    {
     "cellId": 6,
     "hash": "ba10ca724b6f461ab43ce31c9594070c6b19630e",
     "reason": "A markdown cell at the end of the notebook can conclude it, presenting a summary of the obtained results.",
     "reportId": "c5",
     "reportType": "confusenotebook",
     "suggestion": "Please consider adding a markdown cell to conclude the notebook.",
     "text": "The last cell of the notebook is not a markdown cell"
    },
    {
     "cellId": "group",
     "hash": "d6fbc9d2bdd580e18ed0bc5805dc26db323d6f5f",
     "reason": "This groups other lint messages",
     "reportId": "group",
     "reportType": "import",
     "suggestion": null,
     "text": "Import"
    },
    {
     "cellId": 3,
     "hash": "64be14d25ace771c2a6b0cce45e1e3b24ab8597d",
     "reason": "Imports at the beginning of the notebook allow for a quick failure in the case of a non-installed dependency. It prevents users from stopping their executions for installing dependencies. Additionally, imports in the middle might reduce notebooks' readability by taking the attention from the logic to the import constructs.",
     "reportId": "i1",
     "reportType": "import",
     "suggestion": "Please consider moving the import to the first cell of the notebook.",
     "text": "Cell 3 has imports but it is not the first cell"
    }
   ]
  },
  "kernelspec": {
   "display_name": "Python 3",
   "language": "python",
   "name": "python3"
  },
  "language_info": {
   "codemirror_mode": {
    "name": "ipython",
    "version": 3
   },
   "file_extension": ".py",
   "mimetype": "text/x-python",
   "name": "python",
   "nbconvert_exporter": "python",
   "pygments_lexer": "ipython3",
   "version": "3.6.3"
  }
 },
 "nbformat": 4,
 "nbformat_minor": 4
}
