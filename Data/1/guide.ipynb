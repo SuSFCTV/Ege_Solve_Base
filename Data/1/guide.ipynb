{
 "cells": [
  {
   "cell_type": "markdown",
   "metadata": {},
   "source": [
    "## Неоднозначное соотнесение таблицы и графа\n",
    "Данный типаж задач у нас основан на таблице и картинке, где нам надо найти либо длину пути из одного города в другой, либо подписать города соответствующими номерами\n",
    "\n",
    "Для решения данных задач нам чаще всего даны два случая (картинка дана всегда):\n",
    "1. таблица лишь с отмеченными ячейками\n",
    "2. таблица, где в ячейках указана длина пути\n",
    "\n",
    "Разберём решения на примере:\n",
    "1. Task - 26975\n",
    "\n",
    "![](https://github.com/vaskers5/Ege_Solve_Base/blob/main/Data/1/data/ambiguous%20correlation/26975.png)\n",
    "\n",
    "> Первым делом следует искать такие города, у которых число дорог смежных им отличается от любого другого города.\n",
    "> В нашем примере это города К и Ж, из которых есть лишь 2 дороги, а во всех остальных городах - 3. \n",
    "> Смотрим по таблице, где отмечены две дороги - это у нас строки 2 и 7 (можно смотреть и по столбцам, кому как удобнее). \n",
    "> Замечаем, что эти два города соединены с одним и тем же городом, а именно Д - ищем в таблице в строчках 2 и 7 общий столбец, где была бы отмеченная ячейка. \n",
    "> Видим столбец 3, значит это город Д. Теперь рассматриваем строчку 3, так как мы уже знаем, что 2 и 7 - города К и Ж, то ячейка 4 - город В.\n",
    "> Надо искать ещё города, которые мы точно сможем определить - это города смежные К и Ж, так как мы уже выяснили, куда у них ведёт одна из дорог.\n",
    "> Также смотрим на картинку и таблицу - строка 2 соединена с городом 6 - это город Е.\n",
    "> Аналогично с 7 строкой и 5 городом - город А.\n",
    "> Теперь мы знаем, что населённый пункт В(4) соединён с Е(6) и Д(3), а значит город Г - 8.\n",
    "> Так как Г(8) соединён с В(4) и А(5), то город Б - 1.\n",
    "\n",
    "Итого ответ: 14"
   ]
  },
  {
   "cell_type": "markdown",
   "metadata": {},
   "source": [
    "## Однозначное соотнесение таблицы и графа\n",
    "\n"
   ]
  },
  {
   "cell_type": "markdown",
   "metadata": {},
   "source": [
    "## Поиск оптимального маршрута по таблице\n",
    "\n"
   ]
  }
 ],
 "metadata": {
  "julynter-results": {
   "filteredId": [],
   "filteredIndividual": [],
   "filteredRestart": [],
   "filteredType": [],
   "hash": "336887f61da289397c729627aa797d3a0cfb0aab",
   "visible": [
    {
     "cellId": "group",
     "hash": "19d3d3d153f22e318cbe061df9e685ba5165b0aa",
     "reason": "This groups other lint messages",
     "reportId": "group",
     "reportType": "confusenotebook",
     "suggestion": null,
     "text": "Confuse Notebook"
    },
    {
     "cellId": 0,
     "hash": "93379234e984bb3e864c1f343e91ac6b416d4545",
     "reason": "A markdown cell at the beginning of the notebook can provide a human-friendly title with no constraints and introduce the notebook, indicating its purpose and external requirements.",
     "reportId": "c4",
     "reportType": "confusenotebook",
     "suggestion": "Please consider adding a markdown cell to describe the notebook.",
     "text": "The first cell of the notebook is not a markdown cell"
    }
   ]
  },
  "kernelspec": {
   "display_name": "Python 3",
   "language": "python",
   "name": "python3"
  },
  "language_info": {
   "codemirror_mode": {
    "name": "ipython",
    "version": 3
   },
   "file_extension": ".py",
   "mimetype": "text/x-python",
   "name": "python",
   "nbconvert_exporter": "python",
   "pygments_lexer": "ipython3",
   "version": "3.9.5"
  }
 },
 "nbformat": 4,
 "nbformat_minor": 4
}
