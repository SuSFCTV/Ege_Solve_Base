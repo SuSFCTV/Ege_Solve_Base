{
 "cells": [
  {
   "cell_type": "code",
   "execution_count": 3,
   "metadata": {},
   "outputs": [],
   "source": [
    "s_1 = [\"1\" for i in range(15)]\n",
    "s_2 = [\"2\" for i in range(10)]\n",
    "s_3 = [\"3\" for i in range(60)]\n",
    "s_new = s_1 +s_2 + s_3\n",
    "s = \"\"\n",
    "for elem in s_new:\n",
    "    s+= elem"
   ]
  },
  {
   "cell_type": "code",
   "execution_count": 5,
   "metadata": {},
   "outputs": [
    {
     "ename": "SyntaxError",
     "evalue": "invalid syntax (<ipython-input-5-5fc0603e93a9>, line 1)",
     "output_type": "error",
     "traceback": [
      "\u001b[1;36m  File \u001b[1;32m\"<ipython-input-5-5fc0603e93a9>\"\u001b[1;36m, line \u001b[1;32m1\u001b[0m\n\u001b[1;33m    while (s.find(\"1\")!=0 or s.find(\"2\")!=0 or s.find() )\u001b[0m\n\u001b[1;37m                                                         ^\u001b[0m\n\u001b[1;31mSyntaxError\u001b[0m\u001b[1;31m:\u001b[0m invalid syntax\n"
     ]
    }
   ],
   "source": [
    "while (s.find(\"1\")!=0 or s.find(\"2\")!=0 or s.find(\"3\")!=0):\n",
    "    s.replace"
   ]
  },
  {
   "cell_type": "code",
   "execution_count": 16,
   "metadata": {},
   "outputs": [
    {
     "name": "stdin",
     "output_type": "stream",
     "text": [
      " 4 2 1\n"
     ]
    }
   ],
   "source": [
    "from itertools import permutations\n",
    "\n",
    "a = list(permutations(list(map(int,input().split()))))\n",
    "ans = [sum(i) for i in a]"
   ]
  },
  {
   "cell_type": "code",
   "execution_count": 24,
   "metadata": {},
   "outputs": [
    {
     "name": "stdout",
     "output_type": "stream",
     "text": [
      "[3, 3, 23, 6, 2, 4, 8]\n"
     ]
    }
   ],
   "source": [
    "mylist = [3,6,3,2,4,8,23]\n",
    "print(sorted(mylist, key=lambda x: x%2==0) )"
   ]
  },
  {
   "cell_type": "code",
   "execution_count": 23,
   "metadata": {},
   "outputs": [
    {
     "data": {
      "text/plain": [
       "[7, 7, 7, 7, 7, 7]"
      ]
     },
     "execution_count": 23,
     "metadata": {},
     "output_type": "execute_result"
    }
   ],
   "source": [
    "ans"
   ]
  },
  {
   "cell_type": "code",
   "execution_count": 36,
   "metadata": {},
   "outputs": [
    {
     "name": "stdout",
     "output_type": "stream",
     "text": [
      "[[18, 22, 40], [18, 25, 37], [17, 23, 40]]\n"
     ]
    }
   ],
   "source": [
    "from itertools import permutations\n",
    "\n",
    "f = open(\"27.txt\")\n",
    "\n",
    "def get_group():\n",
    "    return list(permutations(list(map(int,f.readline().split()))))\n",
    "\n",
    "n = int(f.readline())\n",
    "inf = float(\"-inf\")\n",
    "s = get_group()\n",
    "div = 3\n",
    "for _ in range(n-1):\n",
    "    groups = get_group()\n",
    "    temp = [sorted([i[0] + j[0], i[1] + j[1], j[2] + i[2]]) for i in s for j in groups]\n",
    "    fake_s = [[inf,inf,inf]] * div\n",
    "    for x in temp:\n",
    "        fake_s[x[0]%2 + x[1] %2] = max(x, fake_s[x[0] % 2 + x[1] % 2], key = lambda x: x[2])\n",
    "    s = [x for x in fake_s if x!= [inf,inf,inf]]\n",
    "print(s)"
   ]
  },
  {
   "cell_type": "code",
   "execution_count": 29,
   "metadata": {},
   "outputs": [
    {
     "data": {
      "text/plain": [
       "[[16, 16, 18],\n",
       " [13, 16, 21],\n",
       " [13, 16, 21],\n",
       " [13, 13, 24],\n",
       " [8, 21, 21],\n",
       " [8, 18, 24],\n",
       " [13, 16, 21],\n",
       " [16, 16, 18],\n",
       " [13, 13, 24],\n",
       " [13, 16, 21],\n",
       " [8, 18, 24],\n",
       " [8, 21, 21],\n",
       " [13, 16, 21],\n",
       " [8, 21, 21],\n",
       " [16, 16, 18],\n",
       " [8, 18, 24],\n",
       " [13, 16, 21],\n",
       " [13, 13, 24],\n",
       " [8, 21, 21],\n",
       " [13, 16, 21],\n",
       " [8, 18, 24],\n",
       " [16, 16, 18],\n",
       " [13, 13, 24],\n",
       " [13, 16, 21],\n",
       " [13, 13, 24],\n",
       " [8, 18, 24],\n",
       " [13, 16, 21],\n",
       " [8, 21, 21],\n",
       " [16, 16, 18],\n",
       " [13, 16, 21],\n",
       " [8, 18, 24],\n",
       " [13, 13, 24],\n",
       " [8, 21, 21],\n",
       " [13, 16, 21],\n",
       " [13, 16, 21],\n",
       " [16, 16, 18]]"
      ]
     },
     "execution_count": 29,
     "metadata": {},
     "output_type": "execute_result"
    }
   ],
   "source": []
  },
  {
   "cell_type": "code",
   "execution_count": null,
   "metadata": {},
   "outputs": [],
   "source": []
  }
 ],
 "metadata": {
  "julynter-results": {
   "filteredId": [],
   "filteredIndividual": [],
   "filteredRestart": [],
   "filteredType": [],
   "hash": "95f0a6f90fee6fd4c55a9813dc5999ffa86f356d",
   "visible": [
    {
     "cellId": "group",
     "hash": "f1533669aecd4af79dc6255a1e56c261582897f8",
     "reason": "This groups other lint messages",
     "reportId": "group",
     "reportType": "invalidtitle",
     "suggestion": null,
     "text": "Invalid Title"
    },
    {
     "cellId": "title",
     "hash": "e9fb88eead53b04f100b052363b4bcdb79cee158",
     "reason": "Untitled notebooks provide no context for who is selecting the notebook in the file browser.",
     "reportId": "t2",
     "reportType": "invalidtitle",
     "suggestion": "Please consider renaming it to a meaningful name.",
     "text": "Title starts with \"Untitled\""
    },
    {
     "cellId": "group",
     "hash": "c0de46ba034d710c2b2406a37ee6816be9634aa0",
     "reason": "This groups other lint messages",
     "reportId": "group",
     "reportType": "hiddenstate",
     "suggestion": null,
     "text": "Hidden State"
    },
    {
     "cellId": 1,
     "hash": "35e23d9c6c9480ed8b5de03d26fa702586f9017f",
     "reason": "A cell with code changes may produce different results than what it generated before the changes, hampering the reproducibility.",
     "reportId": "h2",
     "reportType": "hiddenstate",
     "suggestion": "Please consider re-executing it to guarantee the reproducibility.",
     "text": "Cell 1 has changed since its execution, but it wasn't executed after the changes"
    },
    {
     "cellId": 2,
     "hash": "5478ab387e064a809717187968269b01ed0429a9",
     "reason": "A cell with code changes may produce different results than what it generated before the changes, hampering the reproducibility.",
     "reportId": "h2",
     "reportType": "hiddenstate",
     "suggestion": "Please consider re-executing it to guarantee the reproducibility.",
     "text": "Cell 2 has changed since its execution, but it wasn't executed after the changes"
    },
    {
     "cellId": 6,
     "hash": "86d4014289a025e96d37ea512268b2310bae612c",
     "reason": "A cell with code changes may produce different results than what it generated before the changes, hampering the reproducibility.",
     "reportId": "h2",
     "reportType": "hiddenstate",
     "suggestion": "Please consider re-executing it to guarantee the reproducibility.",
     "text": "Cell 6 has changed since its execution, but it wasn't executed after the changes"
    },
    {
     "cellId": 0,
     "hash": "8306b17c617e25879b6f3c9ffc139582e82ac4f0",
     "reason": "A skip in the execution count might indicate the presence of a hidden state caused by a cell that does not exist anymore. Hidden states might prevent cells from executing or producing the same results, hampering the reproducibility.",
     "reportId": "h4",
     "reportType": "hiddenstate",
     "suggestion": "Please consider re-running the notebook to guarantee the reproducibility.",
     "text": "Cell 0 skips the execution count"
    },
    {
     "cellId": 1,
     "hash": "86a84b96e118ffbe3629c1591fbdaf83e96ee318",
     "reason": "A skip in the execution count might indicate the presence of a hidden state caused by a cell that does not exist anymore. Hidden states might prevent cells from executing or producing the same results, hampering the reproducibility.",
     "reportId": "h4",
     "reportType": "hiddenstate",
     "suggestion": "Please consider re-running the notebook to guarantee the reproducibility.",
     "text": "Cell 1 skips the execution count"
    },
    {
     "cellId": 2,
     "hash": "f7b59b2002e235d5c56a6d310201e5bd028c2a53",
     "reason": "A skip in the execution count might indicate the presence of a hidden state caused by a cell that does not exist anymore. Hidden states might prevent cells from executing or producing the same results, hampering the reproducibility.",
     "reportId": "h4",
     "reportType": "hiddenstate",
     "suggestion": "Please consider re-running the notebook to guarantee the reproducibility.",
     "text": "Cell 2 skips the execution count"
    },
    {
     "cellId": 4,
     "hash": "bf130c227a37ff1bd5103036cda28a43c0ff2606",
     "reason": "A skip in the execution count might indicate the presence of a hidden state caused by a cell that does not exist anymore. Hidden states might prevent cells from executing or producing the same results, hampering the reproducibility.",
     "reportId": "h4",
     "reportType": "hiddenstate",
     "suggestion": "Please consider re-running the notebook to guarantee the reproducibility.",
     "text": "Cell 4 skips the execution count"
    },
    {
     "cellId": 4,
     "hash": "b56455e1442865492170e9c676496b895536f38b",
     "reason": "The cell that created the name was removed or edited, indicating a hidden state. Using a variable from a cell that does not exist anymore prevents the reproducibility of the notebook.",
     "reportId": "h5",
     "reportType": "hiddenstate",
     "suggestion": "Please consider restoring the cell and re-running the notebook to guarantee the reproducibility.",
     "text": "Cell 4 uses name 'ans' that was defined on In[22], but it does not exist anymore"
    },
    {
     "cellId": 6,
     "hash": "8a4301fa2d72d92f79d135c2c1e9e5db831edfa7",
     "reason": "A skip in the execution count might indicate the presence of a hidden state caused by a cell that does not exist anymore. Hidden states might prevent cells from executing or producing the same results, hampering the reproducibility.",
     "reportId": "h4",
     "reportType": "hiddenstate",
     "suggestion": "Please consider re-running the notebook to guarantee the reproducibility.",
     "text": "Cell 6 skips the execution count"
    },
    {
     "cellId": 6,
     "hash": "342774d8e63e82dbcdce252ba6db10a2d4b6ac4e",
     "reason": "The cell that created the name was removed or edited, indicating a hidden state. Using a variable from a cell that does not exist anymore prevents the reproducibility of the notebook.",
     "reportId": "h5",
     "reportType": "hiddenstate",
     "suggestion": "Please consider restoring the cell and re-running the notebook to guarantee the reproducibility.",
     "text": "Cell 6 uses name 'temp' that was defined on In[28], but it does not exist anymore"
    },
    {
     "cellId": 5,
     "hash": "059c4468910a1cac8b246501add1f182fa61675a",
     "reason": "A skip in the execution count might indicate the presence of a hidden state caused by a cell that does not exist anymore. Hidden states might prevent cells from executing or producing the same results, hampering the reproducibility.",
     "reportId": "h4",
     "reportType": "hiddenstate",
     "suggestion": "Please consider re-running the notebook to guarantee the reproducibility.",
     "text": "Cell 5 skips the execution count"
    },
    {
     "cellId": "group",
     "hash": "19d3d3d153f22e318cbe061df9e685ba5165b0aa",
     "reason": "This groups other lint messages",
     "reportId": "group",
     "reportType": "confusenotebook",
     "suggestion": null,
     "text": "Confuse Notebook"
    },
    {
     "cellId": 4,
     "hash": "07874de84ea54866255f7be543cbc61e58024b4d",
     "reason": "When you try to run all cells following the top-down order, cells in the wrong order might fail to execute or produce different results, hampering the reproducibility.",
     "reportId": "c2",
     "reportType": "confusenotebook",
     "suggestion": "Please consider re-running the notebook to guarantee the reproducibility.",
     "text": "Cell 4 has the execution count 23 in the wrong order"
    },
    {
     "cellId": 6,
     "hash": "b54fe61dd23965cccef10ac8573507dae1d35fcb",
     "reason": "When you try to run all cells following the top-down order, cells in the wrong order might fail to execute or produce different results, hampering the reproducibility.",
     "reportId": "c2",
     "reportType": "confusenotebook",
     "suggestion": "Please consider re-running the notebook to guarantee the reproducibility.",
     "text": "Cell 6 has the execution count 29 in the wrong order"
    },
    {
     "cellId": 0,
     "hash": "249f61193dfea9de0906f39a3838fd38473518c5",
     "reason": "A markdown cell at the beginning of the notebook can provide a human-friendly title with no constraints and introduce the notebook, indicating its purpose and external requirements.",
     "reportId": "c4",
     "reportType": "confusenotebook",
     "suggestion": "Please consider adding a markdown cell to describe the notebook.",
     "text": "The first cell of the notebook is not a markdown cell"
    },
    {
     "cellId": 5,
     "hash": "71e66f3530ed902b305bbfee79d3f5f210d62691",
     "reason": "A markdown cell at the end of the notebook can conclude it, presenting a summary of the obtained results.",
     "reportId": "c5",
     "reportType": "confusenotebook",
     "suggestion": "Please consider adding a markdown cell to conclude the notebook.",
     "text": "The last cell of the notebook is not a markdown cell"
    },
    {
     "cellId": "group",
     "hash": "d6fbc9d2bdd580e18ed0bc5805dc26db323d6f5f",
     "reason": "This groups other lint messages",
     "reportId": "group",
     "reportType": "import",
     "suggestion": null,
     "text": "Import"
    },
    {
     "cellId": 2,
     "hash": "737d471e0bd729b9ceec35e4f7829e91d6bf4f35",
     "reason": "Imports at the beginning of the notebook allow for a quick failure in the case of a non-installed dependency. It prevents users from stopping their executions for installing dependencies. Additionally, imports in the middle might reduce notebooks' readability by taking the attention from the logic to the import constructs.",
     "reportId": "i1",
     "reportType": "import",
     "suggestion": "Please consider moving the import to the first cell of the notebook.",
     "text": "Cell 2 has imports but it is not the first cell"
    },
    {
     "cellId": 5,
     "hash": "61b0a48eeb6db52e541d1b948370ba13085af77e",
     "reason": "Imports at the beginning of the notebook allow for a quick failure in the case of a non-installed dependency. It prevents users from stopping their executions for installing dependencies. Additionally, imports in the middle might reduce notebooks' readability by taking the attention from the logic to the import constructs.",
     "reportId": "i1",
     "reportType": "import",
     "suggestion": "Please consider moving the import to the first cell of the notebook.",
     "text": "Cell 5 has imports but it is not the first cell"
    }
   ]
  },
  "kernelspec": {
   "display_name": "Python 3",
   "language": "python",
   "name": "python3"
  },
  "language_info": {
   "codemirror_mode": {
    "name": "ipython",
    "version": 3
   },
   "file_extension": ".py",
   "mimetype": "text/x-python",
   "name": "python",
   "nbconvert_exporter": "python",
   "pygments_lexer": "ipython3",
   "version": "3.6.3"
  }
 },
 "nbformat": 4,
 "nbformat_minor": 4
}
