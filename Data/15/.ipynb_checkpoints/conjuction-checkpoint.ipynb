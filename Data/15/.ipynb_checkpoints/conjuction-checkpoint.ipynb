{
 "cells": [
  {
   "cell_type": "markdown",
   "metadata": {},
   "source": [
    "### Task-9804 definiton\n",
    "![](https://github.com/vaskers5/Ege_Solve_Base/blob/main/Data/15/data/conjuction/9804.png?raw=true)"
   ]
  },
  {
   "cell_type": "code",
   "execution_count": 1,
   "metadata": {},
   "outputs": [
    {
     "name": "stdout",
     "output_type": "stream",
     "text": [
      "12\n"
     ]
    }
   ],
   "source": [
    "def imp(x, y):\n",
    "    return not(x) or y\n",
    "\n",
    "\n",
    "ans = []\n",
    "for A in range(1, 1000):\n",
    "    flag = True\n",
    "    for x in range(1, 1000):\n",
    "        if imp(x & 29 != 0, imp(x & 17 == 0, x & A != 0)) == False:\n",
    "            flag = False\n",
    "            break\n",
    "            \n",
    "    if flag == True:\n",
    "        ans.append(A)\n",
    "        \n",
    "print(min(ans))\n",
    "            "
   ]
  },
  {
   "cell_type": "markdown",
   "metadata": {},
   "source": [
    "### Task-34521 definiton\n",
    "![](https://github.com/vaskers5/Ege_Solve_Base/blob/main/Data/15/data/conjuction/34521.png?raw=true)"
   ]
  },
  {
   "cell_type": "code",
   "execution_count": 8,
   "metadata": {},
   "outputs": [
    {
     "name": "stdout",
     "output_type": "stream",
     "text": [
      "[0]\n"
     ]
    }
   ],
   "source": [
    "def imp(x,y):\n",
    "    return not(x) or y\n",
    "\n",
    "A = []\n",
    "for a in range(1000):\n",
    "    flag = True\n",
    "    for x in range(1,1000):\n",
    "        if (x & 51 == 0 or imp(x & 41, x & a == 0)) == False:\n",
    "            flag = False\n",
    "            break\n",
    "    if flag == True:\n",
    "        A.append(a)\n",
    "        \n",
    "        \n",
    "print(A)"
   ]
  },
  {
   "cell_type": "markdown",
   "metadata": {},
   "source": [
    "### Task-34516 definiton\n",
    "![](https://github.com/vaskers5/Ege_Solve_Base/blob/main/Data/15/data/conjuction/34516.png?raw=true)"
   ]
  },
  {
   "cell_type": "code",
   "execution_count": 1,
   "metadata": {},
   "outputs": [
    {
     "name": "stdout",
     "output_type": "stream",
     "text": [
      "13\n"
     ]
    }
   ],
   "source": [
    "def imp(x,y):\n",
    "    return not(x) or y\n",
    "\n",
    "A = []\n",
    "for a in range(1000):\n",
    "    flag = True\n",
    "    for x in range(1,1000):\n",
    "        if imp(x & 28 != 0 or x & 45 != 0, imp(x & 48 == 0, x & a != 0)) == False:\n",
    "            flag = False\n",
    "            break\n",
    "    if flag == True:\n",
    "        A.append(a)\n",
    "        \n",
    "        \n",
    "print(min(A))"
   ]
  }
 ],
 "metadata": {
  "julynter-results": {
   "filteredId": [],
   "filteredIndividual": [],
   "filteredRestart": [],
   "filteredType": [],
   "hash": "452c1641a43fa5fabaeb369e726d748c6c708815",
   "visible": [
    {
     "cellId": "group",
     "hash": "c0de46ba034d710c2b2406a37ee6816be9634aa0",
     "reason": "This groups other lint messages",
     "reportId": "group",
     "reportType": "hiddenstate",
     "suggestion": null,
     "text": "Hidden State"
    },
    {
     "cellId": 5,
     "hash": "7981a6b3fa612a40630938c37aabf00880979b79",
     "reason": "A cell with a repeated execution count indicates that there are results of multiple execution sessions in this notebook. Running all cells in the top-down order might produce different results, hampering the reproducibility.",
     "reportId": "h3",
     "reportType": "hiddenstate",
     "suggestion": "Please consider re-running the cell to guarantee the reproducibility.",
     "text": "Cell 5 repeats the execution count 1"
    },
    {
     "cellId": 3,
     "hash": "204f031d341eac7e9a92e3855498162a9250bc97",
     "reason": "A skip in the execution count might indicate the presence of a hidden state caused by a cell that does not exist anymore. Hidden states might prevent cells from executing or producing the same results, hampering the reproducibility.",
     "reportId": "h4",
     "reportType": "hiddenstate",
     "suggestion": "Please consider re-running the notebook to guarantee the reproducibility.",
     "text": "Cell 3 skips the execution count"
    },
    {
     "cellId": "group",
     "hash": "19d3d3d153f22e318cbe061df9e685ba5165b0aa",
     "reason": "This groups other lint messages",
     "reportId": "group",
     "reportType": "confusenotebook",
     "suggestion": null,
     "text": "Confuse Notebook"
    },
    {
     "cellId": 5,
     "hash": "9a238e5b69bf0d4bcc81546a2129c1f480dd12cc",
     "reason": "When you try to run all cells following the top-down order, cells in the wrong order might fail to execute or produce different results, hampering the reproducibility.",
     "reportId": "c2",
     "reportType": "confusenotebook",
     "suggestion": "Please consider re-running the notebook to guarantee the reproducibility.",
     "text": "Cell 5 has the execution count 1 in the wrong order"
    },
    {
     "cellId": 5,
     "hash": "b6106914c1ccf53b3c6505eee90c85c45f0e69b4",
     "reason": "A markdown cell at the end of the notebook can conclude it, presenting a summary of the obtained results.",
     "reportId": "c5",
     "reportType": "confusenotebook",
     "suggestion": "Please consider adding a markdown cell to conclude the notebook.",
     "text": "The last cell of the notebook is not a markdown cell"
    }
   ]
  },
  "kernelspec": {
   "display_name": "Python 3",
   "language": "python",
   "name": "python3"
  },
  "language_info": {
   "codemirror_mode": {
    "name": "ipython",
    "version": 3
   },
   "file_extension": ".py",
   "mimetype": "text/x-python",
   "name": "python",
   "nbconvert_exporter": "python",
   "pygments_lexer": "ipython3",
   "version": "3.6.3"
  }
 },
 "nbformat": 4,
 "nbformat_minor": 4
}
