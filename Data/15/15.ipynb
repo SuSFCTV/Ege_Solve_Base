{
 "cells": [
  {
   "cell_type": "code",
   "execution_count": 7,
   "metadata": {},
   "outputs": [
    {
     "name": "stdout",
     "output_type": "stream",
     "text": [
      "27\n"
     ]
    }
   ],
   "source": [
    "def F(n):\n",
    "    if n <= 15:\n",
    "        return 2*n*n + 4*n + 3\n",
    "    elif n > 15 and n % 3 == 0:\n",
    "        return F(n-1) + n*n + 3\n",
    "    else:\n",
    "        return F(n-2) + n - 6\n",
    "\n",
    "N = []\n",
    "for n in range (1,1001):\n",
    "    number = F(n) # вызов функции рекурсии, хз почему ты ее раньше не вызывала\n",
    "    while number > 0: # проходимся по некому числу, которое получается в результате рекурсивного вызова\n",
    "        k = number%10 # выделяем последнюю цифру числа\n",
    "        number //= 10 # берем следующий его разряд\n",
    "        if k%2 != 0 : # проверяем ту последнюю цифру\n",
    "            flag = 1\n",
    "        else:\n",
    "            flag = 0\n",
    "            break\n",
    "    if flag == 1:\n",
    "        N.append(n)\n",
    "print(len(N))"
   ]
  },
  {
   "cell_type": "code",
   "execution_count": 18,
   "metadata": {},
   "outputs": [
    {
     "name": "stdout",
     "output_type": "stream",
     "text": [
      "[]\n"
     ]
    }
   ],
   "source": [
    "def imp (x,y):\n",
    "    return not(x) or y\n",
    "\n",
    "P = [i for i in range(2,11)]\n",
    "Q = [i for i in range(6,15)]\n",
    "A = []\n",
    "\n",
    "for x in range(1,1000):\n",
    "    if ((imp(x in A,x in P)) or (x in Q))==False:\n",
    "        A.append(x)\n",
    "print(A)\n"
   ]
  },
  {
   "cell_type": "code",
   "execution_count": 51,
   "metadata": {},
   "outputs": [
    {
     "name": "stdout",
     "output_type": "stream",
     "text": [
      "[5, 6, 7, 8, 9]\n"
     ]
    }
   ],
   "source": [
    "def imp(x,y):\n",
    "    return not(x) or y\n",
    "\n",
    "P = [i for i in range(10,41)]\n",
    "Q = [i for i in range(5,16)]\n",
    "R = [i for i in range(35,51)]\n",
    "A = []\n",
    "for a in range (1,100):\n",
    "    flag = 1\n",
    "    A.append(a)\n",
    "    for x in range (1,100):\n",
    "        if ((x in A) or (x in P) or imp(x in Q,x in R)) == False:\n",
    "            flag = 0\n",
    "            A.remove(a)\n",
    "            break\n",
    "#     if flag == 1:\n",
    "#         print(A)\n",
    "print(A)"
   ]
  },
  {
   "cell_type": "code",
   "execution_count": 57,
   "metadata": {},
   "outputs": [
    {
     "name": "stdout",
     "output_type": "stream",
     "text": [
      "[5, 6, 7, 8, 9]\n"
     ]
    }
   ],
   "source": [
    "def imp(x,y):\n",
    "    return not(x) or y\n",
    "\n",
    "P = [i for i in range(10,41)]\n",
    "Q = [i for i in range(5,16)]\n",
    "R = [i for i in range(35,51)]\n",
    "A = []\n",
    "for x in range(1,1000):\n",
    "    if ((x in A) or (x in P) or imp(x in Q,x in R)) == False:\n",
    "        A.append(x)\n",
    "        \n",
    "print(A)"
   ]
  },
  {
   "cell_type": "code",
   "execution_count": 66,
   "metadata": {},
   "outputs": [
    {
     "name": "stdout",
     "output_type": "stream",
     "text": [
      "[46, 47, 48, 49, 50, 51, 52, 53, 54, 55]\n"
     ]
    }
   ],
   "source": [
    "def imp(x,y):\n",
    "    return not(x) or y\n",
    "\n",
    "P = [i for i in range (30,46)]\n",
    "Q = [i for i in range (40,56)]\n",
    "A = []\n",
    "for x in range (1,1001):\n",
    "    if (imp(not(x in A),not(x in P))) and (imp(x in Q,x in A)) == False:\n",
    "        A.append(x)\n",
    "        \n",
    "print(A)"
   ]
  },
  {
   "cell_type": "markdown",
   "metadata": {},
   "source": [
    "### Задача, некая штука, выполненяет там 5000000 операция, и мы хотим в математематическом виде:"
   ]
  },
  {
   "cell_type": "code",
   "execution_count": 21,
   "metadata": {},
   "outputs": [
    {
     "data": {
      "text/plain": [
       "[0]"
      ]
     },
     "execution_count": 21,
     "metadata": {},
     "output_type": "execute_result"
    }
   ],
   "source": [
    "def imp(x,y):\n",
    "    return not(x) or y\n",
    "\n",
    "P = [i for i in range(2,11)]\n",
    "Q = [i for i in range(6,15)]\n",
    "AA = [0]\n",
    "for a in range(1,10000):\n",
    "    b = []\n",
    "    for a in range(1,1000):\n",
    "        b.append(a)\n",
    "        if imp(x in b, x in P) or x in Q == True:\n",
    "            AA.append(b)\n",
    "            break\n",
    "AA"
   ]
  },
  {
   "cell_type": "code",
   "execution_count": 3,
   "metadata": {},
   "outputs": [
    {
     "name": "stdout",
     "output_type": "stream",
     "text": [
      "12\n"
     ]
    }
   ],
   "source": [
    "def imp(x,y):\n",
    "    return x<=y\n",
    "\n",
    "def check(x,A_begin,A_end):\n",
    "    return imp(A_begin<=x<=A_end, 2<=x<=10) or 6<=x<=14\n",
    "\n",
    "max_len = 0\n",
    "for A_begin in range(1,100):\n",
    "    for A_end in range(A_begin+1,100):\n",
    "        condition = True\n",
    "        len_edge = A_end - A_begin\n",
    "        for x in range(1,1000):\n",
    "            if check(x,A_begin,A_end)==False:\n",
    "                condition = False\n",
    "                break\n",
    "        if condition:\n",
    "            max_len = max(len_edge,max_len)\n",
    "print(max_len)\n"
   ]
  }
 ],
 "metadata": {
  "julynter-results": {
   "filteredId": [],
   "filteredIndividual": [],
   "filteredRestart": [],
   "filteredType": [],
   "hash": "72d698e109bb6745e6a7c637e889f465265b400f",
   "visible": [
    {
     "cellId": "group",
     "hash": "f1533669aecd4af79dc6255a1e56c261582897f8",
     "reason": "This groups other lint messages",
     "reportId": "group",
     "reportType": "invalidtitle",
     "suggestion": null,
     "text": "Invalid Title"
    },
    {
     "cellId": "title",
     "hash": "c64aa9bf0aaaf04495b18b3a7c72137246a3968a",
     "reason": "Small titles might be meaningless and provide no context for selecting the notebook in the file browser.",
     "reportId": "t7",
     "reportType": "invalidtitle",
     "suggestion": "Please consider renaming it a meaningful name.",
     "text": "Title is too small"
    },
    {
     "cellId": "group",
     "hash": "c0de46ba034d710c2b2406a37ee6816be9634aa0",
     "reason": "This groups other lint messages",
     "reportId": "group",
     "reportType": "hiddenstate",
     "suggestion": null,
     "text": "Hidden State"
    },
    {
     "cellId": 0,
     "hash": "22e9f448e87b08cad773080e8c16a644781c0efe",
     "reason": "A cell with results of a previous session may fail to execute or produce different results in this one, hampering the reproducibility.",
     "reportId": "h1",
     "reportType": "hiddenstate",
     "suggestion": "Please consider executing it to guarantee the reproducibility.",
     "text": "Cell 0 has execution results, but it wasn't executed on this session"
    },
    {
     "cellId": 1,
     "hash": "ac6aad1e24da7435bb9a0fde59a498c044b866b8",
     "reason": "A cell with results of a previous session may fail to execute or produce different results in this one, hampering the reproducibility.",
     "reportId": "h1",
     "reportType": "hiddenstate",
     "suggestion": "Please consider executing it to guarantee the reproducibility.",
     "text": "Cell 1 has execution results, but it wasn't executed on this session"
    },
    {
     "cellId": 2,
     "hash": "87627b8c6241fa189c31f4010dac0b03fdf83559",
     "reason": "A cell with results of a previous session may fail to execute or produce different results in this one, hampering the reproducibility.",
     "reportId": "h1",
     "reportType": "hiddenstate",
     "suggestion": "Please consider executing it to guarantee the reproducibility.",
     "text": "Cell 2 has execution results, but it wasn't executed on this session"
    },
    {
     "cellId": 3,
     "hash": "f97ceb4ee0df86c8a2cdb01a68a24cbb35a469de",
     "reason": "A cell with results of a previous session may fail to execute or produce different results in this one, hampering the reproducibility.",
     "reportId": "h1",
     "reportType": "hiddenstate",
     "suggestion": "Please consider executing it to guarantee the reproducibility.",
     "text": "Cell 3 has execution results, but it wasn't executed on this session"
    },
    {
     "cellId": 4,
     "hash": "067d82e463b8f94f2c1978a2495ebb4622fe159b",
     "reason": "A cell with results of a previous session may fail to execute or produce different results in this one, hampering the reproducibility.",
     "reportId": "h1",
     "reportType": "hiddenstate",
     "suggestion": "Please consider executing it to guarantee the reproducibility.",
     "text": "Cell 4 has execution results, but it wasn't executed on this session"
    },
    {
     "cellId": 6,
     "hash": "cfe85dbbd7a6b6aa7d66bbcab89fcb821170a884",
     "reason": "A cell with results of a previous session may fail to execute or produce different results in this one, hampering the reproducibility.",
     "reportId": "h1",
     "reportType": "hiddenstate",
     "suggestion": "Please consider executing it to guarantee the reproducibility.",
     "text": "Cell 6 has execution results, but it wasn't executed on this session"
    },
    {
     "cellId": 7,
     "hash": "0cda767d3b7fc70e5b4838f7c48a8238774d613c",
     "reason": "A skip in the execution count might indicate the presence of a hidden state caused by a cell that does not exist anymore. Hidden states might prevent cells from executing or producing the same results, hampering the reproducibility.",
     "reportId": "h4",
     "reportType": "hiddenstate",
     "suggestion": "Please consider re-running the notebook to guarantee the reproducibility.",
     "text": "Cell 7 skips the execution count"
    },
    {
     "cellId": 0,
     "hash": "71e0f708ba7ca33c1f006549bd10d4556f3e3ada",
     "reason": "A skip in the execution count might indicate the presence of a hidden state caused by a cell that does not exist anymore. Hidden states might prevent cells from executing or producing the same results, hampering the reproducibility.",
     "reportId": "h4",
     "reportType": "hiddenstate",
     "suggestion": "Please consider re-running the notebook to guarantee the reproducibility.",
     "text": "Cell 0 skips the execution count"
    },
    {
     "cellId": 1,
     "hash": "303cc4f60f4a9810bddb03d219cd86cf67a6b2a7",
     "reason": "A skip in the execution count might indicate the presence of a hidden state caused by a cell that does not exist anymore. Hidden states might prevent cells from executing or producing the same results, hampering the reproducibility.",
     "reportId": "h4",
     "reportType": "hiddenstate",
     "suggestion": "Please consider re-running the notebook to guarantee the reproducibility.",
     "text": "Cell 1 skips the execution count"
    },
    {
     "cellId": 6,
     "hash": "d8fb255a4687eb2c17ccae639e18294f7cc68c5f",
     "reason": "A skip in the execution count might indicate the presence of a hidden state caused by a cell that does not exist anymore. Hidden states might prevent cells from executing or producing the same results, hampering the reproducibility.",
     "reportId": "h4",
     "reportType": "hiddenstate",
     "suggestion": "Please consider re-running the notebook to guarantee the reproducibility.",
     "text": "Cell 6 skips the execution count"
    },
    {
     "cellId": 2,
     "hash": "99cc88c0e6b1156dcb5ef3a0e215ffb33a4f0038",
     "reason": "A skip in the execution count might indicate the presence of a hidden state caused by a cell that does not exist anymore. Hidden states might prevent cells from executing or producing the same results, hampering the reproducibility.",
     "reportId": "h4",
     "reportType": "hiddenstate",
     "suggestion": "Please consider re-running the notebook to guarantee the reproducibility.",
     "text": "Cell 2 skips the execution count"
    },
    {
     "cellId": 3,
     "hash": "02b3a7ed2b7df9ecab0171cd41d17a5aed34bcbb",
     "reason": "A skip in the execution count might indicate the presence of a hidden state caused by a cell that does not exist anymore. Hidden states might prevent cells from executing or producing the same results, hampering the reproducibility.",
     "reportId": "h4",
     "reportType": "hiddenstate",
     "suggestion": "Please consider re-running the notebook to guarantee the reproducibility.",
     "text": "Cell 3 skips the execution count"
    },
    {
     "cellId": 4,
     "hash": "548a9fe2d5ff996719d0d16f6411813f41838142",
     "reason": "A skip in the execution count might indicate the presence of a hidden state caused by a cell that does not exist anymore. Hidden states might prevent cells from executing or producing the same results, hampering the reproducibility.",
     "reportId": "h4",
     "reportType": "hiddenstate",
     "suggestion": "Please consider re-running the notebook to guarantee the reproducibility.",
     "text": "Cell 4 skips the execution count"
    },
    {
     "cellId": "group",
     "hash": "19d3d3d153f22e318cbe061df9e685ba5165b0aa",
     "reason": "This groups other lint messages",
     "reportId": "group",
     "reportType": "confusenotebook",
     "suggestion": null,
     "text": "Confuse Notebook"
    },
    {
     "cellId": 6,
     "hash": "dd0f7eb47d0d94d5e30c9198bd9bf0f6714426fb",
     "reason": "When you try to run all cells following the top-down order, cells in the wrong order might fail to execute or produce different results, hampering the reproducibility.",
     "reportId": "c2",
     "reportType": "confusenotebook",
     "suggestion": "Please consider re-running the notebook to guarantee the reproducibility.",
     "text": "Cell 6 has the execution count 21 in the wrong order"
    },
    {
     "cellId": 7,
     "hash": "fd33abce5b42d758d0d671031ace6bfcf68e0474",
     "reason": "When you try to run all cells following the top-down order, cells in the wrong order might fail to execute or produce different results, hampering the reproducibility.",
     "reportId": "c2",
     "reportType": "confusenotebook",
     "suggestion": "Please consider re-running the notebook to guarantee the reproducibility.",
     "text": "Cell 7 has the execution count 3 in the wrong order"
    },
    {
     "cellId": 0,
     "hash": "1261cf17bdaf9825439eea935bb4e4fb8632f08f",
     "reason": "A markdown cell at the beginning of the notebook can provide a human-friendly title with no constraints and introduce the notebook, indicating its purpose and external requirements.",
     "reportId": "c4",
     "reportType": "confusenotebook",
     "suggestion": "Please consider adding a markdown cell to describe the notebook.",
     "text": "The first cell of the notebook is not a markdown cell"
    },
    {
     "cellId": 7,
     "hash": "72050fb59459fcdcc94919e31ceabe9bf0972ec4",
     "reason": "A markdown cell at the end of the notebook can conclude it, presenting a summary of the obtained results.",
     "reportId": "c5",
     "reportType": "confusenotebook",
     "suggestion": "Please consider adding a markdown cell to conclude the notebook.",
     "text": "The last cell of the notebook is not a markdown cell"
    }
   ]
  },
  "kernelspec": {
   "display_name": "Python 3",
   "language": "python",
   "name": "python3"
  },
  "language_info": {
   "codemirror_mode": {
    "name": "ipython",
    "version": 3
   },
   "file_extension": ".py",
   "mimetype": "text/x-python",
   "name": "python",
   "nbconvert_exporter": "python",
   "pygments_lexer": "ipython3",
   "version": "3.6.3"
  }
 },
 "nbformat": 4,
 "nbformat_minor": 4
}
