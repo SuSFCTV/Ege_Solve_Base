{
 "cells": [
  {
   "cell_type": "markdown",
   "metadata": {},
   "source": [
    "### Task-9804 definitons\n",
    "![](https://github.com/vaskers5/Ege_Solve_Base/blob/main/Data/15/data/9804.png?raw=true)"
   ]
  },
  {
   "cell_type": "code",
   "execution_count": 4,
   "metadata": {},
   "outputs": [
    {
     "name": "stdout",
     "output_type": "stream",
     "text": [
      "12\n"
     ]
    }
   ],
   "source": [
    "def imp(x,y):\n",
    "    return not(x) or y\n",
    "\n",
    "A = []\n",
    "for a in range(1000):\n",
    "    flag = True\n",
    "    for x in range(1000):\n",
    "        if imp(x & 29 != 0, imp(x & 17 == 0, x & a != 0)) == False:\n",
    "            flag = False\n",
    "            break\n",
    "    if flag == True:\n",
    "        A.append(a)\n",
    "        \n",
    "        \n",
    "print(min(A))"
   ]
  },
  {
   "cell_type": "markdown",
   "metadata": {},
   "source": [
    "### Task-34521 definitons\n",
    "![](https://github.com/vaskers5/Ege_Solve_Base/blob/main/Data/15/data/34521.png?raw=true)"
   ]
  },
  {
   "cell_type": "code",
   "execution_count": 9,
   "metadata": {},
   "outputs": [
    {
     "name": "stdout",
     "output_type": "stream",
     "text": [
      "0\n"
     ]
    }
   ],
   "source": [
    "def imp(x,y):\n",
    "    return not(x) or y\n",
    "\n",
    "A = []\n",
    "for a in range(1000):\n",
    "    flag = True\n",
    "    for x in range(1,1000):\n",
    "        if (x & 51 == 0 or imp(x & 41, x & a == 0)) == False:\n",
    "            flag = False\n",
    "            break\n",
    "    if flag == True:\n",
    "        A.append(a)\n",
    "        \n",
    "        \n",
    "print(min(A))"
   ]
  },
  {
   "cell_type": "markdown",
   "metadata": {},
   "source": [
    "### Task-34516 definitons\n",
    "![](https://github.com/vaskers5/Ege_Solve_Base/blob/main/Data/15/data/34516.png?raw=true)"
   ]
  },
  {
   "cell_type": "code",
   "execution_count": 13,
   "metadata": {},
   "outputs": [
    {
     "name": "stdout",
     "output_type": "stream",
     "text": [
      "13\n"
     ]
    }
   ],
   "source": [
    "def imp(x,y):\n",
    "    return not(x) or y\n",
    "\n",
    "A = []\n",
    "for a in range(1000):\n",
    "    flag = True\n",
    "    for x in range(1,1000):\n",
    "        if imp(x & 28 != 0 or x & 45 != 0, imp(x & 48 == 0, x & a != 0)) == False:\n",
    "            flag = False\n",
    "            break\n",
    "    if flag == True:\n",
    "        A.append(a)\n",
    "        \n",
    "        \n",
    "print(min(A))"
   ]
  }
 ],
 "metadata": {
  "julynter-results": {
   "filteredId": [],
   "filteredIndividual": [],
   "filteredRestart": [],
   "filteredType": [],
   "hash": "3da21f92388f25280084311dadfd4a910b185044",
   "visible": [
    {
     "cellId": "group",
     "hash": "c0de46ba034d710c2b2406a37ee6816be9634aa0",
     "reason": "This groups other lint messages",
     "reportId": "group",
     "reportType": "hiddenstate",
     "suggestion": null,
     "text": "Hidden State"
    },
    {
     "cellId": 1,
     "hash": "68fecd6adca94c4a07567a7f9445c85b95d67248",
     "reason": "A skip in the execution count might indicate the presence of a hidden state caused by a cell that does not exist anymore. Hidden states might prevent cells from executing or producing the same results, hampering the reproducibility.",
     "reportId": "h4",
     "reportType": "hiddenstate",
     "suggestion": "Please consider re-running the notebook to guarantee the reproducibility.",
     "text": "Cell 1 skips the execution count"
    },
    {
     "cellId": 3,
     "hash": "0a22d66bb69957b93cadb4dcec162006a5d6a273",
     "reason": "A skip in the execution count might indicate the presence of a hidden state caused by a cell that does not exist anymore. Hidden states might prevent cells from executing or producing the same results, hampering the reproducibility.",
     "reportId": "h4",
     "reportType": "hiddenstate",
     "suggestion": "Please consider re-running the notebook to guarantee the reproducibility.",
     "text": "Cell 3 skips the execution count"
    },
    {
     "cellId": 5,
     "hash": "89deba93ec2d8e4b05f8d7d13d3b1c4d9f645a90",
     "reason": "A skip in the execution count might indicate the presence of a hidden state caused by a cell that does not exist anymore. Hidden states might prevent cells from executing or producing the same results, hampering the reproducibility.",
     "reportId": "h4",
     "reportType": "hiddenstate",
     "suggestion": "Please consider re-running the notebook to guarantee the reproducibility.",
     "text": "Cell 5 skips the execution count"
    },
    {
     "cellId": "group",
     "hash": "19d3d3d153f22e318cbe061df9e685ba5165b0aa",
     "reason": "This groups other lint messages",
     "reportId": "group",
     "reportType": "confusenotebook",
     "suggestion": null,
     "text": "Confuse Notebook"
    },
    {
     "cellId": 5,
     "hash": "b6106914c1ccf53b3c6505eee90c85c45f0e69b4",
     "reason": "A markdown cell at the end of the notebook can conclude it, presenting a summary of the obtained results.",
     "reportId": "c5",
     "reportType": "confusenotebook",
     "suggestion": "Please consider adding a markdown cell to conclude the notebook.",
     "text": "The last cell of the notebook is not a markdown cell"
    }
   ]
  },
  "kernelspec": {
   "display_name": "Python 3",
   "language": "python",
   "name": "python3"
  },
  "language_info": {
   "codemirror_mode": {
    "name": "ipython",
    "version": 3
   },
   "file_extension": ".py",
   "mimetype": "text/x-python",
   "name": "python",
   "nbconvert_exporter": "python",
   "pygments_lexer": "ipython3",
   "version": "3.6.3"
  }
 },
 "nbformat": 4,
 "nbformat_minor": 4
}
