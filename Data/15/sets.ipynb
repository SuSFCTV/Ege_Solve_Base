{
 "cells": [
  {
   "cell_type": "markdown",
   "metadata": {},
   "source": [
    "### Task-7675 definiton\n",
    "![](https://github.com/vaskers5/Ege_Solve_Base/blob/main/Data/15/data/sets/7675.png?raw=true)"
   ]
  },
  {
   "cell_type": "code",
   "execution_count": 14,
   "metadata": {},
   "outputs": [
    {
     "name": "stdout",
     "output_type": "stream",
     "text": [
      "18\n"
     ]
    }
   ],
   "source": [
    "def imp(x,y):\n",
    "    return not(x) or y\n",
    "\n",
    "\n",
    "first_set = set([2, 4, 6, 8, 10, 12])\n",
    "second_set = set([3, 6, 9, 12, 15])\n",
    "A = set()\n",
    "for x in range(10000):\n",
    "    if imp(x in first_set, imp(x in second_set and not(x in A), not(x in first_set))) == False:\n",
    "        A.add(x)\n",
    "print(sum(A))"
   ]
  },
  {
   "cell_type": "markdown",
   "metadata": {},
   "source": [
    "### Task-7929 definiton\n",
    "![](https://github.com/vaskers5/Ege_Solve_Base/blob/main/Data/15/data/sets/7929.png?raw=true)"
   ]
  },
  {
   "cell_type": "code",
   "execution_count": 29,
   "metadata": {},
   "outputs": [
    {
     "name": "stdout",
     "output_type": "stream",
     "text": [
      "97\n"
     ]
    }
   ],
   "source": [
    "def imp(x,y):\n",
    "    return not(x) or y\n",
    "\n",
    "\n",
    "P = set([2, 4, 6, 8, 10, 12, 14, 16, 18, 20])\n",
    "Q = set([3, 6, 9, 12, 15, 18,21, 24, 27,30])\n",
    "A = set()\n",
    "\n",
    "max_len = 0\n",
    "for _ in range(100):\n",
    "    for a in range(100):\n",
    "        for x in range(100):\n",
    "            if imp(x in A, x in P) and imp(x in Q, not(x in A)) == True:\n",
    "                A.add\n",
    "                \n",
    "                \n",
    "    max_len = max(max_len,len(A))\n",
    "    A.clear()\n",
    "\n",
    "print(max_len)"
   ]
  },
  {
   "cell_type": "markdown",
   "metadata": {},
   "source": [
    "### Task-9202 definiton\n",
    "![](https://github.com/vaskers5/Ege_Solve_Base/blob/main/Data/15/data/sets/9202.png?raw=true)"
   ]
  },
  {
   "cell_type": "code",
   "execution_count": null,
   "metadata": {},
   "outputs": [],
   "source": []
  }
 ],
 "metadata": {
  "julynter-results": {
   "filteredId": [],
   "filteredIndividual": [],
   "filteredRestart": [],
   "filteredType": [],
   "hash": "1570e3676669cac9b4d1d005997b31772d6484a6",
   "visible": [
    {
     "cellId": "group",
     "hash": "c0de46ba034d710c2b2406a37ee6816be9634aa0",
     "reason": "This groups other lint messages",
     "reportId": "group",
     "reportType": "hiddenstate",
     "suggestion": null,
     "text": "Hidden State"
    },
    {
     "cellId": 1,
     "hash": "fba7db0f89478c50022191eec9db6ff8d3f66b43",
     "reason": "A cell with results of a previous session may fail to execute or produce different results in this one, hampering the reproducibility.",
     "reportId": "h1",
     "reportType": "hiddenstate",
     "suggestion": "Please consider executing it to guarantee the reproducibility.",
     "text": "Cell 1 has execution results, but it wasn't executed on this session"
    },
    {
     "cellId": 3,
     "hash": "1476f65dd4db87cde39c782bc76fba037ea04328",
     "reason": "A cell with results of a previous session may fail to execute or produce different results in this one, hampering the reproducibility.",
     "reportId": "h1",
     "reportType": "hiddenstate",
     "suggestion": "Please consider executing it to guarantee the reproducibility.",
     "text": "Cell 3 has execution results, but it wasn't executed on this session"
    },
    {
     "cellId": 1,
     "hash": "5c430f122db9cc26435b7b35b4cdc8332f9ef192",
     "reason": "A skip in the execution count might indicate the presence of a hidden state caused by a cell that does not exist anymore. Hidden states might prevent cells from executing or producing the same results, hampering the reproducibility.",
     "reportId": "h4",
     "reportType": "hiddenstate",
     "suggestion": "Please consider re-running the notebook to guarantee the reproducibility.",
     "text": "Cell 1 skips the execution count"
    },
    {
     "cellId": 3,
     "hash": "73ee8a49ab3778e2e07662598892ebfb04febd67",
     "reason": "A skip in the execution count might indicate the presence of a hidden state caused by a cell that does not exist anymore. Hidden states might prevent cells from executing or producing the same results, hampering the reproducibility.",
     "reportId": "h4",
     "reportType": "hiddenstate",
     "suggestion": "Please consider re-running the notebook to guarantee the reproducibility.",
     "text": "Cell 3 skips the execution count"
    }
   ]
  },
  "kernelspec": {
   "display_name": "Python 3",
   "language": "python",
   "name": "python3"
  },
  "language_info": {
   "codemirror_mode": {
    "name": "ipython",
    "version": 3
   },
   "file_extension": ".py",
   "mimetype": "text/x-python",
   "name": "python",
   "nbconvert_exporter": "python",
   "pygments_lexer": "ipython3",
   "version": "3.6.3"
  }
 },
 "nbformat": 4,
 "nbformat_minor": 4
}
