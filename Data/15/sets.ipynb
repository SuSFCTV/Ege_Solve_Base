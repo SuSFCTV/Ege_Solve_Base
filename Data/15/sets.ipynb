{
 "cells": [
  {
   "cell_type": "markdown",
   "metadata": {},
   "source": [
    "### Task-7675 definiton\n",
    "![](https://github.com/vaskers5/Ege_Solve_Base/blob/main/Data/15/data/sets/7675.png?raw=true)"
   ]
  },
  {
   "cell_type": "code",
   "execution_count": 14,
   "metadata": {},
   "outputs": [
    {
     "name": "stdout",
     "output_type": "stream",
     "text": [
      "18\n"
     ]
    }
   ],
   "source": [
    "def imp(x,y):\n",
    "    return not(x) or y\n",
    "\n",
    "\n",
    "first_set = set([2, 4, 6, 8, 10, 12])\n",
    "second_set = set([3, 6, 9, 12, 15])\n",
    "A = set()\n",
    "for x in range(10000):\n",
    "    if imp(x in first_set, imp(x in second_set and not(x in A), not(x in first_set))) == False:\n",
    "        A.add(x)\n",
    "print(sum(A))"
   ]
  },
  {
   "cell_type": "markdown",
   "metadata": {},
   "source": [
    "### Task-7929 definiton\n",
    "![](https://github.com/vaskers5/Ege_Solve_Base/blob/main/Data/15/data/sets/7929.png?raw=true)"
   ]
  },
  {
   "cell_type": "code",
   "execution_count": 17,
   "metadata": {},
   "outputs": [],
   "source": [
    "def imp(x,y):\n",
    "    return not(x) or y\n",
    "\n",
    "\n",
    "P = set([2, 4, 6, 8, 10, 12, 14, 16, 18, 20])\n",
    "Q = set([3, 6, 9, 12, 15, 18,21, 24, 27,30])\n",
    "A = set()\n",
    "        \n",
    "for a in range(10000):\n",
    "    A.add(a)\n",
    "    flag = True\n",
    "    for x in range(10000):\n",
    "        if  imp(x in A, x in P) and imp(x in Q, not(x in A)) == False:\n",
    "            flag = False\n",
    "            A.remove(a)\n",
    "            break\n",
    "    if flag == True:\n",
    "        print(A)"
   ]
  },
  {
   "cell_type": "markdown",
   "metadata": {},
   "source": [
    "### Task-9202 definiton\n",
    "![](https://github.com/vaskers5/Ege_Solve_Base/blob/main/Data/15/data/sets/9202.png?raw=true)"
   ]
  },
  {
   "cell_type": "code",
   "execution_count": null,
   "metadata": {},
   "outputs": [],
   "source": []
  }
 ],
 "metadata": {
  "julynter-results": {
   "filteredId": [],
   "filteredIndividual": [],
   "filteredRestart": [],
   "filteredType": [],
   "hash": "9dea5534167752f4b1b6c8256f5593e655eebd7b",
   "visible": [
    {
     "cellId": "group",
     "hash": "c0de46ba034d710c2b2406a37ee6816be9634aa0",
     "reason": "This groups other lint messages",
     "reportId": "group",
     "reportType": "hiddenstate",
     "suggestion": null,
     "text": "Hidden State"
    },
    {
     "cellId": 3,
     "hash": "cb179dccf433acc18c86e4ce012c35338533f72c",
     "reason": "A cell with code changes may produce different results than what it generated before the changes, hampering the reproducibility.",
     "reportId": "h2",
     "reportType": "hiddenstate",
     "suggestion": "Please consider re-executing it to guarantee the reproducibility.",
     "text": "Cell 3 has changed since its execution, but it wasn't executed after the changes"
    },
    {
     "cellId": 1,
     "hash": "5c430f122db9cc26435b7b35b4cdc8332f9ef192",
     "reason": "A skip in the execution count might indicate the presence of a hidden state caused by a cell that does not exist anymore. Hidden states might prevent cells from executing or producing the same results, hampering the reproducibility.",
     "reportId": "h4",
     "reportType": "hiddenstate",
     "suggestion": "Please consider re-running the notebook to guarantee the reproducibility.",
     "text": "Cell 1 skips the execution count"
    },
    {
     "cellId": 3,
     "hash": "a78f8710b59dc69a943704f24fd89ec38e558d9e",
     "reason": "A skip in the execution count might indicate the presence of a hidden state caused by a cell that does not exist anymore. Hidden states might prevent cells from executing or producing the same results, hampering the reproducibility.",
     "reportId": "h4",
     "reportType": "hiddenstate",
     "suggestion": "Please consider re-running the notebook to guarantee the reproducibility.",
     "text": "Cell 3 skips the execution count"
    }
   ]
  },
  "kernelspec": {
   "display_name": "Python 3",
   "language": "python",
   "name": "python3"
  },
  "language_info": {
   "codemirror_mode": {
    "name": "ipython",
    "version": 3
   },
   "file_extension": ".py",
   "mimetype": "text/x-python",
   "name": "python",
   "nbconvert_exporter": "python",
   "pygments_lexer": "ipython3",
   "version": "3.6.3"
  }
 },
 "nbformat": 4,
 "nbformat_minor": 4
}
