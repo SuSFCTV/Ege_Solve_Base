{
 "cells": [
  {
   "cell_type": "code",
   "execution_count": null,
   "metadata": {},
   "outputs": [],
   "source": []
  },
  {
   "cell_type": "code",
   "execution_count": 3,
   "metadata": {},
   "outputs": [
    {
     "name": "stdout",
     "output_type": "stream",
     "text": [
      "12\n"
     ]
    }
   ],
   "source": [
    "def imp(x,y):\n",
    "    return x<=y\n",
    "\n",
    "def check(x,A_begin,A_end):\n",
    "    return imp(A_begin<=x<=A_end, 2<=x<=10) or 6<=x<=14\n",
    "\n",
    "max_len = 0\n",
    "for A_begin in range(1,100):\n",
    "    for A_end in range(A_begin+1,100):\n",
    "        condition = True\n",
    "        len_edge = A_end - A_begin\n",
    "        for x in range(1,1000):\n",
    "            if check(x,A_begin,A_end)==False:\n",
    "                condition = False\n",
    "                break\n",
    "        if condition:\n",
    "            max_len = max(len_edge,max_len)\n",
    "print(max_len)\n"
   ]
  }
 ],
 "metadata": {
  "julynter-results": {
   "filteredId": [],
   "filteredIndividual": [],
   "filteredRestart": [],
   "filteredType": [],
   "hash": "dfa73883770423b6678733fd35e463a64b8fedd7",
   "visible": [
    {
     "cellId": "group",
     "hash": "c0de46ba034d710c2b2406a37ee6816be9634aa0",
     "reason": "This groups other lint messages",
     "reportId": "group",
     "reportType": "hiddenstate",
     "suggestion": null,
     "text": "Hidden State"
    },
    {
     "cellId": 1,
     "hash": "65fd80bfa08ec3abef36cb1b3ebc0f7b1b554ba1",
     "reason": "A cell with results of a previous session may fail to execute or produce different results in this one, hampering the reproducibility.",
     "reportId": "h1",
     "reportType": "hiddenstate",
     "suggestion": "Please consider executing it to guarantee the reproducibility.",
     "text": "Cell 1 has execution results, but it wasn't executed on this session"
    },
    {
     "cellId": 1,
     "hash": "0cda767d3b7fc70e5b4838f7c48a8238774d613c",
     "reason": "A skip in the execution count might indicate the presence of a hidden state caused by a cell that does not exist anymore. Hidden states might prevent cells from executing or producing the same results, hampering the reproducibility.",
     "reportId": "h4",
     "reportType": "hiddenstate",
     "suggestion": "Please consider re-running the notebook to guarantee the reproducibility.",
     "text": "Cell 1 skips the execution count"
    },
    {
     "cellId": "group",
     "hash": "19d3d3d153f22e318cbe061df9e685ba5165b0aa",
     "reason": "This groups other lint messages",
     "reportId": "group",
     "reportType": "confusenotebook",
     "suggestion": null,
     "text": "Confuse Notebook"
    },
    {
     "cellId": 0,
     "hash": "3bf500ca3fba00416b793fe95703f653fe91cb19",
     "reason": "Empty cells in between executable ones occupy space and might impact the readability of the notebook.",
     "reportId": "c3",
     "reportType": "confusenotebook",
     "suggestion": "Please consider removing it to improve the readability.",
     "text": "Cell 0 is empty in the middle of the notebook"
    },
    {
     "cellId": 0,
     "hash": "93379234e984bb3e864c1f343e91ac6b416d4545",
     "reason": "A markdown cell at the beginning of the notebook can provide a human-friendly title with no constraints and introduce the notebook, indicating its purpose and external requirements.",
     "reportId": "c4",
     "reportType": "confusenotebook",
     "suggestion": "Please consider adding a markdown cell to describe the notebook.",
     "text": "The first cell of the notebook is not a markdown cell"
    },
    {
     "cellId": 1,
     "hash": "72050fb59459fcdcc94919e31ceabe9bf0972ec4",
     "reason": "A markdown cell at the end of the notebook can conclude it, presenting a summary of the obtained results.",
     "reportId": "c5",
     "reportType": "confusenotebook",
     "suggestion": "Please consider adding a markdown cell to conclude the notebook.",
     "text": "The last cell of the notebook is not a markdown cell"
    }
   ]
  },
  "kernelspec": {
   "display_name": "Python 3",
   "language": "python",
   "name": "python3"
  },
  "language_info": {
   "codemirror_mode": {
    "name": "ipython",
    "version": 3
   },
   "file_extension": ".py",
   "mimetype": "text/x-python",
   "name": "python",
   "nbconvert_exporter": "python",
   "pygments_lexer": "ipython3",
   "version": "3.6.3"
  }
 },
 "nbformat": 4,
 "nbformat_minor": 4
}
