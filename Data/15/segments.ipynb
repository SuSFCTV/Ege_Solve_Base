{
 "cells": [
  {
   "cell_type": "markdown",
   "metadata": {},
   "source": [
    "### Task-34544 definiton\n",
    "![](https://github.com/vaskers5/Ege_Solve_Base/blob/main/Data/15/data/34534.png?raw=true)"
   ]
  },
  {
   "cell_type": "code",
   "execution_count": 1,
   "metadata": {},
   "outputs": [
    {
     "name": "stdout",
     "output_type": "stream",
     "text": [
      "17\n"
     ]
    }
   ],
   "source": [
    "def imp(x,y):\n",
    "    return not(x) or y\n",
    "\n",
    "def check(x,a_begin,a_end):\n",
    "    return (imp(10 <= x <= 39 and 23 <= x <= 58, 23 <= x <= 58 and a_begin <= x <= a_end))\n",
    "\n",
    "min_len = 900\n",
    "for a_begin in range(1,100):\n",
    "    for a_end in range(a_begin+1,100):\n",
    "        condition = True\n",
    "        len_edge = a_end - a_begin + 1\n",
    "        for x in range(1,1000):\n",
    "            if check(x,a_begin,a_end)==False:\n",
    "                condition = False\n",
    "                break\n",
    "        if condition:\n",
    "            min_len = min(len_edge,min_len)\n",
    "print(min_len)\n"
   ]
  },
  {
   "cell_type": "markdown",
   "metadata": {},
   "source": [
    "### Task-34545 definiton\n",
    "![](https://github.com/vaskers5/Ege_Solve_Base/blob/main/Data/15/data/34545.png?raw=true)"
   ]
  },
  {
   "cell_type": "code",
   "execution_count": 16,
   "metadata": {},
   "outputs": [
    {
     "name": "stdout",
     "output_type": "stream",
     "text": [
      "30\n"
     ]
    }
   ],
   "source": [
    "def imp(x,y):\n",
    "    return not(x) or y\n",
    "\n",
    "def check(x,a_begin,a_end):\n",
    "    return imp(not(a_begin <= x <= a_end) and 32 <= x <= 92, 12 <= x <= 62)\n",
    "\n",
    "min_len = 900\n",
    "for a_begin in range(1,100):\n",
    "    for a_end in range(a_begin+1,100):\n",
    "        condition = True\n",
    "        len_edge = a_end - a_begin + 1\n",
    "        for x in range(1,1000):\n",
    "            if check(x,a_begin,a_end)==False:\n",
    "                condition = False\n",
    "                break\n",
    "        if condition:\n",
    "            min_len = min(len_edge,min_len)\n",
    "            \n",
    "print(min_len)"
   ]
  },
  {
   "cell_type": "markdown",
   "metadata": {},
   "source": [
    "### Task-34537 definiton\n",
    "![](https://github.com/vaskers5/Ege_Solve_Base/blob/main/Data/15/data/34537.png?raw=true)"
   ]
  },
  {
   "cell_type": "code",
   "execution_count": 17,
   "metadata": {},
   "outputs": [
    {
     "name": "stdout",
     "output_type": "stream",
     "text": [
      "5\n"
     ]
    }
   ],
   "source": [
    "def imp(x,y):\n",
    "    return x <= y\n",
    "\n",
    "def check(x,a_begin,a_end):\n",
    "    return imp(a_begin <= x <= a_end, 10 <= x <= 15) == \\\n",
    "           imp(10 <= x <= 20, 5 <= x <= 15)\n",
    "\n",
    "min_len = 900\n",
    "for a_begin in range(1,100):\n",
    "    for a_end in range(a_begin+1,100):\n",
    "        condition = True\n",
    "        len_edge = a_end - a_begin + 1\n",
    "        for x in range(1,1000):\n",
    "            if check(x,a_begin,a_end)==False:\n",
    "                condition = False\n",
    "                break\n",
    "        if condition:\n",
    "            min_len = min(len_edge,min_len)\n",
    "        \n",
    "print(min_len)"
   ]
  }
 ],
 "metadata": {
  "julynter-results": {
   "filteredId": [],
   "filteredIndividual": [],
   "filteredRestart": [],
   "filteredType": [],
   "hash": "0a03df820b8d1464144e0db0cd5931a97e9d111c",
   "visible": [
    {
     "cellId": "group",
     "hash": "c0de46ba034d710c2b2406a37ee6816be9634aa0",
     "reason": "This groups other lint messages",
     "reportId": "group",
     "reportType": "hiddenstate",
     "suggestion": null,
     "text": "Hidden State"
    },
    {
     "cellId": 3,
     "hash": "9a5f4aefcccb079619581123b07bdc20bbe40281",
     "reason": "A cell with results of a previous session may fail to execute or produce different results in this one, hampering the reproducibility.",
     "reportId": "h1",
     "reportType": "hiddenstate",
     "suggestion": "Please consider executing it to guarantee the reproducibility.",
     "text": "Cell 3 has execution results, but it wasn't executed on this session"
    },
    {
     "cellId": 5,
     "hash": "04ecfcc088a8c293c7b49a3b59a492f0bc31d460",
     "reason": "A cell with results of a previous session may fail to execute or produce different results in this one, hampering the reproducibility.",
     "reportId": "h1",
     "reportType": "hiddenstate",
     "suggestion": "Please consider executing it to guarantee the reproducibility.",
     "text": "Cell 5 has execution results, but it wasn't executed on this session"
    },
    {
     "cellId": 3,
     "hash": "391538f7d106e125d4723787ad723e9c0cea48dd",
     "reason": "A skip in the execution count might indicate the presence of a hidden state caused by a cell that does not exist anymore. Hidden states might prevent cells from executing or producing the same results, hampering the reproducibility.",
     "reportId": "h4",
     "reportType": "hiddenstate",
     "suggestion": "Please consider re-running the notebook to guarantee the reproducibility.",
     "text": "Cell 3 skips the execution count"
    },
    {
     "cellId": "group",
     "hash": "19d3d3d153f22e318cbe061df9e685ba5165b0aa",
     "reason": "This groups other lint messages",
     "reportId": "group",
     "reportType": "confusenotebook",
     "suggestion": null,
     "text": "Confuse Notebook"
    },
    {
     "cellId": 5,
     "hash": "b72c940fd79c1f407dd1e1d640ec393c5dc5be0b",
     "reason": "A markdown cell at the end of the notebook can conclude it, presenting a summary of the obtained results.",
     "reportId": "c5",
     "reportType": "confusenotebook",
     "suggestion": "Please consider adding a markdown cell to conclude the notebook.",
     "text": "The last cell of the notebook is not a markdown cell"
    }
   ]
  },
  "kernelspec": {
   "display_name": "Python 3",
   "language": "python",
   "name": "python3"
  },
  "language_info": {
   "codemirror_mode": {
    "name": "ipython",
    "version": 3
   },
   "file_extension": ".py",
   "mimetype": "text/x-python",
   "name": "python",
   "nbconvert_exporter": "python",
   "pygments_lexer": "ipython3",
   "version": "3.6.3"
  }
 },
 "nbformat": 4,
 "nbformat_minor": 4
}
