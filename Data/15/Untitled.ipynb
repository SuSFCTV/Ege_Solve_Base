{
 "cells": [
  {
   "cell_type": "code",
   "execution_count": 3,
   "metadata": {},
   "outputs": [],
   "source": [
    "s_1 = [\"1\" for i in range(15)]\n",
    "s_2 = [\"2\" for i in range(10)]\n",
    "s_3 = [\"3\" for i in range(60)]\n",
    "s_new = s_1 +s_2 + s_3\n",
    "s = \"\"\n",
    "for elem in s_new:\n",
    "    s+= elem"
   ]
  },
  {
   "cell_type": "code",
   "execution_count": 5,
   "metadata": {},
   "outputs": [
    {
     "ename": "SyntaxError",
     "evalue": "invalid syntax (<ipython-input-5-5fc0603e93a9>, line 1)",
     "output_type": "error",
     "traceback": [
      "\u001b[1;36m  File \u001b[1;32m\"<ipython-input-5-5fc0603e93a9>\"\u001b[1;36m, line \u001b[1;32m1\u001b[0m\n\u001b[1;33m    while (s.find(\"1\")!=0 or s.find(\"2\")!=0 or s.find() )\u001b[0m\n\u001b[1;37m                                                         ^\u001b[0m\n\u001b[1;31mSyntaxError\u001b[0m\u001b[1;31m:\u001b[0m invalid syntax\n"
     ]
    }
   ],
   "source": [
    "while (s.find(\"1\")!=0 or s.find(\"2\")!=0 or s.find(\"3\")!=0):\n",
    "    s.replace"
   ]
  },
  {
   "cell_type": "code",
   "execution_count": 16,
   "metadata": {},
   "outputs": [
    {
     "name": "stdin",
     "output_type": "stream",
     "text": [
      " 4 2 1\n"
     ]
    }
   ],
   "source": [
    "from itertools import permutations\n",
    "\n",
    "a = list(permutations(list(map(int,input().split()))))\n",
    "ans = [sum(i) for i in a]"
   ]
  },
  {
   "cell_type": "code",
   "execution_count": 24,
   "metadata": {},
   "outputs": [
    {
     "name": "stdout",
     "output_type": "stream",
     "text": [
      "[3, 3, 23, 6, 2, 4, 8]\n"
     ]
    }
   ],
   "source": [
    "mylist = [3,6,3,2,4,8,23]\n",
    "print(sorted(mylist, key=lambda x: x%2==0) )"
   ]
  },
  {
   "cell_type": "code",
   "execution_count": 23,
   "metadata": {},
   "outputs": [
    {
     "data": {
      "text/plain": [
       "[7, 7, 7, 7, 7, 7]"
      ]
     },
     "execution_count": 23,
     "metadata": {},
     "output_type": "execute_result"
    }
   ],
   "source": [
    "ans"
   ]
  },
  {
   "cell_type": "code",
   "execution_count": 36,
   "metadata": {},
   "outputs": [
    {
     "name": "stdout",
     "output_type": "stream",
     "text": [
      "[[18, 22, 40], [18, 25, 37], [17, 23, 40]]\n"
     ]
    }
   ],
   "source": [
    "from itertools import permutations\n",
    "\n",
    "f = open(\"27.txt\")\n",
    "\n",
    "def get_group():\n",
    "    return list(permutations(list(map(int,f.readline().split()))))\n",
    "\n",
    "n = int(f.readline())\n",
    "inf = float(\"-inf\")\n",
    "s = get_group()\n",
    "div = 3\n",
    "for _ in range(n-1):\n",
    "    groups = get_group()\n",
    "    temp = [sorted([i[0] + j[0], i[1] + j[1], j[2] + i[2]]) for i in s for j in groups]\n",
    "    fake_s = [[inf,inf,inf]] * div\n",
    "    for x in temp:\n",
    "        fake_s[x[0]%2 + x[1] %2] = max(x, fake_s[x[0] % 2 + x[1] % 2], key = lambda x: x[2])\n",
    "    s = [x for x in fake_s if x!= [inf,inf,inf]]\n",
    "print(s)"
   ]
  },
  {
   "cell_type": "code",
   "execution_count": 29,
   "metadata": {},
   "outputs": [
    {
     "data": {
      "text/plain": [
       "[[16, 16, 18],\n",
       " [13, 16, 21],\n",
       " [13, 16, 21],\n",
       " [13, 13, 24],\n",
       " [8, 21, 21],\n",
       " [8, 18, 24],\n",
       " [13, 16, 21],\n",
       " [16, 16, 18],\n",
       " [13, 13, 24],\n",
       " [13, 16, 21],\n",
       " [8, 18, 24],\n",
       " [8, 21, 21],\n",
       " [13, 16, 21],\n",
       " [8, 21, 21],\n",
       " [16, 16, 18],\n",
       " [8, 18, 24],\n",
       " [13, 16, 21],\n",
       " [13, 13, 24],\n",
       " [8, 21, 21],\n",
       " [13, 16, 21],\n",
       " [8, 18, 24],\n",
       " [16, 16, 18],\n",
       " [13, 13, 24],\n",
       " [13, 16, 21],\n",
       " [13, 13, 24],\n",
       " [8, 18, 24],\n",
       " [13, 16, 21],\n",
       " [8, 21, 21],\n",
       " [16, 16, 18],\n",
       " [13, 16, 21],\n",
       " [8, 18, 24],\n",
       " [13, 13, 24],\n",
       " [8, 21, 21],\n",
       " [13, 16, 21],\n",
       " [13, 16, 21],\n",
       " [16, 16, 18]]"
      ]
     },
     "execution_count": 29,
     "metadata": {},
     "output_type": "execute_result"
    }
   ],
   "source": []
  },
  {
   "cell_type": "code",
   "execution_count": null,
   "metadata": {},
   "outputs": [],
   "source": []
  }
 ],
 "metadata": {
  "julynter-results": {
   "filteredId": [],
   "filteredIndividual": [],
   "filteredRestart": [],
   "filteredType": [],
   "hash": "95f0a6f90fee6fd4c55a9813dc5999ffa86f356d",
   "visible": [
    {
     "cellId": "group",
     "hash": "f1533669aecd4af79dc6255a1e56c261582897f8",
     "reason": "This groups other lint messages",
     "reportId": "group",
     "reportType": "invalidtitle",
     "suggestion": null,
     "text": "Invalid Title"
    },
    {
     "cellId": "title",
     "hash": "e9fb88eead53b04f100b052363b4bcdb79cee158",
     "reason": "Untitled notebooks provide no context for who is selecting the notebook in the file browser.",
     "reportId": "t2",
     "reportType": "invalidtitle",
     "suggestion": "Please consider renaming it to a meaningful name.",
     "text": "Title starts with \"Untitled\""
    },
    {
     "cellId": "group",
     "hash": "c0de46ba034d710c2b2406a37ee6816be9634aa0",
     "reason": "This groups other lint messages",
     "reportId": "group",
     "reportType": "hiddenstate",
     "suggestion": null,
     "text": "Hidden State"
    },
    {
     "cellId": 0,
     "hash": "244718e8c6b5bb62ec3e8d1caf8f08925b5eb6cd",
     "reason": "A cell with results of a previous session may fail to execute or produce different results in this one, hampering the reproducibility.",
     "reportId": "h1",
     "reportType": "hiddenstate",
     "suggestion": "Please consider executing it to guarantee the reproducibility.",
     "text": "Cell 0 has execution results, but it wasn't executed on this session"
    },
    {
     "cellId": 1,
     "hash": "281698873202eaef1f6701b3d7db658111dd92fb",
     "reason": "A cell with results of a previous session may fail to execute or produce different results in this one, hampering the reproducibility.",
     "reportId": "h1",
     "reportType": "hiddenstate",
     "suggestion": "Please consider executing it to guarantee the reproducibility.",
     "text": "Cell 1 has execution results, but it wasn't executed on this session"
    },
    {
     "cellId": 2,
     "hash": "4c6f27f96e432601f06cda6da2c30ed87f19a1ae",
     "reason": "A cell with results of a previous session may fail to execute or produce different results in this one, hampering the reproducibility.",
     "reportId": "h1",
     "reportType": "hiddenstate",
     "suggestion": "Please consider executing it to guarantee the reproducibility.",
     "text": "Cell 2 has execution results, but it wasn't executed on this session"
    },
    {
     "cellId": 3,
     "hash": "488c437e105c3831ce7fae58f5fbec49d12b5687",
     "reason": "A cell with results of a previous session may fail to execute or produce different results in this one, hampering the reproducibility.",
     "reportId": "h1",
     "reportType": "hiddenstate",
     "suggestion": "Please consider executing it to guarantee the reproducibility.",
     "text": "Cell 3 has execution results, but it wasn't executed on this session"
    },
    {
     "cellId": 4,
     "hash": "fc1a602680aafa2039cf881ee991b4863de829d3",
     "reason": "A cell with results of a previous session may fail to execute or produce different results in this one, hampering the reproducibility.",
     "reportId": "h1",
     "reportType": "hiddenstate",
     "suggestion": "Please consider executing it to guarantee the reproducibility.",
     "text": "Cell 4 has execution results, but it wasn't executed on this session"
    },
    {
     "cellId": 5,
     "hash": "a63a4b1f7ce0eaa537ca43f76d0b66788665e5af",
     "reason": "A cell with results of a previous session may fail to execute or produce different results in this one, hampering the reproducibility.",
     "reportId": "h1",
     "reportType": "hiddenstate",
     "suggestion": "Please consider executing it to guarantee the reproducibility.",
     "text": "Cell 5 has execution results, but it wasn't executed on this session"
    },
    {
     "cellId": 6,
     "hash": "f03f7c75d2efc6f0c52999ce2db1da32ca4ed6d3",
     "reason": "A cell with results of a previous session may fail to execute or produce different results in this one, hampering the reproducibility.",
     "reportId": "h1",
     "reportType": "hiddenstate",
     "suggestion": "Please consider executing it to guarantee the reproducibility.",
     "text": "Cell 6 has execution results, but it wasn't executed on this session"
    },
    {
     "cellId": 0,
     "hash": "8306b17c617e25879b6f3c9ffc139582e82ac4f0",
     "reason": "A skip in the execution count might indicate the presence of a hidden state caused by a cell that does not exist anymore. Hidden states might prevent cells from executing or producing the same results, hampering the reproducibility.",
     "reportId": "h4",
     "reportType": "hiddenstate",
     "suggestion": "Please consider re-running the notebook to guarantee the reproducibility.",
     "text": "Cell 0 skips the execution count"
    },
    {
     "cellId": 1,
     "hash": "86a84b96e118ffbe3629c1591fbdaf83e96ee318",
     "reason": "A skip in the execution count might indicate the presence of a hidden state caused by a cell that does not exist anymore. Hidden states might prevent cells from executing or producing the same results, hampering the reproducibility.",
     "reportId": "h4",
     "reportType": "hiddenstate",
     "suggestion": "Please consider re-running the notebook to guarantee the reproducibility.",
     "text": "Cell 1 skips the execution count"
    },
    {
     "cellId": 2,
     "hash": "f7b59b2002e235d5c56a6d310201e5bd028c2a53",
     "reason": "A skip in the execution count might indicate the presence of a hidden state caused by a cell that does not exist anymore. Hidden states might prevent cells from executing or producing the same results, hampering the reproducibility.",
     "reportId": "h4",
     "reportType": "hiddenstate",
     "suggestion": "Please consider re-running the notebook to guarantee the reproducibility.",
     "text": "Cell 2 skips the execution count"
    },
    {
     "cellId": 4,
     "hash": "bf130c227a37ff1bd5103036cda28a43c0ff2606",
     "reason": "A skip in the execution count might indicate the presence of a hidden state caused by a cell that does not exist anymore. Hidden states might prevent cells from executing or producing the same results, hampering the reproducibility.",
     "reportId": "h4",
     "reportType": "hiddenstate",
     "suggestion": "Please consider re-running the notebook to guarantee the reproducibility.",
     "text": "Cell 4 skips the execution count"
    },
    {
     "cellId": 6,
     "hash": "8a4301fa2d72d92f79d135c2c1e9e5db831edfa7",
     "reason": "A skip in the execution count might indicate the presence of a hidden state caused by a cell that does not exist anymore. Hidden states might prevent cells from executing or producing the same results, hampering the reproducibility.",
     "reportId": "h4",
     "reportType": "hiddenstate",
     "suggestion": "Please consider re-running the notebook to guarantee the reproducibility.",
     "text": "Cell 6 skips the execution count"
    },
    {
     "cellId": 5,
     "hash": "059c4468910a1cac8b246501add1f182fa61675a",
     "reason": "A skip in the execution count might indicate the presence of a hidden state caused by a cell that does not exist anymore. Hidden states might prevent cells from executing or producing the same results, hampering the reproducibility.",
     "reportId": "h4",
     "reportType": "hiddenstate",
     "suggestion": "Please consider re-running the notebook to guarantee the reproducibility.",
     "text": "Cell 5 skips the execution count"
    },
    {
     "cellId": "group",
     "hash": "19d3d3d153f22e318cbe061df9e685ba5165b0aa",
     "reason": "This groups other lint messages",
     "reportId": "group",
     "reportType": "confusenotebook",
     "suggestion": null,
     "text": "Confuse Notebook"
    },
    {
     "cellId": 4,
     "hash": "07874de84ea54866255f7be543cbc61e58024b4d",
     "reason": "When you try to run all cells following the top-down order, cells in the wrong order might fail to execute or produce different results, hampering the reproducibility.",
     "reportId": "c2",
     "reportType": "confusenotebook",
     "suggestion": "Please consider re-running the notebook to guarantee the reproducibility.",
     "text": "Cell 4 has the execution count 23 in the wrong order"
    },
    {
     "cellId": 6,
     "hash": "b54fe61dd23965cccef10ac8573507dae1d35fcb",
     "reason": "When you try to run all cells following the top-down order, cells in the wrong order might fail to execute or produce different results, hampering the reproducibility.",
     "reportId": "c2",
     "reportType": "confusenotebook",
     "suggestion": "Please consider re-running the notebook to guarantee the reproducibility.",
     "text": "Cell 6 has the execution count 29 in the wrong order"
    },
    {
     "cellId": 0,
     "hash": "249f61193dfea9de0906f39a3838fd38473518c5",
     "reason": "A markdown cell at the beginning of the notebook can provide a human-friendly title with no constraints and introduce the notebook, indicating its purpose and external requirements.",
     "reportId": "c4",
     "reportType": "confusenotebook",
     "suggestion": "Please consider adding a markdown cell to describe the notebook.",
     "text": "The first cell of the notebook is not a markdown cell"
    },
    {
     "cellId": 5,
     "hash": "71e66f3530ed902b305bbfee79d3f5f210d62691",
     "reason": "A markdown cell at the end of the notebook can conclude it, presenting a summary of the obtained results.",
     "reportId": "c5",
     "reportType": "confusenotebook",
     "suggestion": "Please consider adding a markdown cell to conclude the notebook.",
     "text": "The last cell of the notebook is not a markdown cell"
    }
   ]
  },
  "kernelspec": {
   "display_name": "Python 3",
   "language": "python",
   "name": "python3"
  },
  "language_info": {
   "codemirror_mode": {
    "name": "ipython",
    "version": 3
   },
   "file_extension": ".py",
   "mimetype": "text/x-python",
   "name": "python",
   "nbconvert_exporter": "python",
   "pygments_lexer": "ipython3",
   "version": "3.6.3"
  }
 },
 "nbformat": 4,
 "nbformat_minor": 4
}
