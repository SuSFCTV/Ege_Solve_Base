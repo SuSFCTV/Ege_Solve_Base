{
 "cells": [
  {
   "cell_type": "code",
   "execution_count": 2,
   "metadata": {},
   "outputs": [],
   "source": [
    "def to_bin(x):\n",
    "    numbers = []\n",
    "    while(x > 0):\n",
    "        numbers.append(x % 2)\n",
    "        x //= 2\n",
    "    return numbers[::-1]\n",
    "\n",
    "\n",
    "def to_dec_from_to_bin(numbers):\n",
    "    ans = 0\n",
    "    k = 0\n",
    "    for i in range(len(numbers) - 1, -1, -1):\n",
    "        ans += numbers[i] * (2 ** k)\n",
    "        k += 1\n",
    "    return ans\n",
    "\n",
    "\n",
    "    "
   ]
  },
  {
   "cell_type": "code",
   "execution_count": 4,
   "metadata": {},
   "outputs": [
    {
     "name": "stdout",
     "output_type": "stream",
     "text": [
      "11\n"
     ]
    }
   ],
   "source": [
    "for N in range(1, 10000):\n",
    "    numbers = to_bin(N)\n",
    "    ans = [elem for elem in numbers] + [numbers[-1]]\n",
    "    if numbers.count(1) % 2 != 0:\n",
    "        ans.append(1)\n",
    "        ans.append(0)\n",
    "    else:\n",
    "        ans.append(0)\n",
    "        ans.append(0)\n",
    "    if to_dec_from_to_bin(ans) > 90:\n",
    "        print(N)\n",
    "        break\n",
    "    "
   ]
  },
  {
   "cell_type": "markdown",
   "metadata": {},
   "source": [
    "### Task_1788_def"
   ]
  },
  {
   "cell_type": "code",
   "execution_count": 3,
   "metadata": {},
   "outputs": [
    {
     "ename": "NameError",
     "evalue": "name 'to_num_system' is not defined",
     "output_type": "error",
     "traceback": [
      "\u001b[1;31m---------------------------------------------------------------------------\u001b[0m",
      "\u001b[1;31mNameError\u001b[0m                                 Traceback (most recent call last)",
      "\u001b[1;32m<ipython-input-3-17b1b178567c>\u001b[0m in \u001b[0;36m<module>\u001b[1;34m\u001b[0m\n\u001b[0;32m     15\u001b[0m \u001b[1;33m\u001b[0m\u001b[0m\n\u001b[0;32m     16\u001b[0m \u001b[1;32mfor\u001b[0m \u001b[0mn\u001b[0m \u001b[1;32min\u001b[0m \u001b[0mrange\u001b[0m\u001b[1;33m(\u001b[0m\u001b[1;36m1000\u001b[0m\u001b[1;33m)\u001b[0m\u001b[1;33m:\u001b[0m\u001b[1;33m\u001b[0m\u001b[0m\n\u001b[1;32m---> 17\u001b[1;33m     \u001b[0mnumbers\u001b[0m \u001b[1;33m=\u001b[0m \u001b[0mto_num_system\u001b[0m\u001b[1;33m(\u001b[0m\u001b[0mn\u001b[0m\u001b[1;33m,\u001b[0m \u001b[1;36m2\u001b[0m\u001b[1;33m)\u001b[0m\u001b[1;33m\u001b[0m\u001b[0m\n\u001b[0m\u001b[0;32m     18\u001b[0m     \u001b[1;32mif\u001b[0m \u001b[0mn\u001b[0m \u001b[1;33m%\u001b[0m \u001b[1;36m2\u001b[0m \u001b[1;33m==\u001b[0m \u001b[1;36m0\u001b[0m\u001b[1;33m:\u001b[0m\u001b[1;33m\u001b[0m\u001b[0m\n\u001b[0;32m     19\u001b[0m         \u001b[0mnumbers\u001b[0m\u001b[1;33m.\u001b[0m\u001b[0mappend\u001b[0m\u001b[1;33m(\u001b[0m\u001b[1;36m0\u001b[0m\u001b[1;33m)\u001b[0m\u001b[1;33m\u001b[0m\u001b[0m\n",
      "\u001b[1;31mNameError\u001b[0m: name 'to_num_system' is not defined"
     ]
    }
   ],
   "source": [
    "def to_num_sytem(x, num_sys):\n",
    "    numbers = []\n",
    "    while(x > 0):\n",
    "        numbers.append(x % num_sys)\n",
    "        x //= num_sys\n",
    "    return numbers[::-1]\n",
    "\n",
    "\n",
    "def to_dec(numbers):\n",
    "    number_in_dec = 0\n",
    "    for index, elem in enumerate(numebers[::-1]):\n",
    "        number_in_dec += (2**index) * elem \n",
    "    return number_in_dec\n",
    "\n",
    "\n",
    "for n in range(1000):\n",
    "    numbers = to_num_sytem(n, 2)\n",
    "    if n % 2 == 0:\n",
    "        numbers.append(0)\n",
    "        numbers.append(1)\n",
    "    else:\n",
    "        numbers.append(1)\n",
    "        numbers.append(0)\n",
    "    number_in_dec = to_dec(numbers)\n",
    "    if number > 138:\n",
    "        print(n)\n",
    "        break\n",
    "        "
   ]
  },
  {
   "cell_type": "code",
   "execution_count": null,
   "metadata": {},
   "outputs": [],
   "source": []
  }
 ],
 "metadata": {
  "julynter-results": {
   "filteredId": [],
   "filteredIndividual": [],
   "filteredRestart": [],
   "filteredType": [],
   "hash": "e393d8671e0df6bb603347fc4df2ce6924d28cb5",
   "visible": [
    {
     "cellId": "group",
     "hash": "c0de46ba034d710c2b2406a37ee6816be9634aa0",
     "reason": "This groups other lint messages",
     "reportId": "group",
     "reportType": "hiddenstate",
     "suggestion": null,
     "text": "Hidden State"
    },
    {
     "cellId": 0,
     "hash": "e90bceae6336b29e519bae6aef73232fe002e8b5",
     "reason": "A cell with code changes may produce different results than what it generated before the changes, hampering the reproducibility.",
     "reportId": "h2",
     "reportType": "hiddenstate",
     "suggestion": "Please consider re-executing it to guarantee the reproducibility.",
     "text": "Cell 0 has changed since its execution, but it wasn't executed after the changes"
    },
    {
     "cellId": 1,
     "hash": "f25e72c7222ef1fd45d0910fc3dac7b5db376ddc",
     "reason": "A cell with results of a previous session may fail to execute or produce different results in this one, hampering the reproducibility.",
     "reportId": "h1",
     "reportType": "hiddenstate",
     "suggestion": "Please consider executing it to guarantee the reproducibility.",
     "text": "Cell 1 has execution results, but it wasn't executed on this session"
    },
    {
     "cellId": 3,
     "hash": "76e5ef22cfd178cd287141c7a13eb9d611953401",
     "reason": "A cell with code changes may produce different results than what it generated before the changes, hampering the reproducibility.",
     "reportId": "h2",
     "reportType": "hiddenstate",
     "suggestion": "Please consider re-executing it to guarantee the reproducibility.",
     "text": "Cell 3 has changed since its execution, but it wasn't executed after the changes"
    },
    {
     "cellId": 0,
     "hash": "153f4520004ff2fa79f49dd2aa86137ca2a84e4f",
     "reason": "A skip in the execution count might indicate the presence of a hidden state caused by a cell that does not exist anymore. Hidden states might prevent cells from executing or producing the same results, hampering the reproducibility.",
     "reportId": "h4",
     "reportType": "hiddenstate",
     "suggestion": "Please consider re-running the notebook to guarantee the reproducibility.",
     "text": "Cell 0 skips the execution count"
    },
    {
     "cellId": 0,
     "hash": "5657a64123f42df22b4017ea8c1613c579f9b729",
     "reason": "The cell uses a name that does not exist in this notebook. Using a name that does not exist prevents the reproducibility of the notebook.",
     "reportId": "h6",
     "reportType": "hiddenstate",
     "suggestion": "Please consider defining them to guarantee the reproducibility.",
     "text": "Cell 0 has the following undefined names: 'to_num_system'"
    },
    {
     "cellId": 3,
     "hash": "a9e49200f514991d3ff2328aaf59c404e2faf1d1",
     "reason": "The cell uses a name that does not exist in this notebook. Using a name that does not exist prevents the reproducibility of the notebook.",
     "reportId": "h6",
     "reportType": "hiddenstate",
     "suggestion": "Please consider defining them to guarantee the reproducibility.",
     "text": "Cell 3 has the following undefined names: 'number', 'to_num_system'"
    },
    {
     "cellId": "group",
     "hash": "19d3d3d153f22e318cbe061df9e685ba5165b0aa",
     "reason": "This groups other lint messages",
     "reportId": "group",
     "reportType": "confusenotebook",
     "suggestion": null,
     "text": "Confuse Notebook"
    },
    {
     "cellId": 3,
     "hash": "8fdf7cd91d172017876e0a0cd3b49adf54f4b23a",
     "reason": "When you try to run all cells following the top-down order, cells in the wrong order might fail to execute or produce different results, hampering the reproducibility.",
     "reportId": "c2",
     "reportType": "confusenotebook",
     "suggestion": "Please consider re-running the notebook to guarantee the reproducibility.",
     "text": "Cell 3 has the execution count 3 in the wrong order"
    },
    {
     "cellId": 0,
     "hash": "818363508d5a1be268e3a47ef7a8e01e578ebb49",
     "reason": "A markdown cell at the beginning of the notebook can provide a human-friendly title with no constraints and introduce the notebook, indicating its purpose and external requirements.",
     "reportId": "c4",
     "reportType": "confusenotebook",
     "suggestion": "Please consider adding a markdown cell to describe the notebook.",
     "text": "The first cell of the notebook is not a markdown cell"
    },
    {
     "cellId": 3,
     "hash": "422f8674fb182852f260ecf708597aac88b02d77",
     "reason": "A markdown cell at the end of the notebook can conclude it, presenting a summary of the obtained results.",
     "reportId": "c5",
     "reportType": "confusenotebook",
     "suggestion": "Please consider adding a markdown cell to conclude the notebook.",
     "text": "The last cell of the notebook is not a markdown cell"
    }
   ]
  },
  "kernelspec": {
   "display_name": "Python 3",
   "language": "python",
   "name": "python3"
  },
  "language_info": {
   "codemirror_mode": {
    "name": "ipython",
    "version": 3
   },
   "file_extension": ".py",
   "mimetype": "text/x-python",
   "name": "python",
   "nbconvert_exporter": "python",
   "pygments_lexer": "ipython3",
   "version": "3.6.3"
  }
 },
 "nbformat": 4,
 "nbformat_minor": 4
}
