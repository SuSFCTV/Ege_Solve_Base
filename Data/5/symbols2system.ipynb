{
 "cells": [
  {
   "cell_type": "code",
   "execution_count": 2,
   "metadata": {},
   "outputs": [],
   "source": [
    "def to_bin(x):\n",
    "    numbers = []\n",
    "    while(x > 0):\n",
    "        numbers.append(x % 2)\n",
    "        x //= 2\n",
    "    return numbers[::-1]\n",
    "\n",
    "\n",
    "def to_dec_from_to_bin(numbers):\n",
    "    ans = 0\n",
    "    k = 0\n",
    "    for i in range(len(numbers) - 1, -1, -1):\n",
    "        ans += numbers[i] * (2 ** k)\n",
    "        k += 1\n",
    "    return ans\n",
    "\n",
    "\n",
    "    "
   ]
  },
  {
   "cell_type": "code",
   "execution_count": 4,
   "metadata": {},
   "outputs": [
    {
     "name": "stdout",
     "output_type": "stream",
     "text": [
      "11\n"
     ]
    }
   ],
   "source": [
    "for N in range(1, 10000):\n",
    "    numbers = to_bin(N)\n",
    "    ans = [elem for elem in numbers] + [numbers[-1]]\n",
    "    if numbers.count(1) % 2 != 0:\n",
    "        ans.append(1)\n",
    "        ans.append(0)\n",
    "    else:\n",
    "        ans.append(0)\n",
    "        ans.append(0)\n",
    "    if to_dec_from_to_bin(ans) > 90:\n",
    "        print(N)\n",
    "        break\n",
    "    "
   ]
  },
  {
   "cell_type": "markdown",
   "metadata": {},
   "source": [
    "### Task_1788_def"
   ]
  },
  {
   "cell_type": "code",
   "execution_count": 6,
   "metadata": {},
   "outputs": [
    {
     "name": "stdout",
     "output_type": "stream",
     "text": [
      "35\n"
     ]
    }
   ],
   "source": [
    "def to_num_sytem(x, num_sys):\n",
    "    numbers = []\n",
    "    while(x > 0):\n",
    "        numbers.append(x % num_sys)\n",
    "        x //= num_sys\n",
    "    return numbers[::-1]\n",
    "\n",
    "\n",
    "def to_dec(numbers):\n",
    "    number_in_dec = 0\n",
    "    for index, elem in enumerate(numbers[::-1]):\n",
    "        number_in_dec += (2**index) * elem \n",
    "    return number_in_dec\n",
    "\n",
    "\n",
    "for n in range(1000):\n",
    "    numbers = to_num_sytem(n, 2)\n",
    "    if n % 2 == 0:\n",
    "        numbers.append(0)\n",
    "        numbers.append(1)\n",
    "    else:\n",
    "        numbers.append(1)\n",
    "        numbers.append(0)\n",
    "    number_in_dec = to_dec(numbers)\n",
    "    if number_in_dec > 138:\n",
    "        print(n)\n",
    "        break\n",
    "        "
   ]
  },
  {
   "cell_type": "code",
   "execution_count": null,
   "metadata": {},
   "outputs": [],
   "source": []
  },
  {
   "cell_type": "code",
   "execution_count": null,
   "metadata": {},
   "outputs": [],
   "source": []
  }
 ],
 "metadata": {
  "julynter-results": {
   "filteredId": [],
   "filteredIndividual": [],
   "filteredRestart": [],
   "filteredType": [],
   "hash": "1b6104a25f0cd8894daf5aeaf59efcfc86c16dab",
   "visible": [
    {
     "cellId": "group",
     "hash": "c0de46ba034d710c2b2406a37ee6816be9634aa0",
     "reason": "This groups other lint messages",
     "reportId": "group",
     "reportType": "hiddenstate",
     "suggestion": null,
     "text": "Hidden State"
    },
    {
     "cellId": 0,
     "hash": "e90bceae6336b29e519bae6aef73232fe002e8b5",
     "reason": "A cell with code changes may produce different results than what it generated before the changes, hampering the reproducibility.",
     "reportId": "h2",
     "reportType": "hiddenstate",
     "suggestion": "Please consider re-executing it to guarantee the reproducibility.",
     "text": "Cell 0 has changed since its execution, but it wasn't executed after the changes"
    },
    {
     "cellId": 1,
     "hash": "f70362cca072d7fe79e23574a03087db3e78ee42",
     "reason": "A cell with code changes may produce different results than what it generated before the changes, hampering the reproducibility.",
     "reportId": "h2",
     "reportType": "hiddenstate",
     "suggestion": "Please consider re-executing it to guarantee the reproducibility.",
     "text": "Cell 1 has changed since its execution, but it wasn't executed after the changes"
    },
    {
     "cellId": 0,
     "hash": "153f4520004ff2fa79f49dd2aa86137ca2a84e4f",
     "reason": "A skip in the execution count might indicate the presence of a hidden state caused by a cell that does not exist anymore. Hidden states might prevent cells from executing or producing the same results, hampering the reproducibility.",
     "reportId": "h4",
     "reportType": "hiddenstate",
     "suggestion": "Please consider re-running the notebook to guarantee the reproducibility.",
     "text": "Cell 0 skips the execution count"
    },
    {
     "cellId": 0,
     "hash": "5657a64123f42df22b4017ea8c1613c579f9b729",
     "reason": "The cell uses a name that does not exist in this notebook. Using a name that does not exist prevents the reproducibility of the notebook.",
     "reportId": "h6",
     "reportType": "hiddenstate",
     "suggestion": "Please consider defining them to guarantee the reproducibility.",
     "text": "Cell 0 has the following undefined names: 'to_num_system'"
    },
    {
     "cellId": 1,
     "hash": "3eba78b109071d536108431f9e0cc88c9818fc04",
     "reason": "A skip in the execution count might indicate the presence of a hidden state caused by a cell that does not exist anymore. Hidden states might prevent cells from executing or producing the same results, hampering the reproducibility.",
     "reportId": "h4",
     "reportType": "hiddenstate",
     "suggestion": "Please consider re-running the notebook to guarantee the reproducibility.",
     "text": "Cell 1 skips the execution count"
    },
    {
     "cellId": 1,
     "hash": "177562d7c7a8c835ff24944b117220135eac3067",
     "reason": "The cell uses a name that does not exist in this notebook. Using a name that does not exist prevents the reproducibility of the notebook.",
     "reportId": "h6",
     "reportType": "hiddenstate",
     "suggestion": "Please consider defining them to guarantee the reproducibility.",
     "text": "Cell 1 has the following undefined names: 'number'"
    },
    {
     "cellId": 3,
     "hash": "8799f783ac6fd7cf8e5b84308a9642b4cec26e1b",
     "reason": "A skip in the execution count might indicate the presence of a hidden state caused by a cell that does not exist anymore. Hidden states might prevent cells from executing or producing the same results, hampering the reproducibility.",
     "reportId": "h4",
     "reportType": "hiddenstate",
     "suggestion": "Please consider re-running the notebook to guarantee the reproducibility.",
     "text": "Cell 3 skips the execution count"
    },
    {
     "cellId": "group",
     "hash": "19d3d3d153f22e318cbe061df9e685ba5165b0aa",
     "reason": "This groups other lint messages",
     "reportId": "group",
     "reportType": "confusenotebook",
     "suggestion": null,
     "text": "Confuse Notebook"
    },
    {
     "cellId": 0,
     "hash": "818363508d5a1be268e3a47ef7a8e01e578ebb49",
     "reason": "A markdown cell at the beginning of the notebook can provide a human-friendly title with no constraints and introduce the notebook, indicating its purpose and external requirements.",
     "reportId": "c4",
     "reportType": "confusenotebook",
     "suggestion": "Please consider adding a markdown cell to describe the notebook.",
     "text": "The first cell of the notebook is not a markdown cell"
    },
    {
     "cellId": 3,
     "hash": "8afc2472e9f89d0c5fc4b2ccbfe9985949cf5a47",
     "reason": "A markdown cell at the end of the notebook can conclude it, presenting a summary of the obtained results.",
     "reportId": "c5",
     "reportType": "confusenotebook",
     "suggestion": "Please consider adding a markdown cell to conclude the notebook.",
     "text": "The last cell of the notebook is not a markdown cell"
    }
   ]
  },
  "kernelspec": {
   "display_name": "Python 3",
   "language": "python",
   "name": "python3"
  },
  "language_info": {
   "codemirror_mode": {
    "name": "ipython",
    "version": 3
   },
   "file_extension": ".py",
   "mimetype": "text/x-python",
   "name": "python",
   "nbconvert_exporter": "python",
   "pygments_lexer": "ipython3",
   "version": "3.6.3"
  }
 },
 "nbformat": 4,
 "nbformat_minor": 4
}
