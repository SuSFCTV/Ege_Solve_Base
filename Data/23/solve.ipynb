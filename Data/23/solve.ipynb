{
 "cells": [
  {
   "cell_type": "markdown",
   "metadata": {},
   "source": [
    "### Task_11358 definition\n",
    "![](https://github.com/vaskers5/Ege_Solve_Base/blob/main/Data/23/tasks_definition/11358.png?raw=true)"
   ]
  },
  {
   "cell_type": "code",
   "execution_count": 1,
   "metadata": {},
   "outputs": [
    {
     "name": "stdout",
     "output_type": "stream",
     "text": [
      "60\n"
     ]
    }
   ],
   "source": [
    "dp = [0]*13\n",
    "dp[3] = 1\n",
    "for i in range(4,13):\n",
    "    dp[i] = dp[i-1] + dp[i-2] + (dp[i//2] if i%2==0 else 0)\n",
    "    if i == 10:\n",
    "        for j in range(10):\n",
    "            dp[j] = 0\n",
    "print(dp[12])"
   ]
  },
  {
   "cell_type": "markdown",
   "metadata": {},
   "source": [
    "### Task_13498 definition\n",
    "![](https://github.com/vaskers5/Ege_Solve_Base/blob/main/Data/23/tasks_definition/13498.png?raw=true)"
   ]
  },
  {
   "cell_type": "code",
   "execution_count": 2,
   "metadata": {},
   "outputs": [
    {
     "name": "stdout",
     "output_type": "stream",
     "text": [
      "169\n"
     ]
    }
   ],
   "source": [
    "dp = [0]* 18\n",
    "dp[1] = 1\n",
    "for i in range(2,18):\n",
    "    dp[i] = dp[i-1] + dp[i-3]\n",
    "    if i == 9:\n",
    "        for j in range(9):\n",
    "            dp[j] = 0\n",
    "print(dp[17])"
   ]
  },
  {
   "cell_type": "markdown",
   "metadata": {},
   "source": [
    "### Task_18724 definition\n",
    "![](https://github.com/vaskers5/Ege_Solve_Base/blob/main/Data/23/tasks_definition/18450.png?raw=true)"
   ]
  },
  {
   "cell_type": "code",
   "execution_count": 14,
   "metadata": {},
   "outputs": [
    {
     "name": "stdout",
     "output_type": "stream",
     "text": [
      "504\n"
     ]
    }
   ],
   "source": [
    "dp = [0] * 16\n",
    "dp[1] = 1\n",
    "for i in range(2,16):\n",
    "    dp[i] = dp[i-1] + dp[i-2] + (dp[i//3] if i%3==0 else 0)\n",
    "    if i == 10 or i == 12:\n",
    "        for j in range(2,i):\n",
    "            dp[j] = 0\n",
    "print(dp[15])"
   ]
  },
  {
   "cell_type": "markdown",
   "metadata": {},
   "source": [
    "### Task_18828 definition\n",
    "![](https://github.com/vaskers5/Ege_Solve_Base/blob/main/Data/23/tasks_definition/18828.png?raw=true)"
   ]
  },
  {
   "cell_type": "code",
   "execution_count": 13,
   "metadata": {},
   "outputs": [
    {
     "name": "stdout",
     "output_type": "stream",
     "text": [
      "324\n"
     ]
    }
   ],
   "source": [
    "dp = [0] * 24\n",
    "dp[4] = 1\n",
    "for i in range(5,24):\n",
    "    dp[i] = dp[i-1] + dp[i-3] + (dp[i//3] if i%3==0 else 0)\n",
    "    if i == 10 or i == 17:\n",
    "        for j in range(2,i):\n",
    "            dp[j] = 0\n",
    "print(dp[23])"
   ]
  },
  {
   "cell_type": "markdown",
   "metadata": {},
   "source": [
    "### Task_27248 definition\n",
    "![](https://github.com/vaskers5/Ege_Solve_Base/blob/main/Data/23/tasks_definition/27248.png?raw=true)"
   ]
  },
  {
   "cell_type": "code",
   "execution_count": 18,
   "metadata": {},
   "outputs": [
    {
     "name": "stdout",
     "output_type": "stream",
     "text": [
      "15\n"
     ]
    }
   ],
   "source": [
    "def solve(cnt,i):\n",
    "    if cnt<5:  \n",
    "        dp[i] = dp[i-1] + (dp[i//2] if i%2==0 else 0)\n",
    "        solve(cnt + 1,i + 1), solve(cnt + 1,i * 2)\n",
    "\n",
    "dp = [0]*100000\n",
    "dp[1] = 1\n",
    "\n",
    "solve(0,2)\n",
    "for i in range(1,len(dp)):\n",
    "    if dp[i]==0:\n",
    "        print(i)\n",
    "        break"
   ]
  },
  {
   "cell_type": "markdown",
   "metadata": {},
   "source": [
    "### Task_18598 definition\n"
   ]
  },
  {
   "cell_type": "code",
   "execution_count": 22,
   "metadata": {},
   "outputs": [
    {
     "name": "stdout",
     "output_type": "stream",
     "text": [
      "152\n"
     ]
    }
   ],
   "source": [
    "dp = [0] *41\n",
    "dp[1] = 1\n",
    "for i in range(2,41):\n",
    "    dp[i] = dp[i-1] + (dp[i//2] if i%2==0 else 0) + (dp[i//3] if i%3==0 else 0)\n",
    "    if i == 12:\n",
    "        for j in range(2,i):\n",
    "            dp[j] = 0\n",
    "    if i == 14:\n",
    "        dp[i] = 0\n",
    "print(dp[40])"
   ]
  },
  {
   "cell_type": "code",
   "execution_count": null,
   "metadata": {},
   "outputs": [],
   "source": []
  }
 ],
 "metadata": {
  "julynter-results": {
   "filteredId": [],
   "filteredIndividual": [],
   "filteredRestart": [],
   "filteredType": [],
   "hash": "ce241b689c573e8acaf1d742524efd3a52945be6",
   "visible": [
    {
     "cellId": "group",
     "hash": "c0de46ba034d710c2b2406a37ee6816be9634aa0",
     "reason": "This groups other lint messages",
     "reportId": "group",
     "reportType": "hiddenstate",
     "suggestion": null,
     "text": "Hidden State"
    },
    {
     "cellId": 5,
     "hash": "a85506a8386129190a4aad69c21de3fc066c8f2b",
     "reason": "A cell with results of a previous session may fail to execute or produce different results in this one, hampering the reproducibility.",
     "reportId": "h1",
     "reportType": "hiddenstate",
     "suggestion": "Please consider executing it to guarantee the reproducibility.",
     "text": "Cell 5 has execution results, but it wasn't executed on this session"
    },
    {
     "cellId": 7,
     "hash": "2528ef858c1171815cf6b99c4c825cd23730259d",
     "reason": "A cell with results of a previous session may fail to execute or produce different results in this one, hampering the reproducibility.",
     "reportId": "h1",
     "reportType": "hiddenstate",
     "suggestion": "Please consider executing it to guarantee the reproducibility.",
     "text": "Cell 7 has execution results, but it wasn't executed on this session"
    },
    {
     "cellId": 9,
     "hash": "442abe47eaacce4cbd098f38d138e6209eb75e2d",
     "reason": "A cell with results of a previous session may fail to execute or produce different results in this one, hampering the reproducibility.",
     "reportId": "h1",
     "reportType": "hiddenstate",
     "suggestion": "Please consider executing it to guarantee the reproducibility.",
     "text": "Cell 9 has execution results, but it wasn't executed on this session"
    },
    {
     "cellId": 11,
     "hash": "cdc2955da29c1f97cea80f7fbeaf6dfe102fe324",
     "reason": "A cell with results of a previous session may fail to execute or produce different results in this one, hampering the reproducibility.",
     "reportId": "h1",
     "reportType": "hiddenstate",
     "suggestion": "Please consider executing it to guarantee the reproducibility.",
     "text": "Cell 11 has execution results, but it wasn't executed on this session"
    },
    {
     "cellId": 7,
     "hash": "c94dc6ee0d1caed12031394eec863fb02a07fcda",
     "reason": "A skip in the execution count might indicate the presence of a hidden state caused by a cell that does not exist anymore. Hidden states might prevent cells from executing or producing the same results, hampering the reproducibility.",
     "reportId": "h4",
     "reportType": "hiddenstate",
     "suggestion": "Please consider re-running the notebook to guarantee the reproducibility.",
     "text": "Cell 7 skips the execution count"
    },
    {
     "cellId": 9,
     "hash": "5b049f5f23fdec9ec91cab7537ef49857717c6e3",
     "reason": "A skip in the execution count might indicate the presence of a hidden state caused by a cell that does not exist anymore. Hidden states might prevent cells from executing or producing the same results, hampering the reproducibility.",
     "reportId": "h4",
     "reportType": "hiddenstate",
     "suggestion": "Please consider re-running the notebook to guarantee the reproducibility.",
     "text": "Cell 9 skips the execution count"
    },
    {
     "cellId": 11,
     "hash": "4c5863c8e89b91def3fda5a5a856aa9152eb0680",
     "reason": "A skip in the execution count might indicate the presence of a hidden state caused by a cell that does not exist anymore. Hidden states might prevent cells from executing or producing the same results, hampering the reproducibility.",
     "reportId": "h4",
     "reportType": "hiddenstate",
     "suggestion": "Please consider re-running the notebook to guarantee the reproducibility.",
     "text": "Cell 11 skips the execution count"
    },
    {
     "cellId": "group",
     "hash": "19d3d3d153f22e318cbe061df9e685ba5165b0aa",
     "reason": "This groups other lint messages",
     "reportId": "group",
     "reportType": "confusenotebook",
     "suggestion": null,
     "text": "Confuse Notebook"
    },
    {
     "cellId": 7,
     "hash": "a4fa3202a76ca7e2cc281cd9eef268978a4a1b1c",
     "reason": "When you try to run all cells following the top-down order, cells in the wrong order might fail to execute or produce different results, hampering the reproducibility.",
     "reportId": "c2",
     "reportType": "confusenotebook",
     "suggestion": "Please consider re-running the notebook to guarantee the reproducibility.",
     "text": "Cell 7 has the execution count 13 in the wrong order"
    },
    {
     "cellId": 11,
     "hash": "a635b1ad4113d2122e268a793eacdaaf6e03319f",
     "reason": "A markdown cell at the end of the notebook can conclude it, presenting a summary of the obtained results.",
     "reportId": "c5",
     "reportType": "confusenotebook",
     "suggestion": "Please consider adding a markdown cell to conclude the notebook.",
     "text": "The last cell of the notebook is not a markdown cell"
    }
   ]
  },
  "kernelspec": {
   "display_name": "Python 3",
   "language": "python",
   "name": "python3"
  },
  "language_info": {
   "codemirror_mode": {
    "name": "ipython",
    "version": 3
   },
   "file_extension": ".py",
   "mimetype": "text/x-python",
   "name": "python",
   "nbconvert_exporter": "python",
   "pygments_lexer": "ipython3",
   "version": "3.6.3"
  }
 },
 "nbformat": 4,
 "nbformat_minor": 4
}
