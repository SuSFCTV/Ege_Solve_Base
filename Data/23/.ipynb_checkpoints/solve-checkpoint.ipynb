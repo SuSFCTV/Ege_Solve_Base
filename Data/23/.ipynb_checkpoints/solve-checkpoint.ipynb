{
 "cells": [
  {
   "cell_type": "markdown",
   "metadata": {},
   "source": [
    "### Task_11358 definition\n",
    "![](https://github.com/vaskers5/Ege_Solve_Base/blob/main/Data/23/tasks_definition/11358.png?raw=true)"
   ]
  },
  {
   "cell_type": "code",
   "execution_count": 1,
   "metadata": {},
   "outputs": [
    {
     "name": "stdout",
     "output_type": "stream",
     "text": [
      "60\n"
     ]
    }
   ],
   "source": [
    "dp = [0]*13\n",
    "dp[3] = 1\n",
    "for i in range(4,13):\n",
    "    dp[i] = dp[i-1] + dp[i-2] + (dp[i//2] if i%2==0 else 0)\n",
    "    if i == 10:\n",
    "        for j in range(10):\n",
    "            dp[j] = 0\n",
    "print(dp[12])"
   ]
  },
  {
   "cell_type": "markdown",
   "metadata": {},
   "source": [
    "### Task_13498 definition\n",
    "![](https://github.com/vaskers5/Ege_Solve_Base/blob/main/Data/23/tasks_definition/13498.png?raw=true)"
   ]
  },
  {
   "cell_type": "code",
   "execution_count": 2,
   "metadata": {},
   "outputs": [
    {
     "name": "stdout",
     "output_type": "stream",
     "text": [
      "169\n"
     ]
    }
   ],
   "source": [
    "dp = [0]* 18\n",
    "dp[1] = 1\n",
    "for i in range(2,18):\n",
    "    dp[i] = dp[i-1] + dp[i-3]\n",
    "    if i == 9:\n",
    "        for j in range(9):\n",
    "            dp[j] = 0\n",
    "print(dp[17])"
   ]
  },
  {
   "cell_type": "markdown",
   "metadata": {},
   "source": [
    "### Task_18724 definition\n",
    "![](https://github.com/vaskers5/Ege_Solve_Base/blob/main/Data/23/tasks_definition/18450.png?raw=true)"
   ]
  },
  {
   "cell_type": "code",
   "execution_count": 14,
   "metadata": {},
   "outputs": [
    {
     "name": "stdout",
     "output_type": "stream",
     "text": [
      "504\n"
     ]
    }
   ],
   "source": [
    "dp = [0] * 16\n",
    "dp[1] = 1\n",
    "for i in range(2,16):\n",
    "    dp[i] = dp[i-1] + dp[i-2] + (dp[i//3] if i%3==0 else 0)\n",
    "    if i == 10 or i == 12:\n",
    "        for j in range(2,i):\n",
    "            dp[j] = 0\n",
    "print(dp[15])"
   ]
  },
  {
   "cell_type": "markdown",
   "metadata": {},
   "source": [
    "### Task_18828 definition\n",
    "![](https://github.com/vaskers5/Ege_Solve_Base/blob/main/Data/23/tasks_definition/18828.png?raw=true)"
   ]
  },
  {
   "cell_type": "code",
   "execution_count": 13,
   "metadata": {},
   "outputs": [
    {
     "name": "stdout",
     "output_type": "stream",
     "text": [
      "324\n"
     ]
    }
   ],
   "source": [
    "dp = [0] * 24\n",
    "dp[4] = 1\n",
    "for i in range(5,24):\n",
    "    dp[i] = dp[i-1] + dp[i-3] + (dp[i//3] if i%3==0 else 0)\n",
    "    if i == 10 or i == 17:\n",
    "        for j in range(2,i):\n",
    "            dp[j] = 0\n",
    "print(dp[23])"
   ]
  },
  {
   "cell_type": "markdown",
   "metadata": {},
   "source": [
    "### Task_27248 definition\n",
    "![](https://github.com/vaskers5/Ege_Solve_Base/blob/main/Data/23/tasks_definition/27248.png?raw=true)"
   ]
  },
  {
   "cell_type": "code",
   "execution_count": 18,
   "metadata": {},
   "outputs": [
    {
     "name": "stdout",
     "output_type": "stream",
     "text": [
      "15\n"
     ]
    }
   ],
   "source": [
    "def solve(cnt,i):\n",
    "    if cnt<5:  \n",
    "        dp[i] = dp[i-1] + (dp[i//2] if i%2==0 else 0)\n",
    "        solve(cnt + 1,i + 1), solve(cnt + 1,i * 2)\n",
    "\n",
    "dp = [0]*100000\n",
    "dp[1] = 1\n",
    "\n",
    "solve(0,2)\n",
    "for i in range(1,len(dp)):\n",
    "    if dp[i]==0:\n",
    "        print(i)\n",
    "        break"
   ]
  },
  {
   "cell_type": "markdown",
   "metadata": {},
   "source": [
    "### Task_18598 definition\n"
   ]
  },
  {
   "cell_type": "code",
   "execution_count": null,
   "metadata": {},
   "outputs": [],
   "source": [
    "dp = [0] *41\n",
    "dp[1] = 1\n",
    "for i in range(2,41):\n",
    "    dp[i] = dp[i-1] + (dp[i//2] if i%2==0 else 0) + (dp[i//3] if i%3==0 else 0)\n",
    "    if i == 12:\n",
    "        for j in range(2,i):\n",
    "            dp[j] = 0\n",
    "    if i == 14:\n",
    "        dp[i] = 0\n",
    "print(dp[40])"
   ]
  },
  {
   "cell_type": "markdown",
   "metadata": {},
   "source": [
    "### EGE 18724"
   ]
  },
  {
   "cell_type": "code",
   "execution_count": 1,
   "metadata": {},
   "outputs": [
    {
     "name": "stdout",
     "output_type": "stream",
     "text": [
      "504\n"
     ]
    }
   ],
   "source": [
    "dp = [0] * 16\n",
    "dp[1], dp[2] = 1, 1\n",
    "\n",
    "for i in range(3, 16):\n",
    "    dp[i] = dp[i - 1] + dp[i - 2]\n",
    "    \n",
    "    if i % 3 == 0:\n",
    "        dp[i] += dp[i // 3]\n",
    "        \n",
    "    if i == 10 or i == 12:\n",
    "        for j in range(1, i):\n",
    "            dp[j] = 0\n",
    "\n",
    "print(dp[15])\n",
    "            \n",
    "        "
   ]
  },
  {
   "cell_type": "markdown",
   "metadata": {},
   "source": [
    "### EGE 13418"
   ]
  },
  {
   "cell_type": "code",
   "execution_count": 7,
   "metadata": {},
   "outputs": [
    {
     "name": "stdout",
     "output_type": "stream",
     "text": [
      "13\n"
     ]
    }
   ],
   "source": [
    "dp = [0] * 28\n",
    "dp[1] = 1\n",
    "\n",
    "for i in range(2, 28):\n",
    "    dp[i] = dp[i - 1]\n",
    "    if i % 2 != 0:\n",
    "        dp[i] += dp[i // 2]\n",
    "    \n",
    "    if i == 26:\n",
    "        dp[i] = 0\n",
    "        \n",
    "print(dp[27])"
   ]
  },
  {
   "cell_type": "markdown",
   "metadata": {},
   "source": [
    "### Task_def_2503"
   ]
  },
  {
   "cell_type": "code",
   "execution_count": null,
   "metadata": {},
   "outputs": [],
   "source": []
  }
 ],
 "metadata": {
  "julynter-results": {
   "filteredId": [],
   "filteredIndividual": [],
   "filteredRestart": [],
   "filteredType": [],
   "hash": "1734f901c5e2ae88e0e72e3379d8e4f11988368f",
   "visible": [
    {
     "cellId": "group",
     "hash": "c0de46ba034d710c2b2406a37ee6816be9634aa0",
     "reason": "This groups other lint messages",
     "reportId": "group",
     "reportType": "hiddenstate",
     "suggestion": null,
     "text": "Hidden State"
    },
    {
     "cellId": 1,
     "hash": "ba2858a88b33adbe26510e5ef5ecb3b023c0c346",
     "reason": "A cell with results of a previous session may fail to execute or produce different results in this one, hampering the reproducibility.",
     "reportId": "h1",
     "reportType": "hiddenstate",
     "suggestion": "Please consider executing it to guarantee the reproducibility.",
     "text": "Cell 1 has execution results, but it wasn't executed on this session"
    },
    {
     "cellId": 3,
     "hash": "1ab23a9b3435e4e4ed88a2222bcd3f7a8ffd0546",
     "reason": "A cell with results of a previous session may fail to execute or produce different results in this one, hampering the reproducibility.",
     "reportId": "h1",
     "reportType": "hiddenstate",
     "suggestion": "Please consider executing it to guarantee the reproducibility.",
     "text": "Cell 3 has execution results, but it wasn't executed on this session"
    },
    {
     "cellId": 5,
     "hash": "a85506a8386129190a4aad69c21de3fc066c8f2b",
     "reason": "A cell with results of a previous session may fail to execute or produce different results in this one, hampering the reproducibility.",
     "reportId": "h1",
     "reportType": "hiddenstate",
     "suggestion": "Please consider executing it to guarantee the reproducibility.",
     "text": "Cell 5 has execution results, but it wasn't executed on this session"
    },
    {
     "cellId": 7,
     "hash": "2528ef858c1171815cf6b99c4c825cd23730259d",
     "reason": "A cell with results of a previous session may fail to execute or produce different results in this one, hampering the reproducibility.",
     "reportId": "h1",
     "reportType": "hiddenstate",
     "suggestion": "Please consider executing it to guarantee the reproducibility.",
     "text": "Cell 7 has execution results, but it wasn't executed on this session"
    },
    {
     "cellId": 9,
     "hash": "442abe47eaacce4cbd098f38d138e6209eb75e2d",
     "reason": "A cell with results of a previous session may fail to execute or produce different results in this one, hampering the reproducibility.",
     "reportId": "h1",
     "reportType": "hiddenstate",
     "suggestion": "Please consider executing it to guarantee the reproducibility.",
     "text": "Cell 9 has execution results, but it wasn't executed on this session"
    },
    {
     "cellId": 13,
     "hash": "09c1823e1d6b526496a8427a14d97d47427438b3",
     "reason": "A cell with results of a previous session may fail to execute or produce different results in this one, hampering the reproducibility.",
     "reportId": "h1",
     "reportType": "hiddenstate",
     "suggestion": "Please consider executing it to guarantee the reproducibility.",
     "text": "Cell 13 has execution results, but it wasn't executed on this session"
    },
    {
     "cellId": 13,
     "hash": "372bc7b539ea2558e0d087cedc067ff0b9876300",
     "reason": "A cell with a repeated execution count indicates that there are results of multiple execution sessions in this notebook. Running all cells in the top-down order might produce different results, hampering the reproducibility.",
     "reportId": "h3",
     "reportType": "hiddenstate",
     "suggestion": "Please consider re-running the cell to guarantee the reproducibility.",
     "text": "Cell 13 repeats the execution count 1"
    },
    {
     "cellId": 15,
     "hash": "24962f9884e8eb8eeb5b7e5836984923b2c516cb",
     "reason": "A cell with results of a previous session may fail to execute or produce different results in this one, hampering the reproducibility.",
     "reportId": "h1",
     "reportType": "hiddenstate",
     "suggestion": "Please consider executing it to guarantee the reproducibility.",
     "text": "Cell 15 has execution results, but it wasn't executed on this session"
    },
    {
     "cellId": 15,
     "hash": "80af9018f0f778694fcfccd5e6947081686d6d31",
     "reason": "A skip in the execution count might indicate the presence of a hidden state caused by a cell that does not exist anymore. Hidden states might prevent cells from executing or producing the same results, hampering the reproducibility.",
     "reportId": "h4",
     "reportType": "hiddenstate",
     "suggestion": "Please consider re-running the notebook to guarantee the reproducibility.",
     "text": "Cell 15 skips the execution count"
    },
    {
     "cellId": 7,
     "hash": "c94dc6ee0d1caed12031394eec863fb02a07fcda",
     "reason": "A skip in the execution count might indicate the presence of a hidden state caused by a cell that does not exist anymore. Hidden states might prevent cells from executing or producing the same results, hampering the reproducibility.",
     "reportId": "h4",
     "reportType": "hiddenstate",
     "suggestion": "Please consider re-running the notebook to guarantee the reproducibility.",
     "text": "Cell 7 skips the execution count"
    },
    {
     "cellId": 9,
     "hash": "5b049f5f23fdec9ec91cab7537ef49857717c6e3",
     "reason": "A skip in the execution count might indicate the presence of a hidden state caused by a cell that does not exist anymore. Hidden states might prevent cells from executing or producing the same results, hampering the reproducibility.",
     "reportId": "h4",
     "reportType": "hiddenstate",
     "suggestion": "Please consider re-running the notebook to guarantee the reproducibility.",
     "text": "Cell 9 skips the execution count"
    },
    {
     "cellId": "group",
     "hash": "19d3d3d153f22e318cbe061df9e685ba5165b0aa",
     "reason": "This groups other lint messages",
     "reportId": "group",
     "reportType": "confusenotebook",
     "suggestion": null,
     "text": "Confuse Notebook"
    },
    {
     "cellId": 7,
     "hash": "a4fa3202a76ca7e2cc281cd9eef268978a4a1b1c",
     "reason": "When you try to run all cells following the top-down order, cells in the wrong order might fail to execute or produce different results, hampering the reproducibility.",
     "reportId": "c2",
     "reportType": "confusenotebook",
     "suggestion": "Please consider re-running the notebook to guarantee the reproducibility.",
     "text": "Cell 7 has the execution count 13 in the wrong order"
    },
    {
     "cellId": 11,
     "hash": "dfee7e1f00bc5515f1c39fb5194a6d996bc1abde",
     "reason": "When you try to run all cells following the top-down order, non-executed cells might fail to execute or produce different results, hampering the reproducibility.",
     "reportId": "c1",
     "reportType": "confusenotebook",
     "suggestion": "Please consider cleaning it to guarantee the reproducibility.",
     "text": "Cell 11 is a non-executed cell among executed ones"
    },
    {
     "cellId": 13,
     "hash": "ab93b086daf63595b1190bd0f3804e1655cc31a7",
     "reason": "When you try to run all cells following the top-down order, cells in the wrong order might fail to execute or produce different results, hampering the reproducibility.",
     "reportId": "c2",
     "reportType": "confusenotebook",
     "suggestion": "Please consider re-running the notebook to guarantee the reproducibility.",
     "text": "Cell 13 has the execution count 1 in the wrong order"
    }
   ]
  },
  "kernelspec": {
   "display_name": "Python 3",
   "language": "python",
   "name": "python3"
  },
  "language_info": {
   "codemirror_mode": {
    "name": "ipython",
    "version": 3
   },
   "file_extension": ".py",
   "mimetype": "text/x-python",
   "name": "python",
   "nbconvert_exporter": "python",
   "pygments_lexer": "ipython3",
   "version": "3.6.3"
  }
 },
 "nbformat": 4,
 "nbformat_minor": 4
}
