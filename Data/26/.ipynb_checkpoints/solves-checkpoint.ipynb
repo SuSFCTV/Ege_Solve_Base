{
 "cells": [
  {
   "cell_type": "code",
   "execution_count": null,
   "metadata": {},
   "outputs": [],
   "source": [
    "f = open(\"data/26.txt\")\n",
    "\n",
    "def sr_a_b(a,b):\n",
    "    return (a+b)//2\n",
    "\n",
    "n = int(f.readline())\n",
    "\n",
    "numbers = []\n",
    "for i in range(n):\n",
    "    numbers.append(int(f.readline()))\n",
    "\n",
    "pairs = 0\n",
    "max_sr = 0\n",
    "numbers = sorted(numbers)\n",
    "for i in range(n):\n",
    "    for j in range(i+1,n):\n",
    "        k = sr_a_b(numbers[i], numbers[j])\n",
    "        if (k in numbers):## добавить бин_поиск\n",
    "            pairs+=1\n",
    "            max_sr = max(k,max_sr)\n",
    "print(pairs,max_sr)"
   ]
  },
  {
   "cell_type": "code",
   "execution_count": null,
   "metadata": {},
   "outputs": [],
   "source": []
  }
 ],
 "metadata": {
  "julynter-results": {
   "filteredId": [],
   "filteredIndividual": [],
   "filteredRestart": [],
   "filteredType": [],
   "hash": "1e82c60540af5eeac3979906e2540e429f7f48eb",
   "visible": [
    {
     "cellId": "group",
     "hash": "f1533669aecd4af79dc6255a1e56c261582897f8",
     "reason": "This groups other lint messages",
     "reportId": "group",
     "reportType": "invalidtitle",
     "suggestion": null,
     "text": "Invalid Title"
    },
    {
     "cellId": "title",
     "hash": "e9fb88eead53b04f100b052363b4bcdb79cee158",
     "reason": "Untitled notebooks provide no context for who is selecting the notebook in the file browser.",
     "reportId": "t2",
     "reportType": "invalidtitle",
     "suggestion": "Please consider renaming it to a meaningful name.",
     "text": "Title starts with \"Untitled\""
    },
    {
     "cellId": "group",
     "hash": "19d3d3d153f22e318cbe061df9e685ba5165b0aa",
     "reason": "This groups other lint messages",
     "reportId": "group",
     "reportType": "confusenotebook",
     "suggestion": null,
     "text": "Confuse Notebook"
    },
    {
     "cellId": 0,
     "hash": "c2d118c50fae888cd2626731824db02540cdedd3",
     "reason": "A markdown cell at the beginning of the notebook can provide a human-friendly title with no constraints and introduce the notebook, indicating its purpose and external requirements.",
     "reportId": "c4",
     "reportType": "confusenotebook",
     "suggestion": "Please consider adding a markdown cell to describe the notebook.",
     "text": "The first cell of the notebook is not a markdown cell"
    }
   ]
  },
  "kernelspec": {
   "display_name": "Python 3",
   "language": "python",
   "name": "python3"
  },
  "language_info": {
   "codemirror_mode": {
    "name": "ipython",
    "version": 3
   },
   "file_extension": ".py",
   "mimetype": "text/x-python",
   "name": "python",
   "nbconvert_exporter": "python",
   "pygments_lexer": "ipython3",
   "version": "3.6.3"
  }
 },
 "nbformat": 4,
 "nbformat_minor": 4
}
