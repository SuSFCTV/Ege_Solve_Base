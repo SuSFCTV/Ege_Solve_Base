{
 "cells": [
  {
   "cell_type": "code",
   "execution_count": 1,
   "metadata": {},
   "outputs": [
    {
     "name": "stdout",
     "output_type": "stream",
     "text": [
      "190680 9000\n"
     ]
    }
   ],
   "source": [
    "f = open(\"data/K2638/data.txt\")\n",
    "\n",
    "n, k = map(int, f.readline().split())\n",
    "\n",
    "prices = sorted([int(f.readline()) for i in range(n)], reverse = True)\n",
    "\n",
    "print(int(sum(prices[:k]) * 0.2), prices[k])\n",
    "\n",
    "\n",
    "\n"
   ]
  },
  {
   "cell_type": "code",
   "execution_count": 10,
   "metadata": {},
   "outputs": [
    {
     "name": "stdout",
     "output_type": "stream",
     "text": [
      "27700 7896\n"
     ]
    }
   ],
   "source": [
    "from math import ceil\n",
    "\n",
    "f = open(\"data/K2642/data.txt\")\n",
    "\n",
    "n, k, m = map(int, f.readline().split())\n",
    "\n",
    "prices = [int(f.readline()) for i in range(n)]\n",
    "\n",
    "prices = sorted(prices)\n",
    "\n",
    "low_prices = 0\n",
    "\n",
    "for i in range(k):\n",
    "    low_prices += prices[i]\n",
    "\n",
    "low_prices /= k\n",
    "\n",
    "print(prices[n - m], int(low_prices))\n",
    "    \n"
   ]
  },
  {
   "cell_type": "code",
   "execution_count": 3,
   "metadata": {},
   "outputs": [
    {
     "name": "stdout",
     "output_type": "stream",
     "text": [
      "732 1054\n"
     ]
    }
   ],
   "source": [
    "from math import ceil\n",
    "\n",
    "f = open(\"data/K2645/data.txt\")\n",
    "\n",
    "S, n = map(int, f.readline().split())\n",
    "\n",
    "files = [int(f.readline()) for i in range(n)]\n",
    "\n",
    "files = sorted(files, reverse = True)\n",
    "\n",
    "ans = []\n",
    "\n",
    "for elem in files:\n",
    "    if sum(ans) + elem <= S:\n",
    "        ans += [elem]\n",
    "\n",
    "print(min(ans), len(ans))"
   ]
  },
  {
   "cell_type": "code",
   "execution_count": 6,
   "metadata": {},
   "outputs": [
    {
     "name": "stdout",
     "output_type": "stream",
     "text": [
      "340\n"
     ]
    }
   ],
   "source": [
    "f = open(\"data/KSMT/data.txt\")\n",
    "\n",
    "n = int(f.readline())\n",
    "numbers = sorted([int(f.readline()) for i in range(n)])\n",
    "\n",
    "average = sum(numbers) / n\n",
    "med = numbers[len(numbers) // 2]\n",
    "\n",
    "ans = [elem for elem in numbers if average <= elem <= med]\n",
    "\n",
    "print(len(ans))"
   ]
  },
  {
   "cell_type": "code",
   "execution_count": 15,
   "metadata": {},
   "outputs": [
    {
     "name": "stdin",
     "output_type": "stream",
     "text": [
      " 1\n",
      " apple orange banana banana orange\n"
     ]
    },
    {
     "name": "stdout",
     "output_type": "stream",
     "text": [
      "banana\n"
     ]
    }
   ],
   "source": [
    "counter = dict()\n",
    "arr_of_Max = []\n",
    "n = int(input())\n",
    "\n",
    "for i in range(n):\n",
    "    s = input().split()\n",
    "    for word in s:\n",
    "        if word in counter:\n",
    "            counter[word] += 1\n",
    "        else:\n",
    "            counter.update({word : 1})\n",
    "\n",
    "        \n",
    "counter = sorted(list([key, counter[key]] for key in counter),\n",
    "                   key = lambda x: x[0])\n",
    "\n",
    "max_word, max_value = \"\", 0\n",
    "\n",
    "for elem in counter:\n",
    "    if elem[1] > max_value:\n",
    "        max_word, max_value = elem[0], elem[1]\n",
    "\n",
    "print(max_word)"
   ]
  },
  {
   "cell_type": "code",
   "execution_count": 2,
   "metadata": {},
   "outputs": [
    {
     "name": "stdin",
     "output_type": "stream",
     "text": [
      " 9\n",
      " hi\n",
      " hi\n",
      " what is your name\n",
      " my name is bond\n",
      " james bond\n",
      " my name is damme\n",
      " van damm\n",
      " claude van damme\n",
      " jean claude van damme\n"
     ]
    },
    {
     "name": "stdout",
     "output_type": "stream",
     "text": [
      "3\n",
      "1\n",
      "0\n",
      "2\n",
      "5\n",
      "4\n",
      "7\n",
      "6\n",
      "9\n",
      "8\n",
      "12\n",
      "10\n",
      "11\n"
     ]
    }
   ],
   "source": [
    "counter = dict()\n",
    "n = int(input())\n",
    "\n",
    "for i in range(n):\n",
    "    s = input().split()\n",
    "    for word in s:\n",
    "        if word in counter:\n",
    "            counter[word] += 1\n",
    "        else:\n",
    "            counter.update({word : 1})\n",
    "            \n",
    "counter = sorted(list([key, counter[key]] for key in counter),\n",
    "                   key = lambda x: x[1], reverse = True)\n",
    "\n",
    "\n",
    "\n",
    "mass_index = {}\n",
    "sorte = lambda a: sorted(a, key = lambda x: counter[x][0])\n",
    "\n",
    "for index, elem in enumerate(counter):\n",
    "    if elem[1] in mass_index:\n",
    "        mass_index[elem[1]].append(index)\n",
    "    else:\n",
    "        mass_index.update({elem[1] : [index]})\n",
    "        \n",
    "ans = []\n",
    "\n",
    "for value in sorted(mass_index, reverse = True):\n",
    "    if len(mass_index[value]) == 1:\n",
    "        ans.append(counter[mass_index[value][0]][0])\n",
    "    else:\n",
    "        for elem in sorte(mass_index[value]):\n",
    "            ans.append(counter[elem][0])\n",
    "\n",
    "for elem in ans:\n",
    "    print(elem)\n",
    "            \n",
    "        "
   ]
  },
  {
   "cell_type": "code",
   "execution_count": null,
   "metadata": {},
   "outputs": [],
   "source": []
  }
 ],
 "metadata": {
  "julynter-results": {
   "filteredId": [],
   "filteredIndividual": [],
   "filteredRestart": [],
   "filteredType": [],
   "hash": "2a1b61c91a3d9d181cce020fb81c48ec20aa72b9",
   "visible": [
    {
     "cellId": "group",
     "hash": "c0de46ba034d710c2b2406a37ee6816be9634aa0",
     "reason": "This groups other lint messages",
     "reportId": "group",
     "reportType": "hiddenstate",
     "suggestion": null,
     "text": "Hidden State"
    },
    {
     "cellId": 3,
     "hash": "cdf3f28eabd186cbc121cbbf9cfbd1c2e087eb07",
     "reason": "A skip in the execution count might indicate the presence of a hidden state caused by a cell that does not exist anymore. Hidden states might prevent cells from executing or producing the same results, hampering the reproducibility.",
     "reportId": "h4",
     "reportType": "hiddenstate",
     "suggestion": "Please consider re-running the notebook to guarantee the reproducibility.",
     "text": "Cell 3 skips the execution count"
    },
    {
     "cellId": 1,
     "hash": "f625666ccafaf09ba50feedb2c870183abd7b8b2",
     "reason": "A skip in the execution count might indicate the presence of a hidden state caused by a cell that does not exist anymore. Hidden states might prevent cells from executing or producing the same results, hampering the reproducibility.",
     "reportId": "h4",
     "reportType": "hiddenstate",
     "suggestion": "Please consider re-running the notebook to guarantee the reproducibility.",
     "text": "Cell 1 skips the execution count"
    },
    {
     "cellId": 4,
     "hash": "49fe8fdb1ed0c348397527f6c1efa12afbf2bbd9",
     "reason": "A skip in the execution count might indicate the presence of a hidden state caused by a cell that does not exist anymore. Hidden states might prevent cells from executing or producing the same results, hampering the reproducibility.",
     "reportId": "h4",
     "reportType": "hiddenstate",
     "suggestion": "Please consider re-running the notebook to guarantee the reproducibility.",
     "text": "Cell 4 skips the execution count"
    },
    {
     "cellId": "group",
     "hash": "19d3d3d153f22e318cbe061df9e685ba5165b0aa",
     "reason": "This groups other lint messages",
     "reportId": "group",
     "reportType": "confusenotebook",
     "suggestion": null,
     "text": "Confuse Notebook"
    },
    {
     "cellId": 2,
     "hash": "5350acc7925e8207383fd098faee2b0619c8896f",
     "reason": "When you try to run all cells following the top-down order, cells in the wrong order might fail to execute or produce different results, hampering the reproducibility.",
     "reportId": "c2",
     "reportType": "confusenotebook",
     "suggestion": "Please consider re-running the notebook to guarantee the reproducibility.",
     "text": "Cell 2 has the execution count 3 in the wrong order"
    },
    {
     "cellId": 5,
     "hash": "e67a3e7ed51b98ef4ac968a80f28d7a76116f471",
     "reason": "When you try to run all cells following the top-down order, cells in the wrong order might fail to execute or produce different results, hampering the reproducibility.",
     "reportId": "c2",
     "reportType": "confusenotebook",
     "suggestion": "Please consider re-running the notebook to guarantee the reproducibility.",
     "text": "Cell 5 has the execution count 2 in the wrong order"
    },
    {
     "cellId": 0,
     "hash": "bcfd53dbbe0155f428659b38a572493baa475b25",
     "reason": "A markdown cell at the beginning of the notebook can provide a human-friendly title with no constraints and introduce the notebook, indicating its purpose and external requirements.",
     "reportId": "c4",
     "reportType": "confusenotebook",
     "suggestion": "Please consider adding a markdown cell to describe the notebook.",
     "text": "The first cell of the notebook is not a markdown cell"
    },
    {
     "cellId": 5,
     "hash": "68d66da01100e24b09466a920b16a0a80d0b714f",
     "reason": "A markdown cell at the end of the notebook can conclude it, presenting a summary of the obtained results.",
     "reportId": "c5",
     "reportType": "confusenotebook",
     "suggestion": "Please consider adding a markdown cell to conclude the notebook.",
     "text": "The last cell of the notebook is not a markdown cell"
    }
   ]
  },
  "kernelspec": {
   "display_name": "Python 3",
   "language": "python",
   "name": "python3"
  },
  "language_info": {
   "codemirror_mode": {
    "name": "ipython",
    "version": 3
   },
   "file_extension": ".py",
   "mimetype": "text/x-python",
   "name": "python",
   "nbconvert_exporter": "python",
   "pygments_lexer": "ipython3",
   "version": "3.6.3"
  }
 },
 "nbformat": 4,
 "nbformat_minor": 4
}
