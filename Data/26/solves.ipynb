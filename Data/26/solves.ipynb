{
 "cells": [
  {
   "cell_type": "code",
   "execution_count": 5,
   "metadata": {},
   "outputs": [
    {
     "name": "stdout",
     "output_type": "stream",
     "text": [
      "190680 9000\n"
     ]
    }
   ],
   "source": [
    "from math import ceil\n",
    "\n",
    "f = open(\"data/K2638/data.txt\")\n",
    "\n",
    "n, k = map(int, f.readline().split())\n",
    "\n",
    "prices = [int(f.readline()) for i in range(n)]\n",
    "\n",
    "prices = list(reversed(sorted(prices)))\n",
    "\n",
    "ans = 0\n",
    "for i in range(k):\n",
    "    ans += prices[i] * 0.2\n",
    "\n",
    "print(ceil(ans), prices[k])\n",
    "\n",
    "\n",
    "\n"
   ]
  },
  {
   "cell_type": "code",
   "execution_count": 10,
   "metadata": {},
   "outputs": [
    {
     "name": "stdout",
     "output_type": "stream",
     "text": [
      "27700 7896\n"
     ]
    }
   ],
   "source": [
    "from math import ceil\n",
    "\n",
    "f = open(\"data/K2642/data.txt\")\n",
    "\n",
    "n, k, m = map(int, f.readline().split())\n",
    "\n",
    "prices = [int(f.readline()) for i in range(n)]\n",
    "\n",
    "prices = sorted(prices)\n",
    "\n",
    "low_prices = 0\n",
    "\n",
    "for i in range(k):\n",
    "    low_prices += prices[i]\n",
    "\n",
    "low_prices /= k\n",
    "\n",
    "print(prices[n - m], int(low_prices))\n",
    "    \n"
   ]
  },
  {
   "cell_type": "code",
   "execution_count": null,
   "metadata": {},
   "outputs": [],
   "source": [
    "from math import ceil\n",
    "\n",
    "f = open(\"data/K2645/data.txt\")\n",
    "\n",
    "S, n = map(int, f.readline().split())\n",
    "\n",
    "files = [int(f.readline()) for i in range n]\n",
    "\n",
    "files = sorted(files, reverse = True)\n",
    "\n",
    "ans = []\n",
    "\n",
    "for elem in files:\n",
    "    if sum(ans) <= S:\n",
    "        ans.append\n",
    "    \n"
   ]
  }
 ],
 "metadata": {
  "julynter-results": {
   "filteredId": [],
   "filteredIndividual": [],
   "filteredRestart": [],
   "filteredType": [],
   "hash": "f2a078978d0422c5c960c431b8bde71aac29a590",
   "visible": [
    {
     "cellId": "group",
     "hash": "c0de46ba034d710c2b2406a37ee6816be9634aa0",
     "reason": "This groups other lint messages",
     "reportId": "group",
     "reportType": "hiddenstate",
     "suggestion": null,
     "text": "Hidden State"
    },
    {
     "cellId": 0,
     "hash": "8564ddbad7cf8db511e056540e25461f1d6630e1",
     "reason": "A skip in the execution count might indicate the presence of a hidden state caused by a cell that does not exist anymore. Hidden states might prevent cells from executing or producing the same results, hampering the reproducibility.",
     "reportId": "h4",
     "reportType": "hiddenstate",
     "suggestion": "Please consider re-running the notebook to guarantee the reproducibility.",
     "text": "Cell 0 skips the execution count"
    },
    {
     "cellId": 1,
     "hash": "f625666ccafaf09ba50feedb2c870183abd7b8b2",
     "reason": "A skip in the execution count might indicate the presence of a hidden state caused by a cell that does not exist anymore. Hidden states might prevent cells from executing or producing the same results, hampering the reproducibility.",
     "reportId": "h4",
     "reportType": "hiddenstate",
     "suggestion": "Please consider re-running the notebook to guarantee the reproducibility.",
     "text": "Cell 1 skips the execution count"
    },
    {
     "cellId": "group",
     "hash": "19d3d3d153f22e318cbe061df9e685ba5165b0aa",
     "reason": "This groups other lint messages",
     "reportId": "group",
     "reportType": "confusenotebook",
     "suggestion": null,
     "text": "Confuse Notebook"
    },
    {
     "cellId": 0,
     "hash": "69fbf03a1e5a45ebe6dc3424e17dc63982fcc6d4",
     "reason": "A markdown cell at the beginning of the notebook can provide a human-friendly title with no constraints and introduce the notebook, indicating its purpose and external requirements.",
     "reportId": "c4",
     "reportType": "confusenotebook",
     "suggestion": "Please consider adding a markdown cell to describe the notebook.",
     "text": "The first cell of the notebook is not a markdown cell"
    },
    {
     "cellId": 2,
     "hash": "bc6a9090ae680163e9443dbe292e1660998165ba",
     "reason": "A markdown cell at the end of the notebook can conclude it, presenting a summary of the obtained results.",
     "reportId": "c5",
     "reportType": "confusenotebook",
     "suggestion": "Please consider adding a markdown cell to conclude the notebook.",
     "text": "The last cell of the notebook is not a markdown cell"
    },
    {
     "cellId": "group",
     "hash": "d6fbc9d2bdd580e18ed0bc5805dc26db323d6f5f",
     "reason": "This groups other lint messages",
     "reportId": "group",
     "reportType": "import",
     "suggestion": null,
     "text": "Import"
    },
    {
     "cellId": 1,
     "hash": "050b4aa2d85bce40f67defb1189d035148d5a1d5",
     "reason": "Imports at the beginning of the notebook allow for a quick failure in the case of a non-installed dependency. It prevents users from stopping their executions for installing dependencies. Additionally, imports in the middle might reduce notebooks' readability by taking the attention from the logic to the import constructs.",
     "reportId": "i1",
     "reportType": "import",
     "suggestion": "Please consider moving the import to the first cell of the notebook.",
     "text": "Cell 1 has imports but it is not the first cell"
    }
   ]
  },
  "kernelspec": {
   "display_name": "Python 3",
   "language": "python",
   "name": "python3"
  },
  "language_info": {
   "codemirror_mode": {
    "name": "ipython",
    "version": 3
   },
   "file_extension": ".py",
   "mimetype": "text/x-python",
   "name": "python",
   "nbconvert_exporter": "python",
   "pygments_lexer": "ipython3",
   "version": "3.6.3"
  }
 },
 "nbformat": 4,
 "nbformat_minor": 4
}
