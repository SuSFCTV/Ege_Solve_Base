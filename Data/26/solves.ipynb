{
 "cells": [
  {
   "cell_type": "code",
   "execution_count": 1,
   "metadata": {},
   "outputs": [
    {
     "name": "stdout",
     "output_type": "stream",
     "text": [
      "190680 9000\n"
     ]
    }
   ],
   "source": [
    "f = open(\"data/K2638/data.txt\")\n",
    "\n",
    "n, k = map(int, f.readline().split())\n",
    "\n",
    "prices = sorted([int(f.readline()) for i in range(n)], reverse = True)\n",
    "\n",
    "print(int(sum(prices[:k]) * 0.2), prices[k])\n",
    "\n",
    "\n",
    "\n"
   ]
  },
  {
   "cell_type": "code",
   "execution_count": 10,
   "metadata": {},
   "outputs": [
    {
     "name": "stdout",
     "output_type": "stream",
     "text": [
      "27700 7896\n"
     ]
    }
   ],
   "source": [
    "from math import ceil\n",
    "\n",
    "f = open(\"data/K2642/data.txt\")\n",
    "\n",
    "n, k, m = map(int, f.readline().split())\n",
    "\n",
    "prices = [int(f.readline()) for i in range(n)]\n",
    "\n",
    "prices = sorted(prices)\n",
    "\n",
    "low_prices = 0\n",
    "\n",
    "for i in range(k):\n",
    "    low_prices += prices[i]\n",
    "\n",
    "low_prices /= k\n",
    "\n",
    "print(prices[n - m], int(low_prices))\n",
    "    \n"
   ]
  },
  {
   "cell_type": "code",
   "execution_count": 3,
   "metadata": {},
   "outputs": [
    {
     "name": "stdout",
     "output_type": "stream",
     "text": [
      "732 1054\n"
     ]
    }
   ],
   "source": [
    "from math import ceil\n",
    "\n",
    "f = open(\"data/K2645/data.txt\")\n",
    "\n",
    "S, n = map(int, f.readline().split())\n",
    "\n",
    "files = [int(f.readline()) for i in range(n)]\n",
    "\n",
    "files = sorted(files, reverse = True)\n",
    "\n",
    "ans = []\n",
    "\n",
    "for elem in files:\n",
    "    if sum(ans) + elem <= S:\n",
    "        ans += [elem]\n",
    "\n",
    "print(min(ans), len(ans))"
   ]
  },
  {
   "cell_type": "code",
   "execution_count": 6,
   "metadata": {},
   "outputs": [
    {
     "name": "stdout",
     "output_type": "stream",
     "text": [
      "340\n"
     ]
    }
   ],
   "source": [
    "f = open(\"data/KSMT/data.txt\")\n",
    "\n",
    "n = int(f.readline())\n",
    "numbers = sorted([int(f.readline()) for i in range(n)])\n",
    "\n",
    "average = sum(numbers) / n\n",
    "med = numbers[len(numbers) // 2]\n",
    "\n",
    "ans = [elem for elem in numbers if average <= elem <= med]\n",
    "\n",
    "print(len(ans))"
   ]
  },
  {
   "cell_type": "code",
   "execution_count": 8,
   "metadata": {},
   "outputs": [
    {
     "name": "stdout",
     "output_type": "stream",
     "text": [
      "49867 10002885.0\n"
     ]
    }
   ],
   "source": [
    "f = open(\"data/K3768/data.txt\")\n",
    "\n",
    "n = int(f.readline())\n",
    "\n",
    "numbers = sorted([int(f.readline()) for i in range(n)])\n",
    "ans = []\n",
    "\n",
    "for i in range(n):\n",
    "    counter = 0\n",
    "    for j in range(i + 1, n):\n",
    "        if (numbers[i] + numbers[j]) % 10 == 0:\n",
    "            ans.append((numbers[i] + numbers[j]) / 2)\n",
    "        \n",
    "        if counter == 100:\n",
    "            break\n",
    "            \n",
    "        counter += 1\n",
    "        \n",
    "print(len(ans), min(ans))\n",
    "            "
   ]
  },
  {
   "cell_type": "code",
   "execution_count": null,
   "metadata": {},
   "outputs": [],
   "source": []
  }
 ],
 "metadata": {
  "julynter-results": {
   "filteredId": [],
   "filteredIndividual": [],
   "filteredRestart": [],
   "filteredType": [],
   "hash": "a8504f8565fef1653181d41ac5868b39a2685bff",
   "visible": [
    {
     "cellId": "group",
     "hash": "c0de46ba034d710c2b2406a37ee6816be9634aa0",
     "reason": "This groups other lint messages",
     "reportId": "group",
     "reportType": "hiddenstate",
     "suggestion": null,
     "text": "Hidden State"
    },
    {
     "cellId": 0,
     "hash": "e1d5265d0919429fcdbd8b27c50be2d344aec14e",
     "reason": "A cell with code changes may produce different results than what it generated before the changes, hampering the reproducibility.",
     "reportId": "h2",
     "reportType": "hiddenstate",
     "suggestion": "Please consider re-executing it to guarantee the reproducibility.",
     "text": "Cell 0 has changed since its execution, but it wasn't executed after the changes"
    },
    {
     "cellId": 1,
     "hash": "6ab3afb57d993abcbb1079fdb9fa2eb9305eeef8",
     "reason": "A cell with results of a previous session may fail to execute or produce different results in this one, hampering the reproducibility.",
     "reportId": "h1",
     "reportType": "hiddenstate",
     "suggestion": "Please consider executing it to guarantee the reproducibility.",
     "text": "Cell 1 has execution results, but it wasn't executed on this session"
    },
    {
     "cellId": 2,
     "hash": "9fbc9aa863622acd235bd3dbfa27a72183610105",
     "reason": "A cell with code changes may produce different results than what it generated before the changes, hampering the reproducibility.",
     "reportId": "h2",
     "reportType": "hiddenstate",
     "suggestion": "Please consider re-executing it to guarantee the reproducibility.",
     "text": "Cell 2 has changed since its execution, but it wasn't executed after the changes"
    },
    {
     "cellId": 3,
     "hash": "69e0831e4cc56208fb9212ab2cf773c5d2eb6f1c",
     "reason": "A cell with code changes may produce different results than what it generated before the changes, hampering the reproducibility.",
     "reportId": "h2",
     "reportType": "hiddenstate",
     "suggestion": "Please consider re-executing it to guarantee the reproducibility.",
     "text": "Cell 3 has changed since its execution, but it wasn't executed after the changes"
    },
    {
     "cellId": 2,
     "hash": "b469e9da8b8f45b059a37ec8d07ce7d4c6c063a3",
     "reason": "A skip in the execution count might indicate the presence of a hidden state caused by a cell that does not exist anymore. Hidden states might prevent cells from executing or producing the same results, hampering the reproducibility.",
     "reportId": "h4",
     "reportType": "hiddenstate",
     "suggestion": "Please consider re-running the notebook to guarantee the reproducibility.",
     "text": "Cell 2 skips the execution count"
    },
    {
     "cellId": 3,
     "hash": "cdf3f28eabd186cbc121cbbf9cfbd1c2e087eb07",
     "reason": "A skip in the execution count might indicate the presence of a hidden state caused by a cell that does not exist anymore. Hidden states might prevent cells from executing or producing the same results, hampering the reproducibility.",
     "reportId": "h4",
     "reportType": "hiddenstate",
     "suggestion": "Please consider re-running the notebook to guarantee the reproducibility.",
     "text": "Cell 3 skips the execution count"
    },
    {
     "cellId": 4,
     "hash": "8feab255ee96257a9b053686324d399b89415b4b",
     "reason": "A skip in the execution count might indicate the presence of a hidden state caused by a cell that does not exist anymore. Hidden states might prevent cells from executing or producing the same results, hampering the reproducibility.",
     "reportId": "h4",
     "reportType": "hiddenstate",
     "suggestion": "Please consider re-running the notebook to guarantee the reproducibility.",
     "text": "Cell 4 skips the execution count"
    },
    {
     "cellId": 1,
     "hash": "f625666ccafaf09ba50feedb2c870183abd7b8b2",
     "reason": "A skip in the execution count might indicate the presence of a hidden state caused by a cell that does not exist anymore. Hidden states might prevent cells from executing or producing the same results, hampering the reproducibility.",
     "reportId": "h4",
     "reportType": "hiddenstate",
     "suggestion": "Please consider re-running the notebook to guarantee the reproducibility.",
     "text": "Cell 1 skips the execution count"
    },
    {
     "cellId": "group",
     "hash": "19d3d3d153f22e318cbe061df9e685ba5165b0aa",
     "reason": "This groups other lint messages",
     "reportId": "group",
     "reportType": "confusenotebook",
     "suggestion": null,
     "text": "Confuse Notebook"
    },
    {
     "cellId": 2,
     "hash": "5350acc7925e8207383fd098faee2b0619c8896f",
     "reason": "When you try to run all cells following the top-down order, cells in the wrong order might fail to execute or produce different results, hampering the reproducibility.",
     "reportId": "c2",
     "reportType": "confusenotebook",
     "suggestion": "Please consider re-running the notebook to guarantee the reproducibility.",
     "text": "Cell 2 has the execution count 3 in the wrong order"
    },
    {
     "cellId": 0,
     "hash": "bcfd53dbbe0155f428659b38a572493baa475b25",
     "reason": "A markdown cell at the beginning of the notebook can provide a human-friendly title with no constraints and introduce the notebook, indicating its purpose and external requirements.",
     "reportId": "c4",
     "reportType": "confusenotebook",
     "suggestion": "Please consider adding a markdown cell to describe the notebook.",
     "text": "The first cell of the notebook is not a markdown cell"
    },
    {
     "cellId": 4,
     "hash": "86c23b287ab0ed62d6104a8a40677f17de176fd1",
     "reason": "A markdown cell at the end of the notebook can conclude it, presenting a summary of the obtained results.",
     "reportId": "c5",
     "reportType": "confusenotebook",
     "suggestion": "Please consider adding a markdown cell to conclude the notebook.",
     "text": "The last cell of the notebook is not a markdown cell"
    }
   ]
  },
  "kernelspec": {
   "display_name": "Python 3",
   "language": "python",
   "name": "python3"
  },
  "language_info": {
   "codemirror_mode": {
    "name": "ipython",
    "version": 3
   },
   "file_extension": ".py",
   "mimetype": "text/x-python",
   "name": "python",
   "nbconvert_exporter": "python",
   "pygments_lexer": "ipython3",
   "version": "3.6.3"
  }
 },
 "nbformat": 4,
 "nbformat_minor": 4
}
