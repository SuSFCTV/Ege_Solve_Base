{
 "cells": [
  {
   "cell_type": "code",
   "execution_count": 1,
   "metadata": {},
   "outputs": [
    {
     "name": "stdout",
     "output_type": "stream",
     "text": [
      "190680 9000\n"
     ]
    }
   ],
   "source": [
    "f = open(\"data/K2638/data.txt\")\n",
    "\n",
    "n, k = map(int, f.readline().split())\n",
    "\n",
    "prices = sorted([int(f.readline()) for i in range(n)], reverse = True)\n",
    "\n",
    "print(int(sum(prices[:k]) * 0.2), prices[k])\n",
    "\n",
    "\n",
    "\n"
   ]
  },
  {
   "cell_type": "code",
   "execution_count": 10,
   "metadata": {},
   "outputs": [
    {
     "name": "stdout",
     "output_type": "stream",
     "text": [
      "27700 7896\n"
     ]
    }
   ],
   "source": [
    "from math import ceil\n",
    "\n",
    "f = open(\"data/K2642/data.txt\")\n",
    "\n",
    "n, k, m = map(int, f.readline().split())\n",
    "\n",
    "prices = [int(f.readline()) for i in range(n)]\n",
    "\n",
    "prices = sorted(prices)\n",
    "\n",
    "low_prices = 0\n",
    "\n",
    "for i in range(k):\n",
    "    low_prices += prices[i]\n",
    "\n",
    "low_prices /= k\n",
    "\n",
    "print(prices[n - m], int(low_prices))\n",
    "    \n"
   ]
  },
  {
   "cell_type": "code",
   "execution_count": 3,
   "metadata": {},
   "outputs": [
    {
     "name": "stdout",
     "output_type": "stream",
     "text": [
      "732 1054\n"
     ]
    }
   ],
   "source": [
    "from math import ceil\n",
    "\n",
    "f = open(\"data/K2645/data.txt\")\n",
    "\n",
    "S, n = map(int, f.readline().split())\n",
    "\n",
    "files = [int(f.readline()) for i in range(n)]\n",
    "\n",
    "files = sorted(files, reverse = True)\n",
    "\n",
    "ans = []\n",
    "\n",
    "for elem in files:\n",
    "    if sum(ans) + elem <= S:\n",
    "        ans += [elem]\n",
    "\n",
    "print(min(ans), len(ans))"
   ]
  },
  {
   "cell_type": "code",
   "execution_count": 6,
   "metadata": {},
   "outputs": [
    {
     "name": "stdout",
     "output_type": "stream",
     "text": [
      "340\n"
     ]
    }
   ],
   "source": [
    "f = open(\"data/KSMT/data.txt\")\n",
    "\n",
    "n = int(f.readline())\n",
    "numbers = sorted([int(f.readline()) for i in range(n)])\n",
    "\n",
    "average = sum(numbers) / n\n",
    "med = numbers[len(numbers) // 2]\n",
    "\n",
    "ans = [elem for elem in numbers if average <= elem <= med]\n",
    "\n",
    "print(len(ans))"
   ]
  },
  {
   "cell_type": "code",
   "execution_count": 8,
   "metadata": {},
   "outputs": [
    {
     "name": "stdout",
     "output_type": "stream",
     "text": [
      "49867 10002885.0\n"
     ]
    }
   ],
   "source": [
    "f = open(\"data/K3768/data.txt\")\n",
    "\n",
    "n = int(f.readline())\n",
    "\n",
    "numbers = sorted([int(f.readline()) for i in range(n)])\n",
    "ans = []\n",
    "\n",
    "for i in range(n):\n",
    "    counter = 0\n",
    "    for j in range(i + 1, n):\n",
    "        if (numbers[i] + numbers[j]) % 10 == 0:\n",
    "            ans.append((numbers[i] + numbers[j]) / 2)\n",
    "        \n",
    "        if counter == 100:\n",
    "            break\n",
    "            \n",
    "        counter += 1\n",
    "        \n",
    "print(len(ans), min(ans))\n",
    "            "
   ]
  },
  {
   "cell_type": "code",
   "execution_count": 18,
   "metadata": {},
   "outputs": [
    {
     "name": "stdout",
     "output_type": "stream",
     "text": [
      "397 17\n"
     ]
    }
   ],
   "source": [
    "f = open(\"data/EGE27881/data.txt\")\n",
    "\n",
    "s, n = map(int, f.readline().split())\n",
    "users = sorted([int(f.readline()) for i in range(n)])\n",
    "\n",
    "summ = 0\n",
    "index_of_max = 0\n",
    "\n",
    "for i in range(len(users)):\n",
    "    if summ + users[i] <= s:\n",
    "        summ += users[i]\n",
    "        index_of_max += 1\n",
    "\n",
    "if s - summ > 0:\n",
    "    k = users[index_of_max] + (s - summ)\n",
    "    last_user = users[users.index(k)]\n",
    "    \n",
    "print(index_of_max, last_user)\n",
    "    \n"
   ]
  },
  {
   "cell_type": "code",
   "execution_count": 4,
   "metadata": {},
   "outputs": [
    {
     "data": {
      "text/plain": [
       "1987"
      ]
     },
     "execution_count": 4,
     "metadata": {},
     "output_type": "execute_result"
    }
   ],
   "source": [
    "s"
   ]
  },
  {
   "cell_type": "code",
   "execution_count": null,
   "metadata": {},
   "outputs": [],
   "source": []
  }
 ],
 "metadata": {
  "julynter-results": {
   "filteredId": [],
   "filteredIndividual": [],
   "filteredRestart": [],
   "filteredType": [],
   "hash": "971cf0ce0047d7275ab22bb54163140fd838e4f7",
   "visible": [
    {
     "cellId": "group",
     "hash": "c0de46ba034d710c2b2406a37ee6816be9634aa0",
     "reason": "This groups other lint messages",
     "reportId": "group",
     "reportType": "hiddenstate",
     "suggestion": null,
     "text": "Hidden State"
    },
    {
     "cellId": 0,
     "hash": "da768efbfc2e600002a2a83e04118e589cdd8ab4",
     "reason": "A cell with code changes may produce different results than what it generated before the changes, hampering the reproducibility.",
     "reportId": "h2",
     "reportType": "hiddenstate",
     "suggestion": "Please consider re-executing it to guarantee the reproducibility.",
     "text": "Cell 0 has changed since its execution, but it wasn't executed after the changes"
    },
    {
     "cellId": 1,
     "hash": "286514b98ed804150fe5da8ee41ab26620ed0879",
     "reason": "A cell with code changes may produce different results than what it generated before the changes, hampering the reproducibility.",
     "reportId": "h2",
     "reportType": "hiddenstate",
     "suggestion": "Please consider re-executing it to guarantee the reproducibility.",
     "text": "Cell 1 has changed since its execution, but it wasn't executed after the changes"
    },
    {
     "cellId": 2,
     "hash": "1efe340d5175813270aa004be496f331da26b453",
     "reason": "A cell with code changes may produce different results than what it generated before the changes, hampering the reproducibility.",
     "reportId": "h2",
     "reportType": "hiddenstate",
     "suggestion": "Please consider re-executing it to guarantee the reproducibility.",
     "text": "Cell 2 has changed since its execution, but it wasn't executed after the changes"
    },
    {
     "cellId": 3,
     "hash": "b361821dabf647a2f212965e6b45529952de8308",
     "reason": "A cell with code changes may produce different results than what it generated before the changes, hampering the reproducibility.",
     "reportId": "h2",
     "reportType": "hiddenstate",
     "suggestion": "Please consider re-executing it to guarantee the reproducibility.",
     "text": "Cell 3 has changed since its execution, but it wasn't executed after the changes"
    },
    {
     "cellId": 4,
     "hash": "85c8e6b3c84e65e827983e01d11322b281da03d7",
     "reason": "A cell with code changes may produce different results than what it generated before the changes, hampering the reproducibility.",
     "reportId": "h2",
     "reportType": "hiddenstate",
     "suggestion": "Please consider re-executing it to guarantee the reproducibility.",
     "text": "Cell 4 has changed since its execution, but it wasn't executed after the changes"
    },
    {
     "cellId": 0,
     "hash": "0f7b801fc541430631537f7b3b0d74a45c5c2c7f",
     "reason": "The cell uses a name that does not exist in this notebook. Using a name that does not exist prevents the reproducibility of the notebook.",
     "reportId": "h6",
     "reportType": "hiddenstate",
     "suggestion": "Please consider defining them to guarantee the reproducibility.",
     "text": "Cell 0 has the following undefined names: 'prunt'"
    },
    {
     "cellId": 2,
     "hash": "b469e9da8b8f45b059a37ec8d07ce7d4c6c063a3",
     "reason": "A skip in the execution count might indicate the presence of a hidden state caused by a cell that does not exist anymore. Hidden states might prevent cells from executing or producing the same results, hampering the reproducibility.",
     "reportId": "h4",
     "reportType": "hiddenstate",
     "suggestion": "Please consider re-running the notebook to guarantee the reproducibility.",
     "text": "Cell 2 skips the execution count"
    },
    {
     "cellId": 3,
     "hash": "cdf3f28eabd186cbc121cbbf9cfbd1c2e087eb07",
     "reason": "A skip in the execution count might indicate the presence of a hidden state caused by a cell that does not exist anymore. Hidden states might prevent cells from executing or producing the same results, hampering the reproducibility.",
     "reportId": "h4",
     "reportType": "hiddenstate",
     "suggestion": "Please consider re-running the notebook to guarantee the reproducibility.",
     "text": "Cell 3 skips the execution count"
    },
    {
     "cellId": 4,
     "hash": "8feab255ee96257a9b053686324d399b89415b4b",
     "reason": "A skip in the execution count might indicate the presence of a hidden state caused by a cell that does not exist anymore. Hidden states might prevent cells from executing or producing the same results, hampering the reproducibility.",
     "reportId": "h4",
     "reportType": "hiddenstate",
     "suggestion": "Please consider re-running the notebook to guarantee the reproducibility.",
     "text": "Cell 4 skips the execution count"
    },
    {
     "cellId": 1,
     "hash": "f625666ccafaf09ba50feedb2c870183abd7b8b2",
     "reason": "A skip in the execution count might indicate the presence of a hidden state caused by a cell that does not exist anymore. Hidden states might prevent cells from executing or producing the same results, hampering the reproducibility.",
     "reportId": "h4",
     "reportType": "hiddenstate",
     "suggestion": "Please consider re-running the notebook to guarantee the reproducibility.",
     "text": "Cell 1 skips the execution count"
    },
    {
     "cellId": 5,
     "hash": "fd5e71b95e56aa1e93eb241eec30ef7c953a2602",
     "reason": "A skip in the execution count might indicate the presence of a hidden state caused by a cell that does not exist anymore. Hidden states might prevent cells from executing or producing the same results, hampering the reproducibility.",
     "reportId": "h4",
     "reportType": "hiddenstate",
     "suggestion": "Please consider re-running the notebook to guarantee the reproducibility.",
     "text": "Cell 5 skips the execution count"
    },
    {
     "cellId": "group",
     "hash": "19d3d3d153f22e318cbe061df9e685ba5165b0aa",
     "reason": "This groups other lint messages",
     "reportId": "group",
     "reportType": "confusenotebook",
     "suggestion": null,
     "text": "Confuse Notebook"
    },
    {
     "cellId": 2,
     "hash": "5350acc7925e8207383fd098faee2b0619c8896f",
     "reason": "When you try to run all cells following the top-down order, cells in the wrong order might fail to execute or produce different results, hampering the reproducibility.",
     "reportId": "c2",
     "reportType": "confusenotebook",
     "suggestion": "Please consider re-running the notebook to guarantee the reproducibility.",
     "text": "Cell 2 has the execution count 3 in the wrong order"
    },
    {
     "cellId": 6,
     "hash": "4d45c70f7b92d23f14b9affe00a19f5d82eb2b89",
     "reason": "When you try to run all cells following the top-down order, cells in the wrong order might fail to execute or produce different results, hampering the reproducibility.",
     "reportId": "c2",
     "reportType": "confusenotebook",
     "suggestion": "Please consider re-running the notebook to guarantee the reproducibility.",
     "text": "Cell 6 has the execution count 4 in the wrong order"
    },
    {
     "cellId": 0,
     "hash": "bcfd53dbbe0155f428659b38a572493baa475b25",
     "reason": "A markdown cell at the beginning of the notebook can provide a human-friendly title with no constraints and introduce the notebook, indicating its purpose and external requirements.",
     "reportId": "c4",
     "reportType": "confusenotebook",
     "suggestion": "Please consider adding a markdown cell to describe the notebook.",
     "text": "The first cell of the notebook is not a markdown cell"
    },
    {
     "cellId": 6,
     "hash": "c0cfd570230575e18d5393f678702d871a008565",
     "reason": "A markdown cell at the end of the notebook can conclude it, presenting a summary of the obtained results.",
     "reportId": "c5",
     "reportType": "confusenotebook",
     "suggestion": "Please consider adding a markdown cell to conclude the notebook.",
     "text": "The last cell of the notebook is not a markdown cell"
    }
   ]
  },
  "kernelspec": {
   "display_name": "Python 3",
   "language": "python",
   "name": "python3"
  },
  "language_info": {
   "codemirror_mode": {
    "name": "ipython",
    "version": 3
   },
   "file_extension": ".py",
   "mimetype": "text/x-python",
   "name": "python",
   "nbconvert_exporter": "python",
   "pygments_lexer": "ipython3",
   "version": "3.6.3"
  }
 },
 "nbformat": 4,
 "nbformat_minor": 4
}
